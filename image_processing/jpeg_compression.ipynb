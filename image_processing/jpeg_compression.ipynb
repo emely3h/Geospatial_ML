{
  "nbformat": 4,
  "nbformat_minor": 0,
  "metadata": {
    "colab": {
      "provenance": [],
      "authorship_tag": "ABX9TyN2ZZsPOgeJV7I0miwuwAdo",
      "include_colab_link": true
    },
    "kernelspec": {
      "name": "python3",
      "display_name": "Python 3"
    },
    "language_info": {
      "name": "python"
    }
  },
  "cells": [
    {
      "cell_type": "markdown",
      "metadata": {
        "id": "view-in-github",
        "colab_type": "text"
      },
      "source": [
        "<a href=\"https://colab.research.google.com/github/emely3h/Geospatial_ML/blob/main/image_processing/jpeg_compression.ipynb\" target=\"_parent\"><img src=\"https://colab.research.google.com/assets/colab-badge.svg\" alt=\"Open In Colab\"/></a>"
      ]
    },
    {
      "cell_type": "markdown",
      "source": [
        "# JPEG Compression\n",
        "\n",
        "Popular form of lossy image compression"
      ],
      "metadata": {
        "id": "uF_ExxG8Pktl"
      }
    },
    {
      "cell_type": "markdown",
      "source": [
        "\n",
        "<img src=\"https://www.graphicsmill.com/docs/gm/JPEGschema.png\" width=50% />"
      ],
      "metadata": {
        "id": "5tFRzBoTRNtO"
      }
    },
    {
      "cell_type": "markdown",
      "source": [
        "### 1. Color space conversion\n",
        "\n",
        "Converting rgb into YCbCr as it is more practical for compression. Jpeg based on the fact that the human eye percives differences in brightness in much more detail than differences in color. Therefore the main idea is to mainly compress the color information in the image as it is not easily visible to the human eye anyway."
      ],
      "metadata": {
        "id": "jxgKGXdDPod3"
      }
    },
    {
      "cell_type": "markdown",
      "source": [
        "### 2. Downsampling\n",
        "\n",
        "Chrominance channels are downsampled to 1/4 of their original size, reduces file size by 50%."
      ],
      "metadata": {
        "id": "Z2gm6OhtQ0LW"
      }
    },
    {
      "cell_type": "markdown",
      "source": [
        "### 3. Discrete Cosine Transform\n",
        "\n",
        "The image is plit into 8x8 pixel blocks. The Forward DCT is applied on each block per channel as each block can be represented by 64 cosine weights. The resulting 8x8 matrix contains the weight values for each of the cosines."
      ],
      "metadata": {
        "id": "KUUAddJVQ4rB"
      }
    },
    {
      "cell_type": "markdown",
      "source": [
        "<img src=\"https://upload.wikimedia.org/wikipedia/commons/thumb/2/23/Dctjpeg.png/292px-Dctjpeg.png\">"
      ],
      "metadata": {
        "id": "G8lGjzr8UkKi"
      }
    },
    {
      "cell_type": "markdown",
      "source": [
        "### 4. Quantization"
      ],
      "metadata": {
        "id": "kSQLQ9KQQ8be"
      }
    },
    {
      "cell_type": "markdown",
      "source": [
        "### 5. Encoding"
      ],
      "metadata": {
        "id": "U6lrzJo9Q-YD"
      }
    }
  ]
}