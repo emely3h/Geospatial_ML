{
  "nbformat": 4,
  "nbformat_minor": 0,
  "metadata": {
    "colab": {
      "provenance": [],
      "authorship_tag": "ABX9TyObqH3v3rwL9Cc+tJKmUmeX",
      "include_colab_link": true
    },
    "kernelspec": {
      "name": "python3",
      "display_name": "Python 3"
    },
    "language_info": {
      "name": "python"
    },
    "accelerator": "GPU",
    "gpuClass": "premium"
  },
  "cells": [
    {
      "cell_type": "markdown",
      "metadata": {
        "id": "view-in-github",
        "colab_type": "text"
      },
      "source": [
        "<a href=\"https://colab.research.google.com/github/emely3h/Geospatial_ML/blob/feature%2Funet-result-1/result1.ipynb\" target=\"_parent\"><img src=\"https://colab.research.google.com/assets/colab-badge.svg\" alt=\"Open In Colab\"/></a>"
      ]
    },
    {
      "cell_type": "markdown",
      "source": [
        "# Results of U-NET experiment 1\n",
        "\n",
        "This notebook shows results of U-NET experiment1 (ref: experiment_1.ipynb).\n",
        "\n",
        "Sample:\n",
        "- Tile size: 256x256 px\n",
        "- Overlap: 56 px\n",
        "- Number of run: 10 (No.9 is missing = 9 runs)"
      ],
      "metadata": {
        "id": "hpUWwEgAED5b"
      }
    },
    {
      "cell_type": "markdown",
      "source": [
        "## 0. Define a helper class"
      ],
      "metadata": {
        "id": "nx6o0cdZFJg4"
      }
    },
    {
      "cell_type": "code",
      "source": [
        "import numpy as np\n",
        "from tensorflow import keras\n",
        "import pickle\n",
        "\n",
        "\n",
        "class EvaluationMetrics:\n",
        "    \"\"\"\n",
        "        This class calculates and summarizes evaluation metrics based on the predicted and true labels.\n",
        "    \"\"\"\n",
        "\n",
        "    def __init__(self, x_train, x_val, x_test, y_train, y_val, y_test, y_pred, training_dates, validation_dates, testing_dates, tile_size, step_size,\n",
        "                 run_count):\n",
        "        self.class_statistics = self.get_statistics(x_train, x_val, x_test, y_train, y_val, y_test)\n",
        "\n",
        "        self.training_dates = training_dates\n",
        "        self.validation_dates = validation_dates\n",
        "        self.testing_dates = testing_dates\n",
        "        self.tile_size = tile_size\n",
        "        self.step_size = step_size\n",
        "        self.run_count = run_count\n",
        "\n",
        "        self.jacard = self.jacard_coef(y_test, y_pred)\n",
        "\n",
        "        self.conf_matrix_land = self.confusion_matrix(y_test, y_pred, 2)\n",
        "        self.conf_matrix_valid = self.confusion_matrix(y_test, y_pred, 1)\n",
        "        self.conf_matrix_invalid = self.confusion_matrix(y_test, y_pred, 0)\n",
        "\n",
        "        self.f1_land = self.f1_scores(self.conf_matrix_land)\n",
        "        self.f1_invalid = self.f1_scores(self.conf_matrix_invalid)\n",
        "        self.f1_valid = self.f1_scores(self.conf_matrix_valid)\n",
        "\n",
        "    def jacard_coef(self, y_true, y_pred):\n",
        "        y_true_f = keras.backend.flatten(y_true)\n",
        "        y_pred_f = keras.backend.flatten(y_pred)\n",
        "\n",
        "        intersection = keras.backend.sum(y_true_f * y_pred_f)\n",
        "        return (intersection + 1.0) / (\n",
        "                keras.backend.sum(y_true_f) + keras.backend.sum(y_pred_f) - intersection + 1.0\n",
        "        )  #todo reason for +1?\n",
        "\n",
        "    def jacard_rounding_issue(self, y_true, y_pred):\n",
        "        # revert one hot encoding => binary tensor [0, 0, 1] back to label [2] (3D array to 2D array)\n",
        "        label_map_true = np.argmax(y_true, axis=-1)\n",
        "        label_map_pred = np.argmax(y_pred, axis=-1)\n",
        "        # convert 2D array into 1D array\n",
        "        flatten_true = np.reshape(label_map_true, (-1,))\n",
        "        flatten_pred = np.reshape(label_map_pred, (-1,))\n",
        "        # one hot encoding\n",
        "        one_hot_true = np.eye(3)[flatten_true]\n",
        "        one_hot_pred = np.eye(3)[flatten_pred]\n",
        "        # calculate intersection (A geschnitten B)\n",
        "        intersection = np.sum(one_hot_true * one_hot_pred)\n",
        "        # calculate union (a u B, A vereint B)\n",
        "        union = len(one_hot_true) + len(one_hot_pred) - intersection\n",
        "        # return jacard coefficient\n",
        "        return (intersection + 1) / (union + 1)\n",
        "\n",
        "    def confusion_matrix(self, y_true, y_pred, label):\n",
        "        true_positives = 0\n",
        "        false_positives = 0\n",
        "        true_negatives = 0\n",
        "        false_negatives = 0\n",
        "\n",
        "        # revert one hot encoding => binary tensor [0, 0, 1] back to label [2] (3D array to 2D array)\n",
        "        label_map_true = np.argmax(y_true, axis=-1)\n",
        "        label_map_pred = np.argmax(y_pred, axis=-1)\n",
        "        # convert 2D array into 1D array\n",
        "        flatten_true = np.reshape(label_map_true, (-1,))\n",
        "        flatten_pred = np.reshape(label_map_pred, (-1,))\n",
        "\n",
        "        tp_mask = (flatten_true == flatten_pred) & (flatten_true == label)\n",
        "        true_positives = np.count_nonzero(tp_mask)\n",
        "\n",
        "        fn_mask = (flatten_true == label) & (flatten_pred != label)\n",
        "        false_negatives = np.count_nonzero(fn_mask)\n",
        "\n",
        "        fp_mask = (flatten_true != label) & (flatten_pred == label)\n",
        "        false_positives = np.count_nonzero(fp_mask)\n",
        "\n",
        "        tn_mask = (flatten_true != label) & (flatten_pred != label)\n",
        "        true_negatives = np.count_nonzero(tn_mask)\n",
        "\n",
        "        return {\n",
        "            'true_positives': true_positives,\n",
        "            'false_positives': false_positives,\n",
        "            'true_negatives': true_negatives,\n",
        "            'false_negatives': false_negatives\n",
        "        }\n",
        "\n",
        "    def precision(self, conf_matrix):\n",
        "        return conf_matrix['true_positives'] / (conf_matrix['true_positives'] + conf_matrix['false_positives'])\n",
        "\n",
        "    def sensitivity_recall(self, conf_matrix):\n",
        "        return conf_matrix['true_positives'] / (conf_matrix['true_positives'] + conf_matrix['false_negatives'])\n",
        "\n",
        "    def negative_predictive(self, conf_matrix):\n",
        "        return conf_matrix['true_negatives'] / (conf_matrix['true_negatives'] + conf_matrix['false_negatives'])\n",
        "\n",
        "    def specificy(self, conf_matrix):\n",
        "        return conf_matrix['true_negatives'] / (conf_matrix['true_negatives'] + conf_matrix['false_positives'])\n",
        "\n",
        "    def f1_scores(self, conf_matrix):\n",
        "        prec = self.precision(conf_matrix)\n",
        "        recall = self.sensitivity_recall(conf_matrix)\n",
        "        return 2 * prec * recall / (prec + recall)\n",
        "\n",
        "    def print_metrics(self):\n",
        "        print(f'jacard index: {self.jacard}')\n",
        "        print(f'conf_matrix_land: {self.conf_matrix_land}')\n",
        "        print(f'conf_matrix_valid: {self.conf_matrix_valid}')\n",
        "        print(f'conf_matrix_invalid: {self.conf_matrix_invalid}')\n",
        "        print(f'f1_land: {self.f1_land}')\n",
        "        print(f'f1_invalid: {self.f1_invalid}')\n",
        "        print(f'f1_valid: {self.f1_valid}')\n",
        "        print(\n",
        "            f'Training dates: {self.training_dates}, validation dates: {self.validation_dates}, testing dates: {self.testing_dates}')\n",
        "        print(f'Number of run: {self.run_count}, tile_size: {self.tile_size}, step_size: {self.step_size}')\n",
        "\n",
        "    def save_to_file(self):\n",
        "        file_name = f'../metrics/{self.tile_size}_{self.step_size}_{self.run_count}.pkl'\n",
        "        with open(file_name, 'wb') as file:\n",
        "            pickle.dump(self, file)\n",
        "\n",
        "    def get_label_count(self, array):\n",
        "        revert_one_hot = np.argmax(array, (-1))\n",
        "        flatten = np.reshape(revert_one_hot, (-1))\n",
        "        unique_vals, counts = np.unique(flatten, return_counts=True)\n",
        "        label_count = {}\n",
        "        for val, count in zip(unique_vals, counts):\n",
        "            label_count[f'{val}'] = count\n",
        "        return label_count\n",
        "\n",
        "    def get_statistics(self, x_train, x_val, x_test, y_train, y_val, y_test):\n",
        "       return {'y_train': self.get_label_count(y_train),\n",
        "                 'y_val': self.get_label_count(y_val), 'y_test': self.get_label_count(y_test)}\n",
        "    # todo add pixel accuracy\n"
      ],
      "metadata": {
        "id": "lOZ4DyVURpH3"
      },
      "execution_count": 1,
      "outputs": []
    },
    {
      "cell_type": "markdown",
      "source": [
        "## 1. Loading results"
      ],
      "metadata": {
        "id": "8RDETCSrFKsB"
      }
    },
    {
      "cell_type": "code",
      "source": [
        "from google.colab import drive\n",
        "drive.mount('/content/drive')\n",
        "! ls\n",
        "%cd drive/MyDrive/MachineLearning/metrics/experiment_1\n",
        "! ls"
      ],
      "metadata": {
        "colab": {
          "base_uri": "https://localhost:8080/"
        },
        "id": "X0rlorzXFbgv",
        "outputId": "3a673c30-8433-475a-df99-1c64e3259ac7"
      },
      "execution_count": 2,
      "outputs": [
        {
          "output_type": "stream",
          "name": "stdout",
          "text": [
            "Mounted at /content/drive\n",
            "drive  sample_data\n",
            "/content/drive/.shortcut-targets-by-id/15HUD3sGdfvxy5Y_bjvuXgrzwxt7TzRfm/MachineLearning/metrics/experiment_1\n",
            "history_256_200_run_0.pkl  metrics_256_200_run_6.pkl\n",
            "history_256_200_run_1.pkl  metrics_256_200_run_7.pkl\n",
            "history_256_200_run_2.pkl  metrics_256_200_run_8.pkl\n",
            "history_256_200_run_3.pkl  metrics_256_200_run_9.pkl\n",
            "history_256_200_run_4.pkl  metrics_test256_200_run_0.pkl\n",
            "history_256_200_run_5.pkl  metrics_test256_200_run_1.pkl\n",
            "history_256_200_run_6.pkl  metrics_test256_200_run_2.pkl\n",
            "history_256_200_run_7.pkl  metrics_test256_200_run_3.pkl\n",
            "history_256_200_run_8.pkl  metrics_train256_200_run_0.pkl\n",
            "history_256_200_run_9.pkl  metrics_train256_200_run_1.pkl\n",
            "metrics_256_200_run_0.pkl  metrics_train256_200_run_2.pkl\n",
            "metrics_256_200_run_1.pkl  metrics_train256_200_run_3.pkl\n",
            "metrics_256_200_run_2.pkl  metrics_val256_200_run_0.pkl\n",
            "metrics_256_200_run_3.pkl  metrics_val256_200_run_1.pkl\n",
            "metrics_256_200_run_4.pkl  metrics_val256_200_run_2.pkl\n",
            "metrics_256_200_run_5.pkl  metrics_val256_200_run_3.pkl\n"
          ]
        }
      ]
    },
    {
      "cell_type": "code",
      "source": [
        "import os\n",
        "import pickle\n",
        "\n",
        "def open_metrics(path):\n",
        "  data = []\n",
        "  for root, dirs, files in os.walk(path):\n",
        "    for file in files:\n",
        "      if file.startswith('metrics'):\n",
        "          with open(file,\"rb\") as f:\n",
        "            try:\n",
        "              data.append(pickle.load(f))\n",
        "            except EOFError:\n",
        "              break\n",
        "  return data"
      ],
      "metadata": {
        "id": "zHfi2tgbu2t0"
      },
      "execution_count": 3,
      "outputs": []
    },
    {
      "cell_type": "code",
      "source": [
        "import pandas as pd\n",
        "import numpy\n",
        "def generate_metrics_df(metrics_files):\n",
        "  number_of_run = []\n",
        "  tile_size = []\n",
        "  step_size = []\n",
        "  jaccard_index = []\n",
        "  conf_matrix_land = []\n",
        "  conf_matrix_valid = []\n",
        "  conf_matrix_invalid = []\n",
        "  f1_land = []\n",
        "  f1_invalid = []\n",
        "  f1_valid = []\n",
        "  for file in metrics_files:\n",
        "    number_of_run.append(file.run_count)\n",
        "    tile_size.append(file.tile_size)\n",
        "    step_size.append(file.step_size)\n",
        "    jaccard_index.append(file.jacard.numpy())\n",
        "    conf_matrix_land.append(file.conf_matrix_land)\n",
        "    conf_matrix_valid.append(file.conf_matrix_valid)\n",
        "    conf_matrix_invalid.append(file.conf_matrix_invalid)\n",
        "    f1_land.append(file.f1_land)\n",
        "    f1_invalid.append(file.f1_invalid)\n",
        "    f1_valid.append(file.f1_valid)\n",
        "  \n",
        "  data = {\n",
        "      \"number_of_run\": number_of_run,\n",
        "      \"tile_size\":tile_size,\n",
        "      \"step_size\": step_size,\n",
        "      \"jaccard_index\":jaccard_index,\n",
        "      \"conf_matrix_land\":conf_matrix_land,\n",
        "      \"conf_matrix_valid\":conf_matrix_valid,\n",
        "      \"conf_matrix_invalid\":conf_matrix_invalid,\n",
        "      \"f1_land\":f1_land,\n",
        "      \"f1_invalid\":f1_invalid,\n",
        "      \"f1_valid\":f1_valid\n",
        "  }\n",
        "  df = pd.DataFrame(data)\n",
        "  return df"
      ],
      "metadata": {
        "id": "299MZcAsxQuN"
      },
      "execution_count": 20,
      "outputs": []
    },
    {
      "cell_type": "markdown",
      "source": [
        "## 2. Analysis"
      ],
      "metadata": {
        "id": "Ow_5N7-oFv6k"
      }
    },
    {
      "cell_type": "code",
      "source": [
        "metrics_files = open_metrics(\"./\")\n",
        "df = generate_metrics_df(metrics_files)"
      ],
      "metadata": {
        "id": "wyqmJCLnzPs_"
      },
      "execution_count": 21,
      "outputs": []
    },
    {
      "cell_type": "markdown",
      "source": [
        "### 2-1. Summary (Jaccard_index, F1 scores)"
      ],
      "metadata": {
        "id": "2207Q-0RNowq"
      }
    },
    {
      "cell_type": "code",
      "source": [
        "# Select jaccard_index, f1_land, f1_invalid, f1_valid,\n",
        "df_selected_cols = df.loc[:,[\"jaccard_index\",\"f1_land\",\"f1_invalid\",\"f1_valid\"]]\n",
        "table = pd.DataFrame(df_selected_cols)\n",
        "# Describe the results for each\n",
        "table.describe().drop([\"count\",\"25%\",\"50%\", \"75%\"])"
      ],
      "metadata": {
        "id": "M4GI-aNwGanT",
        "colab": {
          "base_uri": "https://localhost:8080/",
          "height": 175
        },
        "outputId": "327710f1-3fe9-417d-cac4-87cf2a1c62e8"
      },
      "execution_count": 33,
      "outputs": [
        {
          "output_type": "execute_result",
          "data": {
            "text/plain": [
              "      jaccard_index   f1_land  f1_invalid  f1_valid\n",
              "mean       0.958192  0.995995    0.882855  0.988095\n",
              "std        0.018849  0.002437    0.046833  0.003463\n",
              "min        0.930368  0.990772    0.784851  0.981074\n",
              "max        0.983031  0.998369    0.938433  0.992808"
            ],
            "text/html": [
              "\n",
              "  <div id=\"df-9b849945-ff29-4dd7-9ad3-5e553da8f518\">\n",
              "    <div class=\"colab-df-container\">\n",
              "      <div>\n",
              "<style scoped>\n",
              "    .dataframe tbody tr th:only-of-type {\n",
              "        vertical-align: middle;\n",
              "    }\n",
              "\n",
              "    .dataframe tbody tr th {\n",
              "        vertical-align: top;\n",
              "    }\n",
              "\n",
              "    .dataframe thead th {\n",
              "        text-align: right;\n",
              "    }\n",
              "</style>\n",
              "<table border=\"1\" class=\"dataframe\">\n",
              "  <thead>\n",
              "    <tr style=\"text-align: right;\">\n",
              "      <th></th>\n",
              "      <th>jaccard_index</th>\n",
              "      <th>f1_land</th>\n",
              "      <th>f1_invalid</th>\n",
              "      <th>f1_valid</th>\n",
              "    </tr>\n",
              "  </thead>\n",
              "  <tbody>\n",
              "    <tr>\n",
              "      <th>mean</th>\n",
              "      <td>0.958192</td>\n",
              "      <td>0.995995</td>\n",
              "      <td>0.882855</td>\n",
              "      <td>0.988095</td>\n",
              "    </tr>\n",
              "    <tr>\n",
              "      <th>std</th>\n",
              "      <td>0.018849</td>\n",
              "      <td>0.002437</td>\n",
              "      <td>0.046833</td>\n",
              "      <td>0.003463</td>\n",
              "    </tr>\n",
              "    <tr>\n",
              "      <th>min</th>\n",
              "      <td>0.930368</td>\n",
              "      <td>0.990772</td>\n",
              "      <td>0.784851</td>\n",
              "      <td>0.981074</td>\n",
              "    </tr>\n",
              "    <tr>\n",
              "      <th>max</th>\n",
              "      <td>0.983031</td>\n",
              "      <td>0.998369</td>\n",
              "      <td>0.938433</td>\n",
              "      <td>0.992808</td>\n",
              "    </tr>\n",
              "  </tbody>\n",
              "</table>\n",
              "</div>\n",
              "      <button class=\"colab-df-convert\" onclick=\"convertToInteractive('df-9b849945-ff29-4dd7-9ad3-5e553da8f518')\"\n",
              "              title=\"Convert this dataframe to an interactive table.\"\n",
              "              style=\"display:none;\">\n",
              "        \n",
              "  <svg xmlns=\"http://www.w3.org/2000/svg\" height=\"24px\"viewBox=\"0 0 24 24\"\n",
              "       width=\"24px\">\n",
              "    <path d=\"M0 0h24v24H0V0z\" fill=\"none\"/>\n",
              "    <path d=\"M18.56 5.44l.94 2.06.94-2.06 2.06-.94-2.06-.94-.94-2.06-.94 2.06-2.06.94zm-11 1L8.5 8.5l.94-2.06 2.06-.94-2.06-.94L8.5 2.5l-.94 2.06-2.06.94zm10 10l.94 2.06.94-2.06 2.06-.94-2.06-.94-.94-2.06-.94 2.06-2.06.94z\"/><path d=\"M17.41 7.96l-1.37-1.37c-.4-.4-.92-.59-1.43-.59-.52 0-1.04.2-1.43.59L10.3 9.45l-7.72 7.72c-.78.78-.78 2.05 0 2.83L4 21.41c.39.39.9.59 1.41.59.51 0 1.02-.2 1.41-.59l7.78-7.78 2.81-2.81c.8-.78.8-2.07 0-2.86zM5.41 20L4 18.59l7.72-7.72 1.47 1.35L5.41 20z\"/>\n",
              "  </svg>\n",
              "      </button>\n",
              "      \n",
              "  <style>\n",
              "    .colab-df-container {\n",
              "      display:flex;\n",
              "      flex-wrap:wrap;\n",
              "      gap: 12px;\n",
              "    }\n",
              "\n",
              "    .colab-df-convert {\n",
              "      background-color: #E8F0FE;\n",
              "      border: none;\n",
              "      border-radius: 50%;\n",
              "      cursor: pointer;\n",
              "      display: none;\n",
              "      fill: #1967D2;\n",
              "      height: 32px;\n",
              "      padding: 0 0 0 0;\n",
              "      width: 32px;\n",
              "    }\n",
              "\n",
              "    .colab-df-convert:hover {\n",
              "      background-color: #E2EBFA;\n",
              "      box-shadow: 0px 1px 2px rgba(60, 64, 67, 0.3), 0px 1px 3px 1px rgba(60, 64, 67, 0.15);\n",
              "      fill: #174EA6;\n",
              "    }\n",
              "\n",
              "    [theme=dark] .colab-df-convert {\n",
              "      background-color: #3B4455;\n",
              "      fill: #D2E3FC;\n",
              "    }\n",
              "\n",
              "    [theme=dark] .colab-df-convert:hover {\n",
              "      background-color: #434B5C;\n",
              "      box-shadow: 0px 1px 3px 1px rgba(0, 0, 0, 0.15);\n",
              "      filter: drop-shadow(0px 1px 2px rgba(0, 0, 0, 0.3));\n",
              "      fill: #FFFFFF;\n",
              "    }\n",
              "  </style>\n",
              "\n",
              "      <script>\n",
              "        const buttonEl =\n",
              "          document.querySelector('#df-9b849945-ff29-4dd7-9ad3-5e553da8f518 button.colab-df-convert');\n",
              "        buttonEl.style.display =\n",
              "          google.colab.kernel.accessAllowed ? 'block' : 'none';\n",
              "\n",
              "        async function convertToInteractive(key) {\n",
              "          const element = document.querySelector('#df-9b849945-ff29-4dd7-9ad3-5e553da8f518');\n",
              "          const dataTable =\n",
              "            await google.colab.kernel.invokeFunction('convertToInteractive',\n",
              "                                                     [key], {});\n",
              "          if (!dataTable) return;\n",
              "\n",
              "          const docLinkHtml = 'Like what you see? Visit the ' +\n",
              "            '<a target=\"_blank\" href=https://colab.research.google.com/notebooks/data_table.ipynb>data table notebook</a>'\n",
              "            + ' to learn more about interactive tables.';\n",
              "          element.innerHTML = '';\n",
              "          dataTable['output_type'] = 'display_data';\n",
              "          await google.colab.output.renderOutput(dataTable, element);\n",
              "          const docLink = document.createElement('div');\n",
              "          docLink.innerHTML = docLinkHtml;\n",
              "          element.appendChild(docLink);\n",
              "        }\n",
              "      </script>\n",
              "    </div>\n",
              "  </div>\n",
              "  "
            ]
          },
          "metadata": {},
          "execution_count": 33
        }
      ]
    },
    {
      "cell_type": "markdown",
      "source": [
        "### 2-2. Jaccard_index"
      ],
      "metadata": {
        "id": "fhGDetXNN52D"
      }
    },
    {
      "cell_type": "code",
      "source": [
        "import matplotlib.pyplot as plt\n",
        "df.plot(x= \"number_of_run\", y=\"jaccard_index\", legend=None)\n",
        "plt.xlabel(\"Run\")\n",
        "plt.ylabel(\"Jaccard Index\")\n",
        "plt.show()"
      ],
      "metadata": {
        "colab": {
          "base_uri": "https://localhost:8080/",
          "height": 279
        },
        "id": "0AOAEfwnOEyd",
        "outputId": "8d687c37-e271-4765-dd3c-8b1c662f6397"
      },
      "execution_count": 32,
      "outputs": [
        {
          "output_type": "display_data",
          "data": {
            "text/plain": [
              "<Figure size 432x288 with 1 Axes>"
            ],
            "image/png": "[encoded data removed]"
          },
          "metadata": {
            "needs_background": "light"
          }
        }
      ]
    },
    {
      "cell_type": "markdown",
      "source": [
        "### 2-3. F1 scores"
      ],
      "metadata": {
        "id": "I2hwg3OBQhXi"
      }
    },
    {
      "cell_type": "code",
      "source": [
        "df.plot.bar(x= \"number_of_run\",y = [\"f1_land\", \"f1_invalid\", \"f1_valid\"], rot=70, title=\"F1 scores for each category\")\n",
        "plt.xlabel(\"Run\")\n",
        "plt.ylabel(\"F1\")\n",
        "plt.legend(bbox_to_anchor=(1.05, 1.0), loc='upper left')\n",
        "plt.show()"
      ],
      "metadata": {
        "id": "WwH1uK_B0i0B",
        "colab": {
          "base_uri": "https://localhost:8080/",
          "height": 295
        },
        "outputId": "67ee9ed9-2a10-4b11-902d-e15b48953a68"
      },
      "execution_count": 31,
      "outputs": [
        {
          "output_type": "display_data",
          "data": {
            "text/plain": [
              "<Figure size 432x288 with 1 Axes>"
            ],
            "image/png": "[encoded data removed]"
          },
          "metadata": {
            "needs_background": "light"
          }
        }
      ]
    },
    {
      "cell_type": "code",
      "source": [],
      "metadata": {
        "id": "SpR6Hud46jIO"
      },
      "execution_count": null,
      "outputs": []
    },
    {
      "cell_type": "markdown",
      "source": [
        "### 3. Results\n",
        "\n",
        "Jaccard Index\n",
        "\n",
        "|          | Min  | Max  | Mean  | St. Dev |\n",
        "| ---------------------- | ---- | ---- | ----- | ------- |\n",
        "| jaccard_index      | 0.930368 | 0.983031 | 0.958192 | 0.018849   | \n",
        "\n"
      ],
      "metadata": {
        "id": "ctAegssKSBST"
      }
    },
    {
      "cell_type": "markdown",
      "source": [
        "F1 scores\n",
        "\n",
        "\n",
        "|          | Min  | Max  | Mean  | St. Dev |\n",
        "| ---------------------- | ---- | ---- | ----- | ------- |\n",
        "| f1_land         | 0.990772 | 0.998369 | 0.995995 | 0.002437   |\n",
        "| f1_invalid                | 0.784851  | 0.938433 | 0.882855 | 0.046833   |\n",
        "| f1_valid    | 0.981074 | 0.992808 | 0.988095 | 0.003463   |"
      ],
      "metadata": {
        "id": "S5VEKl8GTA1X"
      }
    },
    {
      "cell_type": "code",
      "source": [],
      "metadata": {
        "id": "ToKLtpnBTBkA"
      },
      "execution_count": null,
      "outputs": []
    }
  ]
}