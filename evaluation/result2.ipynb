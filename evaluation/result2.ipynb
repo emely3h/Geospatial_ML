{
  "nbformat": 4,
  "nbformat_minor": 0,
  "metadata": {
    "colab": {
      "provenance": [],
      "authorship_tag": "ABX9TyOuJPS1D4uvuTC+RzAR8Mlk",
      "include_colab_link": true
    },
    "kernelspec": {
      "name": "python3",
      "display_name": "Python 3"
    },
    "language_info": {
      "name": "python"
    }
  },
  "cells": [
    {
      "cell_type": "markdown",
      "metadata": {
        "id": "view-in-github",
        "colab_type": "text"
      },
      "source": [
        "<a href=\"https://colab.research.google.com/github/emely3h/Geospatial_ML/blob/feature%2Funet-result-1/result2.ipynb\" target=\"_parent\"><img src=\"https://colab.research.google.com/assets/colab-badge.svg\" alt=\"Open In Colab\"/></a>"
      ]
    },
    {
      "cell_type": "markdown",
      "source": [
        "# Results of U-NET experiment 2\n",
        "\n",
        "This notebook shows results of U-NET experiment1 (ref: experiment_2.ipynb).\n",
        "\n",
        "Sample:\n",
        "- Tile size: 256x256 px\n",
        "- Overlap: 0 px"
      ],
      "metadata": {
        "id": "idoQi29RVOvI"
      }
    },
    {
      "cell_type": "markdown",
      "source": [
        "## Imports"
      ],
      "metadata": {
        "id": "MXQtgs-NSjun"
      }
    },
    {
      "cell_type": "code",
      "source": [
        "import os\n",
        "import numpy as np\n",
        "import pandas as pd\n",
        "import matplotlib.pyplot as plt\n",
        "from tensorflow import keras\n",
        "import pickle"
      ],
      "metadata": {
        "id": "6xW8250KSeN_"
      },
      "execution_count": 29,
      "outputs": []
    },
    {
      "cell_type": "markdown",
      "source": [
        "## Evaluation Metrics (Helper Class)"
      ],
      "metadata": {
        "id": "dQoMZAweSotl"
      }
    },
    {
      "cell_type": "code",
      "execution_count": 7,
      "metadata": {
        "id": "ciAnTPr9Pl2a"
      },
      "outputs": [],
      "source": [
        "class EvaluationMetrics:\n",
        "    \"\"\"\n",
        "        This class calculates and summarizes evaluation metrics based on the predicted and true labels.\n",
        "    \"\"\"\n",
        "\n",
        "    def __init__(self, x_train, x_val, x_test, y_train, y_val, y_test, y_pred, training_dates, validation_dates, testing_dates, tile_size, step_size,\n",
        "                 run_count):\n",
        "        self.class_statistics = self.get_statistics(x_train, x_val, x_test, y_train, y_val, y_test)\n",
        "\n",
        "        self.training_dates = training_dates\n",
        "        self.validation_dates = validation_dates\n",
        "        self.testing_dates = testing_dates\n",
        "        self.tile_size = tile_size\n",
        "        self.step_size = step_size\n",
        "        self.run_count = run_count\n",
        "\n",
        "        self.jacard = self.jacard_coef(y_test, y_pred)\n",
        "\n",
        "        self.conf_matrix_land = self.confusion_matrix(y_test, y_pred, 2)\n",
        "        self.conf_matrix_valid = self.confusion_matrix(y_test, y_pred, 1)\n",
        "        self.conf_matrix_invalid = self.confusion_matrix(y_test, y_pred, 0)\n",
        "\n",
        "        self.f1_land = self.f1_scores(self.conf_matrix_land)\n",
        "        self.f1_invalid = self.f1_scores(self.conf_matrix_invalid)\n",
        "        self.f1_valid = self.f1_scores(self.conf_matrix_valid)\n",
        "\n",
        "    def jacard_coef(self, y_true, y_pred):\n",
        "        y_true_f = keras.backend.flatten(y_true)\n",
        "        y_pred_f = keras.backend.flatten(y_pred)\n",
        "\n",
        "        intersection = keras.backend.sum(y_true_f * y_pred_f)\n",
        "        return (intersection + 1.0) / (\n",
        "                keras.backend.sum(y_true_f) + keras.backend.sum(y_pred_f) - intersection + 1.0\n",
        "        )  #todo reason for +1?\n",
        "\n",
        "    def jacard_rounding_issue(self, y_true, y_pred):\n",
        "        # revert one hot encoding => binary tensor [0, 0, 1] back to label [2] (3D array to 2D array)\n",
        "        label_map_true = np.argmax(y_true, axis=-1)\n",
        "        label_map_pred = np.argmax(y_pred, axis=-1)\n",
        "        # convert 2D array into 1D array\n",
        "        flatten_true = np.reshape(label_map_true, (-1,))\n",
        "        flatten_pred = np.reshape(label_map_pred, (-1,))\n",
        "        # one hot encoding\n",
        "        one_hot_true = np.eye(3)[flatten_true]\n",
        "        one_hot_pred = np.eye(3)[flatten_pred]\n",
        "        # calculate intersection (A geschnitten B)\n",
        "        intersection = np.sum(one_hot_true * one_hot_pred)\n",
        "        # calculate union (a u B, A vereint B)\n",
        "        union = len(one_hot_true) + len(one_hot_pred) - intersection\n",
        "        # return jacard coefficient\n",
        "        return (intersection + 1) / (union + 1)\n",
        "\n",
        "    def confusion_matrix(self, y_true, y_pred, label):\n",
        "        true_positives = 0\n",
        "        false_positives = 0\n",
        "        true_negatives = 0\n",
        "        false_negatives = 0\n",
        "\n",
        "        # revert one hot encoding => binary tensor [0, 0, 1] back to label [2] (3D array to 2D array)\n",
        "        label_map_true = np.argmax(y_true, axis=-1)\n",
        "        label_map_pred = np.argmax(y_pred, axis=-1)\n",
        "        # convert 2D array into 1D array\n",
        "        flatten_true = np.reshape(label_map_true, (-1,))\n",
        "        flatten_pred = np.reshape(label_map_pred, (-1,))\n",
        "\n",
        "        tp_mask = (flatten_true == flatten_pred) & (flatten_true == label)\n",
        "        true_positives = np.count_nonzero(tp_mask)\n",
        "\n",
        "        fn_mask = (flatten_true == label) & (flatten_pred != label)\n",
        "        false_negatives = np.count_nonzero(fn_mask)\n",
        "\n",
        "        fp_mask = (flatten_true != label) & (flatten_pred == label)\n",
        "        false_positives = np.count_nonzero(fp_mask)\n",
        "\n",
        "        tn_mask = (flatten_true != label) & (flatten_pred != label)\n",
        "        true_negatives = np.count_nonzero(tn_mask)\n",
        "\n",
        "        return {\n",
        "            'true_positives': true_positives,\n",
        "            'false_positives': false_positives,\n",
        "            'true_negatives': true_negatives,\n",
        "            'false_negatives': false_negatives\n",
        "        }\n",
        "\n",
        "    def precision(self, conf_matrix):\n",
        "        return conf_matrix['true_positives'] / (conf_matrix['true_positives'] + conf_matrix['false_positives'])\n",
        "\n",
        "    def sensitivity_recall(self, conf_matrix):\n",
        "        return conf_matrix['true_positives'] / (conf_matrix['true_positives'] + conf_matrix['false_negatives'])\n",
        "\n",
        "    def negative_predictive(self, conf_matrix):\n",
        "        return conf_matrix['true_negatives'] / (conf_matrix['true_negatives'] + conf_matrix['false_negatives'])\n",
        "\n",
        "    def specificy(self, conf_matrix):\n",
        "        return conf_matrix['true_negatives'] / (conf_matrix['true_negatives'] + conf_matrix['false_positives'])\n",
        "\n",
        "    def f1_scores(self, conf_matrix):\n",
        "        prec = self.precision(conf_matrix)\n",
        "        recall = self.sensitivity_recall(conf_matrix)\n",
        "        return 2 * prec * recall / (prec + recall)\n",
        "\n",
        "    def print_metrics(self):\n",
        "        print(f'jacard index: {self.jacard}')\n",
        "        print(f'conf_matrix_land: {self.conf_matrix_land}')\n",
        "        print(f'conf_matrix_valid: {self.conf_matrix_valid}')\n",
        "        print(f'conf_matrix_invalid: {self.conf_matrix_invalid}')\n",
        "        print(f'f1_land: {self.f1_land}')\n",
        "        print(f'f1_invalid: {self.f1_invalid}')\n",
        "        print(f'f1_valid: {self.f1_valid}')\n",
        "        print(\n",
        "            f'Training dates: {self.training_dates}, validation dates: {self.validation_dates}, testing dates: {self.testing_dates}')\n",
        "        print(f'Number of run: {self.run_count}, tile_size: {self.tile_size}, step_size: {self.step_size}')\n",
        "\n",
        "    def save_to_file(self):\n",
        "        file_name = f'../metrics/{self.tile_size}_{self.step_size}_{self.run_count}.pkl'\n",
        "        with open(file_name, 'wb') as file:\n",
        "            pickle.dump(self, file)\n",
        "\n",
        "    def get_label_count(self, array):\n",
        "        revert_one_hot = np.argmax(array, (-1))\n",
        "        flatten = np.reshape(revert_one_hot, (-1))\n",
        "        unique_vals, counts = np.unique(flatten, return_counts=True)\n",
        "        label_count = {}\n",
        "        for val, count in zip(unique_vals, counts):\n",
        "            label_count[f'{val}'] = count\n",
        "        return label_count\n",
        "\n",
        "    def get_statistics(self, x_train, x_val, x_test, y_train, y_val, y_test):\n",
        "       return {'y_train': self.get_label_count(y_train),\n",
        "                 'y_val': self.get_label_count(y_val), 'y_test': self.get_label_count(y_test)}\n",
        "    # todo add pixel accuracy"
      ]
    },
    {
      "cell_type": "markdown",
      "source": [
        "## Loading results\n",
        "\n"
      ],
      "metadata": {
        "id": "OI6Ee7qzPwQo"
      }
    },
    {
      "cell_type": "code",
      "source": [
        "from google.colab import drive\n",
        "drive.mount('/content/drive')\n",
        "! ls\n",
        "%cd drive/MyDrive/MachineLearning/metrics/experiment_2\n",
        "! ls"
      ],
      "metadata": {
        "colab": {
          "base_uri": "https://localhost:8080/"
        },
        "id": "vg-Zb9lPQAme",
        "outputId": "7ca52f0e-4d8c-4e80-d2fc-eb176185bde3"
      },
      "execution_count": 3,
      "outputs": [
        {
          "output_type": "stream",
          "name": "stdout",
          "text": [
            "Drive already mounted at /content/drive; to attempt to forcibly remount, call drive.mount(\"/content/drive\", force_remount=True).\n",
            "history_256_256_run_0.pkl  history_256_256_run_7.pkl  metrics_256_256_run_4.pkl\n",
            "history_256_256_run_1.pkl  history_256_256_run_8.pkl  metrics_256_256_run_5.pkl\n",
            "history_256_256_run_2.pkl  history_256_256_run_9.pkl  metrics_256_256_run_6.pkl\n",
            "history_256_256_run_3.pkl  metrics_256_256_run_0.pkl  metrics_256_256_run_7.pkl\n",
            "history_256_256_run_4.pkl  metrics_256_256_run_1.pkl  metrics_256_256_run_8.pkl\n",
            "history_256_256_run_5.pkl  metrics_256_256_run_2.pkl  metrics_256_256_run_9.pkl\n",
            "history_256_256_run_6.pkl  metrics_256_256_run_3.pkl\n",
            "[Errno 2] No such file or directory: 'drive/MyDrive/MachineLearning/metrics/experiment_2'\n",
            "/content/drive/.shortcut-targets-by-id/15HUD3sGdfvxy5Y_bjvuXgrzwxt7TzRfm/MachineLearning/metrics/experiment_2\n",
            "history_256_256_run_0.pkl  history_256_256_run_7.pkl  metrics_256_256_run_4.pkl\n",
            "history_256_256_run_1.pkl  history_256_256_run_8.pkl  metrics_256_256_run_5.pkl\n",
            "history_256_256_run_2.pkl  history_256_256_run_9.pkl  metrics_256_256_run_6.pkl\n",
            "history_256_256_run_3.pkl  metrics_256_256_run_0.pkl  metrics_256_256_run_7.pkl\n",
            "history_256_256_run_4.pkl  metrics_256_256_run_1.pkl  metrics_256_256_run_8.pkl\n",
            "history_256_256_run_5.pkl  metrics_256_256_run_2.pkl  metrics_256_256_run_9.pkl\n",
            "history_256_256_run_6.pkl  metrics_256_256_run_3.pkl\n"
          ]
        }
      ]
    },
    {
      "cell_type": "code",
      "source": [
        "def open_metrics(path):\n",
        "  data = []\n",
        "  for root, dirs, files in os.walk(path):\n",
        "    for file in files:\n",
        "      if file.startswith('metrics'):\n",
        "          with open(file,\"rb\") as f:\n",
        "            try:\n",
        "              data.append(pickle.load(f))\n",
        "            except EOFError:\n",
        "              break\n",
        "  return data"
      ],
      "metadata": {
        "id": "Jv_rDrzHR1aH"
      },
      "execution_count": 24,
      "outputs": []
    },
    {
      "cell_type": "code",
      "source": [
        "def generate_metrics_df(metrics_files):\n",
        "  number_of_run = []\n",
        "  tile_size = []\n",
        "  step_size = []\n",
        "  jaccard_index = []\n",
        "  conf_matrix_land = []\n",
        "  conf_matrix_valid = []\n",
        "  conf_matrix_invalid = []\n",
        "  f1_land = []\n",
        "  f1_invalid = []\n",
        "  f1_valid = []\n",
        "  for file in metrics_files:\n",
        "    number_of_run.append(file.run_count)\n",
        "    tile_size.append(file.tile_size)\n",
        "    step_size.append(file.step_size)\n",
        "    jaccard_index.append(file.jacard.numpy())\n",
        "    conf_matrix_land.append(file.conf_matrix_land)\n",
        "    conf_matrix_valid.append(file.conf_matrix_valid)\n",
        "    conf_matrix_invalid.append(file.conf_matrix_invalid)\n",
        "    f1_land.append(file.f1_land)\n",
        "    f1_invalid.append(file.f1_invalid)\n",
        "    f1_valid.append(file.f1_valid)\n",
        "  \n",
        "  data = {\n",
        "      \"number_of_run\": number_of_run,\n",
        "      \"tile_size\":tile_size,\n",
        "      \"step_size\": step_size,\n",
        "      \"jaccard_index\":jaccard_index,\n",
        "      \"conf_matrix_land\":conf_matrix_land,\n",
        "      \"conf_matrix_valid\":conf_matrix_valid,\n",
        "      \"conf_matrix_invalid\":conf_matrix_invalid,\n",
        "      \"f1_land\":f1_land,\n",
        "      \"f1_invalid\":f1_invalid,\n",
        "      \"f1_valid\":f1_valid\n",
        "  }\n",
        "  df = pd.DataFrame(data)\n",
        "  return df"
      ],
      "metadata": {
        "id": "bfUZovdLT5Yn"
      },
      "execution_count": 25,
      "outputs": []
    },
    {
      "cell_type": "markdown",
      "source": [
        "## Visualisation"
      ],
      "metadata": {
        "id": "02CmBdPoWO3R"
      }
    },
    {
      "cell_type": "code",
      "source": [
        "metrics_files = open_metrics(\"./\")\n",
        "df = generate_metrics_df(metrics_files)"
      ],
      "metadata": {
        "id": "-7GsDIXaVBf9"
      },
      "execution_count": 26,
      "outputs": []
    },
    {
      "cell_type": "markdown",
      "source": [
        "### Summary"
      ],
      "metadata": {
        "id": "ly5YEwkeWmTB"
      }
    },
    {
      "cell_type": "code",
      "source": [
        "# Select jaccard_index, f1_land, f1_invalid, f1_valid,\n",
        "df_selected_cols = df.loc[:,[\"jaccard_index\",\"f1_land\",\"f1_invalid\",\"f1_valid\"]]\n",
        "table = pd.DataFrame(df_selected_cols)\n",
        "# Describe the results for each\n",
        "table.describe().drop([\"count\",\"25%\",\"50%\", \"75%\"])"
      ],
      "metadata": {
        "colab": {
          "base_uri": "https://localhost:8080/",
          "height": 175
        },
        "id": "vwVS-3b1WQ7A",
        "outputId": "a0eb13df-5a78-4f7d-a959-9f6cf4a13f0e"
      },
      "execution_count": 34,
      "outputs": [
        {
          "output_type": "execute_result",
          "data": {
            "text/plain": [
              "      jaccard_index   f1_land  f1_invalid  f1_valid\n",
              "mean       0.928928  0.994650    0.854592  0.985829\n",
              "std        0.070033  0.005876    0.081784  0.004871\n",
              "min        0.754259  0.978549    0.665626  0.975511\n",
              "max        0.979285  0.998505    0.922587  0.990561"
            ],
            "text/html": [
              "\n",
              "  <div id=\"df-fab0236f-3928-4337-bfc8-6be26b57a72c\">\n",
              "    <div class=\"colab-df-container\">\n",
              "      <div>\n",
              "<style scoped>\n",
              "    .dataframe tbody tr th:only-of-type {\n",
              "        vertical-align: middle;\n",
              "    }\n",
              "\n",
              "    .dataframe tbody tr th {\n",
              "        vertical-align: top;\n",
              "    }\n",
              "\n",
              "    .dataframe thead th {\n",
              "        text-align: right;\n",
              "    }\n",
              "</style>\n",
              "<table border=\"1\" class=\"dataframe\">\n",
              "  <thead>\n",
              "    <tr style=\"text-align: right;\">\n",
              "      <th></th>\n",
              "      <th>jaccard_index</th>\n",
              "      <th>f1_land</th>\n",
              "      <th>f1_invalid</th>\n",
              "      <th>f1_valid</th>\n",
              "    </tr>\n",
              "  </thead>\n",
              "  <tbody>\n",
              "    <tr>\n",
              "      <th>mean</th>\n",
              "      <td>0.928928</td>\n",
              "      <td>0.994650</td>\n",
              "      <td>0.854592</td>\n",
              "      <td>0.985829</td>\n",
              "    </tr>\n",
              "    <tr>\n",
              "      <th>std</th>\n",
              "      <td>0.070033</td>\n",
              "      <td>0.005876</td>\n",
              "      <td>0.081784</td>\n",
              "      <td>0.004871</td>\n",
              "    </tr>\n",
              "    <tr>\n",
              "      <th>min</th>\n",
              "      <td>0.754259</td>\n",
              "      <td>0.978549</td>\n",
              "      <td>0.665626</td>\n",
              "      <td>0.975511</td>\n",
              "    </tr>\n",
              "    <tr>\n",
              "      <th>max</th>\n",
              "      <td>0.979285</td>\n",
              "      <td>0.998505</td>\n",
              "      <td>0.922587</td>\n",
              "      <td>0.990561</td>\n",
              "    </tr>\n",
              "  </tbody>\n",
              "</table>\n",
              "</div>\n",
              "      <button class=\"colab-df-convert\" onclick=\"convertToInteractive('df-fab0236f-3928-4337-bfc8-6be26b57a72c')\"\n",
              "              title=\"Convert this dataframe to an interactive table.\"\n",
              "              style=\"display:none;\">\n",
              "        \n",
              "  <svg xmlns=\"http://www.w3.org/2000/svg\" height=\"24px\"viewBox=\"0 0 24 24\"\n",
              "       width=\"24px\">\n",
              "    <path d=\"M0 0h24v24H0V0z\" fill=\"none\"/>\n",
              "    <path d=\"M18.56 5.44l.94 2.06.94-2.06 2.06-.94-2.06-.94-.94-2.06-.94 2.06-2.06.94zm-11 1L8.5 8.5l.94-2.06 2.06-.94-2.06-.94L8.5 2.5l-.94 2.06-2.06.94zm10 10l.94 2.06.94-2.06 2.06-.94-2.06-.94-.94-2.06-.94 2.06-2.06.94z\"/><path d=\"M17.41 7.96l-1.37-1.37c-.4-.4-.92-.59-1.43-.59-.52 0-1.04.2-1.43.59L10.3 9.45l-7.72 7.72c-.78.78-.78 2.05 0 2.83L4 21.41c.39.39.9.59 1.41.59.51 0 1.02-.2 1.41-.59l7.78-7.78 2.81-2.81c.8-.78.8-2.07 0-2.86zM5.41 20L4 18.59l7.72-7.72 1.47 1.35L5.41 20z\"/>\n",
              "  </svg>\n",
              "      </button>\n",
              "      \n",
              "  <style>\n",
              "    .colab-df-container {\n",
              "      display:flex;\n",
              "      flex-wrap:wrap;\n",
              "      gap: 12px;\n",
              "    }\n",
              "\n",
              "    .colab-df-convert {\n",
              "      background-color: #E8F0FE;\n",
              "      border: none;\n",
              "      border-radius: 50%;\n",
              "      cursor: pointer;\n",
              "      display: none;\n",
              "      fill: #1967D2;\n",
              "      height: 32px;\n",
              "      padding: 0 0 0 0;\n",
              "      width: 32px;\n",
              "    }\n",
              "\n",
              "    .colab-df-convert:hover {\n",
              "      background-color: #E2EBFA;\n",
              "      box-shadow: 0px 1px 2px rgba(60, 64, 67, 0.3), 0px 1px 3px 1px rgba(60, 64, 67, 0.15);\n",
              "      fill: #174EA6;\n",
              "    }\n",
              "\n",
              "    [theme=dark] .colab-df-convert {\n",
              "      background-color: #3B4455;\n",
              "      fill: #D2E3FC;\n",
              "    }\n",
              "\n",
              "    [theme=dark] .colab-df-convert:hover {\n",
              "      background-color: #434B5C;\n",
              "      box-shadow: 0px 1px 3px 1px rgba(0, 0, 0, 0.15);\n",
              "      filter: drop-shadow(0px 1px 2px rgba(0, 0, 0, 0.3));\n",
              "      fill: #FFFFFF;\n",
              "    }\n",
              "  </style>\n",
              "\n",
              "      <script>\n",
              "        const buttonEl =\n",
              "          document.querySelector('#df-fab0236f-3928-4337-bfc8-6be26b57a72c button.colab-df-convert');\n",
              "        buttonEl.style.display =\n",
              "          google.colab.kernel.accessAllowed ? 'block' : 'none';\n",
              "\n",
              "        async function convertToInteractive(key) {\n",
              "          const element = document.querySelector('#df-fab0236f-3928-4337-bfc8-6be26b57a72c');\n",
              "          const dataTable =\n",
              "            await google.colab.kernel.invokeFunction('convertToInteractive',\n",
              "                                                     [key], {});\n",
              "          if (!dataTable) return;\n",
              "\n",
              "          const docLinkHtml = 'Like what you see? Visit the ' +\n",
              "            '<a target=\"_blank\" href=https://colab.research.google.com/notebooks/data_table.ipynb>data table notebook</a>'\n",
              "            + ' to learn more about interactive tables.';\n",
              "          element.innerHTML = '';\n",
              "          dataTable['output_type'] = 'display_data';\n",
              "          await google.colab.output.renderOutput(dataTable, element);\n",
              "          const docLink = document.createElement('div');\n",
              "          docLink.innerHTML = docLinkHtml;\n",
              "          element.appendChild(docLink);\n",
              "        }\n",
              "      </script>\n",
              "    </div>\n",
              "  </div>\n",
              "  "
            ]
          },
          "metadata": {},
          "execution_count": 34
        }
      ]
    },
    {
      "cell_type": "markdown",
      "source": [
        "### Jaccard Index"
      ],
      "metadata": {
        "id": "t46mG7dOWrLA"
      }
    },
    {
      "cell_type": "code",
      "source": [
        "df.plot(x= \"number_of_run\", y=\"jaccard_index\", legend=None)\n",
        "plt.xlabel(\"Run\")\n",
        "plt.ylabel(\"Jaccard Index\")\n",
        "plt.show()"
      ],
      "metadata": {
        "colab": {
          "base_uri": "https://localhost:8080/",
          "height": 279
        },
        "id": "INXRuP6VWVAm",
        "outputId": "5a9ebd82-6976-48c3-d34e-413240cd85ab"
      },
      "execution_count": 36,
      "outputs": [
        {
          "output_type": "display_data",
          "data": {
            "text/plain": [
              "<Figure size 432x288 with 1 Axes>"
            ],
            "image/png": "[encoded data removed]"
          },
          "metadata": {
            "needs_background": "light"
          }
        }
      ]
    },
    {
      "cell_type": "markdown",
      "source": [
        "### F1 Scores"
      ],
      "metadata": {
        "id": "57iQK04TW6zB"
      }
    },
    {
      "cell_type": "code",
      "source": [
        "df.plot.bar(x= \"number_of_run\",y = [\"f1_land\", \"f1_invalid\", \"f1_valid\"], rot=70, title=\"F1 scores for each category\")\n",
        "plt.xlabel(\"Run\")\n",
        "plt.ylabel(\"F1\")\n",
        "plt.legend(bbox_to_anchor=(1.05, 1.0), loc='upper left')\n",
        "plt.show()"
      ],
      "metadata": {
        "colab": {
          "base_uri": "https://localhost:8080/",
          "height": 295
        },
        "id": "9a66Ful0Wu-4",
        "outputId": "9056c833-ad03-4e40-9d4d-18b1ec775055"
      },
      "execution_count": 39,
      "outputs": [
        {
          "output_type": "display_data",
          "data": {
            "text/plain": [
              "<Figure size 432x288 with 1 Axes>"
            ],
            "image/png": "[encoded data removed]"
          },
          "metadata": {
            "needs_background": "light"
          }
        }
      ]
    },
    {
      "cell_type": "code",
      "source": [],
      "metadata": {
        "id": "XRzV_xbtW-qh"
      },
      "execution_count": null,
      "outputs": []
    },
    {
      "cell_type": "markdown",
      "source": [
        "## Results"
      ],
      "metadata": {
        "id": "KClB4XuNXH1q"
      }
    },
    {
      "cell_type": "code",
      "source": [],
      "metadata": {
        "id": "AFVbr-PIXJx3"
      },
      "execution_count": null,
      "outputs": []
    }
  ]
}