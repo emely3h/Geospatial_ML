{
 "cells": [
  {
   "cell_type": "markdown",
   "source": [
    "# U-Net Experiment 3: Training an U-Net on the entire dataset"
   ],
   "metadata": {
    "collapsed": false
   }
  },
  {
   "cell_type": "markdown",
   "source": [
    "All previous experiments have only been used on a small part of the entire dataset. In this experiment all 17 images of\n",
    "the entire dataset will be split into tiles and used as input for our model."
   ],
   "metadata": {
    "collapsed": false
   }
  }
 ],
 "metadata": {
  "kernelspec": {
   "display_name": "Python 3",
   "language": "python",
   "name": "python3"
  },
  "language_info": {
   "codemirror_mode": {
    "name": "ipython",
    "version": 2
   },
   "file_extension": ".py",
   "mimetype": "text/x-python",
   "name": "python",
   "nbconvert_exporter": "python",
   "pygments_lexer": "ipython2",
   "version": "2.7.6"
  }
 },
 "nbformat": 4,
 "nbformat_minor": 0
}
