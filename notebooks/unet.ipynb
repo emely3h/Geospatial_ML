{
 "cells": [
  {
   "cell_type": "markdown",
   "source": [
    "# Training an Unet"
   ],
   "metadata": {
    "collapsed": false
   },
   "execution_count": 1
  },
  {
   "cell_type": "markdown",
   "source": [
    "This notebook aims to train an Unet to make predictions based on the first 10 images in the dataset, located in data/data_rgb:\n",
    "- 2022_06_20\n",
    "- 2022_07_05\n",
    "- 2022_07_15\n",
    "- 2022_07_10\n",
    "- 2022_07_25\n",
    "- 2022_07_30\n",
    "- 2022_08_04\n",
    "- 2022_08_09\n",
    "- 2022_08_14\n",
    "- 2022_08_24\n",
    "- 2022_09_03\n",
    "- 2022_09_08\n",
    "- 2022_09_13\n",
    "- 2022_09_18\n",
    "- 2022_10_13\n",
    "- 2022_10_23\n",
    "- 2022_12_02\n",
    "- 2022_12_12\n",
    "\n"
   ],
   "metadata": {
    "collapsed": false
   }
  },
  {
   "cell_type": "code",
   "execution_count": 17,
   "outputs": [
    {
     "name": "stdout",
     "output_type": "stream",
     "text": [
      "864\n",
      "864\n",
      "864\n",
      "wq_unflagged_2640_11520.npy\n",
      "rgb_3360_18960.tif\n",
      "wq_unflagged_3840_960.tif\n",
      "===============\n",
      "wq_unflagged_2880_20880.npy\n",
      "rgb_3360_11520.tif\n",
      "wq_unflagged_3840_22080.tif\n",
      "===============\n",
      "wq_unflagged_0_1920.npy\n",
      "rgb_2880_19200.tif\n",
      "wq_unflagged_1440_23760.tif\n",
      "===============\n",
      "wq_unflagged_4560_8640.npy\n",
      "rgb_480_1920.tif\n",
      "wq_unflagged_3120_19920.tif\n",
      "===============\n",
      "wq_unflagged_6000_9600.npy\n",
      "rgb_3360_18480.tif\n",
      "wq_unflagged_3120_20400.tif\n",
      "===============\n"
     ]
    }
   ],
   "source": [
    "import os\n",
    "\n",
    "root_folder = '../data/data_rgb/2022_06_20'\n",
    "\n",
    "def load_data(root_folder):\n",
    "    mask_data = []\n",
    "    rgb_data = []\n",
    "    wq_data = []\n",
    "    folder_names = ['mask_wq', 'tiles_rgb', 'tiles_wq_unflagged']\n",
    "\n",
    "    for folder in os.listdir(root_folder):\n",
    "        folder_name = os.path.basename(folder)\n",
    "        if folder_name in folder_names:\n",
    "            for file in os.listdir(os.path.join(root_folder, folder)):\n",
    "                if folder_name == 'mask_wq':\n",
    "                    mask_data.append(file)\n",
    "                elif folder_name == 'tiles_rgb':\n",
    "                    rgb_data.append(file)\n",
    "                elif folder_name == 'tiles_wq_unflagged':\n",
    "                    wq_data.append(file)\n",
    "    return mask_data, rgb_data, wq_data\n",
    "\n",
    "mask_data, rgb_data, wq_data = load_data(root_folder)\n",
    "print(len(mask_data))\n",
    "print(len(rgb_data))\n",
    "print(len(wq_data))\n",
    "\n",
    "for i in range (0, 5):\n",
    "    print(mask_data[i])\n",
    "    print(rgb_data[i])\n",
    "    print(wq_data[i])\n",
    "    print('===============')\n",
    "\n",
    "\n"
   ],
   "metadata": {
    "collapsed": false
   }
  },
  {
   "cell_type": "markdown",
   "source": [
    "### 1. Splitting the Dataset"
   ],
   "metadata": {
    "collapsed": false
   }
  },
  {
   "cell_type": "code",
   "execution_count": null,
   "outputs": [],
   "source": [
    "X_train, X_test, y_train, y_test = train_test_split(X, y, test_size=0.2)\n",
    "# example of 3 d image + mask image"
   ],
   "metadata": {
    "collapsed": false
   }
  },
  {
   "cell_type": "markdown",
   "source": [
    "### 2. Normalizing"
   ],
   "metadata": {
    "collapsed": false
   }
  },
  {
   "cell_type": "markdown",
   "source": [
    "### 3. Building the unet model"
   ],
   "metadata": {
    "collapsed": false
   }
  },
  {
   "cell_type": "markdown",
   "source": [
    "### 4. Training the model"
   ],
   "metadata": {
    "collapsed": false
   }
  },
  {
   "cell_type": "markdown",
   "source": [
    "### 5. Saving the model"
   ],
   "metadata": {
    "collapsed": false
   }
  },
  {
   "cell_type": "markdown",
   "source": [
    "### 6. Analyzing the results\n",
    "- predifined success metrics\n",
    "- printing loss and validation functions\n",
    "- making predictions"
   ],
   "metadata": {
    "collapsed": false
   }
  },
  {
   "cell_type": "markdown",
   "source": [
    "### 7. Summary"
   ],
   "metadata": {
    "collapsed": false
   }
  },
  {
   "cell_type": "code",
   "execution_count": null,
   "outputs": [],
   "source": [],
   "metadata": {
    "collapsed": false
   }
  }
 ],
 "metadata": {
  "kernelspec": {
   "display_name": "Python 3",
   "language": "python",
   "name": "python3"
  },
  "language_info": {
   "codemirror_mode": {
    "name": "ipython",
    "version": 2
   },
   "file_extension": ".py",
   "mimetype": "text/x-python",
   "name": "python",
   "nbconvert_exporter": "python",
   "pygments_lexer": "ipython2",
   "version": "2.7.6"
  }
 },
 "nbformat": 4,
 "nbformat_minor": 0
}
