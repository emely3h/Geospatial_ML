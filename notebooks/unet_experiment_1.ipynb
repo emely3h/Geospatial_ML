{
 "cells": [
  {
   "attachments": {},
   "cell_type": "markdown",
   "metadata": {},
   "source": [
    "### 1. About our project (Geospatial ML)\n",
    "Satellite images can be used to calculate various water quality parameters and water depth. \n",
    "\n",
    "Most steps in this process are fully automated, but it is still essential that in the last step, a geographer reviews the calculated results and flags out certain parts of the image, if necessary. Causes for this are cloud shadows, which make pixels darker than they actually are, sun glint, and some others. \n",
    "\n",
    "Our project aims to automate the final reviewing process by training a convolutional neural network (e.g. **U-Net**)."
   ]
  },
  {
   "attachments": {},
   "cell_type": "markdown",
   "metadata": {},
   "source": [
    "### 2. Our Machine Learning Goal\n",
    "With U-Net, we aim to segment river satellite images automatically.\n",
    "\n",
    "Input => **Valid** pixels to calculate water quality or **Invalid** pixels\n",
    "\n",
    "It means to create a mask.\n",
    "\n",
    "Here is an example below."
   ]
  },
  {
   "cell_type": "code",
   "execution_count": 2,
   "metadata": {},
   "outputs": [
    {
     "ename": "ModuleNotFoundError",
     "evalue": "No module named 'google'",
     "output_type": "error",
     "traceback": [
      "\u001b[0;31m---------------------------------------------------------------------------\u001b[0m",
      "\u001b[0;31mModuleNotFoundError\u001b[0m                       Traceback (most recent call last)",
      "Cell \u001b[0;32mIn[2], line 1\u001b[0m\n\u001b[0;32m----> 1\u001b[0m \u001b[39mfrom\u001b[39;00m \u001b[39mgoogle\u001b[39;00m\u001b[39m.\u001b[39;00m\u001b[39mcolab\u001b[39;00m \u001b[39mimport\u001b[39;00m drive\n\u001b[1;32m      2\u001b[0m drive\u001b[39m.\u001b[39mmount(\u001b[39m'\u001b[39m\u001b[39m/content/drive\u001b[39m\u001b[39m'\u001b[39m)\n\u001b[1;32m      4\u001b[0m get_ipython()\u001b[39m.\u001b[39msystem(\u001b[39m'\u001b[39m\u001b[39m ls\u001b[39m\u001b[39m'\u001b[39m)\n",
      "\u001b[0;31mModuleNotFoundError\u001b[0m: No module named 'google'"
     ]
    }
   ],
   "source": [
    "from google.colab import drive\n",
    "drive.mount('/content/drive')\n",
    "\n",
    "! ls\n",
    "%cd drive/MyDrive/MachineLearning/Geospatial_ML/\n",
    "! ls\n",
    "\n",
    "data_directory = \"../data_colab\"\n",
    "\n",
    "# np.load(os.path.join(root_directory, 'y_input.npy'))\n",
    "# normalize + do one hot encoding while loading\n",
    "\n",
    "y_train  = []\n",
    "X_train  = []\n",
    "\n",
    "y_val = []\n",
    "X_val = []\n",
    "\n",
    "y_test = []\n",
    "X_test = []\n",
    "\n",
    "print(y_train.shape)\n",
    "print(X_train.shape)\n",
    "\n",
    "print(y_val.shape)\n",
    "print(X_val.shape)\n",
    "\n",
    "print(y_test.shape)\n",
    "print(X_test.shape)\n",
    "\n",
    "sample_image, sample_mask = X[5], y[5]\n",
    "sample_image = sample_image[..., :4]\n",
    "print(sample_image.shape)\n",
    "print(sample_mask.shape)\n",
    "display([sample_image, sample_mask])"
   ]
  },
  {
   "attachments": {},
   "cell_type": "markdown",
   "metadata": {},
   "source": [
    "### 3. About this experiment\n",
    "\n",
    "This is the first U-Net experiment. Finding a promising training setup is the number one priority as the first step.\n",
    "In this experiment, geospatial ML will aim to configure the parameters below.\n",
    "\n",
    "    1.Epochs\n",
    "    2.Learning rate (0.1, 0.01, or 0.001?)\n",
    "    3.Early Stopping\n",
    "    4.Optimizer (relu, leaky_relu, or softmax?)\n"
   ]
  },
  {
   "attachments": {},
   "cell_type": "markdown",
   "metadata": {},
   "source": [
    "### 4. Prepare the data for training\n",
    "Satellite images are enormous. You need massive computational power if you try to train the images with U-Net. \n",
    "\n",
    "So, we need to split images into smaller pixels (tiles or patches).\n",
    "\n",
    "The pixel size is a hyper-parameter and must be optimised after finding a promising training setup.\n",
    "\n",
    "\n",
    "In this experiment, we picked **512x512** pixels.\n",
    "\n",
    "Plus, our satellite images include uninformed pixels, such as pixels which shows only lands. Before training data, we excluded lands from our datasets.\n",
    "\n",
    "Also, some satellite images do not include clouds, and others do. So, training data can be skewed. To avoid an imbalance of training data, the Geospatial team picked out training data manually."
   ]
  },
  {
   "attachments": {},
   "cell_type": "markdown",
   "metadata": {},
   "source": [
    "### 5. How to evaluate"
   ]
  },
  {
   "attachments": {},
   "cell_type": "markdown",
   "metadata": {},
   "source": [
    "### 6. Experiments"
   ]
  },
  {
   "attachments": {},
   "cell_type": "markdown",
   "metadata": {},
   "source": [
    "### 7. Results"
   ]
  },
  {
   "attachments": {},
   "cell_type": "markdown",
   "metadata": {},
   "source": [
    "### 8. Conclusion"
   ]
  },
  {
   "attachments": {},
   "cell_type": "markdown",
   "metadata": {},
   "source": [
    "### 9. Discussion"
   ]
  },
  {
   "cell_type": "markdown",
   "metadata": {},
   "source": [
    "### "
   ]
  }
 ],
 "metadata": {
  "kernelspec": {
   "display_name": "geospacial",
   "language": "python",
   "name": "python3"
  },
  "language_info": {
   "codemirror_mode": {
    "name": "ipython",
    "version": 3
   },
   "file_extension": ".py",
   "mimetype": "text/x-python",
   "name": "python",
   "nbconvert_exporter": "python",
   "pygments_lexer": "ipython3",
   "version": "3.10.9"
  },
  "orig_nbformat": 4
 },
 "nbformat": 4,
 "nbformat_minor": 2
}
