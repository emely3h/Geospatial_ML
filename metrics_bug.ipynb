{
  "nbformat": 4,
  "nbformat_minor": 0,
  "metadata": {
    "colab": {
      "provenance": [],
      "collapsed_sections": [
        "TQiNFtcib6wl",
        "ttWhjzmFSqXR",
        "6a5sQEyg8qif",
        "R55UTUmGc73x",
        "3DjY2CPIMVqw",
        "ufdBd9NlMY29",
        "qPIZ-t2jMb64"
      ],
      "machine_shape": "hm",
      "gpuClass": "premium",
      "include_colab_link": true
    },
    "kernelspec": {
      "name": "python3",
      "display_name": "Python 3"
    },
    "language_info": {
      "name": "python"
    },
    "gpuClass": "premium"
  },
  "cells": [
    {
      "cell_type": "markdown",
      "metadata": {
        "id": "view-in-github",
        "colab_type": "text"
      },
      "source": [
        "<a href=\"https://colab.research.google.com/github/emely3h/Geospatial_ML/blob/main/metrics_bug.ipynb\" target=\"_parent\"><img src=\"https://colab.research.google.com/assets/colab-badge.svg\" alt=\"Open In Colab\"/></a>"
      ]
    },
    {
      "cell_type": "markdown",
      "source": [
        "# Problem with multiclass intersection over union calculation"
      ],
      "metadata": {
        "collapsed": false,
        "id": "1PYQRhrsz19U"
      }
    },
    {
      "cell_type": "markdown",
      "source": [
        "### 0. Prepare Colab, Define Constants"
      ],
      "metadata": {
        "id": "TQiNFtcib6wl"
      }
    },
    {
      "cell_type": "code",
      "source": [
        "from google.colab import drive\n",
        "\n",
        "drive.mount('/content/drive')"
      ],
      "metadata": {
        "colab": {
          "base_uri": "https://localhost:8080/"
        },
        "id": "osm1lHOLb-Is",
        "outputId": "bf846a63-7dcf-4832-d4ae-7afef7e93547"
      },
      "execution_count": 1,
      "outputs": [
        {
          "output_type": "stream",
          "name": "stdout",
          "text": [
            "Mounted at /content/drive\n"
          ]
        }
      ]
    },
    {
      "cell_type": "code",
      "source": [
        "#! ls\n",
        "%cd drive/MyDrive/MachineLearning/\n",
        "#! git clone https://github.com/emely3h/Geospatial_ML.git\n",
        "%cd Geospatial_ML\n",
        "! ls"
      ],
      "metadata": {
        "colab": {
          "base_uri": "https://localhost:8080/"
        },
        "id": "HV1KZvqMb_6S",
        "outputId": "6a09f007-1251-476a-9f93-b86c2f8fb1af"
      },
      "execution_count": 2,
      "outputs": [
        {
          "output_type": "stream",
          "name": "stdout",
          "text": [
            "/content/drive/.shortcut-targets-by-id/15HUD3sGdfvxy5Y_bjvuXgrzwxt7TzRfm/MachineLearning\n",
            "/content/drive/.shortcut-targets-by-id/15HUD3sGdfvxy5Y_bjvuXgrzwxt7TzRfm/MachineLearning/Geospatial_ML\n",
            "data_exploration  experiments\t     models\t   pyproject.toml    scripts\n",
            "docs\t\t  image_processing   poetry.lock   README.md\t     sripts\n",
            "evaluation\t  metrics_bug.ipynb  prepare_data  requirements.txt\n"
          ]
        }
      ]
    },
    {
      "cell_type": "code",
      "source": [
        "import numpy as np\n",
        "import os\n",
        "import pandas as pd\n",
        "import tensorflow as tf\n",
        "from tensorflow import keras\n",
        "from sklearn.model_selection import train_test_split\n",
        "import pickle\n",
        "from keras.utils import Sequence\n",
        "from data_exploration.mask_stats import Mask_Stats\n",
        "from tensorflow.keras.utils import to_categorical\n",
        "from sklearn.metrics import jaccard_score, precision_score"
      ],
      "metadata": {
        "id": "0FB7ZXQkcKB_"
      },
      "execution_count": 35,
      "outputs": []
    },
    {
      "cell_type": "code",
      "source": [
        "total_tiles = 11121\n",
        "train_tiles = 6672\n",
        "test_val_tiles = 2224\n",
        "data_path = \"../data_colab/256_256\"\n",
        "experiment = \"experiment_6\"\n",
        "batch_size = 32\n",
        "tile_size = 256\n",
        "step_size = 25"
      ],
      "metadata": {
        "id": "S2dxthwRWXTI"
      },
      "execution_count": 6,
      "outputs": []
    },
    {
      "cell_type": "code",
      "source": [
        "test_split_y = np.memmap(os.path.join(data_path, \"test_split_y.npy\"), mode=\"r\", shape=(test_val_tiles, 256, 256), dtype=np.uint8)\n",
        "true = np.copy(test_split_y)\n",
        "\n",
        "pred = np.memmap(\"../models/experiment_3/predictions/pred_test_0.npy\", mode=\"r\", shape=(test_val_tiles, 256, 256, 3), dtype=np.float32)\n",
        "pred = np.copy(pred)\n",
        "pred = np.argmax(pred, axis=-1).astype(np.uint8)\n",
        "\n",
        "print(true.shape)\n",
        "print(np.max(true))\n",
        "print(np.min(true))\n",
        "print(type(true[0][0][0]))\n",
        "print(pred.shape)\n",
        "print(np.max(pred))\n",
        "print(np.min(pred))\n",
        "print(type(pred[0][0][0]))"
      ],
      "metadata": {
        "id": "RYCVuKoUJw-8",
        "outputId": "1849a9d2-3292-4e74-a2fc-59236bf52f56",
        "colab": {
          "base_uri": "https://localhost:8080/"
        }
      },
      "execution_count": 15,
      "outputs": [
        {
          "output_type": "stream",
          "name": "stdout",
          "text": [
            "(2224, 256, 256)\n",
            "2\n",
            "0\n",
            "<class 'numpy.uint8'>\n",
            "(2224, 256, 256)\n",
            "2\n",
            "0\n",
            "<class 'numpy.uint8'>\n"
          ]
        }
      ]
    },
    {
      "cell_type": "markdown",
      "source": [
        "#### Option 1: Using skicit-learn"
      ],
      "metadata": {
        "id": "vSoKquKoYJoh"
      }
    },
    {
      "cell_type": "code",
      "source": [
        "pred_skicit = pred.flatten()\n",
        "true_skicit = true.flatten()\n",
        "print(true_skicit.shape)\n",
        "print(np.max(true_skicit))\n",
        "print(np.min(true_skicit))\n",
        "print(type(true_skicit[0]))\n",
        "print(pred_skicit.shape)\n",
        "print(np.max(pred_skicit))\n",
        "print(np.min(pred_skicit))\n",
        "print(type(pred_skicit[0]))"
      ],
      "metadata": {
        "id": "L3Iyf3-DZNq5",
        "outputId": "52dccf1a-7b57-4b41-eed7-c1352227d7a7",
        "colab": {
          "base_uri": "https://localhost:8080/"
        }
      },
      "execution_count": 20,
      "outputs": [
        {
          "output_type": "stream",
          "name": "stdout",
          "text": [
            "(145752064,)\n",
            "2\n",
            "0\n",
            "<class 'numpy.uint8'>\n",
            "(145752064,)\n",
            "2\n",
            "0\n",
            "<class 'numpy.uint8'>\n"
          ]
        }
      ]
    },
    {
      "cell_type": "code",
      "source": [
        "iou_skicit = jaccard_score(true_skicit, pred_skicit, average=None)\n",
        "print(f'invalid IoU using skicit: {iou_skicit[0]}')\n",
        "print(f'valid IoU using skicit: {iou_skicit[1]}')\n",
        "print(f'land IoU using skicit: {iou_skicit[2]}')\n",
        "print(f'mean IoU using skicit: {iou_skicit.sum()/3}')\n",
        "\n",
        "precision_skicit = precision_score(true_skicit, pred_skicit, average=None)\n",
        "print(f'invalid precision using skicit: {precision_skicit[0]}')\n",
        "print(f'valid precision using skicit: {precision_skicit[1]}')\n",
        "print(f'land precision using skicit: {precision_skicit[2]}')\n",
        "print(f'mean precision using skicit: {precision_skicit.sum()/3}')"
      ],
      "metadata": {
        "id": "aTai4_HmYPez",
        "outputId": "08065b30-8cff-4170-ed4a-7cdddafc2a68",
        "colab": {
          "base_uri": "https://localhost:8080/"
        }
      },
      "execution_count": 36,
      "outputs": [
        {
          "output_type": "stream",
          "name": "stdout",
          "text": [
            "invalid IoU using skicit: 0.8716894474436456\n",
            "valid IoU using skicit: 0.9117936513897129\n",
            "land IoU using skicit: 0.9978916914575914\n",
            "mean IoU using skicit: 0.9271249300969834\n",
            "invalid precision using skicit: 0.9617775824921121\n",
            "valid precision using skicit: 0.9336049351027778\n",
            "land precision using skicit: 0.99891909286962\n",
            "mean precision using skicit: 0.9647672034881699\n"
          ]
        }
      ]
    },
    {
      "cell_type": "markdown",
      "source": [
        "#### Option: using [keras.metrics.IoU](https://www.tensorflow.org/api_docs/python/tf/keras/metrics/IoU)"
      ],
      "metadata": {
        "id": "Fo81rqfzZn6s"
      }
    },
    {
      "cell_type": "code",
      "source": [
        "pred_one_hot = to_categorical(pred, num_classes=3, dtype=\"uint8\")\n",
        "print(pred_one_hot.shape)\n",
        "true_one_hot = to_categorical(true, num_classes=3, dtype=\"uint8\")\n",
        "print(true_one_hot.shape)"
      ],
      "metadata": {
        "colab": {
          "base_uri": "https://localhost:8080/"
        },
        "id": "3aWFxCD12UDI",
        "outputId": "25355d44-721e-4cde-98f0-e4e8cee7dde8"
      },
      "execution_count": 24,
      "outputs": [
        {
          "output_type": "stream",
          "name": "stdout",
          "text": [
            "(2224, 256, 256, 3)\n",
            "(2224, 256, 256, 3)\n"
          ]
        }
      ]
    },
    {
      "cell_type": "code",
      "source": [
        "true_invalid = true_one_hot[..., 0].flatten()\n",
        "pred_invalid = pred_one_hot[..., 0].flatten()\n",
        "true_valid = true_one_hot[..., 1].flatten()\n",
        "pred_valid = pred_one_hot[..., 1].flatten()\n",
        "true_land = true_one_hot[..., 2].flatten()\n",
        "pred_land = pred_one_hot[..., 2].flatten()\n",
        "\n",
        "print(true_invalid.shape)\n",
        "print(pred_invalid.shape)\n",
        "print(true_valid.shape)\n",
        "print(pred_valid.shape)\n",
        "print(true_land.shape)\n",
        "print(pred_land.shape)\n",
        "print(np.max(true_invalid))\n",
        "print(np.min(true_invalid))"
      ],
      "metadata": {
        "colab": {
          "base_uri": "https://localhost:8080/"
        },
        "id": "PfUsHB3F7lZ_",
        "outputId": "8948747c-841f-465b-b1cf-cc190d33da44"
      },
      "execution_count": 27,
      "outputs": [
        {
          "output_type": "stream",
          "name": "stdout",
          "text": [
            "(145752064,)\n",
            "(145752064,)\n",
            "(145752064,)\n",
            "(145752064,)\n",
            "(145752064,)\n",
            "(145752064,)\n",
            "1\n",
            "0\n"
          ]
        }
      ]
    },
    {
      "cell_type": "code",
      "source": [
        "keras_iou_invalid = tf.keras.metrics.IoU(num_classes=2, target_class_ids=[1])\n",
        "keras_iou_invalid.update_state(true_invalid, pred_invalid)\n",
        "print(f'Keras invalid IoU: {keras_iou_invalid.result().numpy()}')\n",
        "\n",
        "keras_iou_valid = tf.keras.metrics.IoU(num_classes=2, target_class_ids=[1])\n",
        "keras_iou_valid.update_state(true_valid, pred_valid)\n",
        "print(f'Keras valid IoU: {keras_iou_valid.result().numpy()}')\n",
        "\n",
        "keras_iou_land = tf.keras.metrics.IoU(num_classes=2, target_class_ids=[1])\n",
        "keras_iou_land.update_state(true_land, pred_land)\n",
        "print(f'Keras land IoU: {keras_iou_land.result().numpy()}')\n",
        "\n",
        "keras_p_invalid = tf.keras.metrics.Precision()\n",
        "keras_p_invalid.update_state(true_invalid, pred_invalid)\n",
        "print(f'Precision invalid: {keras_p_invalid.result().numpy()}')\n",
        "\n",
        "keras_p_valid = tf.keras.metrics.Precision()\n",
        "keras_p_valid.update_state(true_invalid, pred_invalid)\n",
        "print(f'Precision valid: {keras_p_valid.result().numpy()}')\n",
        "\n",
        "keras_p_land = tf.keras.metrics.Precision()\n",
        "keras_p_land.update_state(true_invalid, pred_invalid)\n",
        "print(f'Precision land: {keras_p_land.result().numpy()}')"
      ],
      "metadata": {
        "colab": {
          "base_uri": "https://localhost:8080/"
        },
        "id": "wgaDtdEb6gaT",
        "outputId": "7278a0a6-693a-4a64-d933-d4387d2d0205"
      },
      "execution_count": 37,
      "outputs": [
        {
          "output_type": "stream",
          "name": "stdout",
          "text": [
            "Keras invalid IoU: 0.7874400019645691\n",
            "Keras valid IoU: 0.791369616985321\n",
            "Keras land IoU: 0.991915762424469\n",
            "Precision invalid: 0.9617775678634644\n",
            "Precision valid: 0.9617775678634644\n",
            "Precision land: 0.9617775678634644\n"
          ]
        }
      ]
    },
    {
      "cell_type": "markdown",
      "source": [
        "#### Option 3: using [keras.metrics.OneHotIoU](https://www.tensorflow.org/api_docs/python/tf/keras/metrics/OneHotIoU)"
      ],
      "metadata": {
        "id": "XTzRfc8LcrXQ"
      }
    },
    {
      "cell_type": "code",
      "source": [
        "keras_onehot_iou_invalid = tf.keras.metrics.OneHotIoU(num_classes=3, target_class_ids=[0])\n",
        "keras_onehot_iou_invalid.update_state(true_one_hot, pred_one_hot)\n",
        "print(f'Keras invalid IoU: {keras_onehot_iou_invalid.result().numpy()}')\n",
        "\n",
        "keras_onehot_iou_valid = tf.keras.metrics.OneHotIoU(num_classes=3, target_class_ids=[1])\n",
        "keras_onehot_iou_valid.update_state(true_one_hot, pred_one_hot)\n",
        "print(f'Keras valid IoU: {keras_onehot_iou_valid.result().numpy()}')\n",
        "\n",
        "keras_onehot_iou_land = tf.keras.metrics.OneHotIoU(num_classes=3, target_class_ids=[2])\n",
        "keras_onehot_iou_land.update_state(true_one_hot, pred_one_hot)\n",
        "print(f'Keras land IoU: {keras_onehot_iou_land.result().numpy()}')"
      ],
      "metadata": {
        "id": "hxbQSXkYc3HZ",
        "outputId": "a8a2a34b-4fcf-4d7b-e3a8-da658fd82df7",
        "colab": {
          "base_uri": "https://localhost:8080/"
        }
      },
      "execution_count": 32,
      "outputs": [
        {
          "output_type": "stream",
          "name": "stdout",
          "text": [
            "Keras invalid IoU: 0.7874400019645691\n",
            "Keras valid IoU: 0.791369616985321\n",
            "Keras land IoU: 0.991915762424469\n"
          ]
        }
      ]
    },
    {
      "cell_type": "markdown",
      "source": [
        "#### Option 4: using [keras.metrics.TruePositives](https://www.tensorflow.org/api_docs/python/tf/keras/metrics/TruePositives), [keras.metrics.TrueNegatives](https://www.tensorflow.org/api_docs/python/tf/keras/metrics/TrueNegatives), [keras.metrics.FalsePositives](https://www.tensorflow.org/api_docs/python/tf/keras/metrics/FalsePositives), [keras.metrics.FalsePositives](https://www.tensorflow.org/api_docs/python/tf/keras/metrics/FalsePositives),"
      ],
      "metadata": {
        "id": "vzlkZ_pfdprd"
      }
    },
    {
      "cell_type": "code",
      "source": [
        "m_fp = tf.keras.metrics.FalsePositives()\n",
        "m_fp.update_state(true_invalid, pred_invalid)\n",
        "fp = m_fp.result().numpy()\n",
        "\n",
        "m_fn = tf.keras.metrics.FalseNegatives()\n",
        "m_fn.update_state(true_invalid, pred_invalid)\n",
        "fn = m_fn.result().numpy()\n",
        "\n",
        "m_tp = tf.keras.metrics.TruePositives()\n",
        "m_tp.update_state(true_invalid, pred_invalid)\n",
        "tp = m_tp.result().numpy()\n",
        "\n",
        "m_tn = tf.keras.metrics.TrueNegatives()\n",
        "m_tn.update_state(true_invalid, pred_invalid)\n",
        "tn = m_tn.result().numpy()\n",
        "\n",
        "print(f'False Positives: {fp}')\n",
        "print(f'True Positives: {tp}')\n",
        "print(f'False Negatives: {fn}')\n",
        "print(f'True Negatives: {tn}')\n",
        "print(f'IoU invalid: {(tp) / (tp + fn + fp)}')\n",
        "print(f'pixel sum: {tp + fp + tn + fn}')\n",
        "print(f'correct sum: {2224 * 256 * 256}')\n",
        "print(f'Precision invalid: {tp / (tp + fp)}')"
      ],
      "metadata": {
        "colab": {
          "base_uri": "https://localhost:8080/"
        },
        "id": "luP1NJxwASe1",
        "outputId": "9b1631f4-f625-4de3-ea42-ca1ab5483e81"
      },
      "execution_count": 38,
      "outputs": [
        {
          "output_type": "stream",
          "name": "stdout",
          "text": [
            "False Positives: 1222720.0\n",
            "True Positives: 30766884.0\n",
            "False Negatives: 3306090.0\n",
            "True Negatives: 110456368.0\n",
            "IoU invalid: 0.8716893792152405\n",
            "pixel sum: 145752064.0\n",
            "correct sum: 145752064\n",
            "Precision invalid: 0.9617775678634644\n"
          ]
        }
      ]
    },
    {
      "cell_type": "code",
      "source": [
        "# Problem occures only with IoU not with precision\n",
        "# Problem only occurs if input has a certain size, the bigger the input data the bigger the differences"
      ],
      "metadata": {
        "id": "HI0VuTOSXAwj"
      },
      "execution_count": null,
      "outputs": []
    }
  ]
}