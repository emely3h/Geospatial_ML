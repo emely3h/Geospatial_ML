{
  "nbformat": 4,
  "nbformat_minor": 0,
  "metadata": {
    "colab": {
      "provenance": [],
      "collapsed_sections": [
        "TQiNFtcib6wl",
        "ttWhjzmFSqXR",
        "6a5sQEyg8qif",
        "R55UTUmGc73x",
        "3DjY2CPIMVqw",
        "ufdBd9NlMY29",
        "qPIZ-t2jMb64"
      ],
      "machine_shape": "hm",
      "gpuClass": "premium",
      "include_colab_link": true
    },
    "kernelspec": {
      "name": "python3",
      "display_name": "Python 3"
    },
    "language_info": {
      "name": "python"
    },
    "gpuClass": "premium"
  },
  "cells": [
    {
      "cell_type": "markdown",
      "metadata": {
        "id": "view-in-github",
        "colab_type": "text"
      },
      "source": [
        "<a href=\"https://colab.research.google.com/github/emely3h/Geospatial_ML/blob/main/metrics_bug.ipynb\" target=\"_parent\"><img src=\"https://colab.research.google.com/assets/colab-badge.svg\" alt=\"Open In Colab\"/></a>"
      ]
    },
    {
      "cell_type": "markdown",
      "source": [
        "# Problem with multiclass intersection over union calculation"
      ],
      "metadata": {
        "collapsed": false,
        "id": "1PYQRhrsz19U"
      }
    },
    {
      "cell_type": "markdown",
      "source": [
        "### 0. Prepare Colab, Define Constants"
      ],
      "metadata": {
        "id": "TQiNFtcib6wl"
      }
    },
    {
      "cell_type": "code",
      "source": [
        "from google.colab import drive\n",
        "\n",
        "drive.mount('/content/drive')"
      ],
      "metadata": {
        "colab": {
          "base_uri": "https://localhost:8080/"
        },
        "id": "osm1lHOLb-Is",
        "outputId": "f29cc2e7-8d55-4b02-f673-0607b458eec6"
      },
      "execution_count": null,
      "outputs": [
        {
          "output_type": "stream",
          "name": "stdout",
          "text": [
            "Mounted at /content/drive\n"
          ]
        }
      ]
    },
    {
      "cell_type": "code",
      "source": [
        "#! ls\n",
        "%cd drive/MyDrive/MachineLearning/\n",
        "#! git clone https://github.com/emely3h/Geospatial_ML.git\n",
        "%cd Geospatial_ML\n",
        "! ls\n",
        "! git pull\n",
        "! git checkout feat/experiment-4"
      ],
      "metadata": {
        "colab": {
          "base_uri": "https://localhost:8080/"
        },
        "id": "HV1KZvqMb_6S",
        "outputId": "f4722621-b0fb-4e4c-ac97-3a218067f2de"
      },
      "execution_count": null,
      "outputs": [
        {
          "output_type": "stream",
          "name": "stdout",
          "text": [
            "/content/drive/.shortcut-targets-by-id/15HUD3sGdfvxy5Y_bjvuXgrzwxt7TzRfm/MachineLearning\n",
            "/content/drive/.shortcut-targets-by-id/15HUD3sGdfvxy5Y_bjvuXgrzwxt7TzRfm/MachineLearning/Geospatial_ML\n",
            "data_exploration  evaluation   models\t    prepare_data    README.md\n",
            "docs\t\t  experiments  poetry.lock  pyproject.toml  requirements.txt\n",
            "Already up to date.\n",
            "Already on 'feat/experiment-4'\n",
            "Your branch is up to date with 'origin/feat/experiment-4'.\n"
          ]
        }
      ]
    },
    {
      "cell_type": "code",
      "source": [
        "import numpy as np\n",
        "import os\n",
        "import pandas as pd\n",
        "import matplotlib.pyplot as plt\n",
        "import tensorflow as tf\n",
        "from tensorflow import keras\n",
        "from keras.models import Model\n",
        "from keras.layers import (\n",
        "    Input,\n",
        "    Conv2D,\n",
        "    MaxPooling2D,\n",
        "    concatenate,\n",
        "    Conv2DTranspose,\n",
        "    Dropout,\n",
        "    UpSampling2D\n",
        ")\n",
        "from keras.losses import categorical_crossentropy\n",
        "from tensorflow.keras.callbacks import EarlyStopping\n",
        "from sklearn.model_selection import train_test_split\n",
        "import pickle\n",
        "from keras.utils import Sequence\n",
        "from datetime import datetime\n",
        "from models.unet_model import unet_2d\n",
        "from data_exploration.mask_stats import Mask_Stats\n",
        "from tensorflow.keras.models import load_model\n",
        "from evaluation.evaluation_metrics_total import EvaluationMetricsTotal\n",
        "from models.helpers import save_metrics, predictions_for_models\n",
        "from evaluation.helpers import plot_loss_acc, load_metrics_into_df, calculate_save_metrics\n",
        "from tensorflow.keras.callbacks import ModelCheckpoint\n",
        "from tensorflow.keras.utils import to_categorical"
      ],
      "metadata": {
        "id": "0FB7ZXQkcKB_"
      },
      "execution_count": null,
      "outputs": []
    },
    {
      "cell_type": "code",
      "source": [
        "total_tiles = 11121\n",
        "train_tiles = 6672\n",
        "test_val_tiles = 2224\n",
        "data_path = \"../data_colab/256_256\"\n",
        "experiment = \"experiment_6\"\n",
        "batch_size = 32\n",
        "tile_size = 256\n",
        "step_size = 25"
      ],
      "metadata": {
        "id": "S2dxthwRWXTI"
      },
      "execution_count": null,
      "outputs": []
    },
    {
      "cell_type": "markdown",
      "source": [
        "### 1. Create Data Generators"
      ],
      "metadata": {
        "id": "ttWhjzmFSqXR"
      }
    },
    {
      "cell_type": "code",
      "source": [
        "train_split_x = np.memmap(os.path.join(data_path, \"train_split_x.npy\"), mode=\"r\", shape=(train_tiles, 256, 256, 5),\n",
        "                          dtype=np.uint8)\n",
        "train_split_y = np.memmap(os.path.join(data_path, \"train_split_y.npy\"), mode=\"r\", shape=(train_tiles, 256, 256),\n",
        "                          dtype=np.uint8)\n",
        "val_split_x = np.memmap(os.path.join(data_path, \"val_split_x.npy\"), mode=\"r\", shape=(test_val_tiles, 256, 256, 5),\n",
        "                        dtype=np.uint8)\n",
        "val_split_y = np.memmap(os.path.join(data_path, \"val_split_y.npy\"), mode=\"r\", shape=(test_val_tiles, 256, 256),\n",
        "                        dtype=np.uint8)\n",
        "test_split_x = np.memmap(os.path.join(data_path, \"test_split_x.npy\"), mode=\"r\", shape=(test_val_tiles, 256, 256, 5),\n",
        "                         dtype=np.uint8)\n",
        "test_split_y = np.memmap(os.path.join(data_path, \"test_split_y.npy\"), mode=\"r\", shape=(test_val_tiles, 256, 256),\n",
        "                         dtype=np.uint8)\n",
        "\n",
        "train_stats = Mask_Stats(train_split_y)\n",
        "train_stats.print_stats()\n",
        "print()\n",
        "val_stats = Mask_Stats(val_split_y)\n",
        "val_stats.print_stats()\n",
        "print()\n",
        "test_stats = Mask_Stats(test_split_y)\n",
        "test_stats.print_stats()"
      ],
      "metadata": {
        "id": "RYCVuKoUJw-8",
        "outputId": "94a43a4e-1e26-4d65-f3c0-354bb1f91c3d",
        "colab": {
          "base_uri": "https://localhost:8080/"
        }
      },
      "execution_count": null,
      "outputs": [
        {
          "output_type": "stream",
          "name": "stdout",
          "text": [
            "Shape: (6672, 256, 256)\n",
            "Land pixels: 195058814  44.610 %\n",
            "Valid pixels: 138904480  31.767 %\n",
            "Invalid pixels: 103292898  23.623 %\n",
            "Sum: 6672\n",
            "\n",
            "Shape: (2224, 256, 256)\n",
            "Land pixels: 65320265  44.816 %\n",
            "Valid pixels: 46246663  31.730 %\n",
            "Invalid pixels: 34185136  23.454 %\n",
            "Sum: 2224\n",
            "\n",
            "Shape: (2224, 256, 256)\n",
            "Land pixels: 64786699  44.450 %\n",
            "Valid pixels: 46892391  32.173 %\n",
            "Invalid pixels: 34072974  23.377 %\n",
            "Sum: 2224\n"
          ]
        }
      ]
    },
    {
      "cell_type": "code",
      "source": [
        "class DataGenerator(Sequence):\n",
        "    def __init__(self, mmap_x, mmap_y, batch_size):\n",
        "        self.x_input = mmap_x\n",
        "        self.y_mask = mmap_y\n",
        "        self.batch_size = batch_size\n",
        "        self.num_samples = self.x_input.shape[0]\n",
        "\n",
        "    # returns number of batches as int\n",
        "    def __len__(self):\n",
        "        return int(np.ceil(self.num_samples / float(self.batch_size)))\n",
        "\n",
        "    # returns single batch\n",
        "    def __getitem__(self, index):\n",
        "        batch_indices = slice(index * self.batch_size, (index + 1) * self.batch_size)\n",
        "        batch_inputs = self.x_input[batch_indices]\n",
        "        batch_masks = self.y_mask[batch_indices]\n",
        "\n",
        "        # normalization\n",
        "        batch_inputs = batch_inputs / 255\n",
        "        # one-hot-encoding\n",
        "        batch_masks = np.array([tf.one_hot(item, depth=3).numpy() for item in batch_masks])\n",
        "\n",
        "        # normalization + one hot encoding\n",
        "        return batch_inputs, batch_masks\n",
        "\n",
        "    def getitem_as_img(self, index):\n",
        "        batch_indices = slice(index * self.batch_size, (index + 1) * self.batch_size)\n",
        "        batch_inputs = self.x_input[batch_indices]\n",
        "        batch_masks = self.y_mask[batch_indices]\n",
        "        # normalization + one hot encoding\n",
        "        return batch_inputs, batch_masks"
      ],
      "metadata": {
        "id": "6_TRNH5sKjPk"
      },
      "execution_count": null,
      "outputs": []
    },
    {
      "cell_type": "code",
      "source": [
        "# instanciate DataGenerators\n",
        "batch_size = 32\n",
        "\n",
        "train_generator = DataGenerator(train_split_x, train_split_y, batch_size)\n",
        "val_generator = DataGenerator(val_split_x, val_split_y, batch_size)\n",
        "test_generator = DataGenerator(test_split_x, test_split_y, batch_size)\n",
        "\n",
        "print(train_generator.__len__())\n",
        "print(val_generator.__len__())\n",
        "print(test_generator.__len__())"
      ],
      "metadata": {
        "id": "yq_FYayGMKBR",
        "outputId": "25ac77fa-8ffc-41c9-930f-9bbb50f6129e",
        "colab": {
          "base_uri": "https://localhost:8080/"
        }
      },
      "execution_count": null,
      "outputs": [
        {
          "output_type": "stream",
          "name": "stdout",
          "text": [
            "209\n",
            "70\n",
            "70\n"
          ]
        }
      ]
    },
    {
      "cell_type": "code",
      "source": [
        "train_batch = train_generator.__getitem__(9)\n",
        "val_batch = val_generator.__getitem__(3)\n",
        "test_batch = test_generator.__getitem__(4)\n",
        "\n",
        "\n",
        "def print_batch_shapes(batch):\n",
        "    print(type(batch))\n",
        "    print(batch[0].shape)\n",
        "    print(batch[1].shape)\n",
        "    print()\n",
        "\n",
        "\n",
        "# check batch shapes\n",
        "print_batch_shapes(train_batch)\n",
        "print_batch_shapes(val_batch)\n",
        "print_batch_shapes(test_batch)\n",
        "\n",
        "# check normalization\n",
        "print('Check normalization')\n",
        "print(train_batch[1].max())\n",
        "print(train_batch[1].min())\n",
        "\n",
        "print(val_batch[1].max())\n",
        "print(val_batch[1].min())\n",
        "\n",
        "print(test_batch[1].max())\n",
        "print(test_batch[1].min())\n",
        "\n",
        "print()\n",
        "# check one-hot-encoding\n",
        "print('check one hot encoding')\n",
        "print(train_batch[0].max())\n",
        "print(train_batch[0].min())\n",
        "\n",
        "print(val_batch[0].max())\n",
        "print(val_batch[0].min())\n",
        "\n",
        "print(test_batch[0].max())\n",
        "print(test_batch[0].min())"
      ],
      "metadata": {
        "id": "kTabozHCbKNR",
        "outputId": "81ccc515-665e-457c-c53a-b6fbb86b2603",
        "colab": {
          "base_uri": "https://localhost:8080/"
        }
      },
      "execution_count": null,
      "outputs": [
        {
          "output_type": "stream",
          "name": "stdout",
          "text": [
            "<class 'tuple'>\n",
            "(32, 256, 256, 5)\n",
            "(32, 256, 256, 3)\n",
            "\n",
            "<class 'tuple'>\n",
            "(32, 256, 256, 5)\n",
            "(32, 256, 256, 3)\n",
            "\n",
            "<class 'tuple'>\n",
            "(32, 256, 256, 5)\n",
            "(32, 256, 256, 3)\n",
            "\n",
            "Check normalization\n",
            "1.0\n",
            "0.0\n",
            "1.0\n",
            "0.0\n",
            "1.0\n",
            "0.0\n",
            "\n",
            "check one hot encoding\n",
            "1.0\n",
            "0.0\n",
            "1.0\n",
            "0.0\n",
            "1.0\n",
            "0.0\n"
          ]
        }
      ]
    },
    {
      "cell_type": "markdown",
      "source": [
        "### Bug when calculating IoU"
      ],
      "metadata": {
        "id": "PLTlbfuRDZfB"
      }
    },
    {
      "cell_type": "code",
      "source": [
        "y_pred = np.memmap(\"../models/experiment_3/predictions/pred_test_0.npy\", mode=\"r\", shape=(test_val_tiles, 256, 256, 3),\n",
        "                   dtype=np.float32)\n",
        "y_pred = np.argmax(y_pred, axis=-1)\n",
        "print(y_pred.shape)\n",
        "print(np.max(y_pred))\n",
        "print(np.min(y_pred))"
      ],
      "metadata": {
        "colab": {
          "base_uri": "https://localhost:8080/"
        },
        "id": "8_KwH6UYRMLx",
        "outputId": "efc94a27-3d27-4335-892a-e02afbc00e30"
      },
      "execution_count": null,
      "outputs": [
        {
          "output_type": "stream",
          "name": "stdout",
          "text": [
            "(2224, 256, 256)\n",
            "2\n",
            "0\n"
          ]
        }
      ]
    },
    {
      "cell_type": "code",
      "source": [
        "y_pred = to_categorical(y_pred, num_classes=3, dtype=\"uint8\")\n",
        "print(type(y_pred[0]))\n",
        "print(y_pred.shape)"
      ],
      "metadata": {
        "colab": {
          "base_uri": "https://localhost:8080/"
        },
        "id": "3aWFxCD12UDI",
        "outputId": "93426a95-85f2-4793-910d-5523d5cb2043"
      },
      "execution_count": null,
      "outputs": [
        {
          "output_type": "stream",
          "name": "stdout",
          "text": [
            "<class 'numpy.ndarray'>\n",
            "(2224, 256, 256, 3)\n"
          ]
        }
      ]
    },
    {
      "cell_type": "code",
      "source": [
        "y_true = test_split_y\n",
        "print(type(y_true[0][0][0]))\n",
        "y_true = to_categorical(y_true, num_classes=3, dtype=\"uint8\")\n",
        "print(y_true.shape)"
      ],
      "metadata": {
        "colab": {
          "base_uri": "https://localhost:8080/"
        },
        "id": "zII3ABon6rIB",
        "outputId": "12bec67e-b62a-4074-e236-36113b94e77a"
      },
      "execution_count": null,
      "outputs": [
        {
          "output_type": "stream",
          "name": "stdout",
          "text": [
            "<class 'numpy.uint8'>\n",
            "(2224, 256, 256, 3)\n"
          ]
        }
      ]
    },
    {
      "cell_type": "code",
      "source": [
        "y_true_0 = y_true[..., 0].flatten()\n",
        "y_pred_0 = y_pred[..., 0].flatten()\n",
        "y_true_1 = y_true[..., 1].flatten()\n",
        "y_pred_1 = y_pred[..., 1].flatten()\n",
        "y_true_2 = y_true[..., 2].flatten()\n",
        "y_pred_2 = y_pred[..., 2].flatten()\n",
        "print(y_true_0.shape)\n",
        "print(y_pred_0.shape)\n",
        "print(y_true_1.shape)\n",
        "print(y_pred_1.shape)\n",
        "print(y_true_2.shape)\n",
        "print(y_pred_2.shape)\n",
        "print(type(y_true_0[0]))\n",
        "print(type(y_pred_0[0]))\n",
        "print(type(y_true_1[0]))\n",
        "print(type(y_pred_1[0]))\n",
        "print(type(y_true_2[0]))\n",
        "print(type(y_pred_2[0]))\n",
        "print(y_pred_0[:5])"
      ],
      "metadata": {
        "colab": {
          "base_uri": "https://localhost:8080/"
        },
        "id": "PfUsHB3F7lZ_",
        "outputId": "682b0491-4d22-4256-e166-8c76634cb8c4"
      },
      "execution_count": null,
      "outputs": [
        {
          "output_type": "stream",
          "name": "stdout",
          "text": [
            "(145752064,)\n",
            "(145752064,)\n",
            "(145752064,)\n",
            "(145752064,)\n",
            "(145752064,)\n",
            "(145752064,)\n",
            "<class 'numpy.uint8'>\n",
            "<class 'numpy.uint8'>\n",
            "<class 'numpy.uint8'>\n",
            "<class 'numpy.uint8'>\n",
            "<class 'numpy.uint8'>\n",
            "<class 'numpy.uint8'>\n",
            "[0 0 0 0 0]\n"
          ]
        }
      ]
    },
    {
      "cell_type": "code",
      "source": [
        "j_invalid = tf.keras.metrics.IoU(num_classes=2, target_class_ids=[0])\n",
        "j_invalid.update_state(y_true_0, y_pred_0)\n",
        "print(f'Jaccard invalid_0: {j_invalid.result().numpy()}')\n",
        "\n",
        "#j_invalid_1 = tf.keras.metrics.IoU(num_classes=2, target_class_ids=[1])\n",
        "#j_invalid_1.update_state(y_true_0, y_pred_0)\n",
        "#print(f'Jaccard invalid_1: {j_invalid_1.result().numpy()}')\n",
        "\n",
        "j_valid = tf.keras.metrics.IoU(num_classes=2, target_class_ids=[0, 1])\n",
        "j_valid.update_state(y_true_1, y_pred_1)\n",
        "print(f'Jaccard valid: {j_valid.result().numpy()}')\n",
        "\n",
        "j_land = tf.keras.metrics.IoU(num_classes=2, target_class_ids=[0, 1])\n",
        "j_land.update_state(y_true_2, y_pred_2)\n",
        "print(f'Jaccard land: {j_land.result().numpy()}')\n",
        "\n",
        "p_invalid = tf.keras.metrics.Precision()\n",
        "p_invalid.update_state(y_true_0, y_pred_0)\n",
        "print(f'Precision invalid: {p_invalid.result().numpy()}')\n",
        "\n",
        "p_valid = tf.keras.metrics.Precision()\n",
        "p_valid.update_state(y_true_1, y_pred_1)\n",
        "print(f'Precision valid: {p_valid.result().numpy()}')\n",
        "\n",
        "p_land = tf.keras.metrics.Precision()\n",
        "p_land.update_state(y_true_2, y_pred_2)\n",
        "print(f'Precision land: {p_land.result().numpy()}')\n",
        "\n"
      ],
      "metadata": {
        "colab": {
          "base_uri": "https://localhost:8080/"
        },
        "id": "wgaDtdEb6gaT",
        "outputId": "b8f10120-b7ad-43f5-d501-0fc08216e08c"
      },
      "execution_count": null,
      "outputs": [
        {
          "output_type": "stream",
          "name": "stdout",
          "text": [
            "Jaccard invalid_0: 0.6494028568267822\n",
            "Jaccard invalid_1: 0.6494028568267822\n",
            "Jaccard valid: 0.791369616985321\n",
            "Jaccard land: 0.991915762424469\n",
            "Precision invalid: 0.9689279198646545\n",
            "Precision valid: 0.9336049556732178\n",
            "Precision land: 0.9989190697669983\n"
          ]
        }
      ]
    },
    {
      "cell_type": "code",
      "source": [
        "m_fp = tf.keras.metrics.FalsePositives()\n",
        "m_fp.update_state(y_true_0, y_pred_0)\n",
        "fp = m_fp.result().numpy()\n",
        "\n",
        "m_fn = tf.keras.metrics.FalseNegatives()\n",
        "m_fn.update_state(y_true_0, y_pred_0)\n",
        "fn = m_fn.result().numpy()\n",
        "\n",
        "m_tp = tf.keras.metrics.TruePositives()\n",
        "m_tp.update_state(y_true_0, y_pred_0)\n",
        "tp = m_tp.result().numpy()\n",
        "\n",
        "m_tn = tf.keras.metrics.TrueNegatives()\n",
        "m_tn.update_state(y_true_0, y_pred_0)\n",
        "tn = m_tn.result().numpy()\n",
        "\n",
        "print(f'False Positives: {fp}')\n",
        "print(f'True Positives: {tp}')\n",
        "print(f'False Negatives: {fn}')\n",
        "print(f'True Negatives: {tn}')\n",
        "print(f'Jaccard invalid: {(tp) / (tp + fn + fp)}')\n",
        "print(f'Jaccard invalid: {(tn) / (tn + fn + fp)}')\n",
        "print(f'pixel sum: {tp + fp + tn + fn}')\n",
        "print(f'correct sum: {2224 * 256 * 256}')\n",
        "print(f'Precision invalid: {tp / (tp + fp)}')"
      ],
      "metadata": {
        "colab": {
          "base_uri": "https://localhost:8080/"
        },
        "id": "luP1NJxwASe1",
        "outputId": "9dd21e07-ced7-4266-ae10-e5c7e39bc393"
      },
      "execution_count": null,
      "outputs": [
        {
          "output_type": "stream",
          "name": "stdout",
          "text": [
            "False Positives: 1222720.0\n",
            "True Positives: 30766884.0\n",
            "False Negatives: 3306090.0\n",
            "True Negatives: 110456368.0\n",
            "Jaccard invalid: 0.8716893792152405\n",
            "Jaccard invalid: 0.9606139659881592\n",
            "pixel sum: 145752064.0\n",
            "correct sum: 145752064\n",
            "Precision invalid: 0.9617775678634644\n"
          ]
        }
      ]
    },
    {
      "cell_type": "code",
      "source": [
        "m_fp = tf.keras.metrics.FalsePositives()\n",
        "m_fp.update_state(y_true_1, y_pred_1)\n",
        "fp = m_fp.result().numpy()\n",
        "\n",
        "m_fn = tf.keras.metrics.FalseNegatives()\n",
        "m_fn.update_state(y_true_1, y_pred_1)\n",
        "fn = m_fn.result().numpy()\n",
        "\n",
        "m_tp = tf.keras.metrics.TruePositives()\n",
        "m_tp.update_state(y_true_1, y_pred_1)\n",
        "tp = m_tp.result().numpy()\n",
        "\n",
        "m_tn = tf.keras.metrics.TrueNegatives()\n",
        "m_tn.update_state(y_true_1, y_pred_1)\n",
        "tn = m_tn.result().numpy()\n",
        "\n",
        "print(f'False Positives: {fp}')\n",
        "print(f'True Positives: {tp}')\n",
        "print(f'False Negatives: {fn}')\n",
        "print(f'True Negatives: {tn}')\n",
        "print(f'Jaccard valid: {(tp) / (tp + fn + fp)}')\n",
        "print(f'pixel sum: {tp + fp + tn + fn}')\n",
        "print(f'correct sum: {2224 * 256 * 256}')\n",
        "print(f'Precision valid: {tp / (tp + fp)}')"
      ],
      "metadata": {
        "id": "xsmPLCsjWNdw",
        "outputId": "da590381-a4ec-4329-f3ea-257ee2aacfa7",
        "colab": {
          "base_uri": "https://localhost:8080/"
        }
      },
      "execution_count": null,
      "outputs": [
        {
          "output_type": "stream",
          "name": "stdout",
          "text": [
            "False Positives: 3251528.0\n",
            "True Positives: 45720908.0\n",
            "False Negatives: 1171484.0\n",
            "True Negatives: 95608144.0\n",
            "Jaccard valid: 0.9117936491966248\n",
            "pixel sum: 145752064.0\n",
            "correct sum: 145752064\n",
            "Precision valid: 0.9336049556732178\n"
          ]
        }
      ]
    },
    {
      "cell_type": "code",
      "source": [
        "m_fp = tf.keras.metrics.FalsePositives()\n",
        "m_fp.update_state(y_true_2, y_pred_2)\n",
        "fp = m_fp.result().numpy()\n",
        "\n",
        "m_fn = tf.keras.metrics.FalseNegatives()\n",
        "m_fn.update_state(y_true_2, y_pred_2)\n",
        "fn = m_fn.result().numpy()\n",
        "\n",
        "m_tp = tf.keras.metrics.TruePositives()\n",
        "m_tp.update_state(y_true_2, y_pred_2)\n",
        "tp = m_tp.result().numpy()\n",
        "\n",
        "m_tn = tf.keras.metrics.TrueNegatives()\n",
        "m_tn.update_state(y_true_2, y_pred_2)\n",
        "tn = m_tn.result().numpy()\n",
        "\n",
        "print(f'False Positives: {fp}')\n",
        "print(f'True Positives: {tp}')\n",
        "print(f'False Negatives: {fn}')\n",
        "print(f'True Negatives: {tn}')\n",
        "print(f'Jaccard land: {(tp) / (tp + fn + fp)}')\n",
        "print(f'pixel sum: {tp + fp + tn + fn}')\n",
        "print(f'correct sum: {2224 * 256 * 256}')\n",
        "print(f'Precision land: {tp / (tp + fp)}')"
      ],
      "metadata": {
        "id": "D4iEbNnWWZXO",
        "outputId": "976840e2-d10f-4103-ec30-b5ba1e0e6e24",
        "colab": {
          "base_uri": "https://localhost:8080/"
        }
      },
      "execution_count": null,
      "outputs": [
        {
          "output_type": "stream",
          "name": "stdout",
          "text": [
            "False Positives: 70032.0\n",
            "True Positives: 64719992.0\n",
            "False Negatives: 66706.0\n",
            "True Negatives: 80895328.0\n",
            "Jaccard land: 0.9978917241096497\n",
            "pixel sum: 145752048.0\n",
            "correct sum: 145752064\n",
            "Precision land: 0.9989190697669983\n"
          ]
        }
      ]
    },
    {
      "cell_type": "code",
      "source": [
        "m_invalid = tf.keras.metrics.BinaryIoU(target_class_ids=[0])\n",
        "m_invalid.update_state(y_true_0, y_pred_0)\n",
        "print(f'Jaccard invalid: {m_invalid.result().numpy()}')\n",
        "\n",
        "m_invalid_1 = tf.keras.metrics.BinaryIoU(target_class_ids=[1])\n",
        "m_invalid_1.update_state(y_true_0, y_pred_0)\n",
        "print(f'Jaccard invalid_1: {m_invalid_1.result().numpy()}')\n",
        "\n",
        "m_valid = tf.keras.metrics.BinaryIoU(target_class_ids=[0])\n",
        "m_valid.update_state(y_true_1, y_pred_1)\n",
        "print(f'Jaccard valid: {m_valid.result().numpy()}')\n",
        "\n",
        "m_land = tf.keras.metrics.BinaryIoU(target_class_ids=[0])\n",
        "m_land.update_state(y_true_2, y_pred_2)\n",
        "print(f'Jaccard land: {m_land.result().numpy()}')\n"
      ],
      "metadata": {
        "id": "wGWEwGqtTS1o",
        "outputId": "61d403bc-a4d1-43d1-f402-5606e1dc71dc",
        "colab": {
          "base_uri": "https://localhost:8080/",
          "height": 399
        }
      },
      "execution_count": null,
      "outputs": [
        {
          "output_type": "error",
          "ename": "TypeError",
          "evalue": "ignored",
          "traceback": [
            "\u001b[0;31m---------------------------------------------------------------------------\u001b[0m",
            "\u001b[0;31mTypeError\u001b[0m                                 Traceback (most recent call last)",
            "\u001b[0;32m<ipython-input-33-c3a5c3d37ec3>\u001b[0m in \u001b[0;36m<cell line: 2>\u001b[0;34m()\u001b[0m\n\u001b[1;32m      1\u001b[0m \u001b[0mm_invalid\u001b[0m \u001b[0;34m=\u001b[0m \u001b[0mtf\u001b[0m\u001b[0;34m.\u001b[0m\u001b[0mkeras\u001b[0m\u001b[0;34m.\u001b[0m\u001b[0mmetrics\u001b[0m\u001b[0;34m.\u001b[0m\u001b[0mBinaryIoU\u001b[0m\u001b[0;34m(\u001b[0m\u001b[0mtarget_class_ids\u001b[0m\u001b[0;34m=\u001b[0m\u001b[0;34m[\u001b[0m\u001b[0;36m0\u001b[0m\u001b[0;34m]\u001b[0m\u001b[0;34m,\u001b[0m \u001b[0mdtype\u001b[0m\u001b[0;34m=\u001b[0m\u001b[0mnp\u001b[0m\u001b[0;34m.\u001b[0m\u001b[0muint8\u001b[0m\u001b[0;34m)\u001b[0m\u001b[0;34m\u001b[0m\u001b[0;34m\u001b[0m\u001b[0m\n\u001b[0;32m----> 2\u001b[0;31m \u001b[0mm_invalid\u001b[0m\u001b[0;34m.\u001b[0m\u001b[0mupdate_state\u001b[0m\u001b[0;34m(\u001b[0m\u001b[0my_true_0\u001b[0m\u001b[0;34m,\u001b[0m \u001b[0my_pred_0\u001b[0m\u001b[0;34m)\u001b[0m\u001b[0;34m\u001b[0m\u001b[0;34m\u001b[0m\u001b[0m\n\u001b[0m\u001b[1;32m      3\u001b[0m \u001b[0mprint\u001b[0m\u001b[0;34m(\u001b[0m\u001b[0;34mf'Jaccard invalid: {m_invalid.result().numpy()}'\u001b[0m\u001b[0;34m)\u001b[0m\u001b[0;34m\u001b[0m\u001b[0;34m\u001b[0m\u001b[0m\n\u001b[1;32m      4\u001b[0m \u001b[0;34m\u001b[0m\u001b[0m\n\u001b[1;32m      5\u001b[0m \u001b[0mm_invalid_1\u001b[0m \u001b[0;34m=\u001b[0m \u001b[0mtf\u001b[0m\u001b[0;34m.\u001b[0m\u001b[0mkeras\u001b[0m\u001b[0;34m.\u001b[0m\u001b[0mmetrics\u001b[0m\u001b[0;34m.\u001b[0m\u001b[0mBinaryIoU\u001b[0m\u001b[0;34m(\u001b[0m\u001b[0mtarget_class_ids\u001b[0m\u001b[0;34m=\u001b[0m\u001b[0;34m[\u001b[0m\u001b[0;36m1\u001b[0m\u001b[0;34m]\u001b[0m\u001b[0;34m,\u001b[0m \u001b[0mdtype\u001b[0m\u001b[0;34m=\u001b[0m\u001b[0mnp\u001b[0m\u001b[0;34m.\u001b[0m\u001b[0muint8\u001b[0m\u001b[0;34m)\u001b[0m\u001b[0;34m\u001b[0m\u001b[0;34m\u001b[0m\u001b[0m\n",
            "\u001b[0;32m/usr/local/lib/python3.10/dist-packages/keras/utils/metrics_utils.py\u001b[0m in \u001b[0;36mdecorated\u001b[0;34m(metric_obj, *args, **kwargs)\u001b[0m\n\u001b[1;32m     75\u001b[0m \u001b[0;34m\u001b[0m\u001b[0m\n\u001b[1;32m     76\u001b[0m         \u001b[0;32mwith\u001b[0m \u001b[0mtf_utils\u001b[0m\u001b[0;34m.\u001b[0m\u001b[0mgraph_context_for_symbolic_tensors\u001b[0m\u001b[0;34m(\u001b[0m\u001b[0;34m*\u001b[0m\u001b[0margs\u001b[0m\u001b[0;34m,\u001b[0m \u001b[0;34m**\u001b[0m\u001b[0mkwargs\u001b[0m\u001b[0;34m)\u001b[0m\u001b[0;34m:\u001b[0m\u001b[0;34m\u001b[0m\u001b[0;34m\u001b[0m\u001b[0m\n\u001b[0;32m---> 77\u001b[0;31m             \u001b[0mupdate_op\u001b[0m \u001b[0;34m=\u001b[0m \u001b[0mupdate_state_fn\u001b[0m\u001b[0;34m(\u001b[0m\u001b[0;34m*\u001b[0m\u001b[0margs\u001b[0m\u001b[0;34m,\u001b[0m \u001b[0;34m**\u001b[0m\u001b[0mkwargs\u001b[0m\u001b[0;34m)\u001b[0m\u001b[0;34m\u001b[0m\u001b[0;34m\u001b[0m\u001b[0m\n\u001b[0m\u001b[1;32m     78\u001b[0m         \u001b[0;32mif\u001b[0m \u001b[0mupdate_op\u001b[0m \u001b[0;32mis\u001b[0m \u001b[0;32mnot\u001b[0m \u001b[0;32mNone\u001b[0m\u001b[0;34m:\u001b[0m  \u001b[0;31m# update_op will be None in eager execution.\u001b[0m\u001b[0;34m\u001b[0m\u001b[0;34m\u001b[0m\u001b[0m\n\u001b[1;32m     79\u001b[0m             \u001b[0mmetric_obj\u001b[0m\u001b[0;34m.\u001b[0m\u001b[0madd_update\u001b[0m\u001b[0;34m(\u001b[0m\u001b[0mupdate_op\u001b[0m\u001b[0;34m)\u001b[0m\u001b[0;34m\u001b[0m\u001b[0;34m\u001b[0m\u001b[0m\n",
            "\u001b[0;32m/usr/local/lib/python3.10/dist-packages/keras/metrics/base_metric.py\u001b[0m in \u001b[0;36mupdate_state_fn\u001b[0;34m(*args, **kwargs)\u001b[0m\n\u001b[1;32m    138\u001b[0m                     \u001b[0mobj_update_state\u001b[0m\u001b[0;34m,\u001b[0m \u001b[0mcontrol_status\u001b[0m\u001b[0;34m\u001b[0m\u001b[0;34m\u001b[0m\u001b[0m\n\u001b[1;32m    139\u001b[0m                 )\n\u001b[0;32m--> 140\u001b[0;31m                 \u001b[0;32mreturn\u001b[0m \u001b[0mag_update_state\u001b[0m\u001b[0;34m(\u001b[0m\u001b[0;34m*\u001b[0m\u001b[0margs\u001b[0m\u001b[0;34m,\u001b[0m \u001b[0;34m**\u001b[0m\u001b[0mkwargs\u001b[0m\u001b[0;34m)\u001b[0m\u001b[0;34m\u001b[0m\u001b[0;34m\u001b[0m\u001b[0m\n\u001b[0m\u001b[1;32m    141\u001b[0m \u001b[0;34m\u001b[0m\u001b[0m\n\u001b[1;32m    142\u001b[0m         \u001b[0;32melse\u001b[0m\u001b[0;34m:\u001b[0m\u001b[0;34m\u001b[0m\u001b[0;34m\u001b[0m\u001b[0m\n",
            "\u001b[0;32m/usr/local/lib/python3.10/dist-packages/tensorflow/python/autograph/impl/api.py\u001b[0m in \u001b[0;36mwrapper\u001b[0;34m(*args, **kwargs)\u001b[0m\n\u001b[1;32m    687\u001b[0m       \u001b[0;32mtry\u001b[0m\u001b[0;34m:\u001b[0m\u001b[0;34m\u001b[0m\u001b[0;34m\u001b[0m\u001b[0m\n\u001b[1;32m    688\u001b[0m         \u001b[0;32mwith\u001b[0m \u001b[0mconversion_ctx\u001b[0m\u001b[0;34m:\u001b[0m\u001b[0;34m\u001b[0m\u001b[0;34m\u001b[0m\u001b[0m\n\u001b[0;32m--> 689\u001b[0;31m           \u001b[0;32mreturn\u001b[0m \u001b[0mconverted_call\u001b[0m\u001b[0;34m(\u001b[0m\u001b[0mf\u001b[0m\u001b[0;34m,\u001b[0m \u001b[0margs\u001b[0m\u001b[0;34m,\u001b[0m \u001b[0mkwargs\u001b[0m\u001b[0;34m,\u001b[0m \u001b[0moptions\u001b[0m\u001b[0;34m=\u001b[0m\u001b[0moptions\u001b[0m\u001b[0;34m)\u001b[0m\u001b[0;34m\u001b[0m\u001b[0;34m\u001b[0m\u001b[0m\n\u001b[0m\u001b[1;32m    690\u001b[0m       \u001b[0;32mexcept\u001b[0m \u001b[0mException\u001b[0m \u001b[0;32mas\u001b[0m \u001b[0me\u001b[0m\u001b[0;34m:\u001b[0m  \u001b[0;31m# pylint:disable=broad-except\u001b[0m\u001b[0;34m\u001b[0m\u001b[0;34m\u001b[0m\u001b[0m\n\u001b[1;32m    691\u001b[0m         \u001b[0;32mif\u001b[0m \u001b[0mhasattr\u001b[0m\u001b[0;34m(\u001b[0m\u001b[0me\u001b[0m\u001b[0;34m,\u001b[0m \u001b[0;34m'ag_error_metadata'\u001b[0m\u001b[0;34m)\u001b[0m\u001b[0;34m:\u001b[0m\u001b[0;34m\u001b[0m\u001b[0;34m\u001b[0m\u001b[0m\n",
            "\u001b[0;32m/usr/local/lib/python3.10/dist-packages/tensorflow/python/autograph/impl/api.py\u001b[0m in \u001b[0;36mconverted_call\u001b[0;34m(f, args, kwargs, caller_fn_scope, options)\u001b[0m\n\u001b[1;32m    329\u001b[0m   \u001b[0;32mif\u001b[0m \u001b[0mconversion\u001b[0m\u001b[0;34m.\u001b[0m\u001b[0mis_in_allowlist_cache\u001b[0m\u001b[0;34m(\u001b[0m\u001b[0mf\u001b[0m\u001b[0;34m,\u001b[0m \u001b[0moptions\u001b[0m\u001b[0;34m)\u001b[0m\u001b[0;34m:\u001b[0m\u001b[0;34m\u001b[0m\u001b[0;34m\u001b[0m\u001b[0m\n\u001b[1;32m    330\u001b[0m     \u001b[0mlogging\u001b[0m\u001b[0;34m.\u001b[0m\u001b[0mlog\u001b[0m\u001b[0;34m(\u001b[0m\u001b[0;36m2\u001b[0m\u001b[0;34m,\u001b[0m \u001b[0;34m'Allowlisted %s: from cache'\u001b[0m\u001b[0;34m,\u001b[0m \u001b[0mf\u001b[0m\u001b[0;34m)\u001b[0m\u001b[0;34m\u001b[0m\u001b[0;34m\u001b[0m\u001b[0m\n\u001b[0;32m--> 331\u001b[0;31m     \u001b[0;32mreturn\u001b[0m \u001b[0m_call_unconverted\u001b[0m\u001b[0;34m(\u001b[0m\u001b[0mf\u001b[0m\u001b[0;34m,\u001b[0m \u001b[0margs\u001b[0m\u001b[0;34m,\u001b[0m \u001b[0mkwargs\u001b[0m\u001b[0;34m,\u001b[0m \u001b[0moptions\u001b[0m\u001b[0;34m,\u001b[0m \u001b[0;32mFalse\u001b[0m\u001b[0;34m)\u001b[0m\u001b[0;34m\u001b[0m\u001b[0;34m\u001b[0m\u001b[0m\n\u001b[0m\u001b[1;32m    332\u001b[0m \u001b[0;34m\u001b[0m\u001b[0m\n\u001b[1;32m    333\u001b[0m   \u001b[0;32mif\u001b[0m \u001b[0mag_ctx\u001b[0m\u001b[0;34m.\u001b[0m\u001b[0mcontrol_status_ctx\u001b[0m\u001b[0;34m(\u001b[0m\u001b[0;34m)\u001b[0m\u001b[0;34m.\u001b[0m\u001b[0mstatus\u001b[0m \u001b[0;34m==\u001b[0m \u001b[0mag_ctx\u001b[0m\u001b[0;34m.\u001b[0m\u001b[0mStatus\u001b[0m\u001b[0;34m.\u001b[0m\u001b[0mDISABLED\u001b[0m\u001b[0;34m:\u001b[0m\u001b[0;34m\u001b[0m\u001b[0;34m\u001b[0m\u001b[0m\n",
            "\u001b[0;32m/usr/local/lib/python3.10/dist-packages/tensorflow/python/autograph/impl/api.py\u001b[0m in \u001b[0;36m_call_unconverted\u001b[0;34m(f, args, kwargs, options, update_cache)\u001b[0m\n\u001b[1;32m    456\u001b[0m \u001b[0;34m\u001b[0m\u001b[0m\n\u001b[1;32m    457\u001b[0m   \u001b[0;32mif\u001b[0m \u001b[0mkwargs\u001b[0m \u001b[0;32mis\u001b[0m \u001b[0;32mnot\u001b[0m \u001b[0;32mNone\u001b[0m\u001b[0;34m:\u001b[0m\u001b[0;34m\u001b[0m\u001b[0;34m\u001b[0m\u001b[0m\n\u001b[0;32m--> 458\u001b[0;31m     \u001b[0;32mreturn\u001b[0m \u001b[0mf\u001b[0m\u001b[0;34m(\u001b[0m\u001b[0;34m*\u001b[0m\u001b[0margs\u001b[0m\u001b[0;34m,\u001b[0m \u001b[0;34m**\u001b[0m\u001b[0mkwargs\u001b[0m\u001b[0;34m)\u001b[0m\u001b[0;34m\u001b[0m\u001b[0;34m\u001b[0m\u001b[0m\n\u001b[0m\u001b[1;32m    459\u001b[0m   \u001b[0;32mreturn\u001b[0m \u001b[0mf\u001b[0m\u001b[0;34m(\u001b[0m\u001b[0;34m*\u001b[0m\u001b[0margs\u001b[0m\u001b[0;34m)\u001b[0m\u001b[0;34m\u001b[0m\u001b[0;34m\u001b[0m\u001b[0m\n\u001b[1;32m    460\u001b[0m \u001b[0;34m\u001b[0m\u001b[0m\n",
            "\u001b[0;32m/usr/local/lib/python3.10/dist-packages/keras/metrics/iou_metrics.py\u001b[0m in \u001b[0;36mupdate_state\u001b[0;34m(self, y_true, y_pred, sample_weight)\u001b[0m\n\u001b[1;32m    414\u001b[0m         \"\"\"\n\u001b[1;32m    415\u001b[0m         \u001b[0my_pred\u001b[0m \u001b[0;34m=\u001b[0m \u001b[0mtf\u001b[0m\u001b[0;34m.\u001b[0m\u001b[0mcast\u001b[0m\u001b[0;34m(\u001b[0m\u001b[0my_pred\u001b[0m\u001b[0;34m,\u001b[0m \u001b[0mself\u001b[0m\u001b[0;34m.\u001b[0m\u001b[0m_dtype\u001b[0m\u001b[0;34m)\u001b[0m\u001b[0;34m\u001b[0m\u001b[0;34m\u001b[0m\u001b[0m\n\u001b[0;32m--> 416\u001b[0;31m         \u001b[0my_pred\u001b[0m \u001b[0;34m=\u001b[0m \u001b[0mtf\u001b[0m\u001b[0;34m.\u001b[0m\u001b[0mcast\u001b[0m\u001b[0;34m(\u001b[0m\u001b[0my_pred\u001b[0m \u001b[0;34m>=\u001b[0m \u001b[0mself\u001b[0m\u001b[0;34m.\u001b[0m\u001b[0mthreshold\u001b[0m\u001b[0;34m,\u001b[0m \u001b[0mself\u001b[0m\u001b[0;34m.\u001b[0m\u001b[0m_dtype\u001b[0m\u001b[0;34m)\u001b[0m\u001b[0;34m\u001b[0m\u001b[0;34m\u001b[0m\u001b[0m\n\u001b[0m\u001b[1;32m    417\u001b[0m         \u001b[0;32mreturn\u001b[0m \u001b[0msuper\u001b[0m\u001b[0;34m(\u001b[0m\u001b[0;34m)\u001b[0m\u001b[0;34m.\u001b[0m\u001b[0mupdate_state\u001b[0m\u001b[0;34m(\u001b[0m\u001b[0my_true\u001b[0m\u001b[0;34m,\u001b[0m \u001b[0my_pred\u001b[0m\u001b[0;34m,\u001b[0m \u001b[0msample_weight\u001b[0m\u001b[0;34m)\u001b[0m\u001b[0;34m\u001b[0m\u001b[0;34m\u001b[0m\u001b[0m\n\u001b[1;32m    418\u001b[0m \u001b[0;34m\u001b[0m\u001b[0m\n",
            "\u001b[0;32m/usr/local/lib/python3.10/dist-packages/tensorflow/python/ops/math_ops.py\u001b[0m in \u001b[0;36mwrapper\u001b[0;34m(x, y, *args, **kwargs)\u001b[0m\n\u001b[1;32m   1925\u001b[0m   \u001b[0;32mdef\u001b[0m \u001b[0mwrapper\u001b[0m\u001b[0;34m(\u001b[0m\u001b[0mx\u001b[0m\u001b[0;34m,\u001b[0m \u001b[0my\u001b[0m\u001b[0;34m,\u001b[0m \u001b[0;34m*\u001b[0m\u001b[0margs\u001b[0m\u001b[0;34m,\u001b[0m \u001b[0;34m**\u001b[0m\u001b[0mkwargs\u001b[0m\u001b[0;34m)\u001b[0m\u001b[0;34m:\u001b[0m\u001b[0;34m\u001b[0m\u001b[0;34m\u001b[0m\u001b[0m\n\u001b[1;32m   1926\u001b[0m     \u001b[0mx\u001b[0m\u001b[0;34m,\u001b[0m \u001b[0my\u001b[0m \u001b[0;34m=\u001b[0m \u001b[0mmaybe_promote_tensors\u001b[0m\u001b[0;34m(\u001b[0m\u001b[0mx\u001b[0m\u001b[0;34m,\u001b[0m \u001b[0my\u001b[0m\u001b[0;34m)\u001b[0m\u001b[0;34m\u001b[0m\u001b[0;34m\u001b[0m\u001b[0m\n\u001b[0;32m-> 1927\u001b[0;31m     \u001b[0;32mreturn\u001b[0m \u001b[0mfn\u001b[0m\u001b[0;34m(\u001b[0m\u001b[0mx\u001b[0m\u001b[0;34m,\u001b[0m \u001b[0my\u001b[0m\u001b[0;34m,\u001b[0m \u001b[0;34m*\u001b[0m\u001b[0margs\u001b[0m\u001b[0;34m,\u001b[0m \u001b[0;34m**\u001b[0m\u001b[0mkwargs\u001b[0m\u001b[0;34m)\u001b[0m\u001b[0;34m\u001b[0m\u001b[0;34m\u001b[0m\u001b[0m\n\u001b[0m\u001b[1;32m   1928\u001b[0m   \u001b[0;32mreturn\u001b[0m \u001b[0mtf_decorator\u001b[0m\u001b[0;34m.\u001b[0m\u001b[0mmake_decorator\u001b[0m\u001b[0;34m(\u001b[0m\u001b[0mfn\u001b[0m\u001b[0;34m,\u001b[0m \u001b[0mwrapper\u001b[0m\u001b[0;34m)\u001b[0m\u001b[0;34m\u001b[0m\u001b[0;34m\u001b[0m\u001b[0m\n\u001b[1;32m   1929\u001b[0m \u001b[0;34m\u001b[0m\u001b[0m\n",
            "\u001b[0;32m/usr/local/lib/python3.10/dist-packages/tensorflow/python/ops/gen_math_ops.py\u001b[0m in \u001b[0;36mgreater_equal\u001b[0;34m(x, y, name)\u001b[0m\n\u001b[1;32m   4195\u001b[0m   \u001b[0;32mif\u001b[0m \u001b[0mtld\u001b[0m\u001b[0;34m.\u001b[0m\u001b[0mis_eager\u001b[0m\u001b[0;34m:\u001b[0m\u001b[0;34m\u001b[0m\u001b[0;34m\u001b[0m\u001b[0m\n\u001b[1;32m   4196\u001b[0m     \u001b[0;32mtry\u001b[0m\u001b[0;34m:\u001b[0m\u001b[0;34m\u001b[0m\u001b[0;34m\u001b[0m\u001b[0m\n\u001b[0;32m-> 4197\u001b[0;31m       _result = pywrap_tfe.TFE_Py_FastPathExecute(\n\u001b[0m\u001b[1;32m   4198\u001b[0m         _ctx, \"GreaterEqual\", name, x, y)\n\u001b[1;32m   4199\u001b[0m       \u001b[0;32mreturn\u001b[0m \u001b[0m_result\u001b[0m\u001b[0;34m\u001b[0m\u001b[0;34m\u001b[0m\u001b[0m\n",
            "\u001b[0;31mTypeError\u001b[0m: Cannot convert 0.5 to EagerTensor of dtype uint8"
          ]
        }
      ]
    },
    {
      "cell_type": "code",
      "source": [
        "# precision is always the same, not mather if keras metrics class is used or Trupe positives, .. are calculated\n",
        "# intersection over union is not the same, even though same input arrays have been used\n",
        "# sum of confusion matrix values == length of array\n",
        "# todo calculate with scicit lean"
      ],
      "metadata": {
        "id": "HI0VuTOSXAwj"
      },
      "execution_count": null,
      "outputs": []
    }
  ]
}