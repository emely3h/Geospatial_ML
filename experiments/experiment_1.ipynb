{
  "cells": [
    {
      "cell_type": "markdown",
      "metadata": {
        "id": "97pm4Voa3pl_"
      },
      "source": [
        "# U-Net Experiement 1: Exploring variance/ randomness"
      ]
    },
    {
      "cell_type": "markdown",
      "metadata": {
        "id": "llC9zLM_3pmB"
      },
      "source": [
        "When running the exact same model with the exact same dataset we get slightly different results each time due to randomness and variability involved in the training process.\n",
        "the variance refers to \n",
        "The goal of this notebook is to evaluate the variability in the results obtained from different training runs on the same dataset We will use the exact same setup and dataset as in the unet notebook and execute 10 training runs."
      ]
    },
    {
      "cell_type": "markdown",
      "metadata": {
        "id": "1Idgsn633pmB"
      },
      "source": [
        "### 0. Select Python version"
      ]
    },
    {
      "cell_type": "code",
      "execution_count": null,
      "metadata": {
        "id": "f5y6t7yF3pmC"
      },
      "outputs": [],
      "source": [
        "!sudo apt-get install python3.10\n",
        "!sudo update-alternatives --install /usr/bin/python3 python3 /usr/bin/python3.10 1\n",
        "!sudo update-alternatives --config python3"
      ]
    },
    {
      "cell_type": "markdown",
      "metadata": {
        "id": "UekbrU7w3pmD"
      },
      "source": [
        "### 1. Loading + Preparing Data"
      ]
    },
    {
      "cell_type": "code",
      "execution_count": 1,
      "metadata": {
        "colab": {
          "base_uri": "https://localhost:8080/"
        },
        "id": "4gi0LkgZ3pmE",
        "outputId": "19db9641-caca-4bf0-b308-8824286c6acc"
      },
      "outputs": [
        {
          "output_type": "stream",
          "name": "stdout",
          "text": [
            "Mounted at /content/drive\n",
            "drive  sample_data\n"
          ]
        }
      ],
      "source": [
        "from google.colab import drive\n",
        "drive.mount('/content/drive')\n",
        "! ls"
      ]
    },
    {
      "cell_type": "code",
      "source": [
        "! git pull"
      ],
      "metadata": {
        "colab": {
          "base_uri": "https://localhost:8080/"
        },
        "id": "aTAtj8cE-p6X",
        "outputId": "f07b0d18-2da3-4958-e227-b3e617391696"
      },
      "execution_count": 2,
      "outputs": [
        {
          "output_type": "stream",
          "name": "stdout",
          "text": [
            "fatal: not a git repository (or any of the parent directories): .git\n"
          ]
        }
      ]
    },
    {
      "cell_type": "code",
      "source": [
        "%cd drive/MyDrive/MachineLearning/\n",
        "#! git clone https://github.com/emely3h/Geospatial_ML.git\n",
        "%cd Geospatial_ML\n",
        "! ls"
      ],
      "metadata": {
        "colab": {
          "base_uri": "https://localhost:8080/"
        },
        "id": "GbNn0pCX4DZP",
        "outputId": "596410fa-6666-4ccd-bbb9-a6254a9d5bb2"
      },
      "execution_count": 2,
      "outputs": [
        {
          "output_type": "stream",
          "name": "stdout",
          "text": [
            "/content/drive/.shortcut-targets-by-id/15HUD3sGdfvxy5Y_bjvuXgrzwxt7TzRfm/MachineLearning\n",
            "/content/drive/.shortcut-targets-by-id/15HUD3sGdfvxy5Y_bjvuXgrzwxt7TzRfm/MachineLearning/Geospatial_ML\n",
            "architecture.drawio  evaluation   models\tREADME.md\n",
            "data_exploration     experiments  prepare_data\trequirements.txt\n"
          ]
        }
      ]
    },
    {
      "cell_type": "code",
      "source": [
        "from models.helpers import normalizing_encoding, define_model, train_model, save_model_history, make_predictions, evaluate_predictions, save_metrics\n",
        "import numpy as np\n",
        "import os\n",
        "from models.unet_model import unet_2d\n",
        "from models.helpers import get_mean_jaccard\n",
        "from datetime import datetime"
      ],
      "metadata": {
        "id": "_ue0lf8C4VU6"
      },
      "execution_count": 3,
      "outputs": []
    },
    {
      "cell_type": "code",
      "execution_count": 4,
      "metadata": {
        "colab": {
          "base_uri": "https://localhost:8080/"
        },
        "id": "gEnvKA7G3pmE",
        "outputId": "c83a227e-e6a8-4953-ce49-2811da12fbcf"
      },
      "outputs": [
        {
          "output_type": "stream",
          "name": "stdout",
          "text": [
            "(1251, 256, 256)\n",
            "(1251, 256, 256, 5)\n",
            "(1323, 256, 256)\n",
            "(1323, 256, 256, 5)\n",
            "(1258, 256, 256)\n",
            "(1258, 256, 256, 5)\n"
          ]
        }
      ],
      "source": [
        "root = \"../data_colab/256_200/\"\n",
        "\n",
        "y_train  = np.load(os.path.join(root,'2022_06_20.npz'))['y_mask']\n",
        "x_train  = np.load(os.path.join(root,'2022_06_20.npz'))['x_input']\n",
        "\n",
        "y_val = np.load(os.path.join(root,'2022_07_10.npz'))['y_mask']\n",
        "x_val = np.load(os.path.join(root,'2022_07_10.npz'))['x_input']\n",
        "\n",
        "y_test = np.load(os.path.join(root, '2022_07_25.npz'))['y_mask']\n",
        "x_test = np.load(os.path.join(root, '2022_07_25.npz'))['x_input']\n",
        "\n",
        "print(y_train.shape)\n",
        "print(x_train.shape)\n",
        "\n",
        "print(y_val.shape)\n",
        "print(x_val.shape)\n",
        "\n",
        "print(y_test.shape)\n",
        "print(x_test.shape)"
      ]
    },
    {
      "cell_type": "code",
      "source": [
        "      # Get physical prediction\n",
        "      train_physical\n",
        "      val_physical\n",
        "      test_physical\n",
        "      # cut 5th channel\n",
        "      # do labeling\n",
        "      # one hot encodin"
      ],
      "metadata": {
        "id": "k8C82zamdtNV"
      },
      "execution_count": null,
      "outputs": []
    },
    {
      "cell_type": "markdown",
      "metadata": {
        "id": "EvOiwDhD3pmH"
      },
      "source": [
        "### 3. Normalizing + Encoding"
      ]
    },
    {
      "cell_type": "code",
      "execution_count": 5,
      "metadata": {
        "colab": {
          "base_uri": "https://localhost:8080/"
        },
        "id": "r3FTd_QT3pmH",
        "outputId": "f2868b2f-aadf-4120-9374-6872face243b"
      },
      "outputs": [
        {
          "output_type": "stream",
          "name": "stdout",
          "text": [
            "y shape:  (1251, 256, 256)\n",
            "Normalizing data...\n",
            "y one hot shape:  (1251, 256, 256, 3)\n",
            "y shape:  (1323, 256, 256)\n",
            "Normalizing data...\n",
            "y one hot shape:  (1323, 256, 256, 3)\n",
            "y shape:  (1258, 256, 256)\n",
            "Normalizing data...\n",
            "y one hot shape:  (1258, 256, 256, 3)\n"
          ]
        }
      ],
      "source": [
        "x_train, y_train = normalizing_encoding(x_train, y_train)\n",
        "X_val, y_val = normalizing_encoding(x_val, y_val)\n",
        "x_test, y_test = normalizing_encoding(x_test, y_test)"
      ]
    },
    {
      "cell_type": "markdown",
      "metadata": {
        "id": "aV_DySrP3pmI"
      },
      "source": [
        "### 4. Model summary"
      ]
    },
    {
      "cell_type": "code",
      "execution_count": 6,
      "metadata": {
        "colab": {
          "base_uri": "https://localhost:8080/"
        },
        "id": "Dr7hgga-3pmI",
        "outputId": "9c356115-8e78-4c5d-da8f-018c4a95cc85"
      },
      "outputs": [
        {
          "output_type": "stream",
          "name": "stdout",
          "text": [
            "Model: \"model\"\n",
            "__________________________________________________________________________________________________\n",
            " Layer (type)                   Output Shape         Param #     Connected to                     \n",
            "==================================================================================================\n",
            " input_1 (InputLayer)           [(None, 256, 256, 5  0           []                               \n",
            "                                )]                                                                \n",
            "                                                                                                  \n",
            " conv2d (Conv2D)                (None, 256, 256, 64  2944        ['input_1[0][0]']                \n",
            "                                )                                                                 \n",
            "                                                                                                  \n",
            " conv2d_1 (Conv2D)              (None, 256, 256, 64  36928       ['conv2d[0][0]']                 \n",
            "                                )                                                                 \n",
            "                                                                                                  \n",
            " max_pooling2d (MaxPooling2D)   (None, 128, 128, 64  0           ['conv2d_1[0][0]']               \n",
            "                                )                                                                 \n",
            "                                                                                                  \n",
            " conv2d_2 (Conv2D)              (None, 128, 128, 12  73856       ['max_pooling2d[0][0]']          \n",
            "                                8)                                                                \n",
            "                                                                                                  \n",
            " conv2d_3 (Conv2D)              (None, 128, 128, 12  147584      ['conv2d_2[0][0]']               \n",
            "                                8)                                                                \n",
            "                                                                                                  \n",
            " max_pooling2d_1 (MaxPooling2D)  (None, 64, 64, 128)  0          ['conv2d_3[0][0]']               \n",
            "                                                                                                  \n",
            " conv2d_4 (Conv2D)              (None, 64, 64, 256)  295168      ['max_pooling2d_1[0][0]']        \n",
            "                                                                                                  \n",
            " conv2d_5 (Conv2D)              (None, 64, 64, 256)  590080      ['conv2d_4[0][0]']               \n",
            "                                                                                                  \n",
            " max_pooling2d_2 (MaxPooling2D)  (None, 32, 32, 256)  0          ['conv2d_5[0][0]']               \n",
            "                                                                                                  \n",
            " conv2d_6 (Conv2D)              (None, 32, 32, 512)  1180160     ['max_pooling2d_2[0][0]']        \n",
            "                                                                                                  \n",
            " conv2d_7 (Conv2D)              (None, 32, 32, 512)  2359808     ['conv2d_6[0][0]']               \n",
            "                                                                                                  \n",
            " up_sampling2d (UpSampling2D)   (None, 64, 64, 512)  0           ['conv2d_7[0][0]']               \n",
            "                                                                                                  \n",
            " concatenate (Concatenate)      (None, 64, 64, 768)  0           ['up_sampling2d[0][0]',          \n",
            "                                                                  'conv2d_5[0][0]']               \n",
            "                                                                                                  \n",
            " conv2d_8 (Conv2D)              (None, 64, 64, 256)  1769728     ['concatenate[0][0]']            \n",
            "                                                                                                  \n",
            " conv2d_9 (Conv2D)              (None, 64, 64, 256)  590080      ['conv2d_8[0][0]']               \n",
            "                                                                                                  \n",
            " up_sampling2d_1 (UpSampling2D)  (None, 128, 128, 25  0          ['conv2d_9[0][0]']               \n",
            "                                6)                                                                \n",
            "                                                                                                  \n",
            " concatenate_1 (Concatenate)    (None, 128, 128, 38  0           ['up_sampling2d_1[0][0]',        \n",
            "                                4)                                'conv2d_3[0][0]']               \n",
            "                                                                                                  \n",
            " conv2d_10 (Conv2D)             (None, 128, 128, 12  442496      ['concatenate_1[0][0]']          \n",
            "                                8)                                                                \n",
            "                                                                                                  \n",
            " conv2d_11 (Conv2D)             (None, 128, 128, 12  147584      ['conv2d_10[0][0]']              \n",
            "                                8)                                                                \n",
            "                                                                                                  \n",
            " up_sampling2d_2 (UpSampling2D)  (None, 256, 256, 12  0          ['conv2d_11[0][0]']              \n",
            "                                8)                                                                \n",
            "                                                                                                  \n",
            " concatenate_2 (Concatenate)    (None, 256, 256, 19  0           ['up_sampling2d_2[0][0]',        \n",
            "                                2)                                'conv2d_1[0][0]']               \n",
            "                                                                                                  \n",
            " conv2d_12 (Conv2D)             (None, 256, 256, 64  110656      ['concatenate_2[0][0]']          \n",
            "                                )                                                                 \n",
            "                                                                                                  \n",
            " conv2d_13 (Conv2D)             (None, 256, 256, 64  36928       ['conv2d_12[0][0]']              \n",
            "                                )                                                                 \n",
            "                                                                                                  \n",
            " conv2d_14 (Conv2D)             (None, 256, 256, 3)  195         ['conv2d_13[0][0]']              \n",
            "                                                                                                  \n",
            "==================================================================================================\n",
            "Total params: 7,784,195\n",
            "Trainable params: 7,784,195\n",
            "Non-trainable params: 0\n",
            "__________________________________________________________________________________________________\n"
          ]
        }
      ],
      "source": [
        "model = unet_2d(input_shape=(256, 256, 5), num_classes=3)\n",
        "model.summary()"
      ]
    },
    {
      "cell_type": "markdown",
      "metadata": {
        "id": "SNU7hCCO3pmJ"
      },
      "source": [
        "### 5. Execute trainings + saving results"
      ]
    },
    {
      "cell_type": "code",
      "execution_count": 7,
      "metadata": {
        "id": "XS0Enf4r3pmJ"
      },
      "outputs": [],
      "source": [
        "tile_size = 256\n",
        "step_size = 200\n",
        "experiment = 'experiment_1'\n",
        "training_dates = '2022_06_20'\n",
        "validation_dates = '2022_07_10'\n",
        "testing_dates = '2022_07_25'\n",
        "all_metrics_test = []\n",
        "all_metrics_val = []\n",
        "all_metrics_train = []"
      ]
    },
    {
      "cell_type": "code",
      "execution_count": 8,
      "metadata": {
        "colab": {
          "base_uri": "https://localhost:8080/",
          "height": 1000
        },
        "id": "-LivyZCu3pmJ",
        "outputId": "eebf758a-38a0-4462-e631-956f45b8d719"
      },
      "outputs": [
        {
          "output_type": "stream",
          "name": "stdout",
          "text": [
            "Start: 2023-04-03 22:39:17.378765\n",
            "Start training number 0\n",
            "Epoch 1/100\n",
            "40/40 [==============================] - 42s 415ms/step - loss: 0.5176 - accuracy: 0.8350 - val_loss: 35.0789 - val_accuracy: 0.9527\n",
            "Epoch 2/100\n",
            "40/40 [==============================] - 10s 251ms/step - loss: 0.1119 - accuracy: 0.9659 - val_loss: 22.8870 - val_accuracy: 0.9667\n",
            "Epoch 3/100\n",
            "40/40 [==============================] - 10s 249ms/step - loss: 0.0892 - accuracy: 0.9716 - val_loss: 14.5426 - val_accuracy: 0.9726\n",
            "Epoch 4/100\n",
            "40/40 [==============================] - 10s 250ms/step - loss: 0.0756 - accuracy: 0.9733 - val_loss: 13.6730 - val_accuracy: 0.9748\n",
            "Epoch 5/100\n",
            "40/40 [==============================] - 10s 250ms/step - loss: 0.0671 - accuracy: 0.9756 - val_loss: 9.5149 - val_accuracy: 0.9769\n",
            "Epoch 6/100\n",
            "40/40 [==============================] - 10s 248ms/step - loss: 0.0616 - accuracy: 0.9770 - val_loss: 6.5805 - val_accuracy: 0.9794\n",
            "Epoch 7/100\n",
            "40/40 [==============================] - 10s 249ms/step - loss: 0.0596 - accuracy: 0.9773 - val_loss: 6.5559 - val_accuracy: 0.9791\n",
            "Epoch 8/100\n",
            "40/40 [==============================] - 10s 250ms/step - loss: 0.0544 - accuracy: 0.9792 - val_loss: 7.9839 - val_accuracy: 0.9808\n",
            "Epoch 9/100\n",
            "40/40 [==============================] - 10s 250ms/step - loss: 0.0496 - accuracy: 0.9811 - val_loss: 5.3204 - val_accuracy: 0.9833\n",
            "Epoch 10/100\n",
            "40/40 [==============================] - 10s 251ms/step - loss: 0.0482 - accuracy: 0.9818 - val_loss: 5.6005 - val_accuracy: 0.9806\n",
            "Epoch 11/100\n",
            "40/40 [==============================] - 10s 250ms/step - loss: 0.0537 - accuracy: 0.9797 - val_loss: 4.5987 - val_accuracy: 0.9838\n",
            "Epoch 12/100\n",
            "40/40 [==============================] - 10s 250ms/step - loss: 0.0457 - accuracy: 0.9823 - val_loss: 5.4971 - val_accuracy: 0.9827\n",
            "Epoch 13/100\n",
            "40/40 [==============================] - 10s 250ms/step - loss: 0.0441 - accuracy: 0.9827 - val_loss: 6.6882 - val_accuracy: 0.9827\n",
            "Epoch 14/100\n",
            "40/40 [==============================] - 10s 251ms/step - loss: 0.0423 - accuracy: 0.9839 - val_loss: 8.2520 - val_accuracy: 0.9699\n",
            "Epoch 15/100\n",
            "40/40 [==============================] - 10s 249ms/step - loss: 0.0408 - accuracy: 0.9844 - val_loss: 3.3755 - val_accuracy: 0.9825\n",
            "Epoch 16/100\n",
            "40/40 [==============================] - 10s 250ms/step - loss: 0.0376 - accuracy: 0.9855 - val_loss: 4.3432 - val_accuracy: 0.9848\n",
            "Epoch 17/100\n",
            "40/40 [==============================] - 10s 249ms/step - loss: 0.0388 - accuracy: 0.9852 - val_loss: 3.5408 - val_accuracy: 0.9814\n",
            "Epoch 18/100\n",
            "40/40 [==============================] - 10s 250ms/step - loss: 0.0531 - accuracy: 0.9818 - val_loss: 23.0536 - val_accuracy: 0.9649\n",
            "Epoch 19/100\n",
            "40/40 [==============================] - 10s 251ms/step - loss: 0.1861 - accuracy: 0.9365 - val_loss: 11.2454 - val_accuracy: 0.9663\n",
            "Epoch 20/100\n",
            "40/40 [==============================] - 10s 249ms/step - loss: 0.1372 - accuracy: 0.9628 - val_loss: 13.4111 - val_accuracy: 0.9716\n",
            "Epoch 21/100\n",
            "40/40 [==============================] - 10s 250ms/step - loss: 0.0767 - accuracy: 0.9743 - val_loss: 8.8949 - val_accuracy: 0.9761\n",
            "training completed\n",
            "saving model completed\n",
            "saving history completed\n",
            "40/40 [==============================] - 3s 67ms/step\n",
            "42/42 [==============================] - 3s 67ms/step\n",
            "40/40 [==============================] - 3s 88ms/step\n",
            "prediction completed\n"
          ]
        },
        {
          "output_type": "error",
          "ename": "TypeError",
          "evalue": "ignored",
          "traceback": [
            "\u001b[0;31m---------------------------------------------------------------------------\u001b[0m",
            "\u001b[0;31mTypeError\u001b[0m                                 Traceback (most recent call last)",
            "\u001b[0;32m<ipython-input-8-cfca6c5a9bd2>\u001b[0m in \u001b[0;36m<cell line: 37>\u001b[0;34m()\u001b[0m\n\u001b[1;32m     35\u001b[0m       \u001b[0mall_metrics_train\u001b[0m\u001b[0;34m.\u001b[0m\u001b[0mappend\u001b[0m\u001b[0;34m(\u001b[0m\u001b[0mmetrics_dict\u001b[0m\u001b[0;34m[\u001b[0m\u001b[0;34m'metrics_train'\u001b[0m\u001b[0;34m]\u001b[0m\u001b[0;34m)\u001b[0m\u001b[0;34m\u001b[0m\u001b[0;34m\u001b[0m\u001b[0m\n\u001b[1;32m     36\u001b[0m       \u001b[0mprint\u001b[0m\u001b[0;34m(\u001b[0m\u001b[0;34mf'End: {datetime.now()}'\u001b[0m\u001b[0;34m)\u001b[0m\u001b[0;34m\u001b[0m\u001b[0;34m\u001b[0m\u001b[0m\n\u001b[0;32m---> 37\u001b[0;31m \u001b[0mexecute_multiple_trainings\u001b[0m\u001b[0;34m(\u001b[0m\u001b[0;36m1\u001b[0m\u001b[0;34m)\u001b[0m\u001b[0;34m\u001b[0m\u001b[0;34m\u001b[0m\u001b[0m\n\u001b[0m",
            "\u001b[0;32m<ipython-input-8-cfca6c5a9bd2>\u001b[0m in \u001b[0;36mexecute_multiple_trainings\u001b[0;34m(num_of_executions)\u001b[0m\n\u001b[1;32m     25\u001b[0m \u001b[0;34m\u001b[0m\u001b[0m\n\u001b[1;32m     26\u001b[0m       \u001b[0;31m# Evaluate predictions\u001b[0m\u001b[0;34m\u001b[0m\u001b[0;34m\u001b[0m\u001b[0m\n\u001b[0;32m---> 27\u001b[0;31m       \u001b[0mmetrics_dict\u001b[0m \u001b[0;34m=\u001b[0m \u001b[0mevaluate_predictions\u001b[0m\u001b[0;34m(\u001b[0m\u001b[0mx_train\u001b[0m\u001b[0;34m,\u001b[0m \u001b[0mx_val\u001b[0m\u001b[0;34m,\u001b[0m \u001b[0mx_test\u001b[0m\u001b[0;34m,\u001b[0m \u001b[0my_train\u001b[0m\u001b[0;34m,\u001b[0m \u001b[0my_val\u001b[0m\u001b[0;34m,\u001b[0m \u001b[0my_test\u001b[0m\u001b[0;34m,\u001b[0m \u001b[0mpred_train\u001b[0m\u001b[0;34m,\u001b[0m \u001b[0mpred_val\u001b[0m\u001b[0;34m,\u001b[0m \u001b[0mpred_test\u001b[0m\u001b[0;34m,\u001b[0m \u001b[0mtraining_dates\u001b[0m\u001b[0;34m,\u001b[0m \u001b[0mvalidation_dates\u001b[0m\u001b[0;34m,\u001b[0m \u001b[0mtesting_dates\u001b[0m\u001b[0;34m,\u001b[0m \u001b[0mtile_size\u001b[0m\u001b[0;34m,\u001b[0m \u001b[0mstep_size\u001b[0m\u001b[0;34m,\u001b[0m \u001b[0mcount\u001b[0m\u001b[0;34m)\u001b[0m\u001b[0;34m\u001b[0m\u001b[0;34m\u001b[0m\u001b[0m\n\u001b[0m\u001b[1;32m     28\u001b[0m       \u001b[0mprint\u001b[0m\u001b[0;34m(\u001b[0m\u001b[0;34m'evaluation completed'\u001b[0m\u001b[0;34m)\u001b[0m\u001b[0;34m\u001b[0m\u001b[0;34m\u001b[0m\u001b[0m\n\u001b[1;32m     29\u001b[0m \u001b[0;34m\u001b[0m\u001b[0m\n",
            "\u001b[0;32m/content/drive/.shortcut-targets-by-id/15HUD3sGdfvxy5Y_bjvuXgrzwxt7TzRfm/MachineLearning/Geospatial_ML/models/helpers.py\u001b[0m in \u001b[0;36mevaluate_predictions\u001b[0;34m(x_train, x_val, x_test, y_train, y_val, y_test, pred_train, pred_val, pred_test, training_dates, validation_dates, testing_dates, tile_size, step_size, count)\u001b[0m\n\u001b[1;32m     46\u001b[0m def evaluate_predictions(x_train, x_val, x_test, y_train, y_val, y_test, pred_train, pred_val, pred_test,\n\u001b[1;32m     47\u001b[0m                          training_dates, validation_dates, testing_dates, tile_size, step_size, count):\n\u001b[0;32m---> 48\u001b[0;31m     metrics_train = EvaluationMetrics(x_train, x_val, x_test, y_train, y_val, y_train, pred_train, training_dates,\n\u001b[0m\u001b[1;32m     49\u001b[0m                                       validation_dates, testing_dates, tile_size, step_size, count)\n\u001b[1;32m     50\u001b[0m     metrics_val = EvaluationMetrics(x_train, x_val, x_test, y_train, y_val, y_val, pred_val, training_dates,\n",
            "\u001b[0;31mTypeError\u001b[0m: __init__() missing 1 required positional argument: 'run_count'"
          ]
        }
      ],
      "source": [
        "def execute_multiple_trainings(num_of_executions):\n",
        "  print(f'Start: {datetime.now()}')\n",
        "  for count in range(0, num_of_executions):\n",
        "      model = define_model((256, 256, 5), 3)\n",
        "      print(f'Start training number {count}')\n",
        "      \n",
        "      # Train model\n",
        "      history = train_model(model, x_train, y_train, x_val, y_val, epochs=1)\n",
        "      print('training completed')\n",
        "      \n",
        "      # Save model\n",
        "      model_name = f'{tile_size}_{step_size}_run_{count}'\n",
        "      model.save(f'../models/{experiment}/model_{model_name}.h5')\n",
        "      print('saving model completed')\n",
        "      \n",
        "      # Save model history\n",
        "      save_model_history(history, model_name, f'../models/{experiment}')\n",
        "      print('saving history completed')\n",
        "      \n",
        "      # Predict \n",
        "      pred_train, pred_val, pred_test = make_predictions(model, x_train, x_val, x_test)\n",
        "      print('prediction completed')\n",
        "\n",
        "\n",
        "      metrics_train = EvaluationMetrics(y_train, pred_train, train_physical)\n",
        "      metrics_val = EvaluationMetrics(y_val, pred_val, val_physical)\n",
        "      metrics_test = EvaluationMetrics(y_test, pred_test, test_physical)\n",
        "      \n",
        "      print('metrics calculated')\n",
        "      \n",
        "      # Save metrics\n",
        "      save_metrics(metrics_train, metrics_val, metrics_test, saving_path, f'../metrics/{experiment}')\n",
        "\n",
        "      print('saving metrics completed')\n",
        "  \n",
        "      print(f'Run {count} completed: {datetime.now()}')\n",
        "    print(f'End: {datetime.now()}')\n",
        "execute_multiple_trainings(1)\n",
        "\n",
        "# executed with premium gpu and high ram => 13,08 computing units per hour, took"
      ]
    },
    {
      "cell_type": "markdown",
      "metadata": {
        "id": "d9x4Evix3pmK"
      },
      "source": [
        "### 6. Results"
      ]
    },
    {
      "cell_type": "code",
      "execution_count": null,
      "metadata": {
        "id": "m9xRWueZ3pmL"
      },
      "outputs": [],
      "source": [
        "# load all 10 results\n",
        "for idx, metric in enumerate(all_metrics_test):\n",
        "  print(f'========= RUN {idx + 1} ============')\n",
        "  print(f'TEST DATA')\n",
        "  metric.print_metrics()\n",
        "  print()\n",
        "  print(f'VALIDATION DATA')\n",
        "  all_metrics_val[idx].print_metrics()\n",
        "  print(f'TRAINING DATA')\n",
        "  all_metrics_train[idx].print_metrics()\n",
        "  print()\n",
        "  print()"
      ]
    },
    {
      "cell_type": "code",
      "execution_count": null,
      "metadata": {
        "id": "iS7KBmKA3pmL"
      },
      "outputs": [],
      "source": [
        "print('============ TEST DATA ===================')\n",
        "get_mean_jaccard(all_metrics_test)\n",
        "print()\n",
        "\n",
        "print('============ VALIDATION DATA ===================')\n",
        "get_mean_jaccard(all_metrics_val)\n",
        "print()\n",
        "\n",
        "print('============ TRAINING DATA ===================')\n",
        "get_mean_jaccard(all_metrics_train)\n",
        "print()"
      ]
    }
  ],
  "metadata": {
    "kernelspec": {
      "display_name": "geospacial",
      "language": "python",
      "name": "python3"
    },
    "language_info": {
      "codemirror_mode": {
        "name": "ipython",
        "version": 3
      },
      "file_extension": ".py",
      "mimetype": "text/x-python",
      "name": "python",
      "nbconvert_exporter": "python",
      "pygments_lexer": "ipython3",
      "version": "3.10.9"
    },
    "orig_nbformat": 4,
    "colab": {
      "provenance": []
    },
    "gpuClass": "premium"
  },
  "nbformat": 4,
  "nbformat_minor": 0
}