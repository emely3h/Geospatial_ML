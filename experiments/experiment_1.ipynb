{
  "cells": [
    {
      "cell_type": "markdown",
      "metadata": {
        "id": "97pm4Voa3pl_"
      },
      "source": [
        "# U-Net Experiement 1: Exploring variance/ randomness"
      ]
    },
    {
      "cell_type": "markdown",
      "metadata": {
        "id": "llC9zLM_3pmB"
      },
      "source": [
        "When running the exact same model with the exact same dataset we get slightly different results each time due to randomness and variability involved in the training process.\n",
        "the variance refers to \n",
        "The goal of this notebook is to evaluate the variability in the results obtained from different training runs on the same dataset We will use the exact same setup and dataset as in the unet notebook and execute 10 training runs."
      ]
    },
    {
      "cell_type": "markdown",
      "source": [
        "### 0. Setup"
      ],
      "metadata": {
        "id": "5bKX9s1EqoMG"
      }
    },
    {
      "cell_type": "code",
      "execution_count": 1,
      "metadata": {
        "colab": {
          "base_uri": "https://localhost:8080/"
        },
        "id": "4gi0LkgZ3pmE",
        "outputId": "fc182a42-f29c-4027-eaac-494581dc18d2"
      },
      "outputs": [
        {
          "output_type": "stream",
          "name": "stdout",
          "text": [
            "Mounted at /content/drive\n",
            "drive  sample_data\n"
          ]
        }
      ],
      "source": [
        "from google.colab import drive\n",
        "drive.mount('/content/drive')\n",
        "! ls"
      ]
    },
    {
      "cell_type": "code",
      "source": [
        "%cd drive/MyDrive/MachineLearning/\n",
        "#! git clone https://github.com/emely3h/Geospatial_ML.git\n",
        "%cd Geospatial_ML\n",
        "\n",
        "#! git checkout feature/rerun-experiment-1-2\n",
        "! ls"
      ],
      "metadata": {
        "colab": {
          "base_uri": "https://localhost:8080/"
        },
        "id": "GbNn0pCX4DZP",
        "outputId": "dbbe2707-adb9-4868-b29c-c57571c7840e"
      },
      "execution_count": 2,
      "outputs": [
        {
          "output_type": "stream",
          "name": "stdout",
          "text": [
            "/content/drive/.shortcut-targets-by-id/15HUD3sGdfvxy5Y_bjvuXgrzwxt7TzRfm/MachineLearning\n",
            "/content/drive/.shortcut-targets-by-id/15HUD3sGdfvxy5Y_bjvuXgrzwxt7TzRfm/MachineLearning/Geospatial_ML\n",
            "architecture.drawio  evaluation   models\tREADME.md\n",
            "data_exploration     experiments  prepare_data\trequirements.txt\n"
          ]
        }
      ]
    },
    {
      "cell_type": "code",
      "source": [
        "! git pull"
      ],
      "metadata": {
        "id": "m1Mus4rGm-bj",
        "outputId": "a6faffac-4788-426b-945f-f7ac5e4afa19",
        "colab": {
          "base_uri": "https://localhost:8080/"
        }
      },
      "execution_count": 3,
      "outputs": [
        {
          "output_type": "stream",
          "name": "stdout",
          "text": [
            "Already up to date.\n"
          ]
        }
      ]
    },
    {
      "cell_type": "code",
      "source": [
        "from models.helpers import normalizing_encoding, define_model, train_model, save_model_history, make_predictions, save_metrics\n",
        "import numpy as np\n",
        "import os\n",
        "from tensorflow.keras.utils import to_categorical\n",
        "from models.unet_model import unet_2d\n",
        "from models.helpers import get_mean_jaccard\n",
        "from datetime import datetime\n",
        "from prepare_data.create_mask import create_physical_mask\n",
        "from evaluation.evaluation_metrics import EvaluationMetrics\n",
        "import pickle\n",
        "import tensorflow as tf\n",
        "import matplotlib as plt"
      ],
      "metadata": {
        "id": "_ue0lf8C4VU6"
      },
      "execution_count": 3,
      "outputs": []
    },
    {
      "cell_type": "markdown",
      "metadata": {
        "id": "UekbrU7w3pmD"
      },
      "source": [
        "### 1. Loading + Preparing Data"
      ]
    },
    {
      "cell_type": "code",
      "execution_count": 4,
      "metadata": {
        "colab": {
          "base_uri": "https://localhost:8080/"
        },
        "id": "gEnvKA7G3pmE",
        "outputId": "1e94d057-d6c3-4418-9853-1c29492c6c8d"
      },
      "outputs": [
        {
          "output_type": "stream",
          "name": "stdout",
          "text": [
            "(1251, 256, 256)\n",
            "(1251, 256, 256, 5)\n",
            "(1323, 256, 256)\n",
            "(1323, 256, 256, 5)\n",
            "(1258, 256, 256)\n",
            "(1258, 256, 256, 5)\n"
          ]
        }
      ],
      "source": [
        "root = \"../data_colab/256_200/\"\n",
        "\n",
        "y_train  = np.load(os.path.join(root,'2022_06_20.npz'))['y_mask']\n",
        "x_train  = np.load(os.path.join(root,'2022_06_20.npz'))['x_input']\n",
        "\n",
        "y_val = np.load(os.path.join(root,'2022_07_10.npz'))['y_mask']\n",
        "x_val = np.load(os.path.join(root,'2022_07_10.npz'))['x_input']\n",
        "\n",
        "y_test = np.load(os.path.join(root, '2022_07_25.npz'))['y_mask']\n",
        "x_test = np.load(os.path.join(root, '2022_07_25.npz'))['x_input']\n",
        "\n",
        "print(y_train.shape)\n",
        "print(x_train.shape)\n",
        "\n",
        "print(y_val.shape)\n",
        "print(x_val.shape)\n",
        "\n",
        "print(y_test.shape)\n",
        "print(x_test.shape)"
      ]
    },
    {
      "cell_type": "code",
      "source": [
        "# Get physical prediction\n",
        "train_physical = create_physical_mask(x_train)\n",
        "val_physical = create_physical_mask(x_val)\n",
        "test_physical = create_physical_mask(x_test)\n",
        "\n",
        "print(train_physical.shape)\n",
        "print(val_physical.shape)\n",
        "print(test_physical.shape)"
      ],
      "metadata": {
        "id": "k8C82zamdtNV",
        "outputId": "2eb85c71-43a1-4fa5-dae3-24eeb8c11cd8",
        "colab": {
          "base_uri": "https://localhost:8080/"
        }
      },
      "execution_count": 5,
      "outputs": [
        {
          "output_type": "stream",
          "name": "stdout",
          "text": [
            "(1251, 256, 256, 3)\n",
            "(1323, 256, 256, 3)\n",
            "(1258, 256, 256, 3)\n"
          ]
        }
      ]
    },
    {
      "cell_type": "markdown",
      "metadata": {
        "id": "EvOiwDhD3pmH"
      },
      "source": [
        "### 3. Normalizing + Encoding"
      ]
    },
    {
      "cell_type": "code",
      "execution_count": 6,
      "metadata": {
        "colab": {
          "base_uri": "https://localhost:8080/"
        },
        "id": "r3FTd_QT3pmH",
        "outputId": "53c24808-671e-4559-bea3-82ffb5993ca4"
      },
      "outputs": [
        {
          "output_type": "stream",
          "name": "stdout",
          "text": [
            "y shape:  (1251, 256, 256)\n",
            "Normalizing data...\n",
            "y one hot shape:  (1251, 256, 256, 3)\n",
            "y shape:  (1323, 256, 256)\n",
            "Normalizing data...\n",
            "y one hot shape:  (1323, 256, 256, 3)\n",
            "y shape:  (1258, 256, 256)\n",
            "Normalizing data...\n",
            "y one hot shape:  (1258, 256, 256, 3)\n"
          ]
        }
      ],
      "source": [
        "x_train, y_train = normalizing_encoding(x_train, y_train)\n",
        "X_val, y_val = normalizing_encoding(x_val, y_val)\n",
        "x_test, y_test = normalizing_encoding(x_test, y_test)"
      ]
    },
    {
      "cell_type": "markdown",
      "metadata": {
        "id": "aV_DySrP3pmI"
      },
      "source": [
        "### 4. Model summary"
      ]
    },
    {
      "cell_type": "code",
      "execution_count": 7,
      "metadata": {
        "colab": {
          "base_uri": "https://localhost:8080/"
        },
        "id": "Dr7hgga-3pmI",
        "outputId": "63d98438-ecb4-41c1-b99b-aae7c5cb543e"
      },
      "outputs": [
        {
          "output_type": "stream",
          "name": "stdout",
          "text": [
            "Model: \"model\"\n",
            "__________________________________________________________________________________________________\n",
            " Layer (type)                   Output Shape         Param #     Connected to                     \n",
            "==================================================================================================\n",
            " input_1 (InputLayer)           [(None, 256, 256, 5  0           []                               \n",
            "                                )]                                                                \n",
            "                                                                                                  \n",
            " conv2d (Conv2D)                (None, 256, 256, 64  2944        ['input_1[0][0]']                \n",
            "                                )                                                                 \n",
            "                                                                                                  \n",
            " conv2d_1 (Conv2D)              (None, 256, 256, 64  36928       ['conv2d[0][0]']                 \n",
            "                                )                                                                 \n",
            "                                                                                                  \n",
            " max_pooling2d (MaxPooling2D)   (None, 128, 128, 64  0           ['conv2d_1[0][0]']               \n",
            "                                )                                                                 \n",
            "                                                                                                  \n",
            " conv2d_2 (Conv2D)              (None, 128, 128, 12  73856       ['max_pooling2d[0][0]']          \n",
            "                                8)                                                                \n",
            "                                                                                                  \n",
            " conv2d_3 (Conv2D)              (None, 128, 128, 12  147584      ['conv2d_2[0][0]']               \n",
            "                                8)                                                                \n",
            "                                                                                                  \n",
            " max_pooling2d_1 (MaxPooling2D)  (None, 64, 64, 128)  0          ['conv2d_3[0][0]']               \n",
            "                                                                                                  \n",
            " conv2d_4 (Conv2D)              (None, 64, 64, 256)  295168      ['max_pooling2d_1[0][0]']        \n",
            "                                                                                                  \n",
            " conv2d_5 (Conv2D)              (None, 64, 64, 256)  590080      ['conv2d_4[0][0]']               \n",
            "                                                                                                  \n",
            " max_pooling2d_2 (MaxPooling2D)  (None, 32, 32, 256)  0          ['conv2d_5[0][0]']               \n",
            "                                                                                                  \n",
            " conv2d_6 (Conv2D)              (None, 32, 32, 512)  1180160     ['max_pooling2d_2[0][0]']        \n",
            "                                                                                                  \n",
            " conv2d_7 (Conv2D)              (None, 32, 32, 512)  2359808     ['conv2d_6[0][0]']               \n",
            "                                                                                                  \n",
            " up_sampling2d (UpSampling2D)   (None, 64, 64, 512)  0           ['conv2d_7[0][0]']               \n",
            "                                                                                                  \n",
            " concatenate (Concatenate)      (None, 64, 64, 768)  0           ['up_sampling2d[0][0]',          \n",
            "                                                                  'conv2d_5[0][0]']               \n",
            "                                                                                                  \n",
            " conv2d_8 (Conv2D)              (None, 64, 64, 256)  1769728     ['concatenate[0][0]']            \n",
            "                                                                                                  \n",
            " conv2d_9 (Conv2D)              (None, 64, 64, 256)  590080      ['conv2d_8[0][0]']               \n",
            "                                                                                                  \n",
            " up_sampling2d_1 (UpSampling2D)  (None, 128, 128, 25  0          ['conv2d_9[0][0]']               \n",
            "                                6)                                                                \n",
            "                                                                                                  \n",
            " concatenate_1 (Concatenate)    (None, 128, 128, 38  0           ['up_sampling2d_1[0][0]',        \n",
            "                                4)                                'conv2d_3[0][0]']               \n",
            "                                                                                                  \n",
            " conv2d_10 (Conv2D)             (None, 128, 128, 12  442496      ['concatenate_1[0][0]']          \n",
            "                                8)                                                                \n",
            "                                                                                                  \n",
            " conv2d_11 (Conv2D)             (None, 128, 128, 12  147584      ['conv2d_10[0][0]']              \n",
            "                                8)                                                                \n",
            "                                                                                                  \n",
            " up_sampling2d_2 (UpSampling2D)  (None, 256, 256, 12  0          ['conv2d_11[0][0]']              \n",
            "                                8)                                                                \n",
            "                                                                                                  \n",
            " concatenate_2 (Concatenate)    (None, 256, 256, 19  0           ['up_sampling2d_2[0][0]',        \n",
            "                                2)                                'conv2d_1[0][0]']               \n",
            "                                                                                                  \n",
            " conv2d_12 (Conv2D)             (None, 256, 256, 64  110656      ['concatenate_2[0][0]']          \n",
            "                                )                                                                 \n",
            "                                                                                                  \n",
            " conv2d_13 (Conv2D)             (None, 256, 256, 64  36928       ['conv2d_12[0][0]']              \n",
            "                                )                                                                 \n",
            "                                                                                                  \n",
            " conv2d_14 (Conv2D)             (None, 256, 256, 3)  195         ['conv2d_13[0][0]']              \n",
            "                                                                                                  \n",
            "==================================================================================================\n",
            "Total params: 7,784,195\n",
            "Trainable params: 7,784,195\n",
            "Non-trainable params: 0\n",
            "__________________________________________________________________________________________________\n"
          ]
        }
      ],
      "source": [
        "model = unet_2d(input_shape=(256, 256, 5), num_classes=3)\n",
        "model.summary()"
      ]
    },
    {
      "cell_type": "markdown",
      "source": [
        "### sync problem\n",
        "Error: trying to devide by 0 during calculating precision metric"
      ],
      "metadata": {
        "id": "ZU74RAP35Cpq"
      }
    },
    {
      "cell_type": "code",
      "source": [
        "import numpy as np\n",
        "from tensorflow import keras\n",
        "import pickle\n",
        "\n",
        "\n",
        "class EvaluationMetrics:\n",
        "    \"\"\"\n",
        "        This class calculates and summarizes evaluation metrics based on the predicted and true labels.\n",
        "    \"\"\"\n",
        "\n",
        "    def __init__(self, y_true, y_pred, y_physical):\n",
        "\n",
        "        self.jaccard = self.jaccard_coef(y_true, y_pred)\n",
        "        self.jaccard_physical =self.jaccard_coef(y_true, y_physical)\n",
        "\n",
        "        print('conf matrix land')\n",
        "        self.conf_matrix_land = self.confusion_matrix(y_true, y_pred, 2)\n",
        "        print('conf matrix valid')\n",
        "        self.conf_matrix_valid = self.confusion_matrix(y_true, y_pred, 1)\n",
        "        print('conf matrix invalid')\n",
        "        self.conf_matrix_invalid = self.confusion_matrix(y_true, y_pred, 0)\n",
        "\n",
        "        print('precision land')\n",
        "        self.precision_land = self.precision(self.conf_matrix_land)\n",
        "        self.sensitivity_recall_land = self.sensitivity_recall(self.conf_matrix_land)\n",
        "        self.specificy_land = self.specificy(self.conf_matrix_land)\n",
        "        print('precision valid')\n",
        "        self.precision_valid = self.precision(self.conf_matrix_valid)\n",
        "        self.sensitivity_recall_valid = self.sensitivity_recall(self.conf_matrix_valid)\n",
        "        self.specificy_valid = self.specificy(self.conf_matrix_valid)\n",
        "        print('precision invalid')\n",
        "        self.precision_invalid = self.precision(self.conf_matrix_invalid)\n",
        "        self.sensitivity_recall_invalid = self.sensitivity_recall(self.conf_matrix_invalid)\n",
        "        self.specificy_invalid = self.specificy(self.conf_matrix_invalid)\n",
        "\n",
        "        self.f1_land = self.f1_scores(self.conf_matrix_land)\n",
        "        self.f1_invalid = self.f1_scores(self.conf_matrix_invalid)\n",
        "        self.f1_valid = self.f1_scores(self.conf_matrix_valid)\n",
        "\n",
        "    def jaccard_coef(self, y_true, y_pred):\n",
        "        y_true_f = keras.backend.flatten(y_true)\n",
        "        y_pred_f = keras.backend.flatten(y_pred)\n",
        "\n",
        "        intersection = keras.backend.sum(y_true_f * y_pred_f)\n",
        "        return (intersection + 1.0) / (\n",
        "                keras.backend.sum(y_true_f) + keras.backend.sum(y_pred_f) - intersection + 1.0\n",
        "        )  # todo reason for +1?\n",
        "\n",
        "    def jaccard_rounding_issue(self, y_true, y_pred):\n",
        "        # revert one hot encoding => binary tensor [0, 0, 1] back to label [2] (3D array to 2D array)\n",
        "        label_map_true = np.argmax(y_true, axis=-1)\n",
        "        label_map_pred = np.argmax(y_pred, axis=-1)\n",
        "        # convert 2D array into 1D array\n",
        "        flatten_true = np.reshape(label_map_true, (-1,))\n",
        "        flatten_pred = np.reshape(label_map_pred, (-1,))\n",
        "        # one hot encoding\n",
        "        one_hot_true = np.eye(3)[flatten_true]\n",
        "        one_hot_pred = np.eye(3)[flatten_pred]\n",
        "        # calculate intersection (A geschnitten B)\n",
        "        intersection = np.sum(one_hot_true * one_hot_pred)\n",
        "        # calculate union (a u B, A vereint B)\n",
        "        union = len(one_hot_true) + len(one_hot_pred) - intersection\n",
        "        # return jaccard coefficient\n",
        "        return (intersection + 1) / (union + 1)\n",
        "\n",
        "    def confusion_matrix(self, y_true, y_pred, label):\n",
        "        true_positives = 0\n",
        "        false_positives = 0\n",
        "        true_negatives = 0\n",
        "        false_negatives = 0\n",
        "\n",
        "        # revert one hot encoding => binary tensor [0, 0, 1] back to label [2] (3D array to 2D array)\n",
        "        label_map_true = np.argmax(y_true, axis=-1)\n",
        "        label_map_pred = np.argmax(y_pred, axis=-1)\n",
        "        # convert 2D array into 1D array\n",
        "        flatten_true = np.reshape(label_map_true, (-1,))\n",
        "        flatten_pred = np.reshape(label_map_pred, (-1,))\n",
        "\n",
        "        tp_mask = (flatten_true == flatten_pred) & (flatten_true == label)\n",
        "        true_positives = np.count_nonzero(tp_mask)\n",
        "\n",
        "        fn_mask = (flatten_true == label) & (flatten_pred != label)\n",
        "        false_negatives = np.count_nonzero(fn_mask)\n",
        "\n",
        "        fp_mask = (flatten_true != label) & (flatten_pred == label)\n",
        "        false_positives = np.count_nonzero(fp_mask)\n",
        "\n",
        "        tn_mask = (flatten_true != label) & (flatten_pred != label)\n",
        "        true_negatives = np.count_nonzero(tn_mask)\n",
        "        print(f'print confusion matrix \\n true_positives: {true_positives}, false_positives: {false_positives}, true_negatives: {true_negatives}, false_negatives: {false_negatives}')\n",
        "        return {\n",
        "            'true_positives': true_positives,\n",
        "            'false_positives': false_positives,\n",
        "            'true_negatives': true_negatives,\n",
        "            'false_negatives': false_negatives\n",
        "        }\n",
        "\n",
        "    def precision(self, conf_matrix):\n",
        "        print(f\"entered precision: {conf_matrix['true_positives']} {(conf_matrix['true_positives'])} {conf_matrix['false_positives']}\")\n",
        "        return conf_matrix['true_positives'] / (conf_matrix['true_positives'] + conf_matrix['false_positives'])\n",
        "\n",
        "    def sensitivity_recall(self, conf_matrix):\n",
        "        return conf_matrix['true_positives'] / (conf_matrix['true_positives'] + conf_matrix['false_negatives'])\n",
        "\n",
        "    def negative_predictive(self, conf_matrix):\n",
        "        return conf_matrix['true_negatives'] / (conf_matrix['true_negatives'] + conf_matrix['false_negatives'])\n",
        "\n",
        "    def specificy(self, conf_matrix):\n",
        "        return conf_matrix['true_negatives'] / (conf_matrix['true_negatives'] + conf_matrix['false_positives'])\n",
        "\n",
        "    def f1_scores(self, conf_matrix):\n",
        "        prec = self.precision(conf_matrix)\n",
        "        recall = self.sensitivity_recall(conf_matrix)\n",
        "        return 2 * prec * recall / (prec + recall)\n",
        "\n",
        "    def print_metrics(self):\n",
        "        print(f'jaccard index: {self.jaccard} \\n')\n",
        "        print(f'physical jaccard: {self.jaccard_physical} \\n')\n",
        "\n",
        "        print(f'precision_land: {self.precision_land}')\n",
        "        print(f'precision_valid: {self.precision_valid}')\n",
        "        print(f'precision_invalid: {self.precision_invalid} \\n')\n",
        "\n",
        "        print(f'recall_invalid_land: {self.sensitivity_recall_land}')\n",
        "        print(f'recall_invalid_land: {self.sensitivity_recall_valid}')\n",
        "        print(f'recall_invalid_land: {self.sensitivity_recall_invalid} \\n')\n",
        "\n",
        "        print(f'specificy_invalid_land: {self.specificy_land}')\n",
        "        print(f'specificy_invalid_valid: {self.specificy_valid}')\n",
        "        print(f'specificy_invalid_invalid: {self.specificy_invalid} \\n')\n",
        "\n",
        "        print(f'f1_land: {self.f1_land}')\n",
        "        print(f'f1_invalid: {self.f1_invalid}')\n",
        "        print(f'f1_valid: {self.f1_valid}')\n",
        "    # todo add pixel accuracy\n",
        "\n",
        "def save_metrics(metrics_train, metrics_val, metrics_test, saving_path, count):\n",
        "    with open(f'{saving_path}/metrics_test_{count}.pkl', 'wb') as file:\n",
        "        pickle.dump(metrics_train, file)\n",
        "    with open(f'{saving_path}/metrics_val_{count}.pkl', 'wb') as file:\n",
        "        pickle.dump(metrics_val, file)\n",
        "    with open(f'{saving_path}/metrics_train_{count}.pkl', 'wb') as file:\n",
        "        pickle.dump(metrics_test, file)"
      ],
      "metadata": {
        "id": "zWq0sbXM4a6h"
      },
      "execution_count": 6,
      "outputs": []
    },
    {
      "cell_type": "markdown",
      "metadata": {
        "id": "SNU7hCCO3pmJ"
      },
      "source": [
        "### 5. Execute trainings + saving results"
      ]
    },
    {
      "cell_type": "code",
      "execution_count": 9,
      "metadata": {
        "id": "XS0Enf4r3pmJ"
      },
      "outputs": [],
      "source": [
        "tile_size = 256\n",
        "step_size = 200\n",
        "experiment = 'experiment_1'\n",
        "all_metrics_test = []\n",
        "all_metrics_val = []\n",
        "all_metrics_train = []"
      ]
    },
    {
      "cell_type": "code",
      "source": [
        "!nvidia-smi"
      ],
      "metadata": {
        "id": "BWD7FVFamHwT",
        "outputId": "7f6946c6-b71e-41ff-d624-be5f41bbd17f",
        "colab": {
          "base_uri": "https://localhost:8080/"
        }
      },
      "execution_count": 10,
      "outputs": [
        {
          "output_type": "stream",
          "name": "stdout",
          "text": [
            "Tue Apr  4 11:38:02 2023       \n",
            "+-----------------------------------------------------------------------------+\n",
            "| NVIDIA-SMI 525.85.12    Driver Version: 525.85.12    CUDA Version: 12.0     |\n",
            "|-------------------------------+----------------------+----------------------+\n",
            "| GPU  Name        Persistence-M| Bus-Id        Disp.A | Volatile Uncorr. ECC |\n",
            "| Fan  Temp  Perf  Pwr:Usage/Cap|         Memory-Usage | GPU-Util  Compute M. |\n",
            "|                               |                      |               MIG M. |\n",
            "|===============================+======================+======================|\n",
            "|   0  NVIDIA A100-SXM...  Off  | 00000000:00:04.0 Off |                    0 |\n",
            "| N/A   43C    P0    51W / 400W |    753MiB / 40960MiB |      0%      Default |\n",
            "|                               |                      |             Disabled |\n",
            "+-------------------------------+----------------------+----------------------+\n",
            "                                                                               \n",
            "+-----------------------------------------------------------------------------+\n",
            "| Processes:                                                                  |\n",
            "|  GPU   GI   CI        PID   Type   Process name                  GPU Memory |\n",
            "|        ID   ID                                                   Usage      |\n",
            "|=============================================================================|\n",
            "+-----------------------------------------------------------------------------+\n"
          ]
        }
      ]
    },
    {
      "cell_type": "code",
      "execution_count": 12,
      "metadata": {
        "colab": {
          "base_uri": "https://localhost:8080/"
        },
        "id": "-LivyZCu3pmJ",
        "outputId": "d4b81efb-4e69-457e-bfd2-cf685eef5f78"
      },
      "outputs": [
        {
          "output_type": "stream",
          "name": "stdout",
          "text": [
            "Start: 2023-04-04 11:39:44.008651\n",
            "Start training number 0\n",
            "Epoch 1/100\n",
            "40/40 [==============================] - 42s 418ms/step - loss: 1.1997 - accuracy: 0.5090 - val_loss: 60.9759 - val_accuracy: 0.6333\n",
            "Epoch 2/100\n",
            "40/40 [==============================] - 10s 251ms/step - loss: 0.8120 - accuracy: 0.6317 - val_loss: 52.1781 - val_accuracy: 0.7664\n",
            "Epoch 3/100\n",
            "40/40 [==============================] - 10s 251ms/step - loss: 0.8759 - accuracy: 0.5493 - val_loss: 135.1104 - val_accuracy: 0.5106\n",
            "Epoch 4/100\n",
            "40/40 [==============================] - 10s 251ms/step - loss: 0.7803 - accuracy: 0.6347 - val_loss: 113.9156 - val_accuracy: 0.5197\n",
            "Epoch 5/100\n",
            "40/40 [==============================] - 10s 252ms/step - loss: 0.9934 - accuracy: 0.5231 - val_loss: 133.7400 - val_accuracy: 0.4257\n",
            "Epoch 6/100\n",
            "40/40 [==============================] - 10s 252ms/step - loss: 0.8144 - accuracy: 0.6132 - val_loss: 313.3511 - val_accuracy: 0.6111\n",
            "Epoch 7/100\n",
            "40/40 [==============================] - 10s 252ms/step - loss: 0.6782 - accuracy: 0.7307 - val_loss: 53.0369 - val_accuracy: 0.6822\n",
            "Epoch 8/100\n",
            "40/40 [==============================] - 10s 250ms/step - loss: 0.6039 - accuracy: 0.7668 - val_loss: 99.1216 - val_accuracy: 0.7295\n",
            "Epoch 9/100\n",
            "40/40 [==============================] - 10s 250ms/step - loss: 0.3533 - accuracy: 0.8589 - val_loss: 34.5017 - val_accuracy: 0.7361\n",
            "Epoch 10/100\n",
            "40/40 [==============================] - 10s 251ms/step - loss: 0.2924 - accuracy: 0.8883 - val_loss: 34.4499 - val_accuracy: 0.8004\n",
            "Epoch 11/100\n",
            "40/40 [==============================] - 10s 251ms/step - loss: 0.2488 - accuracy: 0.8995 - val_loss: 38.5750 - val_accuracy: 0.7940\n",
            "Epoch 12/100\n",
            "40/40 [==============================] - 10s 253ms/step - loss: 0.2244 - accuracy: 0.9107 - val_loss: 61.4455 - val_accuracy: 0.8306\n",
            "Epoch 13/100\n",
            "40/40 [==============================] - 10s 253ms/step - loss: 0.1945 - accuracy: 0.9220 - val_loss: 48.1416 - val_accuracy: 0.8306\n",
            "Epoch 14/100\n",
            "40/40 [==============================] - 10s 253ms/step - loss: 0.1955 - accuracy: 0.9248 - val_loss: 45.1886 - val_accuracy: 0.8428\n",
            "Epoch 15/100\n",
            "40/40 [==============================] - 10s 252ms/step - loss: 0.1728 - accuracy: 0.9307 - val_loss: 34.4036 - val_accuracy: 0.8438\n",
            "Epoch 16/100\n",
            "40/40 [==============================] - 10s 252ms/step - loss: 0.1800 - accuracy: 0.9303 - val_loss: 37.7919 - val_accuracy: 0.8536\n",
            "Epoch 17/100\n",
            "40/40 [==============================] - 10s 253ms/step - loss: 0.1630 - accuracy: 0.9362 - val_loss: 56.0535 - val_accuracy: 0.8435\n",
            "Epoch 18/100\n",
            "40/40 [==============================] - 10s 250ms/step - loss: 0.1471 - accuracy: 0.9411 - val_loss: 27.4938 - val_accuracy: 0.8845\n",
            "Epoch 19/100\n",
            "40/40 [==============================] - 10s 250ms/step - loss: 0.1203 - accuracy: 0.9522 - val_loss: 40.4430 - val_accuracy: 0.8484\n",
            "Epoch 20/100\n",
            "40/40 [==============================] - 10s 250ms/step - loss: 0.1322 - accuracy: 0.9483 - val_loss: 27.2090 - val_accuracy: 0.8674\n",
            "Epoch 21/100\n",
            "40/40 [==============================] - 10s 251ms/step - loss: 0.1159 - accuracy: 0.9546 - val_loss: 24.6894 - val_accuracy: 0.9232\n",
            "Epoch 22/100\n",
            "40/40 [==============================] - 10s 251ms/step - loss: 0.1003 - accuracy: 0.9605 - val_loss: 15.2320 - val_accuracy: 0.9467\n",
            "Epoch 23/100\n",
            "40/40 [==============================] - 10s 251ms/step - loss: 0.0966 - accuracy: 0.9617 - val_loss: 21.8881 - val_accuracy: 0.9346\n",
            "Epoch 24/100\n",
            "40/40 [==============================] - 10s 251ms/step - loss: 0.0865 - accuracy: 0.9661 - val_loss: 14.8322 - val_accuracy: 0.9503\n",
            "Epoch 25/100\n",
            "40/40 [==============================] - 10s 252ms/step - loss: 0.0777 - accuracy: 0.9691 - val_loss: 18.7553 - val_accuracy: 0.9429\n",
            "Epoch 26/100\n",
            "40/40 [==============================] - 10s 253ms/step - loss: 0.0773 - accuracy: 0.9692 - val_loss: 290.0345 - val_accuracy: 0.6193\n",
            "Epoch 27/100\n",
            "40/40 [==============================] - 10s 253ms/step - loss: 1.0950 - accuracy: 0.7400 - val_loss: 73.4335 - val_accuracy: 0.7056\n",
            "Epoch 28/100\n",
            "40/40 [==============================] - 10s 250ms/step - loss: 0.2850 - accuracy: 0.8789 - val_loss: 40.2925 - val_accuracy: 0.8159\n",
            "Epoch 29/100\n",
            "40/40 [==============================] - 10s 250ms/step - loss: 0.2028 - accuracy: 0.9166 - val_loss: 68.1497 - val_accuracy: 0.7572\n",
            "Epoch 30/100\n",
            "40/40 [==============================] - 10s 250ms/step - loss: 0.1621 - accuracy: 0.9345 - val_loss: 29.1775 - val_accuracy: 0.8816\n",
            "Epoch 31/100\n",
            "40/40 [==============================] - 10s 251ms/step - loss: 0.1385 - accuracy: 0.9455 - val_loss: 62.3240 - val_accuracy: 0.6798\n",
            "training completed\n",
            "saving model completed\n",
            "saving history completed\n",
            "40/40 [==============================] - 3s 68ms/step\n",
            "42/42 [==============================] - 3s 69ms/step\n",
            "40/40 [==============================] - 3s 88ms/step\n",
            "prediction completed\n",
            "conf matrix land\n",
            "print confusion matrix \n",
            " true_positives: 37646259, false_positives: 451861, true_negatives: 43113799, false_negatives: 773617\n",
            "conf matrix valid\n",
            "print confusion matrix \n",
            " true_positives: 33860710, false_positives: 1821666, true_negatives: 45489538, false_negatives: 813622\n",
            "conf matrix invalid\n",
            "print confusion matrix \n",
            " true_positives: 6823115, false_positives: 1381925, true_negatives: 71712283, false_negatives: 2068213\n",
            "precision land\n",
            "entered precision: 37646259 37646259 451861\n",
            "precision valid\n",
            "entered precision: 33860710 33860710 1821666\n",
            "precision invalid\n",
            "entered precision: 6823115 6823115 1381925\n",
            "entered precision: 37646259 37646259 451861\n",
            "entered precision: 6823115 6823115 1381925\n",
            "entered precision: 33860710 33860710 1821666\n",
            "conf matrix land\n",
            "print confusion matrix \n",
            " true_positives: 36646934, false_positives: 5643252, true_negatives: 43795103, false_negatives: 618839\n",
            "conf matrix valid\n",
            "print confusion matrix \n",
            " true_positives: 6117008, false_positives: 1467086, true_negatives: 58965197, false_negatives: 20154837\n",
            "conf matrix invalid\n",
            "print confusion matrix \n",
            " true_positives: 16181650, false_positives: 20648198, true_negatives: 42889420, false_negatives: 6984860\n",
            "precision land\n",
            "entered precision: 36646934 36646934 5643252\n",
            "precision valid\n",
            "entered precision: 6117008 6117008 1467086\n",
            "precision invalid\n",
            "entered precision: 16181650 16181650 20648198\n",
            "entered precision: 36646934 36646934 5643252\n",
            "entered precision: 16181650 16181650 20648198\n",
            "entered precision: 6117008 6117008 1467086\n",
            "conf matrix land\n",
            "print confusion matrix \n",
            " true_positives: 37865013, false_positives: 427519, true_negatives: 43445315, false_negatives: 706441\n",
            "conf matrix valid\n",
            "print confusion matrix \n",
            " true_positives: 37809188, false_positives: 1798600, true_negatives: 42251078, false_negatives: 585422\n",
            "conf matrix invalid\n",
            "print confusion matrix \n",
            " true_positives: 3475759, false_positives: 1068209, true_negatives: 75897855, false_negatives: 2002465\n",
            "precision land\n",
            "entered precision: 37865013 37865013 427519\n",
            "precision valid\n",
            "entered precision: 37809188 37809188 1798600\n",
            "precision invalid\n",
            "entered precision: 3475759 3475759 1068209\n",
            "entered precision: 37865013 37865013 427519\n",
            "entered precision: 3475759 3475759 1068209\n",
            "entered precision: 37809188 37809188 1798600\n",
            "metrics calculated\n",
            "saving metrics completed\n",
            "Run 0 completed: 2023-04-04 11:46:15.041855\n",
            "Start training number 1\n",
            "Epoch 1/100\n",
            "40/40 [==============================] - 19s 354ms/step - loss: 1.0315 - accuracy: 0.4548 - val_loss: 75.6708 - val_accuracy: 0.5000\n",
            "Epoch 2/100\n",
            "40/40 [==============================] - 10s 250ms/step - loss: 0.6543 - accuracy: 0.7464 - val_loss: 41.9454 - val_accuracy: 0.7215\n",
            "Epoch 3/100\n",
            "40/40 [==============================] - 10s 249ms/step - loss: 0.3831 - accuracy: 0.8707 - val_loss: 69.5458 - val_accuracy: 0.7141\n",
            "Epoch 4/100\n",
            "40/40 [==============================] - 10s 252ms/step - loss: 0.3275 - accuracy: 0.8802 - val_loss: 50.7970 - val_accuracy: 0.7836\n",
            "Epoch 5/100\n",
            "40/40 [==============================] - 10s 251ms/step - loss: 0.2941 - accuracy: 0.8850 - val_loss: 50.7997 - val_accuracy: 0.7880\n",
            "Epoch 6/100\n",
            "40/40 [==============================] - 10s 251ms/step - loss: 0.2674 - accuracy: 0.8991 - val_loss: 75.5455 - val_accuracy: 0.7863\n",
            "Epoch 7/100\n",
            "40/40 [==============================] - 10s 251ms/step - loss: 0.2729 - accuracy: 0.8982 - val_loss: 26.7591 - val_accuracy: 0.8491\n",
            "Epoch 8/100\n",
            "40/40 [==============================] - 10s 251ms/step - loss: 0.2380 - accuracy: 0.9073 - val_loss: 73.0072 - val_accuracy: 0.7015\n",
            "Epoch 9/100\n",
            "40/40 [==============================] - 10s 252ms/step - loss: 0.3721 - accuracy: 0.8638 - val_loss: 27.6272 - val_accuracy: 0.8333\n",
            "Epoch 10/100\n",
            "40/40 [==============================] - 10s 253ms/step - loss: 0.2373 - accuracy: 0.9041 - val_loss: 16.9692 - val_accuracy: 0.8821\n",
            "Epoch 11/100\n",
            "40/40 [==============================] - 10s 251ms/step - loss: 0.2217 - accuracy: 0.9135 - val_loss: 18.4540 - val_accuracy: 0.8351\n",
            "Epoch 12/100\n",
            "40/40 [==============================] - 10s 250ms/step - loss: 0.1840 - accuracy: 0.9284 - val_loss: 48.1895 - val_accuracy: 0.7978\n",
            "Epoch 13/100\n",
            "40/40 [==============================] - 10s 250ms/step - loss: 0.1675 - accuracy: 0.9356 - val_loss: 59.3306 - val_accuracy: 0.7995\n",
            "Epoch 14/100\n",
            "40/40 [==============================] - 10s 251ms/step - loss: 0.1562 - accuracy: 0.9401 - val_loss: 16.8502 - val_accuracy: 0.9385\n",
            "Epoch 15/100\n",
            "40/40 [==============================] - 10s 252ms/step - loss: 0.1328 - accuracy: 0.9483 - val_loss: 27.4136 - val_accuracy: 0.9100\n",
            "Epoch 16/100\n",
            "40/40 [==============================] - 10s 251ms/step - loss: 0.1620 - accuracy: 0.9384 - val_loss: 25.7120 - val_accuracy: 0.8991\n",
            "Epoch 17/100\n",
            "40/40 [==============================] - 10s 252ms/step - loss: 0.1075 - accuracy: 0.9583 - val_loss: 14.4349 - val_accuracy: 0.9475\n",
            "Epoch 18/100\n",
            "40/40 [==============================] - 10s 252ms/step - loss: 0.1144 - accuracy: 0.9553 - val_loss: 17.4559 - val_accuracy: 0.9422\n",
            "Epoch 19/100\n",
            "40/40 [==============================] - 10s 251ms/step - loss: 0.0840 - accuracy: 0.9665 - val_loss: 21.8847 - val_accuracy: 0.9310\n",
            "Epoch 20/100\n",
            "40/40 [==============================] - 10s 252ms/step - loss: 0.0786 - accuracy: 0.9685 - val_loss: 18.8669 - val_accuracy: 0.9381\n",
            "Epoch 21/100\n",
            "40/40 [==============================] - 10s 252ms/step - loss: 0.0732 - accuracy: 0.9708 - val_loss: 19.5199 - val_accuracy: 0.9294\n",
            "Epoch 22/100\n",
            "40/40 [==============================] - 10s 250ms/step - loss: 0.0653 - accuracy: 0.9741 - val_loss: 14.5009 - val_accuracy: 0.9505\n",
            "Epoch 23/100\n",
            "40/40 [==============================] - 10s 249ms/step - loss: 0.0609 - accuracy: 0.9757 - val_loss: 37.4508 - val_accuracy: 0.8865\n",
            "Epoch 24/100\n",
            "40/40 [==============================] - 10s 252ms/step - loss: 0.0601 - accuracy: 0.9763 - val_loss: 16.7780 - val_accuracy: 0.9390\n",
            "Epoch 25/100\n",
            "40/40 [==============================] - 10s 251ms/step - loss: 1.2997 - accuracy: 0.7645 - val_loss: 45.5907 - val_accuracy: 0.6884\n",
            "Epoch 26/100\n",
            "40/40 [==============================] - 10s 253ms/step - loss: 0.5161 - accuracy: 0.8033 - val_loss: 160.9383 - val_accuracy: 0.6167\n",
            "Epoch 27/100\n",
            "40/40 [==============================] - 10s 252ms/step - loss: 0.6263 - accuracy: 0.7598 - val_loss: 71.3762 - val_accuracy: 0.7504\n",
            "Epoch 28/100\n",
            "40/40 [==============================] - 10s 252ms/step - loss: 0.2835 - accuracy: 0.8933 - val_loss: 51.4561 - val_accuracy: 0.8143\n",
            "Epoch 29/100\n",
            "40/40 [==============================] - 10s 252ms/step - loss: 0.3200 - accuracy: 0.8859 - val_loss: 49.4037 - val_accuracy: 0.7527\n",
            "training completed\n",
            "saving model completed\n",
            "saving history completed\n",
            "40/40 [==============================] - 3s 68ms/step\n",
            "42/42 [==============================] - 3s 67ms/step\n",
            "40/40 [==============================] - 3s 68ms/step\n",
            "prediction completed\n",
            "conf matrix land\n",
            "print confusion matrix \n",
            " true_positives: 36101023, false_positives: 2691037, true_negatives: 40874623, false_negatives: 2318853\n",
            "conf matrix valid\n",
            "print confusion matrix \n",
            " true_positives: 32967855, false_positives: 3650617, true_negatives: 43660587, false_negatives: 1706477\n",
            "conf matrix invalid\n",
            "print confusion matrix \n",
            " true_positives: 3915878, false_positives: 2659126, true_negatives: 70435082, false_negatives: 4975450\n",
            "precision land\n",
            "entered precision: 36101023 36101023 2691037\n",
            "precision valid\n",
            "entered precision: 32967855 32967855 3650617\n",
            "precision invalid\n",
            "entered precision: 3915878 3915878 2659126\n",
            "entered precision: 36101023 36101023 2691037\n",
            "entered precision: 3915878 3915878 2659126\n",
            "entered precision: 32967855 32967855 3650617\n",
            "conf matrix land\n",
            "print confusion matrix \n",
            " true_positives: 26371500, false_positives: 1540001, true_negatives: 47898354, false_negatives: 10894273\n",
            "conf matrix valid\n",
            "print confusion matrix \n",
            " true_positives: 19133536, false_positives: 2751574, true_negatives: 57680709, false_negatives: 7138309\n",
            "conf matrix invalid\n",
            "print confusion matrix \n",
            " true_positives: 19756150, false_positives: 17151367, true_negatives: 46386251, false_negatives: 3410360\n",
            "precision land\n",
            "entered precision: 26371500 26371500 1540001\n",
            "precision valid\n",
            "entered precision: 19133536 19133536 2751574\n",
            "precision invalid\n",
            "entered precision: 19756150 19756150 17151367\n",
            "entered precision: 26371500 26371500 1540001\n",
            "entered precision: 19756150 19756150 17151367\n",
            "entered precision: 19133536 19133536 2751574\n",
            "conf matrix land\n",
            "print confusion matrix \n",
            " true_positives: 36934294, false_positives: 2303230, true_negatives: 41569604, false_negatives: 1637160\n",
            "conf matrix valid\n",
            "print confusion matrix \n",
            " true_positives: 37285978, false_positives: 3221202, true_negatives: 40828476, false_negatives: 1108632\n",
            "conf matrix invalid\n",
            "print confusion matrix \n",
            " true_positives: 1308882, false_positives: 1390702, true_negatives: 75575362, false_negatives: 4169342\n",
            "precision land\n",
            "entered precision: 36934294 36934294 2303230\n",
            "precision valid\n",
            "entered precision: 37285978 37285978 3221202\n",
            "precision invalid\n",
            "entered precision: 1308882 1308882 1390702\n",
            "entered precision: 36934294 36934294 2303230\n",
            "entered precision: 1308882 1308882 1390702\n",
            "entered precision: 37285978 37285978 3221202\n",
            "metrics calculated\n",
            "saving metrics completed\n",
            "Run 1 completed: 2023-04-04 11:51:59.129247\n",
            "End: 2023-04-04 11:51:59.129279\n"
          ]
        }
      ],
      "source": [
        "def execute_multiple_trainings(num_of_executions, epochs):\n",
        "  print(f'Start: {datetime.now()}')\n",
        "  for count in range(0, num_of_executions):\n",
        "      \n",
        "      model = define_model((256, 256, 5), 3)\n",
        "      print(f'Start training number {count}')\n",
        "      \n",
        "      # Train model\n",
        "      history = train_model(model, x_train, y_train, x_val, y_val, epochs=epochs)\n",
        "      print('training completed')\n",
        "      \n",
        "      # Save model\n",
        "      model_name = f'{tile_size}_{step_size}_run_{count}'\n",
        "      model.save(f'../models/{experiment}/model_{model_name}.h5')\n",
        "      print('saving model completed')\n",
        "      \n",
        "      # Save model history\n",
        "      save_model_history(history, model_name, f'../models/{experiment}')\n",
        "      print('saving history completed')\n",
        "      \n",
        "      # Predict \n",
        "      pred_train, pred_val, pred_test = make_predictions(model, x_train, x_val, x_test)\n",
        "      print('prediction completed')\n",
        "\n",
        "\n",
        "\n",
        "      metrics_train = EvaluationMetrics(y_train, pred_train, train_physical)\n",
        "      metrics_val = EvaluationMetrics(y_val, pred_val, val_physical)\n",
        "      metrics_test = EvaluationMetrics(y_test, pred_test, test_physical)\n",
        "      \n",
        "      print('metrics calculated')\n",
        "      \n",
        "      # Save metrics\n",
        "      save_metrics(metrics_train, metrics_val, metrics_test, f'../metrics/{experiment}', count)\n",
        "\n",
        "      print('saving metrics completed')\n",
        "  \n",
        "      print(f'Run {count} completed: {datetime.now()}')\n",
        "  print(f'End: {datetime.now()}')\n",
        "del model\n",
        "execute_multiple_trainings(2, 100)\n",
        "\n",
        "# executed with premium gpu and high ram => 13,08 computing units per hour, took"
      ]
    },
    {
      "cell_type": "markdown",
      "source": [
        "### 6. Histories + Metrics "
      ],
      "metadata": {
        "id": "G4SwFI6H6di7"
      }
    },
    {
      "cell_type": "code",
      "source": [
        "history_path = '../models/experiment_1/'\n",
        "\n",
        "def get_histories_of_experiment(history_path):\n",
        "  histories = []\n",
        "  for file in os.listdir(history_path):\n",
        "    if file.startswith('history'):\n",
        "      print(f'Adding: {file}')\n",
        "      with open(os.path.join(history_path, file), 'rb') as f:\n",
        "        data = pickle.load(f)\n",
        "        histories.append(data)\n",
        "  return histories\n",
        "\n",
        "\n",
        "histories = get_histories_of_experiment(history_path)\n",
        "print(f'Total amount of model histories: {len(histories)}')"
      ],
      "metadata": {
        "id": "74JeCrjjx2bz",
        "outputId": "aea798c0-4709-42be-f621-47ebf48c54ad",
        "colab": {
          "base_uri": "https://localhost:8080/"
        }
      },
      "execution_count": 4,
      "outputs": [
        {
          "output_type": "stream",
          "name": "stdout",
          "text": [
            "Adding: history_256_200_run_0.pkl\n",
            "Adding: history_256_200_run_1.pkl\n",
            "Total amount of model histories: 2\n"
          ]
        }
      ]
    },
    {
      "cell_type": "code",
      "source": [
        "metric_path = '../metrics/experiment_1/'\n",
        "\n",
        "\n",
        "def get_metrics_of_experiment(metric_path):\n",
        "  training_metrics = []\n",
        "  validation_metrics = []\n",
        "  test_metrics = []\n",
        "\n",
        "  for file in os.listdir(metric_path):\n",
        "    if file.startswith('metrics'):\n",
        "      print(file)\n",
        "\n",
        "      with open(os.path.join(metric_path, file), 'rb') as f:\n",
        "        data = pickle.load(f)\n",
        "        data_set = file.split('_')[1]\n",
        "\n",
        "        if data_set.startswith('train'):\n",
        "          training_metrics.append(data)\n",
        "        elif data_set.startswith('val'):\n",
        "          validation_metrics.append(data)\n",
        "        elif data_set.startswith('test'):\n",
        "          test_metrics.append(data)\n",
        "  return training_metrics, validation_metrics, test_metrics\n",
        "\n",
        "training_metrics, validation_metrics, test_metrics = get_metrics_of_experiment(metric_path)\n",
        "\n",
        "print(len(training_metrics))\n",
        "print(len(validation_metrics))\n",
        "print(len(test_metrics))\n"
      ],
      "metadata": {
        "id": "1kQGglGTquYp",
        "outputId": "5c0dcbfd-7d80-49cc-cb9d-29c4d1b604cb",
        "colab": {
          "base_uri": "https://localhost:8080/"
        }
      },
      "execution_count": 5,
      "outputs": [
        {
          "output_type": "stream",
          "name": "stdout",
          "text": [
            "metrics_test.pkl\n",
            "metrics_test_0.pkl\n",
            "metrics_test_1.pkl\n",
            "metrics_val.pkl\n",
            "metrics_train.pkl\n",
            "1\n",
            "1\n",
            "3\n"
          ]
        }
      ]
    },
    {
      "cell_type": "code",
      "source": [
        "import matplotlib.pyplot as plt\n",
        "\n",
        "def plot_loss_acc(plots, y_scale, model_history, scale):\n",
        "  loss = model_history['loss']\n",
        "  val_loss = model_history['val_loss']\n",
        "  acc = model_history['accuracy']\n",
        "  val_acc = model_history['val_accuracy']\n",
        "\n",
        "  plt.figure(figsize=(10,6))\n",
        "  if 'loss' in plots:\n",
        "    plt.plot(loss, 'g', label='Training Loss')\n",
        "  \n",
        "  if 'accuracy' in plots:\n",
        "    plt.plot(acc, 'y', label='Training Accuracy')\n",
        "  \n",
        "  if 'val_loss' in plots:\n",
        "    plt.plot(val_loss, 'r', label='Validation Loss')\n",
        "  \n",
        "  if 'val_accuracy' in plots:\n",
        "    plt.plot(val_acc, 'b', label='Validation Accuracy')\n",
        "\n",
        "  plt.xlabel('Epoch')\n",
        "  plt.ylabel('Value')\n",
        "  plt.ylim(scale)\n",
        "\n",
        "  plt.legend()\n",
        "\n",
        "  plt.show()\n"
      ],
      "metadata": {
        "id": "gS6umbwj0tQB"
      },
      "execution_count": 65,
      "outputs": []
    },
    {
      "cell_type": "code",
      "source": [
        "def print_all_metrics(metric, data_set):\n",
        "  print(f'========= {data_set} ==========')  \n",
        "  metric.print_metrics()\n",
        "  print()\n",
        "  print()"
      ],
      "metadata": {
        "id": "tHUI6h7z7WTu"
      },
      "execution_count": 13,
      "outputs": []
    },
    {
      "cell_type": "code",
      "source": [
        "def print_history_metrics_for_run(history, training_metrics, validation_metrics, test_metrics, scale_all, scale_loss, scale_acc):\n",
        "  plot_loss_acc(['loss', 'accuracy', 'val_loss', 'val_accuracy'], 'all', history, scale_all)\n",
        "\n",
        "  plot_loss_acc(['loss', 'val_loss',], 'loss', history, scale_loss)\n",
        "  print()\n",
        "  plot_loss_acc(['accuracy', 'val_accuracy'], 'accuracy', history, scale_acc)\n",
        "  print()\n",
        "\n",
        "  print_all_metrics(training_metrics, 'TRAINING SET')\n",
        "  print()\n",
        "  print()\n",
        "  print_all_metrics(validation_metrics, 'VALIDATION SET')\n",
        "  print()\n",
        "  print()\n",
        "  print_all_metrics(test_metrics, 'TEST SET')"
      ],
      "metadata": {
        "id": "w8AwKo53JJyt"
      },
      "execution_count": 63,
      "outputs": []
    },
    {
      "cell_type": "markdown",
      "source": [
        "#### Run 1"
      ],
      "metadata": {
        "id": "-h3mw6TE6mfK"
      }
    },
    {
      "cell_type": "code",
      "source": [
        "run = 0\n",
        "print_history_metrics_for_run(histories[run], training_metrics[run], validation_metrics[run], test_metrics[run], [0,1], [0, 70], [0.8, 1])"
      ],
      "metadata": {
        "id": "VvFIv-BqJlp3",
        "outputId": "387ea833-2492-4972-fa44-6c8cb0181e95",
        "colab": {
          "base_uri": "https://localhost:8080/",
          "height": 1000
        }
      },
      "execution_count": 68,
      "outputs": [
        {
          "output_type": "display_data",
          "data": {
            "text/plain": [
              "<Figure size 1000x600 with 1 Axes>"
            ],
            "image/png": "[encoded data removed]"
          },
          "metadata": {}
        },
        {
          "output_type": "display_data",
          "data": {
            "text/plain": [
              "<Figure size 1000x600 with 1 Axes>"
            ],
            "image/png": "[encoded data removed]"
          },
          "metadata": {}
        },
        {
          "output_type": "stream",
          "name": "stdout",
          "text": [
            "\n"
          ]
        },
        {
          "output_type": "display_data",
          "data": {
            "text/plain": [
              "<Figure size 1000x600 with 1 Axes>"
            ],
            "image/png": "[encoded data removed]"
          },
          "metadata": {}
        },
        {
          "output_type": "stream",
          "name": "stdout",
          "text": [
            "\n",
            "========= TRAINING SET ==========\n",
            "jaccard index: 0.7719394564628601 \n",
            "\n",
            "physical jaccard: 0.9383465051651001 \n",
            "\n",
            "precision_land: 0.9413003226197453\n",
            "precision_valid: 0.9204782460788433\n",
            "precision_invalid: 0.48484581328086107 \n",
            "\n",
            "recall_invalid_land: 0.9575551390932787\n",
            "recall_invalid_land: 0.9711253220178562\n",
            "recall_invalid_land: 0.23892451276180018 \n",
            "\n",
            "specificy_invalid_land: 0.9475021376553883\n",
            "specificy_invalid_valid: 0.9268734268613723\n",
            "specificy_invalid_invalid: 0.981930971551306 \n",
            "\n",
            "f1_land: 0.949358157615179\n",
            "f1_invalid: 0.3201058278697666\n",
            "f1_valid: 0.9451237544800949\n",
            "\n",
            "\n",
            "\n",
            "\n",
            "========= VALIDATION SET ==========\n",
            "jaccard index: 0.603445827960968 \n",
            "\n",
            "physical jaccard: 0.9339901208877563 \n",
            "\n",
            "precision_land: 0.9448255756650278\n",
            "precision_valid: 0.874271867950401\n",
            "precision_invalid: 0.5352879739918565 \n",
            "\n",
            "recall_invalid_land: 0.7076600826179025\n",
            "recall_invalid_land: 0.7282905330782821\n",
            "recall_invalid_land: 0.8527892203012021 \n",
            "\n",
            "specificy_invalid_land: 0.9688500760189128\n",
            "specificy_invalid_valid: 0.9544684750698563\n",
            "specificy_invalid_invalid: 0.7300596474989037 \n",
            "\n",
            "f1_land: 0.8092237794418956\n",
            "f1_invalid: 0.6577268409191214\n",
            "f1_valid: 0.7946323018139333\n",
            "\n",
            "\n",
            "\n",
            "\n",
            "========= TEST SET ==========\n",
            "jaccard index: 0.842279851436615 \n",
            "\n",
            "physical jaccard: 0.9283590912818909 \n",
            "\n",
            "precision_land: 0.972442669343374\n",
            "precision_valid: 0.9014902071080887\n",
            "precision_invalid: 0.8501202821311484 \n",
            "\n",
            "recall_invalid_land: 0.9820112121132302\n",
            "recall_invalid_land: 0.9798431877505239\n",
            "recall_invalid_land: 0.5258265132047766 \n",
            "\n",
            "specificy_invalid_land: 0.9754584918488552\n",
            "specificy_invalid_valid: 0.9215272137229904\n",
            "specificy_invalid_invalid: 0.9887231283770117 \n",
            "\n",
            "f1_land: 0.9772035180700324\n",
            "f1_invalid: 0.6497573674693545\n",
            "f1_valid: 0.9390350914650654\n",
            "\n",
            "\n"
          ]
        }
      ]
    },
    {
      "cell_type": "markdown",
      "source": [
        "#### Run 2"
      ],
      "metadata": {
        "id": "W5BzwX6a7mnj"
      }
    },
    {
      "cell_type": "code",
      "source": [
        "run = 1\n",
        "print_history_metrics_for_run(histories[run], training_metrics[run], validation_metrics[run], test_metrics[run], [0,1], [0, 70], [0.8, 1])"
      ],
      "metadata": {
        "id": "WjanjezVNY63",
        "outputId": "898770ce-1600-499a-af99-7b947e96fa41",
        "colab": {
          "base_uri": "https://localhost:8080/",
          "height": 184
        }
      },
      "execution_count": 69,
      "outputs": [
        {
          "output_type": "error",
          "ename": "IndexError",
          "evalue": "ignored",
          "traceback": [
            "\u001b[0;31m---------------------------------------------------------------------------\u001b[0m",
            "\u001b[0;31mIndexError\u001b[0m                                Traceback (most recent call last)",
            "\u001b[0;32m<ipython-input-69-cc7b64670027>\u001b[0m in \u001b[0;36m<cell line: 2>\u001b[0;34m()\u001b[0m\n\u001b[1;32m      1\u001b[0m \u001b[0mrun\u001b[0m \u001b[0;34m=\u001b[0m \u001b[0;36m1\u001b[0m\u001b[0;34m\u001b[0m\u001b[0;34m\u001b[0m\u001b[0m\n\u001b[0;32m----> 2\u001b[0;31m \u001b[0mprint_history_metrics_for_run\u001b[0m\u001b[0;34m(\u001b[0m\u001b[0mhistories\u001b[0m\u001b[0;34m[\u001b[0m\u001b[0mrun\u001b[0m\u001b[0;34m]\u001b[0m\u001b[0;34m,\u001b[0m \u001b[0mtraining_metrics\u001b[0m\u001b[0;34m[\u001b[0m\u001b[0mrun\u001b[0m\u001b[0;34m]\u001b[0m\u001b[0;34m,\u001b[0m \u001b[0mvalidation_metrics\u001b[0m\u001b[0;34m[\u001b[0m\u001b[0mrun\u001b[0m\u001b[0;34m]\u001b[0m\u001b[0;34m,\u001b[0m \u001b[0mtest_metrics\u001b[0m\u001b[0;34m[\u001b[0m\u001b[0mrun\u001b[0m\u001b[0;34m]\u001b[0m\u001b[0;34m,\u001b[0m \u001b[0;34m[\u001b[0m\u001b[0;36m0\u001b[0m\u001b[0;34m,\u001b[0m\u001b[0;36m1\u001b[0m\u001b[0;34m]\u001b[0m\u001b[0;34m,\u001b[0m \u001b[0;34m[\u001b[0m\u001b[0;36m0\u001b[0m\u001b[0;34m,\u001b[0m \u001b[0;36m70\u001b[0m\u001b[0;34m]\u001b[0m\u001b[0;34m,\u001b[0m \u001b[0;34m[\u001b[0m\u001b[0;36m0.8\u001b[0m\u001b[0;34m,\u001b[0m \u001b[0;36m1\u001b[0m\u001b[0;34m]\u001b[0m\u001b[0;34m)\u001b[0m\u001b[0;34m\u001b[0m\u001b[0;34m\u001b[0m\u001b[0m\n\u001b[0m",
            "\u001b[0;31mIndexError\u001b[0m: list index out of range"
          ]
        }
      ]
    },
    {
      "cell_type": "markdown",
      "source": [
        "#### Run 3"
      ],
      "metadata": {
        "id": "OShDhfy_7shw"
      }
    },
    {
      "cell_type": "code",
      "source": [
        "run = 2\n",
        "print_history_metrics_for_run(histories[run], training_metrics[run], validation_metrics[run], test_metrics[run], [0,1], [0, 70], [0.8, 1])"
      ],
      "metadata": {
        "id": "bT4RN7YDNpMv"
      },
      "execution_count": null,
      "outputs": []
    },
    {
      "cell_type": "markdown",
      "source": [
        "#### Run 4"
      ],
      "metadata": {
        "id": "v773IK6c7uTg"
      }
    },
    {
      "cell_type": "code",
      "source": [
        "run = 3\n",
        "print_history_metrics_for_run(histories[run], training_metrics[run], validation_metrics[run], test_metrics[run], [0,1], [0, 70], [0.8, 1])"
      ],
      "metadata": {
        "id": "JxTDBmxnNrhE"
      },
      "execution_count": null,
      "outputs": []
    },
    {
      "cell_type": "markdown",
      "source": [
        "#### Run 5"
      ],
      "metadata": {
        "id": "vyqvHU7f7vea"
      }
    },
    {
      "cell_type": "markdown",
      "source": [
        "#### Run 6"
      ],
      "metadata": {
        "id": "upoFy4gc7whG"
      }
    },
    {
      "cell_type": "markdown",
      "source": [
        "#### Run 7"
      ],
      "metadata": {
        "id": "RXLBPhFt7x0b"
      }
    },
    {
      "cell_type": "markdown",
      "source": [
        "#### Run 8"
      ],
      "metadata": {
        "id": "B626OKlY7zRy"
      }
    },
    {
      "cell_type": "markdown",
      "source": [
        "#### Run 9"
      ],
      "metadata": {
        "id": "jIYdZgh7711I"
      }
    },
    {
      "cell_type": "markdown",
      "source": [
        "#### Run 10"
      ],
      "metadata": {
        "id": "GqwyBxmG72v2"
      }
    },
    {
      "cell_type": "markdown",
      "source": [
        "### 7. Summary"
      ],
      "metadata": {
        "id": "LKOvlCwg6zhE"
      }
    },
    {
      "cell_type": "code",
      "execution_count": 70,
      "metadata": {
        "id": "iS7KBmKA3pmL",
        "outputId": "5a31125c-2c7d-4a5a-9d26-bf66e42c441d",
        "colab": {
          "base_uri": "https://localhost:8080/"
        }
      },
      "outputs": [
        {
          "output_type": "stream",
          "name": "stdout",
          "text": [
            "============ TEST DATA ===================\n",
            "tf.Tensor(0.77193946, shape=(), dtype=float32)\n",
            "\n",
            "Mean jaccard index: 0.07719394564628601\n",
            "\n",
            "Worst index: 0.7719394564628601\n",
            "Best index: 0.7719394564628601\n",
            "Variance: 0.0\n",
            "\n",
            "============ VALIDATION DATA ===================\n",
            "tf.Tensor(0.6034458, shape=(), dtype=float32)\n",
            "\n",
            "Mean jaccard index: 0.06034458428621292\n",
            "\n",
            "Worst index: 0.603445827960968\n",
            "Best index: 0.603445827960968\n",
            "Variance: 0.0\n",
            "\n",
            "============ TRAINING DATA ===================\n",
            "tf.Tensor(0.84227985, shape=(), dtype=float32)\n",
            "tf.Tensor(0.87535644, shape=(), dtype=float32)\n",
            "tf.Tensor(0.7193665, shape=(), dtype=float32)\n",
            "\n",
            "Mean jaccard index: 0.2437002956867218\n",
            "\n",
            "Worst index: 0.7193664908409119\n",
            "Best index: 0.8753564357757568\n",
            "Variance: 0.15598994493484497\n",
            "\n"
          ]
        }
      ],
      "source": [
        "print('============ TEST DATA ===================')\n",
        "get_mean_jaccard(training_metrics)\n",
        "print()\n",
        "\n",
        "print('============ VALIDATION DATA ===================')\n",
        "get_mean_jaccard(validation_metrics)\n",
        "print()\n",
        "\n",
        "print('============ TRAINING DATA ===================')\n",
        "get_mean_jaccard(test_metrics)\n",
        "print()"
      ]
    },
    {
      "cell_type": "code",
      "source": [],
      "metadata": {
        "id": "2eB-qDvmCcDt"
      },
      "execution_count": null,
      "outputs": []
    }
  ],
  "metadata": {
    "kernelspec": {
      "display_name": "geospacial",
      "language": "python",
      "name": "python3"
    },
    "language_info": {
      "codemirror_mode": {
        "name": "ipython",
        "version": 3
      },
      "file_extension": ".py",
      "mimetype": "text/x-python",
      "name": "python",
      "nbconvert_exporter": "python",
      "pygments_lexer": "ipython3",
      "version": "3.10.9"
    },
    "orig_nbformat": 4,
    "colab": {
      "provenance": []
    },
    "gpuClass": "premium"
  },
  "nbformat": 4,
  "nbformat_minor": 0
}