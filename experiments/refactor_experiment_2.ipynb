{
 "cells": [
  {
   "attachments": {},
   "cell_type": "markdown",
   "metadata": {},
   "source": [
    "# U-Net Experiment 2: Exploring benefit of tile-overlapping"
   ]
  },
  {
   "attachments": {},
   "cell_type": "markdown",
   "metadata": {},
   "source": [
    "### 0. Select Python version"
   ]
  },
  {
   "cell_type": "code",
   "execution_count": 1,
   "metadata": {},
   "outputs": [],
   "source": [
    "!sudo apt-get install python3.10\n",
    "!sudo update-alternatives --install /usr/bin/python3 python3 /usr/bin/python3.10 1\n",
    "!sudo update-alternatives --config python3"
   ]
  },
  {
   "attachments": {},
   "cell_type": "markdown",
   "metadata": {},
   "source": [
    "### 1. Loading + Preparing Data"
   ]
  },
  {
   "cell_type": "code",
   "execution_count": 2,
   "metadata": {},
   "outputs": [],
   "source": [
    "from google.colab import drive\n",
    "drive.mount('/content/drive')\n",
    "! ls\n",
    "%cd drive/MyDrive/MachineLearning/Geospatial_ML"
   ]
  },
  {
   "cell_type": "code",
   "execution_count": 4,
   "metadata": {},
   "outputs": [
    {
     "name": "stdout",
     "output_type": "stream",
     "text": [
      "Requirement already satisfied: absl-py==1.4.0 in /Users/takahiromitsui/.pyenv/versions/3.10.9/envs/geospacial/lib/python3.10/site-packages (from -r ../requirements.txt (line 1)) (1.4.0)\n",
      "Requirement already satisfied: aiofiles==22.1.0 in /Users/takahiromitsui/.pyenv/versions/3.10.9/envs/geospacial/lib/python3.10/site-packages (from -r ../requirements.txt (line 2)) (22.1.0)\n",
      "Requirement already satisfied: aiosqlite==0.18.0 in /Users/takahiromitsui/.pyenv/versions/3.10.9/envs/geospacial/lib/python3.10/site-packages (from -r ../requirements.txt (line 3)) (0.18.0)\n",
      "Requirement already satisfied: anyio==3.6.2 in /Users/takahiromitsui/.pyenv/versions/3.10.9/envs/geospacial/lib/python3.10/site-packages (from -r ../requirements.txt (line 4)) (3.6.2)\n",
      "Requirement already satisfied: appnope==0.1.3 in /Users/takahiromitsui/.pyenv/versions/3.10.9/envs/geospacial/lib/python3.10/site-packages (from -r ../requirements.txt (line 5)) (0.1.3)\n",
      "Requirement already satisfied: argon2-cffi==21.3.0 in /Users/takahiromitsui/.pyenv/versions/3.10.9/envs/geospacial/lib/python3.10/site-packages (from -r ../requirements.txt (line 6)) (21.3.0)\n",
      "Requirement already satisfied: argon2-cffi-bindings==21.2.0 in /Users/takahiromitsui/.pyenv/versions/3.10.9/envs/geospacial/lib/python3.10/site-packages (from -r ../requirements.txt (line 7)) (21.2.0)\n",
      "Requirement already satisfied: arrow==1.2.3 in /Users/takahiromitsui/.pyenv/versions/3.10.9/envs/geospacial/lib/python3.10/site-packages (from -r ../requirements.txt (line 8)) (1.2.3)\n",
      "Requirement already satisfied: asttokens==2.2.1 in /Users/takahiromitsui/.pyenv/versions/3.10.9/envs/geospacial/lib/python3.10/site-packages (from -r ../requirements.txt (line 9)) (2.2.1)\n",
      "Requirement already satisfied: astunparse==1.6.3 in /Users/takahiromitsui/.pyenv/versions/3.10.9/envs/geospacial/lib/python3.10/site-packages (from -r ../requirements.txt (line 10)) (1.6.3)\n",
      "Requirement already satisfied: attrs==22.2.0 in /Users/takahiromitsui/.pyenv/versions/3.10.9/envs/geospacial/lib/python3.10/site-packages (from -r ../requirements.txt (line 11)) (22.2.0)\n",
      "Requirement already satisfied: Babel==2.12.1 in /Users/takahiromitsui/.pyenv/versions/3.10.9/envs/geospacial/lib/python3.10/site-packages (from -r ../requirements.txt (line 12)) (2.12.1)\n",
      "Requirement already satisfied: backcall==0.2.0 in /Users/takahiromitsui/.pyenv/versions/3.10.9/envs/geospacial/lib/python3.10/site-packages (from -r ../requirements.txt (line 13)) (0.2.0)\n",
      "Requirement already satisfied: beautifulsoup4==4.11.2 in /Users/takahiromitsui/.pyenv/versions/3.10.9/envs/geospacial/lib/python3.10/site-packages (from -r ../requirements.txt (line 14)) (4.11.2)\n",
      "Requirement already satisfied: bleach==6.0.0 in /Users/takahiromitsui/.pyenv/versions/3.10.9/envs/geospacial/lib/python3.10/site-packages (from -r ../requirements.txt (line 15)) (6.0.0)\n",
      "Requirement already satisfied: cachetools==5.3.0 in /Users/takahiromitsui/.pyenv/versions/3.10.9/envs/geospacial/lib/python3.10/site-packages (from -r ../requirements.txt (line 16)) (5.3.0)\n",
      "Requirement already satisfied: certifi==2022.12.7 in /Users/takahiromitsui/.pyenv/versions/3.10.9/envs/geospacial/lib/python3.10/site-packages (from -r ../requirements.txt (line 17)) (2022.12.7)\n",
      "Requirement already satisfied: cffi==1.15.1 in /Users/takahiromitsui/.pyenv/versions/3.10.9/envs/geospacial/lib/python3.10/site-packages (from -r ../requirements.txt (line 18)) (1.15.1)\n",
      "Requirement already satisfied: charset-normalizer==3.0.1 in /Users/takahiromitsui/.pyenv/versions/3.10.9/envs/geospacial/lib/python3.10/site-packages (from -r ../requirements.txt (line 19)) (3.0.1)\n",
      "Requirement already satisfied: comm==0.1.2 in /Users/takahiromitsui/.pyenv/versions/3.10.9/envs/geospacial/lib/python3.10/site-packages (from -r ../requirements.txt (line 20)) (0.1.2)\n",
      "Requirement already satisfied: debugpy==1.6.6 in /Users/takahiromitsui/.pyenv/versions/3.10.9/envs/geospacial/lib/python3.10/site-packages (from -r ../requirements.txt (line 21)) (1.6.6)\n",
      "Requirement already satisfied: decorator==5.1.1 in /Users/takahiromitsui/.pyenv/versions/3.10.9/envs/geospacial/lib/python3.10/site-packages (from -r ../requirements.txt (line 22)) (5.1.1)\n",
      "Requirement already satisfied: defusedxml==0.7.1 in /Users/takahiromitsui/.pyenv/versions/3.10.9/envs/geospacial/lib/python3.10/site-packages (from -r ../requirements.txt (line 23)) (0.7.1)\n",
      "Requirement already satisfied: executing==1.2.0 in /Users/takahiromitsui/.pyenv/versions/3.10.9/envs/geospacial/lib/python3.10/site-packages (from -r ../requirements.txt (line 24)) (1.2.0)\n",
      "Requirement already satisfied: fastjsonschema==2.16.3 in /Users/takahiromitsui/.pyenv/versions/3.10.9/envs/geospacial/lib/python3.10/site-packages (from -r ../requirements.txt (line 25)) (2.16.3)\n",
      "Requirement already satisfied: flatbuffers==23.3.3 in /Users/takahiromitsui/.pyenv/versions/3.10.9/envs/geospacial/lib/python3.10/site-packages (from -r ../requirements.txt (line 26)) (23.3.3)\n",
      "Requirement already satisfied: fqdn==1.5.1 in /Users/takahiromitsui/.pyenv/versions/3.10.9/envs/geospacial/lib/python3.10/site-packages (from -r ../requirements.txt (line 27)) (1.5.1)\n",
      "Requirement already satisfied: gast==0.4.0 in /Users/takahiromitsui/.pyenv/versions/3.10.9/envs/geospacial/lib/python3.10/site-packages (from -r ../requirements.txt (line 28)) (0.4.0)\n",
      "Requirement already satisfied: google-auth==2.17.1 in /Users/takahiromitsui/.pyenv/versions/3.10.9/envs/geospacial/lib/python3.10/site-packages (from -r ../requirements.txt (line 29)) (2.17.1)\n",
      "Requirement already satisfied: google-auth-oauthlib==0.4.6 in /Users/takahiromitsui/.pyenv/versions/3.10.9/envs/geospacial/lib/python3.10/site-packages (from -r ../requirements.txt (line 30)) (0.4.6)\n",
      "Requirement already satisfied: google-pasta==0.2.0 in /Users/takahiromitsui/.pyenv/versions/3.10.9/envs/geospacial/lib/python3.10/site-packages (from -r ../requirements.txt (line 31)) (0.2.0)\n",
      "Requirement already satisfied: grpcio==1.53.0 in /Users/takahiromitsui/.pyenv/versions/3.10.9/envs/geospacial/lib/python3.10/site-packages (from -r ../requirements.txt (line 32)) (1.53.0)\n",
      "Requirement already satisfied: h5py==3.8.0 in /Users/takahiromitsui/.pyenv/versions/3.10.9/envs/geospacial/lib/python3.10/site-packages (from -r ../requirements.txt (line 33)) (3.8.0)\n",
      "Requirement already satisfied: idna==3.4 in /Users/takahiromitsui/.pyenv/versions/3.10.9/envs/geospacial/lib/python3.10/site-packages (from -r ../requirements.txt (line 34)) (3.4)\n",
      "Requirement already satisfied: ipykernel==6.21.2 in /Users/takahiromitsui/.pyenv/versions/3.10.9/envs/geospacial/lib/python3.10/site-packages (from -r ../requirements.txt (line 35)) (6.21.2)\n",
      "Requirement already satisfied: ipython==8.11.0 in /Users/takahiromitsui/.pyenv/versions/3.10.9/envs/geospacial/lib/python3.10/site-packages (from -r ../requirements.txt (line 36)) (8.11.0)\n",
      "Requirement already satisfied: ipython-genutils==0.2.0 in /Users/takahiromitsui/.pyenv/versions/3.10.9/envs/geospacial/lib/python3.10/site-packages (from -r ../requirements.txt (line 37)) (0.2.0)\n",
      "Requirement already satisfied: isoduration==20.11.0 in /Users/takahiromitsui/.pyenv/versions/3.10.9/envs/geospacial/lib/python3.10/site-packages (from -r ../requirements.txt (line 38)) (20.11.0)\n",
      "Requirement already satisfied: jax==0.4.8 in /Users/takahiromitsui/.pyenv/versions/3.10.9/envs/geospacial/lib/python3.10/site-packages (from -r ../requirements.txt (line 39)) (0.4.8)\n",
      "Requirement already satisfied: jedi==0.18.2 in /Users/takahiromitsui/.pyenv/versions/3.10.9/envs/geospacial/lib/python3.10/site-packages (from -r ../requirements.txt (line 40)) (0.18.2)\n",
      "Requirement already satisfied: Jinja2==3.1.2 in /Users/takahiromitsui/.pyenv/versions/3.10.9/envs/geospacial/lib/python3.10/site-packages (from -r ../requirements.txt (line 41)) (3.1.2)\n",
      "Requirement already satisfied: json5==0.9.11 in /Users/takahiromitsui/.pyenv/versions/3.10.9/envs/geospacial/lib/python3.10/site-packages (from -r ../requirements.txt (line 42)) (0.9.11)\n",
      "Requirement already satisfied: jsonpointer==2.3 in /Users/takahiromitsui/.pyenv/versions/3.10.9/envs/geospacial/lib/python3.10/site-packages (from -r ../requirements.txt (line 43)) (2.3)\n",
      "Requirement already satisfied: jsonschema==4.17.3 in /Users/takahiromitsui/.pyenv/versions/3.10.9/envs/geospacial/lib/python3.10/site-packages (from -r ../requirements.txt (line 44)) (4.17.3)\n",
      "Requirement already satisfied: jupyter-events==0.6.3 in /Users/takahiromitsui/.pyenv/versions/3.10.9/envs/geospacial/lib/python3.10/site-packages (from -r ../requirements.txt (line 45)) (0.6.3)\n",
      "Requirement already satisfied: jupyter-ydoc==0.2.2 in /Users/takahiromitsui/.pyenv/versions/3.10.9/envs/geospacial/lib/python3.10/site-packages (from -r ../requirements.txt (line 46)) (0.2.2)\n",
      "Requirement already satisfied: jupyter_client==8.0.3 in /Users/takahiromitsui/.pyenv/versions/3.10.9/envs/geospacial/lib/python3.10/site-packages (from -r ../requirements.txt (line 47)) (8.0.3)\n",
      "Requirement already satisfied: jupyter_core==5.2.0 in /Users/takahiromitsui/.pyenv/versions/3.10.9/envs/geospacial/lib/python3.10/site-packages (from -r ../requirements.txt (line 48)) (5.2.0)\n",
      "Requirement already satisfied: jupyter_server==2.3.0 in /Users/takahiromitsui/.pyenv/versions/3.10.9/envs/geospacial/lib/python3.10/site-packages (from -r ../requirements.txt (line 49)) (2.3.0)\n",
      "Requirement already satisfied: jupyter_server_fileid==0.8.0 in /Users/takahiromitsui/.pyenv/versions/3.10.9/envs/geospacial/lib/python3.10/site-packages (from -r ../requirements.txt (line 50)) (0.8.0)\n",
      "Requirement already satisfied: jupyter_server_terminals==0.4.4 in /Users/takahiromitsui/.pyenv/versions/3.10.9/envs/geospacial/lib/python3.10/site-packages (from -r ../requirements.txt (line 51)) (0.4.4)\n",
      "Requirement already satisfied: jupyter_server_ydoc==0.6.1 in /Users/takahiromitsui/.pyenv/versions/3.10.9/envs/geospacial/lib/python3.10/site-packages (from -r ../requirements.txt (line 52)) (0.6.1)\n",
      "Requirement already satisfied: jupyterlab==3.6.1 in /Users/takahiromitsui/.pyenv/versions/3.10.9/envs/geospacial/lib/python3.10/site-packages (from -r ../requirements.txt (line 53)) (3.6.1)\n",
      "Requirement already satisfied: jupyterlab-pygments==0.2.2 in /Users/takahiromitsui/.pyenv/versions/3.10.9/envs/geospacial/lib/python3.10/site-packages (from -r ../requirements.txt (line 54)) (0.2.2)\n",
      "Requirement already satisfied: jupyterlab_server==2.19.0 in /Users/takahiromitsui/.pyenv/versions/3.10.9/envs/geospacial/lib/python3.10/site-packages (from -r ../requirements.txt (line 55)) (2.19.0)\n",
      "Requirement already satisfied: keras==2.12.0 in /Users/takahiromitsui/.pyenv/versions/3.10.9/envs/geospacial/lib/python3.10/site-packages (from -r ../requirements.txt (line 56)) (2.12.0)\n",
      "Requirement already satisfied: libclang==16.0.0 in /Users/takahiromitsui/.pyenv/versions/3.10.9/envs/geospacial/lib/python3.10/site-packages (from -r ../requirements.txt (line 57)) (16.0.0)\n",
      "Requirement already satisfied: Markdown==3.4.3 in /Users/takahiromitsui/.pyenv/versions/3.10.9/envs/geospacial/lib/python3.10/site-packages (from -r ../requirements.txt (line 58)) (3.4.3)\n",
      "Requirement already satisfied: MarkupSafe==2.1.2 in /Users/takahiromitsui/.pyenv/versions/3.10.9/envs/geospacial/lib/python3.10/site-packages (from -r ../requirements.txt (line 59)) (2.1.2)\n",
      "Requirement already satisfied: matplotlib-inline==0.1.6 in /Users/takahiromitsui/.pyenv/versions/3.10.9/envs/geospacial/lib/python3.10/site-packages (from -r ../requirements.txt (line 60)) (0.1.6)\n",
      "Requirement already satisfied: mistune==2.0.5 in /Users/takahiromitsui/.pyenv/versions/3.10.9/envs/geospacial/lib/python3.10/site-packages (from -r ../requirements.txt (line 61)) (2.0.5)\n",
      "Requirement already satisfied: ml-dtypes==0.0.4 in /Users/takahiromitsui/.pyenv/versions/3.10.9/envs/geospacial/lib/python3.10/site-packages (from -r ../requirements.txt (line 62)) (0.0.4)\n",
      "Requirement already satisfied: nbclassic==0.5.2 in /Users/takahiromitsui/.pyenv/versions/3.10.9/envs/geospacial/lib/python3.10/site-packages (from -r ../requirements.txt (line 63)) (0.5.2)\n",
      "Requirement already satisfied: nbclient==0.7.2 in /Users/takahiromitsui/.pyenv/versions/3.10.9/envs/geospacial/lib/python3.10/site-packages (from -r ../requirements.txt (line 64)) (0.7.2)\n",
      "Requirement already satisfied: nbconvert==7.2.9 in /Users/takahiromitsui/.pyenv/versions/3.10.9/envs/geospacial/lib/python3.10/site-packages (from -r ../requirements.txt (line 65)) (7.2.9)\n",
      "Requirement already satisfied: nbformat==5.7.3 in /Users/takahiromitsui/.pyenv/versions/3.10.9/envs/geospacial/lib/python3.10/site-packages (from -r ../requirements.txt (line 66)) (5.7.3)\n",
      "Requirement already satisfied: nest-asyncio==1.5.6 in /Users/takahiromitsui/.pyenv/versions/3.10.9/envs/geospacial/lib/python3.10/site-packages (from -r ../requirements.txt (line 67)) (1.5.6)\n",
      "Requirement already satisfied: notebook==6.5.2 in /Users/takahiromitsui/.pyenv/versions/3.10.9/envs/geospacial/lib/python3.10/site-packages (from -r ../requirements.txt (line 68)) (6.5.2)\n",
      "Requirement already satisfied: notebook_shim==0.2.2 in /Users/takahiromitsui/.pyenv/versions/3.10.9/envs/geospacial/lib/python3.10/site-packages (from -r ../requirements.txt (line 69)) (0.2.2)\n",
      "Requirement already satisfied: numpy==1.23.5 in /Users/takahiromitsui/.pyenv/versions/3.10.9/envs/geospacial/lib/python3.10/site-packages (from -r ../requirements.txt (line 70)) (1.23.5)\n",
      "Requirement already satisfied: oauthlib==3.2.2 in /Users/takahiromitsui/.pyenv/versions/3.10.9/envs/geospacial/lib/python3.10/site-packages (from -r ../requirements.txt (line 71)) (3.2.2)\n",
      "Requirement already satisfied: opt-einsum==3.3.0 in /Users/takahiromitsui/.pyenv/versions/3.10.9/envs/geospacial/lib/python3.10/site-packages (from -r ../requirements.txt (line 72)) (3.3.0)\n",
      "Requirement already satisfied: packaging==23.0 in /Users/takahiromitsui/.pyenv/versions/3.10.9/envs/geospacial/lib/python3.10/site-packages (from -r ../requirements.txt (line 73)) (23.0)\n",
      "Requirement already satisfied: pandocfilters==1.5.0 in /Users/takahiromitsui/.pyenv/versions/3.10.9/envs/geospacial/lib/python3.10/site-packages (from -r ../requirements.txt (line 74)) (1.5.0)\n",
      "Requirement already satisfied: parso==0.8.3 in /Users/takahiromitsui/.pyenv/versions/3.10.9/envs/geospacial/lib/python3.10/site-packages (from -r ../requirements.txt (line 75)) (0.8.3)\n",
      "Requirement already satisfied: patchify==0.2.3 in /Users/takahiromitsui/.pyenv/versions/3.10.9/envs/geospacial/lib/python3.10/site-packages (from -r ../requirements.txt (line 76)) (0.2.3)\n",
      "Requirement already satisfied: pexpect==4.8.0 in /Users/takahiromitsui/.pyenv/versions/3.10.9/envs/geospacial/lib/python3.10/site-packages (from -r ../requirements.txt (line 77)) (4.8.0)\n",
      "Requirement already satisfied: pickleshare==0.7.5 in /Users/takahiromitsui/.pyenv/versions/3.10.9/envs/geospacial/lib/python3.10/site-packages (from -r ../requirements.txt (line 78)) (0.7.5)\n",
      "Requirement already satisfied: Pillow==9.4.0 in /Users/takahiromitsui/.pyenv/versions/3.10.9/envs/geospacial/lib/python3.10/site-packages (from -r ../requirements.txt (line 79)) (9.4.0)\n",
      "Requirement already satisfied: platformdirs==3.1.0 in /Users/takahiromitsui/.pyenv/versions/3.10.9/envs/geospacial/lib/python3.10/site-packages (from -r ../requirements.txt (line 80)) (3.1.0)\n",
      "Requirement already satisfied: prometheus-client==0.16.0 in /Users/takahiromitsui/.pyenv/versions/3.10.9/envs/geospacial/lib/python3.10/site-packages (from -r ../requirements.txt (line 81)) (0.16.0)\n",
      "Requirement already satisfied: prompt-toolkit==3.0.38 in /Users/takahiromitsui/.pyenv/versions/3.10.9/envs/geospacial/lib/python3.10/site-packages (from -r ../requirements.txt (line 82)) (3.0.38)\n",
      "Requirement already satisfied: protobuf==4.22.1 in /Users/takahiromitsui/.pyenv/versions/3.10.9/envs/geospacial/lib/python3.10/site-packages (from -r ../requirements.txt (line 83)) (4.22.1)\n",
      "Requirement already satisfied: psutil==5.9.4 in /Users/takahiromitsui/.pyenv/versions/3.10.9/envs/geospacial/lib/python3.10/site-packages (from -r ../requirements.txt (line 84)) (5.9.4)\n",
      "Requirement already satisfied: ptyprocess==0.7.0 in /Users/takahiromitsui/.pyenv/versions/3.10.9/envs/geospacial/lib/python3.10/site-packages (from -r ../requirements.txt (line 85)) (0.7.0)\n",
      "Requirement already satisfied: pure-eval==0.2.2 in /Users/takahiromitsui/.pyenv/versions/3.10.9/envs/geospacial/lib/python3.10/site-packages (from -r ../requirements.txt (line 86)) (0.2.2)\n",
      "Requirement already satisfied: pyasn1==0.4.8 in /Users/takahiromitsui/.pyenv/versions/3.10.9/envs/geospacial/lib/python3.10/site-packages (from -r ../requirements.txt (line 87)) (0.4.8)\n",
      "Requirement already satisfied: pyasn1-modules==0.2.8 in /Users/takahiromitsui/.pyenv/versions/3.10.9/envs/geospacial/lib/python3.10/site-packages (from -r ../requirements.txt (line 88)) (0.2.8)\n",
      "Requirement already satisfied: pycparser==2.21 in /Users/takahiromitsui/.pyenv/versions/3.10.9/envs/geospacial/lib/python3.10/site-packages (from -r ../requirements.txt (line 89)) (2.21)\n",
      "Requirement already satisfied: Pygments==2.14.0 in /Users/takahiromitsui/.pyenv/versions/3.10.9/envs/geospacial/lib/python3.10/site-packages (from -r ../requirements.txt (line 90)) (2.14.0)\n",
      "Requirement already satisfied: pyrsistent==0.19.3 in /Users/takahiromitsui/.pyenv/versions/3.10.9/envs/geospacial/lib/python3.10/site-packages (from -r ../requirements.txt (line 91)) (0.19.3)\n",
      "Requirement already satisfied: python-dateutil==2.8.2 in /Users/takahiromitsui/.pyenv/versions/3.10.9/envs/geospacial/lib/python3.10/site-packages (from -r ../requirements.txt (line 92)) (2.8.2)\n",
      "Requirement already satisfied: python-dotenv==1.0.0 in /Users/takahiromitsui/.pyenv/versions/3.10.9/envs/geospacial/lib/python3.10/site-packages (from -r ../requirements.txt (line 93)) (1.0.0)\n",
      "Requirement already satisfied: python-json-logger==2.0.7 in /Users/takahiromitsui/.pyenv/versions/3.10.9/envs/geospacial/lib/python3.10/site-packages (from -r ../requirements.txt (line 94)) (2.0.7)\n",
      "Requirement already satisfied: PyYAML==6.0 in /Users/takahiromitsui/.pyenv/versions/3.10.9/envs/geospacial/lib/python3.10/site-packages (from -r ../requirements.txt (line 95)) (6.0)\n",
      "Requirement already satisfied: pyzmq==25.0.0 in /Users/takahiromitsui/.pyenv/versions/3.10.9/envs/geospacial/lib/python3.10/site-packages (from -r ../requirements.txt (line 96)) (25.0.0)\n",
      "Requirement already satisfied: requests==2.28.2 in /Users/takahiromitsui/.pyenv/versions/3.10.9/envs/geospacial/lib/python3.10/site-packages (from -r ../requirements.txt (line 97)) (2.28.2)\n",
      "Requirement already satisfied: requests-oauthlib==1.3.1 in /Users/takahiromitsui/.pyenv/versions/3.10.9/envs/geospacial/lib/python3.10/site-packages (from -r ../requirements.txt (line 98)) (1.3.1)\n",
      "Requirement already satisfied: rfc3339-validator==0.1.4 in /Users/takahiromitsui/.pyenv/versions/3.10.9/envs/geospacial/lib/python3.10/site-packages (from -r ../requirements.txt (line 99)) (0.1.4)\n",
      "Requirement already satisfied: rfc3986-validator==0.1.1 in /Users/takahiromitsui/.pyenv/versions/3.10.9/envs/geospacial/lib/python3.10/site-packages (from -r ../requirements.txt (line 100)) (0.1.1)\n",
      "Requirement already satisfied: rsa==4.9 in /Users/takahiromitsui/.pyenv/versions/3.10.9/envs/geospacial/lib/python3.10/site-packages (from -r ../requirements.txt (line 101)) (4.9)\n",
      "Requirement already satisfied: scipy==1.10.1 in /Users/takahiromitsui/.pyenv/versions/3.10.9/envs/geospacial/lib/python3.10/site-packages (from -r ../requirements.txt (line 102)) (1.10.1)\n",
      "Requirement already satisfied: Send2Trash==1.8.0 in /Users/takahiromitsui/.pyenv/versions/3.10.9/envs/geospacial/lib/python3.10/site-packages (from -r ../requirements.txt (line 103)) (1.8.0)\n",
      "Requirement already satisfied: six==1.16.0 in /Users/takahiromitsui/.pyenv/versions/3.10.9/envs/geospacial/lib/python3.10/site-packages (from -r ../requirements.txt (line 104)) (1.16.0)\n",
      "Requirement already satisfied: sniffio==1.3.0 in /Users/takahiromitsui/.pyenv/versions/3.10.9/envs/geospacial/lib/python3.10/site-packages (from -r ../requirements.txt (line 105)) (1.3.0)\n",
      "Requirement already satisfied: soupsieve==2.4 in /Users/takahiromitsui/.pyenv/versions/3.10.9/envs/geospacial/lib/python3.10/site-packages (from -r ../requirements.txt (line 106)) (2.4)\n",
      "Requirement already satisfied: stack-data==0.6.2 in /Users/takahiromitsui/.pyenv/versions/3.10.9/envs/geospacial/lib/python3.10/site-packages (from -r ../requirements.txt (line 107)) (0.6.2)\n",
      "Requirement already satisfied: tensorboard==2.12.0 in /Users/takahiromitsui/.pyenv/versions/3.10.9/envs/geospacial/lib/python3.10/site-packages (from -r ../requirements.txt (line 108)) (2.12.0)\n",
      "Requirement already satisfied: tensorboard-data-server==0.7.0 in /Users/takahiromitsui/.pyenv/versions/3.10.9/envs/geospacial/lib/python3.10/site-packages (from -r ../requirements.txt (line 109)) (0.7.0)\n",
      "Requirement already satisfied: tensorboard-plugin-wit==1.8.1 in /Users/takahiromitsui/.pyenv/versions/3.10.9/envs/geospacial/lib/python3.10/site-packages (from -r ../requirements.txt (line 110)) (1.8.1)\n",
      "Requirement already satisfied: tensorflow==2.12.0 in /Users/takahiromitsui/.pyenv/versions/3.10.9/envs/geospacial/lib/python3.10/site-packages (from -r ../requirements.txt (line 111)) (2.12.0)\n",
      "Requirement already satisfied: tensorflow-estimator==2.12.0 in /Users/takahiromitsui/.pyenv/versions/3.10.9/envs/geospacial/lib/python3.10/site-packages (from -r ../requirements.txt (line 112)) (2.12.0)\n",
      "Requirement already satisfied: tensorflow-io-gcs-filesystem==0.32.0 in /Users/takahiromitsui/.pyenv/versions/3.10.9/envs/geospacial/lib/python3.10/site-packages (from -r ../requirements.txt (line 113)) (0.32.0)\n",
      "Requirement already satisfied: termcolor==2.2.0 in /Users/takahiromitsui/.pyenv/versions/3.10.9/envs/geospacial/lib/python3.10/site-packages (from -r ../requirements.txt (line 114)) (2.2.0)\n",
      "Requirement already satisfied: terminado==0.17.1 in /Users/takahiromitsui/.pyenv/versions/3.10.9/envs/geospacial/lib/python3.10/site-packages (from -r ../requirements.txt (line 115)) (0.17.1)\n",
      "Requirement already satisfied: tinycss2==1.2.1 in /Users/takahiromitsui/.pyenv/versions/3.10.9/envs/geospacial/lib/python3.10/site-packages (from -r ../requirements.txt (line 116)) (1.2.1)\n",
      "Requirement already satisfied: tomli==2.0.1 in /Users/takahiromitsui/.pyenv/versions/3.10.9/envs/geospacial/lib/python3.10/site-packages (from -r ../requirements.txt (line 117)) (2.0.1)\n",
      "Requirement already satisfied: tornado==6.2 in /Users/takahiromitsui/.pyenv/versions/3.10.9/envs/geospacial/lib/python3.10/site-packages (from -r ../requirements.txt (line 118)) (6.2)\n",
      "Requirement already satisfied: traitlets==5.9.0 in /Users/takahiromitsui/.pyenv/versions/3.10.9/envs/geospacial/lib/python3.10/site-packages (from -r ../requirements.txt (line 119)) (5.9.0)\n",
      "Requirement already satisfied: typing_extensions==4.5.0 in /Users/takahiromitsui/.pyenv/versions/3.10.9/envs/geospacial/lib/python3.10/site-packages (from -r ../requirements.txt (line 120)) (4.5.0)\n",
      "Requirement already satisfied: uri-template==1.2.0 in /Users/takahiromitsui/.pyenv/versions/3.10.9/envs/geospacial/lib/python3.10/site-packages (from -r ../requirements.txt (line 121)) (1.2.0)\n",
      "Requirement already satisfied: urllib3==1.26.14 in /Users/takahiromitsui/.pyenv/versions/3.10.9/envs/geospacial/lib/python3.10/site-packages (from -r ../requirements.txt (line 122)) (1.26.14)\n",
      "Requirement already satisfied: wcwidth==0.2.6 in /Users/takahiromitsui/.pyenv/versions/3.10.9/envs/geospacial/lib/python3.10/site-packages (from -r ../requirements.txt (line 123)) (0.2.6)\n",
      "Requirement already satisfied: webcolors==1.12 in /Users/takahiromitsui/.pyenv/versions/3.10.9/envs/geospacial/lib/python3.10/site-packages (from -r ../requirements.txt (line 124)) (1.12)\n",
      "Requirement already satisfied: webencodings==0.5.1 in /Users/takahiromitsui/.pyenv/versions/3.10.9/envs/geospacial/lib/python3.10/site-packages (from -r ../requirements.txt (line 125)) (0.5.1)\n",
      "Requirement already satisfied: websocket-client==1.5.1 in /Users/takahiromitsui/.pyenv/versions/3.10.9/envs/geospacial/lib/python3.10/site-packages (from -r ../requirements.txt (line 126)) (1.5.1)\n",
      "Requirement already satisfied: Werkzeug==2.2.3 in /Users/takahiromitsui/.pyenv/versions/3.10.9/envs/geospacial/lib/python3.10/site-packages (from -r ../requirements.txt (line 127)) (2.2.3)\n",
      "Requirement already satisfied: wrapt==1.14.1 in /Users/takahiromitsui/.pyenv/versions/3.10.9/envs/geospacial/lib/python3.10/site-packages (from -r ../requirements.txt (line 128)) (1.14.1)\n",
      "Requirement already satisfied: y-py==0.5.9 in /Users/takahiromitsui/.pyenv/versions/3.10.9/envs/geospacial/lib/python3.10/site-packages (from -r ../requirements.txt (line 129)) (0.5.9)\n",
      "Requirement already satisfied: ypy-websocket==0.8.2 in /Users/takahiromitsui/.pyenv/versions/3.10.9/envs/geospacial/lib/python3.10/site-packages (from -r ../requirements.txt (line 130)) (0.8.2)\n",
      "Requirement already satisfied: wheel<1.0,>=0.23.0 in /Users/takahiromitsui/.pyenv/versions/3.10.9/envs/geospacial/lib/python3.10/site-packages (from astunparse==1.6.3->-r ../requirements.txt (line 10)) (0.40.0)\n",
      "Requirement already satisfied: setuptools>=41.0.0 in /Users/takahiromitsui/.pyenv/versions/3.10.9/envs/geospacial/lib/python3.10/site-packages (from tensorboard==2.12.0->-r ../requirements.txt (line 108)) (65.5.0)\n",
      "\n",
      "\u001b[1m[\u001b[0m\u001b[34;49mnotice\u001b[0m\u001b[1;39;49m]\u001b[0m\u001b[39;49m A new release of pip available: \u001b[0m\u001b[31;49m22.3.1\u001b[0m\u001b[39;49m -> \u001b[0m\u001b[32;49m23.0.1\u001b[0m\n",
      "\u001b[1m[\u001b[0m\u001b[34;49mnotice\u001b[0m\u001b[1;39;49m]\u001b[0m\u001b[39;49m To update, run: \u001b[0m\u001b[32;49mpip install --upgrade pip\u001b[0m\n"
     ]
    }
   ],
   "source": [
    "# ! pip install -r ../requirements.txt\n",
    "import numpy as np\n",
    "import os\n",
    "root = \"../data_colab/256_256\"\n",
    "# root = \"../data/experiment1\"\n",
    "\n",
    "y_train  = np.load(os.path.join(root,'2022_06_20.npz'))['y_mask']\n",
    "x_train  = np.load(os.path.join(root,'2022_06_20.npz'))['x_input']\n",
    "\n",
    "y_val = np.load(os.path.join(root,'2022_07_10.npz'))['y_mask']\n",
    "x_val = np.load(os.path.join(root,'2022_07_10.npz'))['x_input']\n",
    "\n",
    "y_test = np.load(os.path.join(root, '2022_07_25.npz'))['y_mask']\n",
    "x_test = np.load(os.path.join(root, '2022_07_25.npz'))['x_input']"
   ]
  },
  {
   "attachments": {},
   "cell_type": "markdown",
   "metadata": {},
   "source": [
    "### 2. Set absolute path to import functions"
   ]
  },
  {
   "cell_type": "code",
   "execution_count": null,
   "metadata": {},
   "outputs": [],
   "source": [
    "import os\n",
    "import sys\n",
    "\n",
    "module_path = os.path.abspath(os.path.join('..'))\n",
    "if module_path not in sys.path:\n",
    "    sys.path.append(module_path)"
   ]
  },
  {
   "attachments": {},
   "cell_type": "markdown",
   "metadata": {},
   "source": [
    "### 3. Normalizing"
   ]
  },
  {
   "cell_type": "code",
   "execution_count": 5,
   "metadata": {},
   "outputs": [
    {
     "name": "stderr",
     "output_type": "stream",
     "text": [
      "2023-03-31 18:02:00.031617: I tensorflow/core/platform/cpu_feature_guard.cc:182] This TensorFlow binary is optimized to use available CPU instructions in performance-critical operations.\n",
      "To enable the following instructions: AVX2 FMA, in other operations, rebuild TensorFlow with the appropriate compiler flags.\n"
     ]
    },
    {
     "name": "stdout",
     "output_type": "stream",
     "text": [
      "y shape:  (1251, 256, 256)\n",
      "Normalizing data...\n",
      "y one hot shape:  (1251, 256, 256, 3)\n",
      "y shape:  (1251, 256, 256)\n",
      "Normalizing data...\n",
      "y one hot shape:  (1251, 256, 256, 3)\n",
      "y shape:  (1251, 256, 256)\n",
      "Normalizing data...\n",
      "y one hot shape:  (1251, 256, 256, 3)\n"
     ]
    }
   ],
   "source": [
    "from experiments.helpers import normalizing\n",
    "\n",
    "x_train, y_train = normalizing(x_train, y_train)\n",
    "X_val, y_val = normalizing(x_val, y_val)\n",
    "x_test, y_test = normalizing(x_test, y_test)"
   ]
  },
  {
   "attachments": {},
   "cell_type": "markdown",
   "metadata": {},
   "source": [
    "### 4. Compiling the model"
   ]
  },
  {
   "cell_type": "code",
   "execution_count": 6,
   "metadata": {},
   "outputs": [
    {
     "name": "stdout",
     "output_type": "stream",
     "text": [
      "Model: \"model\"\n",
      "__________________________________________________________________________________________________\n",
      " Layer (type)                   Output Shape         Param #     Connected to                     \n",
      "==================================================================================================\n",
      " input_1 (InputLayer)           [(None, 256, 256, 5  0           []                               \n",
      "                                )]                                                                \n",
      "                                                                                                  \n",
      " conv2d (Conv2D)                (None, 256, 256, 64  2944        ['input_1[0][0]']                \n",
      "                                )                                                                 \n",
      "                                                                                                  \n",
      " conv2d_1 (Conv2D)              (None, 256, 256, 64  36928       ['conv2d[0][0]']                 \n",
      "                                )                                                                 \n",
      "                                                                                                  \n",
      " max_pooling2d (MaxPooling2D)   (None, 128, 128, 64  0           ['conv2d_1[0][0]']               \n",
      "                                )                                                                 \n",
      "                                                                                                  \n",
      " conv2d_2 (Conv2D)              (None, 128, 128, 12  73856       ['max_pooling2d[0][0]']          \n",
      "                                8)                                                                \n",
      "                                                                                                  \n",
      " conv2d_3 (Conv2D)              (None, 128, 128, 12  147584      ['conv2d_2[0][0]']               \n",
      "                                8)                                                                \n",
      "                                                                                                  \n",
      " max_pooling2d_1 (MaxPooling2D)  (None, 64, 64, 128)  0          ['conv2d_3[0][0]']               \n",
      "                                                                                                  \n",
      " conv2d_4 (Conv2D)              (None, 64, 64, 256)  295168      ['max_pooling2d_1[0][0]']        \n",
      "                                                                                                  \n",
      " conv2d_5 (Conv2D)              (None, 64, 64, 256)  590080      ['conv2d_4[0][0]']               \n",
      "                                                                                                  \n",
      " max_pooling2d_2 (MaxPooling2D)  (None, 32, 32, 256)  0          ['conv2d_5[0][0]']               \n",
      "                                                                                                  \n",
      " conv2d_6 (Conv2D)              (None, 32, 32, 512)  1180160     ['max_pooling2d_2[0][0]']        \n",
      "                                                                                                  \n",
      " conv2d_7 (Conv2D)              (None, 32, 32, 512)  2359808     ['conv2d_6[0][0]']               \n",
      "                                                                                                  \n",
      " up_sampling2d (UpSampling2D)   (None, 64, 64, 512)  0           ['conv2d_7[0][0]']               \n",
      "                                                                                                  \n",
      " concatenate (Concatenate)      (None, 64, 64, 768)  0           ['up_sampling2d[0][0]',          \n",
      "                                                                  'conv2d_5[0][0]']               \n",
      "                                                                                                  \n",
      " conv2d_8 (Conv2D)              (None, 64, 64, 256)  1769728     ['concatenate[0][0]']            \n",
      "                                                                                                  \n",
      " conv2d_9 (Conv2D)              (None, 64, 64, 256)  590080      ['conv2d_8[0][0]']               \n",
      "                                                                                                  \n",
      " up_sampling2d_1 (UpSampling2D)  (None, 128, 128, 25  0          ['conv2d_9[0][0]']               \n",
      "                                6)                                                                \n",
      "                                                                                                  \n",
      " concatenate_1 (Concatenate)    (None, 128, 128, 38  0           ['up_sampling2d_1[0][0]',        \n",
      "                                4)                                'conv2d_3[0][0]']               \n",
      "                                                                                                  \n",
      " conv2d_10 (Conv2D)             (None, 128, 128, 12  442496      ['concatenate_1[0][0]']          \n",
      "                                8)                                                                \n",
      "                                                                                                  \n",
      " conv2d_11 (Conv2D)             (None, 128, 128, 12  147584      ['conv2d_10[0][0]']              \n",
      "                                8)                                                                \n",
      "                                                                                                  \n",
      " up_sampling2d_2 (UpSampling2D)  (None, 256, 256, 12  0          ['conv2d_11[0][0]']              \n",
      "                                8)                                                                \n",
      "                                                                                                  \n",
      " concatenate_2 (Concatenate)    (None, 256, 256, 19  0           ['up_sampling2d_2[0][0]',        \n",
      "                                2)                                'conv2d_1[0][0]']               \n",
      "                                                                                                  \n",
      " conv2d_12 (Conv2D)             (None, 256, 256, 64  110656      ['concatenate_2[0][0]']          \n",
      "                                )                                                                 \n",
      "                                                                                                  \n",
      " conv2d_13 (Conv2D)             (None, 256, 256, 64  36928       ['conv2d_12[0][0]']              \n",
      "                                )                                                                 \n",
      "                                                                                                  \n",
      " conv2d_14 (Conv2D)             (None, 256, 256, 3)  195         ['conv2d_13[0][0]']              \n",
      "                                                                                                  \n",
      "==================================================================================================\n",
      "Total params: 7,784,195\n",
      "Trainable params: 7,784,195\n",
      "Non-trainable params: 0\n",
      "__________________________________________________________________________________________________\n"
     ]
    }
   ],
   "source": [
    "from models.unet_model import unet_2d\n",
    "model = unet_2d(input_shape=(256, 256, 5), num_classes=3)\n",
    "model.summary()"
   ]
  },
  {
   "attachments": {},
   "cell_type": "markdown",
   "metadata": {},
   "source": [
    "### 5. Execute trainings + saving results"
   ]
  },
  {
   "cell_type": "code",
   "execution_count": 7,
   "metadata": {},
   "outputs": [],
   "source": [
    "tile_size = 256\n",
    "step_size = 200\n",
    "saving_path = 'experiment_1'\n",
    "training_dates = '2022_06_20'\n",
    "validation_dates = '2022_07_10'\n",
    "testing_dates = '2022_07_25'\n",
    "all_metrics_test = []\n",
    "all_metrics_val = []\n",
    "all_metrics_train = []"
   ]
  },
  {
   "cell_type": "code",
   "execution_count": 8,
   "metadata": {},
   "outputs": [
    {
     "name": "stdout",
     "output_type": "stream",
     "text": [
      "Start training number 0\n",
      "Epoch 1/100\n",
      " 1/40 [..............................] - ETA: 1:25:30 - loss: 1.0915 - accuracy: 0.4066"
     ]
    }
   ],
   "source": [
    "from experiments.helpers import define_model, train_model, save_model, save_model_history, predict_model, evaluate_predictions, save_metrics\n",
    "\n",
    "# Define model\n",
    "model = define_model((256, 256, 5), 3)\n",
    "\n",
    "for count in range(0, 10):\n",
    "    print(f'Start training number {count}')\n",
    "    # Train model\n",
    "    history = train_model(model, x_train, y_train, x_val, y_val, epochs=100)\n",
    "    print('training completed')\n",
    "    # Save model\n",
    "    model_name = f'{tile_size}_{step_size}_run_{count}'\n",
    "    save_model(model, model_name, saving_path)\n",
    "    print('saving model completed')\n",
    "    # Save model history\n",
    "    save_model_history(history, model_name, saving_path)\n",
    "    print('saving history completed')\n",
    "    # Predict \n",
    "    pred_train, pred_val, pred_test = predict_model(model, x_train, x_val, x_test)\n",
    "    print('prediction completed')\n",
    "    # Evaluate predictions\n",
    "    metrics_dict = evaluate_predictions(x_train, x_val, x_test, y_train, y_val, y_test, pred_train, pred_val, pred_test, training_dates, validation_dates, testing_dates, tile_size, step_size, count)\n",
    "    print('evaluation completed')\n",
    "    # Save metrics\n",
    "    save_metrics(metrics_dict, model_name, saving_path)\n",
    "    print('saving metrics completed')\n",
    "    all_metrics_test.append(metrics_dict['metrics_test'])\n",
    "    all_metrics_val.append(metrics_dict['metrics_val'])\n",
    "    all_metrics_train.append(metrics_dict['metrics_train'])"
   ]
  },
  {
   "attachments": {},
   "cell_type": "markdown",
   "metadata": {},
   "source": [
    "### 6. Results"
   ]
  },
  {
   "cell_type": "code",
   "execution_count": null,
   "metadata": {},
   "outputs": [],
   "source": [
    "for idx, metric in enumerate(all_metrics_test):\n",
    "  print(f'========= RUN {idx + 1} ============')\n",
    "  print(f'TEST DATA')\n",
    "  metric.print_metrics()\n",
    "  print()\n",
    "  print(f'VALIDATION DATA')\n",
    "  all_metrics_val[idx].print_metrics()\n",
    "  print(f'TRAINING DATA')\n",
    "  all_metrics_train[idx].print_metrics()\n",
    "  print()\n",
    "  print()"
   ]
  },
  {
   "cell_type": "code",
   "execution_count": null,
   "metadata": {},
   "outputs": [],
   "source": [
    "from experiments.helpers import get_mean_jaccard\n",
    "\n",
    "print('============ TEST DATA ===================')\n",
    "get_mean_jaccard(all_metrics_test)\n",
    "print()\n",
    "\n",
    "print('============ VALIDATION DATA ===================')\n",
    "get_mean_jaccard(all_metrics_val)\n",
    "print()\n",
    "\n",
    "print('============ TRAINING DATA ===================')\n",
    "get_mean_jaccard(all_metrics_train)\n",
    "print()"
   ]
  }
 ],
 "metadata": {
  "kernelspec": {
   "display_name": "geospacial",
   "language": "python",
   "name": "python3"
  },
  "language_info": {
   "codemirror_mode": {
    "name": "ipython",
    "version": 3
   },
   "file_extension": ".py",
   "mimetype": "text/x-python",
   "name": "python",
   "nbconvert_exporter": "python",
   "pygments_lexer": "ipython3",
   "version": "3.10.9"
  },
  "orig_nbformat": 4
 },
 "nbformat": 4,
 "nbformat_minor": 2
}
