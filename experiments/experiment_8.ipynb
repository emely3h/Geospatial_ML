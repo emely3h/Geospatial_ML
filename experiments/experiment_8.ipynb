{
  "nbformat": 4,
  "nbformat_minor": 0,
  "metadata": {
    "colab": {
      "provenance": [],
      "machine_shape": "hm",
      "gpuType": "A100",
      "authorship_tag": "ABX9TyNh2g67mrKlu1pRZJVnku7/",
      "include_colab_link": true
    },
    "kernelspec": {
      "name": "python3",
      "display_name": "Python 3"
    },
    "language_info": {
      "name": "python"
    },
    "gpuClass": "standard",
    "accelerator": "GPU"
  },
  "cells": [
    {
      "cell_type": "markdown",
      "metadata": {
        "id": "view-in-github",
        "colab_type": "text"
      },
      "source": [
        "<a href=\"https://colab.research.google.com/github/emely3h/Geospatial_ML/blob/main/experiments/experiment_8.ipynb\" target=\"_parent\"><img src=\"https://colab.research.google.com/assets/colab-badge.svg\" alt=\"Open In Colab\"/></a>"
      ]
    },
    {
      "cell_type": "markdown",
      "source": [
        "# U-Net Experiment 8: Finding optimal depth of U-Net"
      ],
      "metadata": {
        "collapsed": false,
        "id": "1PYQRhrsz19U"
      }
    },
    {
      "cell_type": "markdown",
      "source": [
        "### 0. Prepare Colab, Define Constants"
      ],
      "metadata": {
        "id": "TQiNFtcib6wl"
      }
    },
    {
      "cell_type": "code",
      "source": [
        "from google.colab import drive\n",
        "drive.mount('/content/drive')"
      ],
      "metadata": {
        "colab": {
          "base_uri": "https://localhost:8080/"
        },
        "id": "osm1lHOLb-Is",
        "outputId": "74f98c70-17cd-4aea-d5c9-ca9546628e73"
      },
      "execution_count": 1,
      "outputs": [
        {
          "output_type": "stream",
          "name": "stdout",
          "text": [
            "Drive already mounted at /content/drive; to attempt to forcibly remount, call drive.mount(\"/content/drive\", force_remount=True).\n"
          ]
        }
      ]
    },
    {
      "cell_type": "code",
      "source": [
        "#! ls\n",
        "%cd drive/MyDrive/MachineLearning/\n",
        "#! git clone https://github.com/emely3h/Geospatial_ML.git\n",
        "%cd Geospatial_ML\n",
        "! ls\n",
        "#! git pull\n",
        "! git checkout fix/metrics"
      ],
      "metadata": {
        "colab": {
          "base_uri": "https://localhost:8080/"
        },
        "id": "HV1KZvqMb_6S",
        "outputId": "5ff7fcab-06ab-4be2-b07d-c407cf6ebbcf"
      },
      "execution_count": 2,
      "outputs": [
        {
          "output_type": "stream",
          "name": "stdout",
          "text": [
            "/content/drive/.shortcut-targets-by-id/15HUD3sGdfvxy5Y_bjvuXgrzwxt7TzRfm/MachineLearning\n",
            "/content/drive/.shortcut-targets-by-id/15HUD3sGdfvxy5Y_bjvuXgrzwxt7TzRfm/MachineLearning/Geospatial_ML\n",
            "data_exploration  evaluation   models\t    prepare_data    README.md\n",
            "docs\t\t  experiments  poetry.lock  pyproject.toml  requirements.txt\n",
            "error: The following untracked working tree files would be removed by checkout:\n",
            "\tevaluation/evaluation_metrics_total.py\n",
            "Please move or remove them before you switch branches.\n",
            "Aborting\n"
          ]
        }
      ]
    },
    {
      "cell_type": "code",
      "source": [
        "import numpy as np\n",
        "import os\n",
        "import pandas as pd\n",
        "import matplotlib.pyplot as plt\n",
        "import tensorflow as tf\n",
        "from tensorflow import keras\n",
        "from keras.models import Model\n",
        "from keras.layers import (\n",
        "    Input,\n",
        "    Conv2D,\n",
        "    MaxPooling2D,\n",
        "    concatenate,\n",
        "    Conv2DTranspose,\n",
        "    Dropout,\n",
        "    UpSampling2D\n",
        ")\n",
        "from keras.losses import categorical_crossentropy\n",
        "from tensorflow.keras.callbacks import EarlyStopping\n",
        "from sklearn.model_selection import train_test_split\n",
        "import pickle\n",
        "from keras.utils import Sequence\n",
        "from datetime import datetime\n",
        "from models.unet_model import unet_2d\n",
        "from evaluation.evaluation_metrics import EvaluationMetrics\n",
        "from data_exploration.mask_stats import Mask_Stats\n",
        "from tensorflow.keras.models import load_model\n",
        "from models.helpers import save_metrics, predictions_for_models\n",
        "from evaluation.helpers import plot_metrics, load_metrics_into_df, calc_save_metrics_pred\n",
        "from tensorflow.keras.callbacks import ModelCheckpoint\n",
        "from tensorflow.keras.utils import to_categorical\n",
        "from tensorflow.keras.optimizers.experimental import Adamax"
      ],
      "metadata": {
        "id": "0FB7ZXQkcKB_"
      },
      "execution_count": 3,
      "outputs": []
    },
    {
      "cell_type": "code",
      "source": [
        "total_tiles = 11121\n",
        "train_tiles = 6672\n",
        "test_val_tiles = 2224\n",
        "data_path = \"../data_colab/256_256\"\n",
        "experiment = \"experiment_8\"\n",
        "batch_size = 32\n",
        "tile_size = 256\n",
        "step_size = 256"
      ],
      "metadata": {
        "id": "S2dxthwRWXTI"
      },
      "execution_count": 4,
      "outputs": []
    },
    {
      "cell_type": "markdown",
      "source": [
        "### 1. Create Data Generators"
      ],
      "metadata": {
        "id": "ttWhjzmFSqXR"
      }
    },
    {
      "cell_type": "code",
      "source": [
        "train_split_x = np.memmap(os.path.join(data_path, \"train_split_x.npy\"), mode=\"r\", shape=(train_tiles, 256, 256, 5), dtype=np.uint8)\n",
        "train_split_y = np.memmap(os.path.join(data_path, \"train_split_y.npy\"), mode=\"r\", shape=(train_tiles, 256, 256), dtype=np.uint8)\n",
        "val_split_x = np.memmap(os.path.join(data_path, \"val_split_x.npy\"), mode=\"r\", shape=(test_val_tiles, 256, 256, 5), dtype=np.uint8)\n",
        "val_split_y = np.memmap(os.path.join(data_path, \"val_split_y.npy\"), mode=\"r\", shape=(test_val_tiles, 256, 256), dtype=np.uint8)\n",
        "test_split_x = np.memmap(os.path.join(data_path, \"test_split_x.npy\"), mode=\"r\", shape=(test_val_tiles, 256, 256, 5), dtype=np.uint8)\n",
        "test_split_y = np.memmap(os.path.join(data_path, \"test_split_y.npy\"), mode=\"r\", shape=(test_val_tiles, 256, 256), dtype=np.uint8)\n",
        "\n",
        "train_stats = Mask_Stats(train_split_y)\n",
        "train_stats.print_stats()\n",
        "print()\n",
        "val_stats = Mask_Stats(val_split_y)\n",
        "val_stats.print_stats()\n",
        "print()\n",
        "test_stats = Mask_Stats(test_split_y)\n",
        "test_stats.print_stats()"
      ],
      "metadata": {
        "id": "RYCVuKoUJw-8",
        "outputId": "4bbe5b50-7347-4de6-be97-452f49b7c869",
        "colab": {
          "base_uri": "https://localhost:8080/"
        }
      },
      "execution_count": 5,
      "outputs": [
        {
          "output_type": "stream",
          "name": "stdout",
          "text": [
            "Shape: (6672, 256, 256)\n",
            "Land pixels: 195058814  44.610 %\n",
            "Valid pixels: 138904480  31.767 %\n",
            "Invalid pixels: 103292898  23.623 %\n",
            "Sum: 6672\n",
            "\n",
            "Shape: (2224, 256, 256)\n",
            "Land pixels: 65320265  44.816 %\n",
            "Valid pixels: 46246663  31.730 %\n",
            "Invalid pixels: 34185136  23.454 %\n",
            "Sum: 2224\n",
            "\n",
            "Shape: (2224, 256, 256)\n",
            "Land pixels: 64786699  44.450 %\n",
            "Valid pixels: 46892391  32.173 %\n",
            "Invalid pixels: 34072974  23.377 %\n",
            "Sum: 2224\n"
          ]
        }
      ]
    },
    {
      "cell_type": "code",
      "source": [
        "class DataGenerator(Sequence):\n",
        "    def __init__(self, mmap_x, mmap_y, batch_size):\n",
        "        self.x_input = mmap_x\n",
        "        self.y_mask = mmap_y\n",
        "        self.batch_size = batch_size\n",
        "        self.num_samples = self.x_input.shape[0]\n",
        "\n",
        "    # returns number of batches as int    \n",
        "    def __len__(self):\n",
        "        return int(np.ceil(self.num_samples / float(self.batch_size)))\n",
        "    \n",
        "    # returns single batch\n",
        "    def __getitem__(self, index):\n",
        "        batch_indices = slice(index * self.batch_size, (index + 1) * self.batch_size)\n",
        "        batch_inputs = self.x_input[batch_indices]\n",
        "        batch_masks = self.y_mask[batch_indices]\n",
        "\n",
        "        # normalization\n",
        "        batch_inputs = batch_inputs/255\n",
        "        # one-hot-encoding\n",
        "        batch_masks = np.array([tf.one_hot(item, depth=3).numpy() for item in batch_masks])      \n",
        "        \n",
        "        # normalization + one hot encoding\n",
        "        return batch_inputs, batch_masks\n",
        "    \n",
        "    def getitem_as_img(self, index):\n",
        "        batch_indices = slice(index * self.batch_size, (index + 1) * self.batch_size)\n",
        "        batch_inputs = self.x_input[batch_indices]\n",
        "        batch_masks = self.y_mask[batch_indices]\n",
        "        # normalization + one hot encoding\n",
        "        return batch_inputs, batch_masks"
      ],
      "metadata": {
        "id": "6_TRNH5sKjPk"
      },
      "execution_count": 6,
      "outputs": []
    },
    {
      "cell_type": "code",
      "source": [
        "# instanciate DataGenerators\n",
        "batch_size = 32\n",
        "\n",
        "train_generator = DataGenerator(train_split_x, train_split_y, batch_size)\n",
        "val_generator = DataGenerator(val_split_x, val_split_y, batch_size)\n",
        "test_generator = DataGenerator(test_split_x, test_split_y, batch_size)\n",
        "\n",
        "print(train_generator.__len__())\n",
        "print(val_generator.__len__())\n",
        "print(test_generator.__len__())"
      ],
      "metadata": {
        "id": "yq_FYayGMKBR",
        "outputId": "ef0b3d11-7b5d-43a8-f6b5-2a7737fed3ef",
        "colab": {
          "base_uri": "https://localhost:8080/"
        }
      },
      "execution_count": 7,
      "outputs": [
        {
          "output_type": "stream",
          "name": "stdout",
          "text": [
            "209\n",
            "70\n",
            "70\n"
          ]
        }
      ]
    },
    {
      "cell_type": "code",
      "source": [
        "train_batch = train_generator.__getitem__(9)\n",
        "val_batch = val_generator.__getitem__(3)\n",
        "test_batch = test_generator.__getitem__(4)\n",
        "\n",
        "def print_batch_shapes(batch):\n",
        "  print(type(batch))\n",
        "  print(batch[0].shape)\n",
        "  print(batch[1].shape)\n",
        "  print()\n",
        "\n",
        "# check batch shapes\n",
        "print_batch_shapes(train_batch)\n",
        "print_batch_shapes(val_batch)\n",
        "print_batch_shapes(test_batch) \n",
        "\n",
        "# check normalization\n",
        "print('Check normalization')\n",
        "print(train_batch[1].max())\n",
        "print(train_batch[1].min())\n",
        "\n",
        "print(val_batch[1].max())\n",
        "print(val_batch[1].min())\n",
        "\n",
        "print(test_batch[1].max())\n",
        "print(test_batch[1].min())\n",
        "\n",
        "print()\n",
        "# check one-hot-encoding\n",
        "print('check one hot encoding')\n",
        "print(train_batch[0].max())\n",
        "print(train_batch[0].min())\n",
        "\n",
        "print(val_batch[0].max())\n",
        "print(val_batch[0].min())\n",
        "\n",
        "print(test_batch[0].max())\n",
        "print(test_batch[0].min())"
      ],
      "metadata": {
        "id": "kTabozHCbKNR",
        "outputId": "9eac1277-d7f8-45b4-d2fd-5cdf841212cb",
        "colab": {
          "base_uri": "https://localhost:8080/"
        }
      },
      "execution_count": 8,
      "outputs": [
        {
          "output_type": "stream",
          "name": "stdout",
          "text": [
            "<class 'tuple'>\n",
            "(32, 256, 256, 5)\n",
            "(32, 256, 256, 3)\n",
            "\n",
            "<class 'tuple'>\n",
            "(32, 256, 256, 5)\n",
            "(32, 256, 256, 3)\n",
            "\n",
            "<class 'tuple'>\n",
            "(32, 256, 256, 5)\n",
            "(32, 256, 256, 3)\n",
            "\n",
            "Check normalization\n",
            "1.0\n",
            "0.0\n",
            "1.0\n",
            "0.0\n",
            "1.0\n",
            "0.0\n",
            "\n",
            "check one hot encoding\n",
            "1.0\n",
            "0.0\n",
            "1.0\n",
            "0.0\n",
            "1.0\n",
            "0.0\n"
          ]
        }
      ]
    },
    {
      "cell_type": "markdown",
      "source": [
        "### 3. Model training\n",
        "execute with premium GPU, High RAM"
      ],
      "metadata": {
        "id": "R55UTUmGc73x"
      }
    },
    {
      "cell_type": "code",
      "source": [
        "!nvidia-smi"
      ],
      "metadata": {
        "id": "M7gP6XeFUMqO",
        "colab": {
          "base_uri": "https://localhost:8080/"
        },
        "outputId": "ecdc00e0-b042-4983-ff01-619eb738e51e"
      },
      "execution_count": 9,
      "outputs": [
        {
          "output_type": "stream",
          "name": "stdout",
          "text": [
            "Tue May 16 12:48:06 2023       \n",
            "+-----------------------------------------------------------------------------+\n",
            "| NVIDIA-SMI 525.85.12    Driver Version: 525.85.12    CUDA Version: 12.0     |\n",
            "|-------------------------------+----------------------+----------------------+\n",
            "| GPU  Name        Persistence-M| Bus-Id        Disp.A | Volatile Uncorr. ECC |\n",
            "| Fan  Temp  Perf  Pwr:Usage/Cap|         Memory-Usage | GPU-Util  Compute M. |\n",
            "|                               |                      |               MIG M. |\n",
            "|===============================+======================+======================|\n",
            "|   0  NVIDIA A100-SXM...  Off  | 00000000:00:04.0 Off |                    0 |\n",
            "| N/A   33C    P0    52W / 400W |    697MiB / 40960MiB |      2%      Default |\n",
            "|                               |                      |             Disabled |\n",
            "+-------------------------------+----------------------+----------------------+\n",
            "                                                                               \n",
            "+-----------------------------------------------------------------------------+\n",
            "| Processes:                                                                  |\n",
            "|  GPU   GI   CI        PID   Type   Process name                  GPU Memory |\n",
            "|        ID   ID                                                   Usage      |\n",
            "|=============================================================================|\n",
            "+-----------------------------------------------------------------------------+\n"
          ]
        }
      ]
    },
    {
      "cell_type": "code",
      "source": [
        "from tensorflow import keras\n",
        "from tensorflow.keras import layers\n",
        "\n",
        "def build_unet_model(input_shape, num_layers, num_classes=3):\n",
        "    inputs = keras.Input(shape=input_shape)\n",
        "    x = inputs\n",
        "\n",
        "    # Encoder\n",
        "    skips = []\n",
        "    filters = 16\n",
        "    for _ in range(num_layers):\n",
        "        x = layers.Conv2D(filters, 3, activation='relu', padding='same')(x)\n",
        "        x = layers.Conv2D(filters, 3, activation='relu', padding='same')(x)\n",
        "        skips.append(x)\n",
        "        x = layers.MaxPooling2D(2)(x)\n",
        "        filters *= 2\n",
        "\n",
        "    # Bridge\n",
        "    x = layers.Conv2D(filters, 3, activation='relu', padding='same')(x)\n",
        "    x = layers.Conv2D(filters, 3, activation='relu', padding='same')(x)\n",
        "\n",
        "    # Decoder\n",
        "    skips = reversed(skips)\n",
        "    filters //= 2\n",
        "    for skip in skips:\n",
        "        x = layers.Conv2DTranspose(filters, 2, strides=2, activation='relu', padding='same')(x)\n",
        "        x = layers.Concatenate()([skip, x])\n",
        "        x = layers.Conv2D(filters, 3, activation='relu', padding='same')(x)\n",
        "        x = layers.Conv2D(filters, 3, activation='relu', padding='same')(x)\n",
        "        filters //= 2\n",
        "\n",
        "    # Output\n",
        "    outputs = layers.Conv2D(num_classes, (1, 1), activation='softmax')(x)\n",
        "\n",
        "    model = keras.Model(inputs, outputs)\n",
        "    return model"
      ],
      "metadata": {
        "id": "Z5n0FPFwV77U"
      },
      "execution_count": 12,
      "outputs": []
    },
    {
      "cell_type": "code",
      "source": [
        "all_metrics = []\n",
        "\n",
        "\n",
        "for num_layers in range(1,8):\n",
        "  count = num_layers + 8\n",
        "  model_metrics = []\n",
        "  model_name = f'{tile_size}_{step_size}_run_{count}'\n",
        "  model_path = f'../models/{experiment}/model_{model_name}.h5'\n",
        "\n",
        "  print(f'{count} num_layers: {num_layers} Started at: {datetime.now()}')\n",
        "\n",
        "  # Define the mIoU metric\n",
        "  mean_iou = tf.keras.metrics.OneHotMeanIoU(num_classes=3, name='mean_iou')\n",
        "  invalid_iou = tf.keras.metrics.OneHotIoU(num_classes=3, target_class_ids=[0], name='invalid_iou')\n",
        "  valid_iou = tf.keras.metrics.OneHotIoU(num_classes=3, target_class_ids=[1], name='valid_iou')\n",
        "  land_iou = tf.keras.metrics.OneHotIoU(num_classes=3, target_class_ids=[2], name='land_iou')\n",
        "\n",
        "  # compiling model\n",
        "  model = build_unet_model((256, 256, 5), num_layers)\n",
        "  model.compile(optimizer=Adamax(), loss=categorical_crossentropy, metrics=[mean_iou, invalid_iou, valid_iou, land_iou, 'accuracy'])\n",
        "  print(model.summary())\n",
        "\n",
        "  # callbacks\n",
        "  early_stop_loss = EarlyStopping(monitor='val_loss', mode='min', patience=15)\n",
        "  early_stop_acc = EarlyStopping(monitor='val_mean_iou', mode='max', patience=15) \n",
        "  checkpoint = ModelCheckpoint(model_path, monitor=\"val_mean_iou\", mode=\"max\", save_best_only=True, verbose=1)\n",
        "\n",
        "  # training\n",
        "  model_history = model.fit(x=train_generator, epochs=100, validation_data=val_generator, \n",
        "                            callbacks=[early_stop_loss, early_stop_acc, checkpoint])\n",
        "\n",
        "\n",
        "  # Save model history\n",
        "  with open(f'../models/{experiment}/history_{model_name}.pkl', 'wb') as file_pi:\n",
        "      pickle.dump(model_history.history, file_pi)\n",
        "  print('saving history completed')\n",
        "\n",
        "  print(f'{count} Finished at: {datetime.now()}')\n",
        "  print(f'{count} Metrics')\n",
        "  print(model.metrics_names)\n",
        "  print('training metrics')\n",
        "  train_metrics = model.evaluate(train_generator, verbose = 2)\n",
        "  print(train_metrics)\n",
        "  print('validation metrics')\n",
        "  val_metrics = model.evaluate(val_generator, verbose = 2)\n",
        "  print(val_metrics)\n",
        "  print('test metrics')\n",
        "  test_metrics = model.evaluate(test_generator, verbose = 2)\n",
        "  print(test_metrics)\n",
        "  all_metrics.append(train_metrics)\n",
        "  all_metrics.append(val_metrics)\n",
        "  all_metrics.append(test_metrics)\n",
        "\n",
        "  with open(f'../metrics/{experiment}_{count}.pkl', 'wb') as file_pi:\n",
        "      pickle.dump(all_metrics, file_pi)\n",
        "  print('saving metrics completed')"
      ],
      "metadata": {
        "id": "lYGEuLXWdKLv",
        "colab": {
          "base_uri": "https://localhost:8080/",
          "height": 236
        },
        "outputId": "581f2b52-48e6-43d0-f226-fbe363cdd133"
      },
      "execution_count": 1,
      "outputs": [
        {
          "output_type": "error",
          "ename": "NameError",
          "evalue": "ignored",
          "traceback": [
            "\u001b[0;31m---------------------------------------------------------------------------\u001b[0m",
            "\u001b[0;31mNameError\u001b[0m                                 Traceback (most recent call last)",
            "\u001b[0;32m<ipython-input-1-aa58e4665f06>\u001b[0m in \u001b[0;36m<cell line: 4>\u001b[0;34m()\u001b[0m\n\u001b[1;32m      5\u001b[0m   \u001b[0mcount\u001b[0m \u001b[0;34m=\u001b[0m \u001b[0mnum_layers\u001b[0m \u001b[0;34m+\u001b[0m \u001b[0;36m8\u001b[0m\u001b[0;34m\u001b[0m\u001b[0;34m\u001b[0m\u001b[0m\n\u001b[1;32m      6\u001b[0m   \u001b[0mmodel_metrics\u001b[0m \u001b[0;34m=\u001b[0m \u001b[0;34m[\u001b[0m\u001b[0;34m]\u001b[0m\u001b[0;34m\u001b[0m\u001b[0;34m\u001b[0m\u001b[0m\n\u001b[0;32m----> 7\u001b[0;31m   \u001b[0mmodel_name\u001b[0m \u001b[0;34m=\u001b[0m \u001b[0;34mf'{tile_size}_{step_size}_run_{count}'\u001b[0m\u001b[0;34m\u001b[0m\u001b[0;34m\u001b[0m\u001b[0m\n\u001b[0m\u001b[1;32m      8\u001b[0m   \u001b[0mmodel_path\u001b[0m \u001b[0;34m=\u001b[0m \u001b[0;34mf'../models/{experiment}/model_{model_name}.h5'\u001b[0m\u001b[0;34m\u001b[0m\u001b[0;34m\u001b[0m\u001b[0m\n\u001b[1;32m      9\u001b[0m \u001b[0;34m\u001b[0m\u001b[0m\n",
            "\u001b[0;31mNameError\u001b[0m: name 'tile_size' is not defined"
          ]
        }
      ]
    }
  ]
}