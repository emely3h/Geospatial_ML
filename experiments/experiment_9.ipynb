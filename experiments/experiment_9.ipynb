{
  "nbformat": 4,
  "nbformat_minor": 0,
  "metadata": {
    "colab": {
      "provenance": [],
      "machine_shape": "hm",
      "gpuType": "A100",
      "include_colab_link": true
    },
    "kernelspec": {
      "name": "python3",
      "display_name": "Python 3"
    },
    "language_info": {
      "name": "python"
    },
    "accelerator": "GPU"
  },
  "cells": [
    {
      "cell_type": "markdown",
      "metadata": {
        "id": "view-in-github",
        "colab_type": "text"
      },
      "source": [
        "<a href=\"https://colab.research.google.com/github/emely3h/Geospatial_ML/blob/main/experiments/experiment_9.ipynb\" target=\"_parent\"><img src=\"https://colab.research.google.com/assets/colab-badge.svg\" alt=\"Open In Colab\"/></a>"
      ]
    },
    {
      "cell_type": "markdown",
      "source": [
        "# U-Net Experiment 9: Regularization\n",
        "\n",
        "Adding a dropout layer after each convolutional layer to prevent overfitting."
      ],
      "metadata": {
        "collapsed": false,
        "id": "1PYQRhrsz19U"
      }
    },
    {
      "cell_type": "markdown",
      "source": [
        "### 0. Prepare Colab, Define Constants"
      ],
      "metadata": {
        "id": "TQiNFtcib6wl"
      }
    },
    {
      "cell_type": "code",
      "source": [
        "from google.colab import drive\n",
        "drive.mount('/content/drive')"
      ],
      "metadata": {
        "colab": {
          "base_uri": "https://localhost:8080/"
        },
        "id": "osm1lHOLb-Is",
        "outputId": "a286e16a-4204-4f34-8d7a-b14140795694"
      },
      "execution_count": 1,
      "outputs": [
        {
          "output_type": "stream",
          "name": "stdout",
          "text": [
            "Mounted at /content/drive\n"
          ]
        }
      ]
    },
    {
      "cell_type": "code",
      "source": [
        "#! ls\n",
        "%cd drive/MyDrive/MachineLearning/\n",
        "#! git clone https://github.com/emely3h/Geospatial_ML.git\n",
        "%cd Geospatial_ML\n",
        "! ls\n",
        "#! git pull"
      ],
      "metadata": {
        "colab": {
          "base_uri": "https://localhost:8080/"
        },
        "id": "HV1KZvqMb_6S",
        "outputId": "abbde165-1c34-468d-81b1-d754af77007d"
      },
      "execution_count": 2,
      "outputs": [
        {
          "output_type": "stream",
          "name": "stdout",
          "text": [
            "/content/drive/.shortcut-targets-by-id/15HUD3sGdfvxy5Y_bjvuXgrzwxt7TzRfm/MachineLearning\n",
            "/content/drive/.shortcut-targets-by-id/15HUD3sGdfvxy5Y_bjvuXgrzwxt7TzRfm/MachineLearning/Geospatial_ML\n",
            "data_exploration  experiments\t     models\t   pyproject.toml    scripts\n",
            "docs\t\t  image_processing   poetry.lock   README.md\t     sripts\n",
            "evaluation\t  metrics_bug.ipynb  prepare_data  requirements.txt\n",
            "error: Your local changes to the following files would be overwritten by checkout:\n",
            "\texperiments/experiment_7.ipynb\n",
            "\tmodels/helpers.py\n",
            "\tpoetry.lock\n",
            "\tpyproject.toml\n",
            "Please commit your changes or stash them before you switch branches.\n",
            "Aborting\n"
          ]
        }
      ]
    },
    {
      "cell_type": "code",
      "source": [
        "import numpy as np\n",
        "import os\n",
        "import pandas as pd\n",
        "import matplotlib.pyplot as plt\n",
        "import tensorflow as tf\n",
        "from tensorflow import keras\n",
        "from keras.models import Model\n",
        "from keras.layers import (\n",
        "    Input,\n",
        "    Conv2D,\n",
        "    MaxPooling2D,\n",
        "    concatenate,\n",
        "    Conv2DTranspose,\n",
        "    Dropout,\n",
        "    UpSampling2D\n",
        ")\n",
        "from keras.losses import categorical_crossentropy\n",
        "from tensorflow.keras.callbacks import EarlyStopping\n",
        "from sklearn.model_selection import train_test_split\n",
        "import pickle\n",
        "from keras.utils import Sequence\n",
        "from datetime import datetime\n",
        "from models.unet_model import unet_2d\n",
        "from evaluation.evaluation_metrics import EvaluationMetrics\n",
        "from data_exploration.mask_stats import Mask_Stats\n",
        "from tensorflow.keras.models import load_model\n",
        "from models.helpers import save_metrics, predictions_for_models\n",
        "from evaluation.helpers import plot_metrics, load_metrics_into_df, calc_save_metrics_pred\n",
        "from tensorflow.keras.callbacks import ModelCheckpoint\n",
        "from tensorflow.keras.utils import to_categorical\n",
        "from tensorflow.keras.optimizers.experimental import Adamax"
      ],
      "metadata": {
        "id": "0FB7ZXQkcKB_"
      },
      "execution_count": 3,
      "outputs": []
    },
    {
      "cell_type": "code",
      "source": [
        "total_tiles = 11121\n",
        "train_tiles = 6672\n",
        "test_val_tiles = 2224\n",
        "data_path = \"../data_colab/256_256\"\n",
        "experiment = \"experiment_9\"\n",
        "batch_size = 32\n",
        "tile_size = 256\n",
        "step_size = 256"
      ],
      "metadata": {
        "id": "S2dxthwRWXTI"
      },
      "execution_count": 4,
      "outputs": []
    },
    {
      "cell_type": "markdown",
      "source": [
        "### 1. Create Data Generators"
      ],
      "metadata": {
        "id": "ttWhjzmFSqXR"
      }
    },
    {
      "cell_type": "code",
      "source": [
        "train_split_x = np.memmap(os.path.join(data_path, \"train_split_x.npy\"), mode=\"r\", shape=(train_tiles, 256, 256, 5), dtype=np.uint8)\n",
        "train_split_y = np.memmap(os.path.join(data_path, \"train_split_y.npy\"), mode=\"r\", shape=(train_tiles, 256, 256), dtype=np.uint8)\n",
        "val_split_x = np.memmap(os.path.join(data_path, \"val_split_x.npy\"), mode=\"r\", shape=(test_val_tiles, 256, 256, 5), dtype=np.uint8)\n",
        "val_split_y = np.memmap(os.path.join(data_path, \"val_split_y.npy\"), mode=\"r\", shape=(test_val_tiles, 256, 256), dtype=np.uint8)\n",
        "test_split_x = np.memmap(os.path.join(data_path, \"test_split_x.npy\"), mode=\"r\", shape=(test_val_tiles, 256, 256, 5), dtype=np.uint8)\n",
        "test_split_y = np.memmap(os.path.join(data_path, \"test_split_y.npy\"), mode=\"r\", shape=(test_val_tiles, 256, 256), dtype=np.uint8)\n",
        "\n",
        "train_stats = Mask_Stats(train_split_y)\n",
        "train_stats.print_stats()\n",
        "print()\n",
        "val_stats = Mask_Stats(val_split_y)\n",
        "val_stats.print_stats()\n",
        "print()\n",
        "test_stats = Mask_Stats(test_split_y)\n",
        "test_stats.print_stats()"
      ],
      "metadata": {
        "id": "RYCVuKoUJw-8",
        "outputId": "6d632206-3cdf-4348-af2f-198684b86454",
        "colab": {
          "base_uri": "https://localhost:8080/"
        }
      },
      "execution_count": 5,
      "outputs": [
        {
          "output_type": "stream",
          "name": "stdout",
          "text": [
            "Shape: (6672, 256, 256)\n",
            "Land pixels: 195058814  44.610 %\n",
            "Valid pixels: 138904480  31.767 %\n",
            "Invalid pixels: 103292898  23.623 %\n",
            "Sum: 6672\n",
            "\n",
            "Shape: (2224, 256, 256)\n",
            "Land pixels: 65320265  44.816 %\n",
            "Valid pixels: 46246663  31.730 %\n",
            "Invalid pixels: 34185136  23.454 %\n",
            "Sum: 2224\n",
            "\n",
            "Shape: (2224, 256, 256)\n",
            "Land pixels: 64786699  44.450 %\n",
            "Valid pixels: 46892391  32.173 %\n",
            "Invalid pixels: 34072974  23.377 %\n",
            "Sum: 2224\n"
          ]
        }
      ]
    },
    {
      "cell_type": "code",
      "source": [
        "class DataGenerator(Sequence):\n",
        "    def __init__(self, mmap_x, mmap_y, batch_size):\n",
        "        self.x_input = mmap_x\n",
        "        self.y_mask = mmap_y\n",
        "        self.batch_size = batch_size\n",
        "        self.num_samples = self.x_input.shape[0]\n",
        "\n",
        "    # returns number of batches as int\n",
        "    def __len__(self):\n",
        "        return int(np.ceil(self.num_samples / float(self.batch_size)))\n",
        "\n",
        "    # returns single batch\n",
        "    def __getitem__(self, index):\n",
        "        batch_indices = slice(index * self.batch_size, (index + 1) * self.batch_size)\n",
        "        batch_inputs = self.x_input[batch_indices]\n",
        "        batch_masks = self.y_mask[batch_indices]\n",
        "\n",
        "        # normalization\n",
        "        batch_inputs = batch_inputs/255\n",
        "        # one-hot-encoding\n",
        "        batch_masks = np.array([tf.one_hot(item, depth=3).numpy() for item in batch_masks])\n",
        "\n",
        "        # normalization + one hot encoding\n",
        "        return batch_inputs, batch_masks\n",
        "\n",
        "    def getitem_as_img(self, index):\n",
        "        batch_indices = slice(index * self.batch_size, (index + 1) * self.batch_size)\n",
        "        batch_inputs = self.x_input[batch_indices]\n",
        "        batch_masks = self.y_mask[batch_indices]\n",
        "        # normalization + one hot encoding\n",
        "        return batch_inputs, batch_masks"
      ],
      "metadata": {
        "id": "6_TRNH5sKjPk"
      },
      "execution_count": 6,
      "outputs": []
    },
    {
      "cell_type": "code",
      "source": [
        "# instanciate DataGenerators\n",
        "batch_size = 32\n",
        "\n",
        "train_generator = DataGenerator(train_split_x, train_split_y, batch_size)\n",
        "val_generator = DataGenerator(val_split_x, val_split_y, batch_size)\n",
        "test_generator = DataGenerator(test_split_x, test_split_y, batch_size)\n",
        "\n",
        "print(train_generator.__len__())\n",
        "print(val_generator.__len__())\n",
        "print(test_generator.__len__())"
      ],
      "metadata": {
        "id": "yq_FYayGMKBR",
        "outputId": "a8b87e0d-9509-40ed-958e-6d2382474e51",
        "colab": {
          "base_uri": "https://localhost:8080/"
        }
      },
      "execution_count": 7,
      "outputs": [
        {
          "output_type": "stream",
          "name": "stdout",
          "text": [
            "209\n",
            "70\n",
            "70\n"
          ]
        }
      ]
    },
    {
      "cell_type": "code",
      "source": [
        "train_batch = train_generator.__getitem__(9)\n",
        "val_batch = val_generator.__getitem__(3)\n",
        "test_batch = test_generator.__getitem__(4)\n",
        "\n",
        "def print_batch_shapes(batch):\n",
        "  print(type(batch))\n",
        "  print(batch[0].shape)\n",
        "  print(batch[1].shape)\n",
        "  print()\n",
        "\n",
        "# check batch shapes\n",
        "print_batch_shapes(train_batch)\n",
        "print_batch_shapes(val_batch)\n",
        "print_batch_shapes(test_batch)\n",
        "\n",
        "# check normalization\n",
        "print('Check normalization')\n",
        "print(train_batch[1].max())\n",
        "print(train_batch[1].min())\n",
        "\n",
        "print(val_batch[1].max())\n",
        "print(val_batch[1].min())\n",
        "\n",
        "print(test_batch[1].max())\n",
        "print(test_batch[1].min())\n",
        "\n",
        "print()\n",
        "# check one-hot-encoding\n",
        "print('check one hot encoding')\n",
        "print(train_batch[0].max())\n",
        "print(train_batch[0].min())\n",
        "\n",
        "print(val_batch[0].max())\n",
        "print(val_batch[0].min())\n",
        "\n",
        "print(test_batch[0].max())\n",
        "print(test_batch[0].min())"
      ],
      "metadata": {
        "id": "kTabozHCbKNR",
        "outputId": "85337919-54f5-4ed1-b2cb-d99ab0b0b5aa",
        "colab": {
          "base_uri": "https://localhost:8080/"
        }
      },
      "execution_count": 8,
      "outputs": [
        {
          "output_type": "stream",
          "name": "stdout",
          "text": [
            "<class 'tuple'>\n",
            "(32, 256, 256, 5)\n",
            "(32, 256, 256, 3)\n",
            "\n",
            "<class 'tuple'>\n",
            "(32, 256, 256, 5)\n",
            "(32, 256, 256, 3)\n",
            "\n",
            "<class 'tuple'>\n",
            "(32, 256, 256, 5)\n",
            "(32, 256, 256, 3)\n",
            "\n",
            "Check normalization\n",
            "1.0\n",
            "0.0\n",
            "1.0\n",
            "0.0\n",
            "1.0\n",
            "0.0\n",
            "\n",
            "check one hot encoding\n",
            "1.0\n",
            "0.0\n",
            "1.0\n",
            "0.0\n",
            "1.0\n",
            "0.0\n"
          ]
        }
      ]
    },
    {
      "cell_type": "markdown",
      "source": [
        "### 3. Model training\n",
        "execute with premium GPU, High RAM"
      ],
      "metadata": {
        "id": "R55UTUmGc73x"
      }
    },
    {
      "cell_type": "code",
      "source": [
        "!nvidia-smi"
      ],
      "metadata": {
        "id": "M7gP6XeFUMqO",
        "colab": {
          "base_uri": "https://localhost:8080/"
        },
        "outputId": "51abf63f-b3fe-42f8-d83b-4c68a78359de"
      },
      "execution_count": 9,
      "outputs": [
        {
          "output_type": "stream",
          "name": "stdout",
          "text": [
            "Wed Jun 14 14:06:41 2023       \n",
            "+-----------------------------------------------------------------------------+\n",
            "| NVIDIA-SMI 525.85.12    Driver Version: 525.85.12    CUDA Version: 12.0     |\n",
            "|-------------------------------+----------------------+----------------------+\n",
            "| GPU  Name        Persistence-M| Bus-Id        Disp.A | Volatile Uncorr. ECC |\n",
            "| Fan  Temp  Perf  Pwr:Usage/Cap|         Memory-Usage | GPU-Util  Compute M. |\n",
            "|                               |                      |               MIG M. |\n",
            "|===============================+======================+======================|\n",
            "|   0  NVIDIA A100-SXM...  Off  | 00000000:00:04.0 Off |                    0 |\n",
            "| N/A   31C    P0    54W / 400W |    709MiB / 40960MiB |      2%      Default |\n",
            "|                               |                      |             Disabled |\n",
            "+-------------------------------+----------------------+----------------------+\n",
            "                                                                               \n",
            "+-----------------------------------------------------------------------------+\n",
            "| Processes:                                                                  |\n",
            "|  GPU   GI   CI        PID   Type   Process name                  GPU Memory |\n",
            "|        ID   ID                                                   Usage      |\n",
            "|=============================================================================|\n",
            "+-----------------------------------------------------------------------------+\n"
          ]
        }
      ]
    },
    {
      "cell_type": "code",
      "source": [
        "def unet_2d(input_shape, num_classes, dropout=None):\n",
        "\n",
        "    # Define the input layer\n",
        "    inputs = Input(input_shape)\n",
        "\n",
        "    # Downsample layers\n",
        "    conv1 = Conv2D(64, (3, 3), activation='relu', padding='same')(inputs)\n",
        "    if dropout:\n",
        "      conv1 = Dropout(dropout)(conv1)\n",
        "    conv1 = Conv2D(64, (3, 3), activation='relu', padding='same')(conv1)\n",
        "    pool1 = MaxPooling2D(pool_size=(2, 2))(conv1)\n",
        "\n",
        "    conv2 = Conv2D(128, (3, 3), activation='relu', padding='same')(pool1)\n",
        "    if dropout:\n",
        "      conv2 = Dropout(dropout)(conv2)\n",
        "    conv2 = Conv2D(128, (3, 3), activation='relu', padding='same')(conv2)\n",
        "    pool2 = MaxPooling2D(pool_size=(2, 2))(conv2)\n",
        "\n",
        "    conv3 = Conv2D(256, (3, 3), activation='relu', padding='same')(pool2)\n",
        "    if dropout:\n",
        "      conv3 = Dropout(dropout)(conv3)\n",
        "    conv3 = Conv2D(256, (3, 3), activation='relu', padding='same')(conv3)\n",
        "\n",
        "    # Upsample layers\n",
        "    up4 = concatenate([UpSampling2D(size=(2, 2))(conv3), conv2], axis=-1)\n",
        "    conv4 = Conv2D(128, (3, 3), activation='relu', padding='same')(up4)\n",
        "    if dropout:\n",
        "      conv4 = Dropout(dropout)(conv4)\n",
        "    conv4 = Conv2D(128, (3, 3), activation='relu', padding='same')(conv4)\n",
        "\n",
        "    up5 = concatenate([UpSampling2D(size=(2, 2))(conv4), conv1], axis=-1)\n",
        "    conv5 = Conv2D(64, (3, 3), activation='relu', padding='same')(up5)\n",
        "    if dropout:\n",
        "      conv5 = Dropout(dropout)(conv5)\n",
        "    conv5 = Conv2D(64, (3, 3), activation='relu', padding='same')(conv5)\n",
        "\n",
        "    # Output layer\n",
        "    output = Conv2D(num_classes, (1, 1), activation='softmax')(conv5)\n",
        "\n",
        "    # Define the model\n",
        "    model = Model(inputs=[inputs], outputs=[output])\n",
        "\n",
        "    return model"
      ],
      "metadata": {
        "id": "Z5n0FPFwV77U"
      },
      "execution_count": 15,
      "outputs": []
    },
    {
      "cell_type": "markdown",
      "source": [
        "testing 3 different dropout rates, 3 runs with each rate => in total 9 runs"
      ],
      "metadata": {
        "id": "Dj6cCVn18WFW"
      }
    },
    {
      "cell_type": "code",
      "source": [
        "all_metrics = []\n",
        "\n",
        "dropout_rates = [None, 0.1, 0.2]\n",
        "count = 0\n",
        "\n",
        "for dropout in dropout_rates:\n",
        "  for i in range(0,3):\n",
        "\n",
        "    model_metrics = []\n",
        "    model_name = f'{tile_size}_{step_size}_run_{count}_dropout_{dropout}'\n",
        "    model_path = f'../models/{experiment}/model_{model_name}.h5'\n",
        "\n",
        "    print(f'{count}. dropout: {dropout_rates} Started at: {datetime.now()}')\n",
        "\n",
        "    # Define the mIoU metric\n",
        "    mean_iou = tf.keras.metrics.OneHotMeanIoU(num_classes=3, name='mean_iou')\n",
        "    invalid_iou = tf.keras.metrics.OneHotIoU(num_classes=3, target_class_ids=[0], name='invalid_iou')\n",
        "    valid_iou = tf.keras.metrics.OneHotIoU(num_classes=3, target_class_ids=[1], name='valid_iou')\n",
        "    land_iou = tf.keras.metrics.OneHotIoU(num_classes=3, target_class_ids=[2], name='land_iou')\n",
        "\n",
        "    # compiling model\n",
        "    model = unet_2d((256, 256, 5), 3, dropout)\n",
        "    model.compile(optimizer=Adamax(), loss=categorical_crossentropy, metrics=[mean_iou, invalid_iou, valid_iou, land_iou, 'accuracy'])\n",
        "    print(model.summary())\n",
        "\n",
        "    # callbacks\n",
        "    early_stop_loss = EarlyStopping(monitor='val_loss', mode='min', patience=15)\n",
        "    early_stop_acc = EarlyStopping(monitor='val_mean_iou', mode='max', patience=15)\n",
        "    checkpoint = ModelCheckpoint(model_path, monitor=\"val_mean_iou\", mode=\"max\", save_best_only=True, verbose=1)\n",
        "\n",
        "    # training\n",
        "    model_history = model.fit(x=train_generator, epochs=100, validation_data=val_generator,\n",
        "                              callbacks=[early_stop_loss, early_stop_acc, checkpoint])\n",
        "\n",
        "\n",
        "    # Save model history\n",
        "    with open(f'../models/{experiment}/history_{model_name}.pkl', 'wb') as file_pi:\n",
        "        pickle.dump(model_history.history, file_pi)\n",
        "    print('saving history completed')\n",
        "\n",
        "    print(f'{count} Finished at: {datetime.now()}')\n",
        "    print(f'{count} Metrics')\n",
        "    print(model.metrics_names)\n",
        "    print('training metrics')\n",
        "    train_metrics = model.evaluate(train_generator, verbose = 2)\n",
        "    print(train_metrics)\n",
        "    print('validation metrics')\n",
        "    val_metrics = model.evaluate(val_generator, verbose = 2)\n",
        "    print(val_metrics)\n",
        "    print('test metrics')\n",
        "    test_metrics = model.evaluate(test_generator, verbose = 2)\n",
        "    print(test_metrics)\n",
        "    all_metrics.append(train_metrics)\n",
        "    all_metrics.append(val_metrics)\n",
        "    all_metrics.append(test_metrics)\n",
        "\n",
        "    with open(f'../metrics/{experiment}_{count}.pkl', 'wb') as file_pi:\n",
        "        pickle.dump(all_metrics, file_pi)\n",
        "    print('saving metrics completed')\n",
        "    count += 1"
      ],
      "metadata": {
        "id": "lYGEuLXWdKLv",
        "colab": {
          "base_uri": "https://localhost:8080/",
          "height": 1000
        },
        "outputId": "34a6bbb8-93af-4a1c-f410-aa542c51d426"
      },
      "execution_count": 16,
      "outputs": [
        {
          "output_type": "stream",
          "name": "stdout",
          "text": [
            "0. dropout: [None, 0.1, 0.2] Started at: 2023-06-14 14:09:27.167008\n",
            "Model: \"model\"\n",
            "__________________________________________________________________________________________________\n",
            " Layer (type)                   Output Shape         Param #     Connected to                     \n",
            "==================================================================================================\n",
            " input_2 (InputLayer)           [(None, 256, 256, 5  0           []                               \n",
            "                                )]                                                                \n",
            "                                                                                                  \n",
            " conv2d_11 (Conv2D)             (None, 256, 256, 64  2944        ['input_2[0][0]']                \n",
            "                                )                                                                 \n",
            "                                                                                                  \n",
            " conv2d_12 (Conv2D)             (None, 256, 256, 64  36928       ['conv2d_11[0][0]']              \n",
            "                                )                                                                 \n",
            "                                                                                                  \n",
            " max_pooling2d_2 (MaxPooling2D)  (None, 128, 128, 64  0          ['conv2d_12[0][0]']              \n",
            "                                )                                                                 \n",
            "                                                                                                  \n",
            " conv2d_13 (Conv2D)             (None, 128, 128, 12  73856       ['max_pooling2d_2[0][0]']        \n",
            "                                8)                                                                \n",
            "                                                                                                  \n",
            " conv2d_14 (Conv2D)             (None, 128, 128, 12  147584      ['conv2d_13[0][0]']              \n",
            "                                8)                                                                \n",
            "                                                                                                  \n",
            " max_pooling2d_3 (MaxPooling2D)  (None, 64, 64, 128)  0          ['conv2d_14[0][0]']              \n",
            "                                                                                                  \n",
            " conv2d_15 (Conv2D)             (None, 64, 64, 256)  295168      ['max_pooling2d_3[0][0]']        \n",
            "                                                                                                  \n",
            " conv2d_16 (Conv2D)             (None, 64, 64, 256)  590080      ['conv2d_15[0][0]']              \n",
            "                                                                                                  \n",
            " up_sampling2d_2 (UpSampling2D)  (None, 128, 128, 25  0          ['conv2d_16[0][0]']              \n",
            "                                6)                                                                \n",
            "                                                                                                  \n",
            " concatenate_2 (Concatenate)    (None, 128, 128, 38  0           ['up_sampling2d_2[0][0]',        \n",
            "                                4)                                'conv2d_14[0][0]']              \n",
            "                                                                                                  \n",
            " conv2d_17 (Conv2D)             (None, 128, 128, 12  442496      ['concatenate_2[0][0]']          \n",
            "                                8)                                                                \n",
            "                                                                                                  \n",
            " conv2d_18 (Conv2D)             (None, 128, 128, 12  147584      ['conv2d_17[0][0]']              \n",
            "                                8)                                                                \n",
            "                                                                                                  \n",
            " up_sampling2d_3 (UpSampling2D)  (None, 256, 256, 12  0          ['conv2d_18[0][0]']              \n",
            "                                8)                                                                \n",
            "                                                                                                  \n",
            " concatenate_3 (Concatenate)    (None, 256, 256, 19  0           ['up_sampling2d_3[0][0]',        \n",
            "                                2)                                'conv2d_12[0][0]']              \n",
            "                                                                                                  \n",
            " conv2d_19 (Conv2D)             (None, 256, 256, 64  110656      ['concatenate_3[0][0]']          \n",
            "                                )                                                                 \n",
            "                                                                                                  \n",
            " conv2d_20 (Conv2D)             (None, 256, 256, 64  36928       ['conv2d_19[0][0]']              \n",
            "                                )                                                                 \n",
            "                                                                                                  \n",
            " conv2d_21 (Conv2D)             (None, 256, 256, 3)  195         ['conv2d_20[0][0]']              \n",
            "                                                                                                  \n",
            "==================================================================================================\n",
            "Total params: 1,884,419\n",
            "Trainable params: 1,884,419\n",
            "Non-trainable params: 0\n",
            "__________________________________________________________________________________________________\n",
            "None\n",
            "Epoch 1/100\n",
            "209/209 [==============================] - ETA: 0s - loss: 0.2145 - mean_iou: 0.8224 - invalid_iou: 0.7228 - valid_iou: 0.7989 - land_iou: 0.9455 - accuracy: 0.9149\n",
            "Epoch 1: val_mean_iou improved from -inf to 0.88987, saving model to ../models/experiment_9/model_256_256_run_0_dropout_None.h5\n",
            "209/209 [==============================] - 102s 375ms/step - loss: 0.2145 - mean_iou: 0.8224 - invalid_iou: 0.7228 - valid_iou: 0.7989 - land_iou: 0.9455 - accuracy: 0.9149 - val_loss: 0.1398 - val_mean_iou: 0.8899 - val_invalid_iou: 0.8033 - val_valid_iou: 0.8791 - val_land_iou: 0.9872 - val_accuracy: 0.9519\n",
            "Epoch 2/100\n",
            "209/209 [==============================] - ETA: 0s - loss: 0.1236 - mean_iou: 0.9018 - invalid_iou: 0.8279 - valid_iou: 0.8880 - land_iou: 0.9894 - accuracy: 0.9569\n",
            "Epoch 2: val_mean_iou improved from 0.88987 to 0.90527, saving model to ../models/experiment_9/model_256_256_run_0_dropout_None.h5\n",
            "209/209 [==============================] - 60s 289ms/step - loss: 0.1236 - mean_iou: 0.9018 - invalid_iou: 0.8279 - valid_iou: 0.8880 - land_iou: 0.9894 - accuracy: 0.9569 - val_loss: 0.1204 - val_mean_iou: 0.9053 - val_invalid_iou: 0.8336 - val_valid_iou: 0.8897 - val_land_iou: 0.9925 - val_accuracy: 0.9588\n",
            "Epoch 3/100\n",
            " 18/209 [=>............................] - ETA: 44s - loss: 0.1071 - mean_iou: 0.9093 - invalid_iou: 0.8362 - valid_iou: 0.8992 - land_iou: 0.9925 - accuracy: 0.9624"
          ]
        },
        {
          "output_type": "error",
          "ename": "KeyboardInterrupt",
          "evalue": "ignored",
          "traceback": [
            "\u001b[0;31m---------------------------------------------------------------------------\u001b[0m",
            "\u001b[0;31mKeyboardInterrupt\u001b[0m                         Traceback (most recent call last)",
            "\u001b[0;32m<ipython-input-16-cc94d34991bd>\u001b[0m in \u001b[0;36m<cell line: 6>\u001b[0;34m()\u001b[0m\n\u001b[1;32m     30\u001b[0m \u001b[0;34m\u001b[0m\u001b[0m\n\u001b[1;32m     31\u001b[0m     \u001b[0;31m# training\u001b[0m\u001b[0;34m\u001b[0m\u001b[0;34m\u001b[0m\u001b[0m\n\u001b[0;32m---> 32\u001b[0;31m     model_history = model.fit(x=train_generator, epochs=100, validation_data=val_generator,\n\u001b[0m\u001b[1;32m     33\u001b[0m                               callbacks=[early_stop_loss, early_stop_acc, checkpoint])\n\u001b[1;32m     34\u001b[0m \u001b[0;34m\u001b[0m\u001b[0m\n",
            "\u001b[0;32m/usr/local/lib/python3.10/dist-packages/keras/utils/traceback_utils.py\u001b[0m in \u001b[0;36merror_handler\u001b[0;34m(*args, **kwargs)\u001b[0m\n\u001b[1;32m     63\u001b[0m         \u001b[0mfiltered_tb\u001b[0m \u001b[0;34m=\u001b[0m \u001b[0;32mNone\u001b[0m\u001b[0;34m\u001b[0m\u001b[0;34m\u001b[0m\u001b[0m\n\u001b[1;32m     64\u001b[0m         \u001b[0;32mtry\u001b[0m\u001b[0;34m:\u001b[0m\u001b[0;34m\u001b[0m\u001b[0;34m\u001b[0m\u001b[0m\n\u001b[0;32m---> 65\u001b[0;31m             \u001b[0;32mreturn\u001b[0m \u001b[0mfn\u001b[0m\u001b[0;34m(\u001b[0m\u001b[0;34m*\u001b[0m\u001b[0margs\u001b[0m\u001b[0;34m,\u001b[0m \u001b[0;34m**\u001b[0m\u001b[0mkwargs\u001b[0m\u001b[0;34m)\u001b[0m\u001b[0;34m\u001b[0m\u001b[0;34m\u001b[0m\u001b[0m\n\u001b[0m\u001b[1;32m     66\u001b[0m         \u001b[0;32mexcept\u001b[0m \u001b[0mException\u001b[0m \u001b[0;32mas\u001b[0m \u001b[0me\u001b[0m\u001b[0;34m:\u001b[0m\u001b[0;34m\u001b[0m\u001b[0;34m\u001b[0m\u001b[0m\n\u001b[1;32m     67\u001b[0m             \u001b[0mfiltered_tb\u001b[0m \u001b[0;34m=\u001b[0m \u001b[0m_process_traceback_frames\u001b[0m\u001b[0;34m(\u001b[0m\u001b[0me\u001b[0m\u001b[0;34m.\u001b[0m\u001b[0m__traceback__\u001b[0m\u001b[0;34m)\u001b[0m\u001b[0;34m\u001b[0m\u001b[0;34m\u001b[0m\u001b[0m\n",
            "\u001b[0;32m/usr/local/lib/python3.10/dist-packages/keras/engine/training.py\u001b[0m in \u001b[0;36mfit\u001b[0;34m(self, x, y, batch_size, epochs, verbose, callbacks, validation_split, validation_data, shuffle, class_weight, sample_weight, initial_epoch, steps_per_epoch, validation_steps, validation_batch_size, validation_freq, max_queue_size, workers, use_multiprocessing)\u001b[0m\n\u001b[1;32m   1683\u001b[0m                         ):\n\u001b[1;32m   1684\u001b[0m                             \u001b[0mcallbacks\u001b[0m\u001b[0;34m.\u001b[0m\u001b[0mon_train_batch_begin\u001b[0m\u001b[0;34m(\u001b[0m\u001b[0mstep\u001b[0m\u001b[0;34m)\u001b[0m\u001b[0;34m\u001b[0m\u001b[0;34m\u001b[0m\u001b[0m\n\u001b[0;32m-> 1685\u001b[0;31m                             \u001b[0mtmp_logs\u001b[0m \u001b[0;34m=\u001b[0m \u001b[0mself\u001b[0m\u001b[0;34m.\u001b[0m\u001b[0mtrain_function\u001b[0m\u001b[0;34m(\u001b[0m\u001b[0miterator\u001b[0m\u001b[0;34m)\u001b[0m\u001b[0;34m\u001b[0m\u001b[0;34m\u001b[0m\u001b[0m\n\u001b[0m\u001b[1;32m   1686\u001b[0m                             \u001b[0;32mif\u001b[0m \u001b[0mdata_handler\u001b[0m\u001b[0;34m.\u001b[0m\u001b[0mshould_sync\u001b[0m\u001b[0;34m:\u001b[0m\u001b[0;34m\u001b[0m\u001b[0;34m\u001b[0m\u001b[0m\n\u001b[1;32m   1687\u001b[0m                                 \u001b[0mcontext\u001b[0m\u001b[0;34m.\u001b[0m\u001b[0masync_wait\u001b[0m\u001b[0;34m(\u001b[0m\u001b[0;34m)\u001b[0m\u001b[0;34m\u001b[0m\u001b[0;34m\u001b[0m\u001b[0m\n",
            "\u001b[0;32m/usr/local/lib/python3.10/dist-packages/tensorflow/python/util/traceback_utils.py\u001b[0m in \u001b[0;36merror_handler\u001b[0;34m(*args, **kwargs)\u001b[0m\n\u001b[1;32m    148\u001b[0m     \u001b[0mfiltered_tb\u001b[0m \u001b[0;34m=\u001b[0m \u001b[0;32mNone\u001b[0m\u001b[0;34m\u001b[0m\u001b[0;34m\u001b[0m\u001b[0m\n\u001b[1;32m    149\u001b[0m     \u001b[0;32mtry\u001b[0m\u001b[0;34m:\u001b[0m\u001b[0;34m\u001b[0m\u001b[0;34m\u001b[0m\u001b[0m\n\u001b[0;32m--> 150\u001b[0;31m       \u001b[0;32mreturn\u001b[0m \u001b[0mfn\u001b[0m\u001b[0;34m(\u001b[0m\u001b[0;34m*\u001b[0m\u001b[0margs\u001b[0m\u001b[0;34m,\u001b[0m \u001b[0;34m**\u001b[0m\u001b[0mkwargs\u001b[0m\u001b[0;34m)\u001b[0m\u001b[0;34m\u001b[0m\u001b[0;34m\u001b[0m\u001b[0m\n\u001b[0m\u001b[1;32m    151\u001b[0m     \u001b[0;32mexcept\u001b[0m \u001b[0mException\u001b[0m \u001b[0;32mas\u001b[0m \u001b[0me\u001b[0m\u001b[0;34m:\u001b[0m\u001b[0;34m\u001b[0m\u001b[0;34m\u001b[0m\u001b[0m\n\u001b[1;32m    152\u001b[0m       \u001b[0mfiltered_tb\u001b[0m \u001b[0;34m=\u001b[0m \u001b[0m_process_traceback_frames\u001b[0m\u001b[0;34m(\u001b[0m\u001b[0me\u001b[0m\u001b[0;34m.\u001b[0m\u001b[0m__traceback__\u001b[0m\u001b[0;34m)\u001b[0m\u001b[0;34m\u001b[0m\u001b[0;34m\u001b[0m\u001b[0m\n",
            "\u001b[0;32m/usr/local/lib/python3.10/dist-packages/tensorflow/python/eager/polymorphic_function/polymorphic_function.py\u001b[0m in \u001b[0;36m__call__\u001b[0;34m(self, *args, **kwds)\u001b[0m\n\u001b[1;32m    892\u001b[0m \u001b[0;34m\u001b[0m\u001b[0m\n\u001b[1;32m    893\u001b[0m       \u001b[0;32mwith\u001b[0m \u001b[0mOptionalXlaContext\u001b[0m\u001b[0;34m(\u001b[0m\u001b[0mself\u001b[0m\u001b[0;34m.\u001b[0m\u001b[0m_jit_compile\u001b[0m\u001b[0;34m)\u001b[0m\u001b[0;34m:\u001b[0m\u001b[0;34m\u001b[0m\u001b[0;34m\u001b[0m\u001b[0m\n\u001b[0;32m--> 894\u001b[0;31m         \u001b[0mresult\u001b[0m \u001b[0;34m=\u001b[0m \u001b[0mself\u001b[0m\u001b[0;34m.\u001b[0m\u001b[0m_call\u001b[0m\u001b[0;34m(\u001b[0m\u001b[0;34m*\u001b[0m\u001b[0margs\u001b[0m\u001b[0;34m,\u001b[0m \u001b[0;34m**\u001b[0m\u001b[0mkwds\u001b[0m\u001b[0;34m)\u001b[0m\u001b[0;34m\u001b[0m\u001b[0;34m\u001b[0m\u001b[0m\n\u001b[0m\u001b[1;32m    895\u001b[0m \u001b[0;34m\u001b[0m\u001b[0m\n\u001b[1;32m    896\u001b[0m       \u001b[0mnew_tracing_count\u001b[0m \u001b[0;34m=\u001b[0m \u001b[0mself\u001b[0m\u001b[0;34m.\u001b[0m\u001b[0mexperimental_get_tracing_count\u001b[0m\u001b[0;34m(\u001b[0m\u001b[0;34m)\u001b[0m\u001b[0;34m\u001b[0m\u001b[0;34m\u001b[0m\u001b[0m\n",
            "\u001b[0;32m/usr/local/lib/python3.10/dist-packages/tensorflow/python/eager/polymorphic_function/polymorphic_function.py\u001b[0m in \u001b[0;36m_call\u001b[0;34m(self, *args, **kwds)\u001b[0m\n\u001b[1;32m    924\u001b[0m       \u001b[0;31m# In this case we have created variables on the first call, so we run the\u001b[0m\u001b[0;34m\u001b[0m\u001b[0;34m\u001b[0m\u001b[0m\n\u001b[1;32m    925\u001b[0m       \u001b[0;31m# defunned version which is guaranteed to never create variables.\u001b[0m\u001b[0;34m\u001b[0m\u001b[0;34m\u001b[0m\u001b[0m\n\u001b[0;32m--> 926\u001b[0;31m       \u001b[0;32mreturn\u001b[0m \u001b[0mself\u001b[0m\u001b[0;34m.\u001b[0m\u001b[0m_no_variable_creation_fn\u001b[0m\u001b[0;34m(\u001b[0m\u001b[0;34m*\u001b[0m\u001b[0margs\u001b[0m\u001b[0;34m,\u001b[0m \u001b[0;34m**\u001b[0m\u001b[0mkwds\u001b[0m\u001b[0;34m)\u001b[0m  \u001b[0;31m# pylint: disable=not-callable\u001b[0m\u001b[0;34m\u001b[0m\u001b[0;34m\u001b[0m\u001b[0m\n\u001b[0m\u001b[1;32m    927\u001b[0m     \u001b[0;32melif\u001b[0m \u001b[0mself\u001b[0m\u001b[0;34m.\u001b[0m\u001b[0m_variable_creation_fn\u001b[0m \u001b[0;32mis\u001b[0m \u001b[0;32mnot\u001b[0m \u001b[0;32mNone\u001b[0m\u001b[0;34m:\u001b[0m\u001b[0;34m\u001b[0m\u001b[0;34m\u001b[0m\u001b[0m\n\u001b[1;32m    928\u001b[0m       \u001b[0;31m# Release the lock early so that multiple threads can perform the call\u001b[0m\u001b[0;34m\u001b[0m\u001b[0;34m\u001b[0m\u001b[0m\n",
            "\u001b[0;32m/usr/local/lib/python3.10/dist-packages/tensorflow/python/eager/polymorphic_function/tracing_compiler.py\u001b[0m in \u001b[0;36m__call__\u001b[0;34m(self, *args, **kwargs)\u001b[0m\n\u001b[1;32m    141\u001b[0m       (concrete_function,\n\u001b[1;32m    142\u001b[0m        filtered_flat_args) = self._maybe_define_function(args, kwargs)\n\u001b[0;32m--> 143\u001b[0;31m     return concrete_function._call_flat(\n\u001b[0m\u001b[1;32m    144\u001b[0m         filtered_flat_args, captured_inputs=concrete_function.captured_inputs)  # pylint: disable=protected-access\n\u001b[1;32m    145\u001b[0m \u001b[0;34m\u001b[0m\u001b[0m\n",
            "\u001b[0;32m/usr/local/lib/python3.10/dist-packages/tensorflow/python/eager/polymorphic_function/monomorphic_function.py\u001b[0m in \u001b[0;36m_call_flat\u001b[0;34m(self, args, captured_inputs, cancellation_manager)\u001b[0m\n\u001b[1;32m   1755\u001b[0m         and executing_eagerly):\n\u001b[1;32m   1756\u001b[0m       \u001b[0;31m# No tape is watching; skip to running the function.\u001b[0m\u001b[0;34m\u001b[0m\u001b[0;34m\u001b[0m\u001b[0m\n\u001b[0;32m-> 1757\u001b[0;31m       return self._build_call_outputs(self._inference_function.call(\n\u001b[0m\u001b[1;32m   1758\u001b[0m           ctx, args, cancellation_manager=cancellation_manager))\n\u001b[1;32m   1759\u001b[0m     forward_backward = self._select_forward_and_backward_functions(\n",
            "\u001b[0;32m/usr/local/lib/python3.10/dist-packages/tensorflow/python/eager/polymorphic_function/monomorphic_function.py\u001b[0m in \u001b[0;36mcall\u001b[0;34m(self, ctx, args, cancellation_manager)\u001b[0m\n\u001b[1;32m    379\u001b[0m       \u001b[0;32mwith\u001b[0m \u001b[0m_InterpolateFunctionError\u001b[0m\u001b[0;34m(\u001b[0m\u001b[0mself\u001b[0m\u001b[0;34m)\u001b[0m\u001b[0;34m:\u001b[0m\u001b[0;34m\u001b[0m\u001b[0;34m\u001b[0m\u001b[0m\n\u001b[1;32m    380\u001b[0m         \u001b[0;32mif\u001b[0m \u001b[0mcancellation_manager\u001b[0m \u001b[0;32mis\u001b[0m \u001b[0;32mNone\u001b[0m\u001b[0;34m:\u001b[0m\u001b[0;34m\u001b[0m\u001b[0;34m\u001b[0m\u001b[0m\n\u001b[0;32m--> 381\u001b[0;31m           outputs = execute.execute(\n\u001b[0m\u001b[1;32m    382\u001b[0m               \u001b[0mstr\u001b[0m\u001b[0;34m(\u001b[0m\u001b[0mself\u001b[0m\u001b[0;34m.\u001b[0m\u001b[0msignature\u001b[0m\u001b[0;34m.\u001b[0m\u001b[0mname\u001b[0m\u001b[0;34m)\u001b[0m\u001b[0;34m,\u001b[0m\u001b[0;34m\u001b[0m\u001b[0;34m\u001b[0m\u001b[0m\n\u001b[1;32m    383\u001b[0m               \u001b[0mnum_outputs\u001b[0m\u001b[0;34m=\u001b[0m\u001b[0mself\u001b[0m\u001b[0;34m.\u001b[0m\u001b[0m_num_outputs\u001b[0m\u001b[0;34m,\u001b[0m\u001b[0;34m\u001b[0m\u001b[0;34m\u001b[0m\u001b[0m\n",
            "\u001b[0;32m/usr/local/lib/python3.10/dist-packages/tensorflow/python/eager/execute.py\u001b[0m in \u001b[0;36mquick_execute\u001b[0;34m(op_name, num_outputs, inputs, attrs, ctx, name)\u001b[0m\n\u001b[1;32m     50\u001b[0m   \u001b[0;32mtry\u001b[0m\u001b[0;34m:\u001b[0m\u001b[0;34m\u001b[0m\u001b[0;34m\u001b[0m\u001b[0m\n\u001b[1;32m     51\u001b[0m     \u001b[0mctx\u001b[0m\u001b[0;34m.\u001b[0m\u001b[0mensure_initialized\u001b[0m\u001b[0;34m(\u001b[0m\u001b[0;34m)\u001b[0m\u001b[0;34m\u001b[0m\u001b[0;34m\u001b[0m\u001b[0m\n\u001b[0;32m---> 52\u001b[0;31m     tensors = pywrap_tfe.TFE_Py_Execute(ctx._handle, device_name, op_name,\n\u001b[0m\u001b[1;32m     53\u001b[0m                                         inputs, attrs, num_outputs)\n\u001b[1;32m     54\u001b[0m   \u001b[0;32mexcept\u001b[0m \u001b[0mcore\u001b[0m\u001b[0;34m.\u001b[0m\u001b[0m_NotOkStatusException\u001b[0m \u001b[0;32mas\u001b[0m \u001b[0me\u001b[0m\u001b[0;34m:\u001b[0m\u001b[0;34m\u001b[0m\u001b[0;34m\u001b[0m\u001b[0m\n",
            "\u001b[0;31mKeyboardInterrupt\u001b[0m: "
          ]
        }
      ]
    }
  ]
}