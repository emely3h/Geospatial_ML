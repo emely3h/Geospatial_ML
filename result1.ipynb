{
  "nbformat": 4,
  "nbformat_minor": 0,
  "metadata": {
    "colab": {
      "provenance": [],
      "authorship_tag": "ABX9TyPm2ke2kYmo/a/nyRkbz8Mr",
      "include_colab_link": true
    },
    "kernelspec": {
      "name": "python3",
      "display_name": "Python 3"
    },
    "language_info": {
      "name": "python"
    }
  },
  "cells": [
    {
      "cell_type": "markdown",
      "metadata": {
        "id": "view-in-github",
        "colab_type": "text"
      },
      "source": [
        "<a href=\"https://colab.research.google.com/github/emely3h/Geospatial_ML/blob/feature%2Funet-result-1/result1.ipynb\" target=\"_parent\"><img src=\"https://colab.research.google.com/assets/colab-badge.svg\" alt=\"Open In Colab\"/></a>"
      ]
    },
    {
      "cell_type": "code",
      "source": [
        "import numpy as np\n",
        "from tensorflow import keras\n",
        "import pickle\n",
        "\n",
        "\n",
        "class EvaluationMetrics:\n",
        "    \"\"\"\n",
        "        This class calculates and summarizes evaluation metrics based on the predicted and true labels.\n",
        "    \"\"\"\n",
        "\n",
        "    def __init__(self, x_train, x_val, x_test, y_train, y_val, y_test, y_pred, training_dates, validation_dates, testing_dates, tile_size, step_size,\n",
        "                 run_count):\n",
        "        self.class_statistics = self.get_statistics(x_train, x_val, x_test, y_train, y_val, y_test)\n",
        "\n",
        "        self.training_dates = training_dates\n",
        "        self.validation_dates = validation_dates\n",
        "        self.testing_dates = testing_dates\n",
        "        self.tile_size = tile_size\n",
        "        self.step_size = step_size\n",
        "        self.run_count = run_count\n",
        "\n",
        "        self.jacard = self.jacard_coef(y_test, y_pred)\n",
        "\n",
        "        self.conf_matrix_land = self.confusion_matrix(y_test, y_pred, 2)\n",
        "        self.conf_matrix_valid = self.confusion_matrix(y_test, y_pred, 1)\n",
        "        self.conf_matrix_invalid = self.confusion_matrix(y_test, y_pred, 0)\n",
        "\n",
        "        self.f1_land = self.f1_scores(self.conf_matrix_land)\n",
        "        self.f1_invalid = self.f1_scores(self.conf_matrix_invalid)\n",
        "        self.f1_valid = self.f1_scores(self.conf_matrix_valid)\n",
        "\n",
        "    def jacard_coef(self, y_true, y_pred):\n",
        "        y_true_f = keras.backend.flatten(y_true)\n",
        "        y_pred_f = keras.backend.flatten(y_pred)\n",
        "\n",
        "        intersection = keras.backend.sum(y_true_f * y_pred_f)\n",
        "        return (intersection + 1.0) / (\n",
        "                keras.backend.sum(y_true_f) + keras.backend.sum(y_pred_f) - intersection + 1.0\n",
        "        )  #todo reason for +1?\n",
        "\n",
        "    def jacard_rounding_issue(self, y_true, y_pred):\n",
        "        # revert one hot encoding => binary tensor [0, 0, 1] back to label [2] (3D array to 2D array)\n",
        "        label_map_true = np.argmax(y_true, axis=-1)\n",
        "        label_map_pred = np.argmax(y_pred, axis=-1)\n",
        "        # convert 2D array into 1D array\n",
        "        flatten_true = np.reshape(label_map_true, (-1,))\n",
        "        flatten_pred = np.reshape(label_map_pred, (-1,))\n",
        "        # one hot encoding\n",
        "        one_hot_true = np.eye(3)[flatten_true]\n",
        "        one_hot_pred = np.eye(3)[flatten_pred]\n",
        "        # calculate intersection (A geschnitten B)\n",
        "        intersection = np.sum(one_hot_true * one_hot_pred)\n",
        "        # calculate union (a u B, A vereint B)\n",
        "        union = len(one_hot_true) + len(one_hot_pred) - intersection\n",
        "        # return jacard coefficient\n",
        "        return (intersection + 1) / (union + 1)\n",
        "\n",
        "    def confusion_matrix(self, y_true, y_pred, label):\n",
        "        true_positives = 0\n",
        "        false_positives = 0\n",
        "        true_negatives = 0\n",
        "        false_negatives = 0\n",
        "\n",
        "        # revert one hot encoding => binary tensor [0, 0, 1] back to label [2] (3D array to 2D array)\n",
        "        label_map_true = np.argmax(y_true, axis=-1)\n",
        "        label_map_pred = np.argmax(y_pred, axis=-1)\n",
        "        # convert 2D array into 1D array\n",
        "        flatten_true = np.reshape(label_map_true, (-1,))\n",
        "        flatten_pred = np.reshape(label_map_pred, (-1,))\n",
        "\n",
        "        tp_mask = (flatten_true == flatten_pred) & (flatten_true == label)\n",
        "        true_positives = np.count_nonzero(tp_mask)\n",
        "\n",
        "        fn_mask = (flatten_true == label) & (flatten_pred != label)\n",
        "        false_negatives = np.count_nonzero(fn_mask)\n",
        "\n",
        "        fp_mask = (flatten_true != label) & (flatten_pred == label)\n",
        "        false_positives = np.count_nonzero(fp_mask)\n",
        "\n",
        "        tn_mask = (flatten_true != label) & (flatten_pred != label)\n",
        "        true_negatives = np.count_nonzero(tn_mask)\n",
        "\n",
        "        return {\n",
        "            'true_positives': true_positives,\n",
        "            'false_positives': false_positives,\n",
        "            'true_negatives': true_negatives,\n",
        "            'false_negatives': false_negatives\n",
        "        }\n",
        "\n",
        "    def precision(self, conf_matrix):\n",
        "        return conf_matrix['true_positives'] / (conf_matrix['true_positives'] + conf_matrix['false_positives'])\n",
        "\n",
        "    def sensitivity_recall(self, conf_matrix):\n",
        "        return conf_matrix['true_positives'] / (conf_matrix['true_positives'] + conf_matrix['false_negatives'])\n",
        "\n",
        "    def negative_predictive(self, conf_matrix):\n",
        "        return conf_matrix['true_negatives'] / (conf_matrix['true_negatives'] + conf_matrix['false_negatives'])\n",
        "\n",
        "    def specificy(self, conf_matrix):\n",
        "        return conf_matrix['true_negatives'] / (conf_matrix['true_negatives'] + conf_matrix['false_positives'])\n",
        "\n",
        "    def f1_scores(self, conf_matrix):\n",
        "        prec = self.precision(conf_matrix)\n",
        "        recall = self.sensitivity_recall(conf_matrix)\n",
        "        return 2 * prec * recall / (prec + recall)\n",
        "\n",
        "    def print_metrics(self):\n",
        "        print(f'jacard index: {self.jacard}')\n",
        "        print(f'conf_matrix_land: {self.conf_matrix_land}')\n",
        "        print(f'conf_matrix_valid: {self.conf_matrix_valid}')\n",
        "        print(f'conf_matrix_invalid: {self.conf_matrix_invalid}')\n",
        "        print(f'f1_land: {self.f1_land}')\n",
        "        print(f'f1_invalid: {self.f1_invalid}')\n",
        "        print(f'f1_valid: {self.f1_valid}')\n",
        "        print(\n",
        "            f'Training dates: {self.training_dates}, validation dates: {self.validation_dates}, testing dates: {self.testing_dates}')\n",
        "        print(f'Number of run: {self.run_count}, tile_size: {self.tile_size}, step_size: {self.step_size}')\n",
        "\n",
        "    def save_to_file(self):\n",
        "        file_name = f'../metrics/{self.tile_size}_{self.step_size}_{self.run_count}.pkl'\n",
        "        with open(file_name, 'wb') as file:\n",
        "            pickle.dump(self, file)\n",
        "\n",
        "    def get_label_count(self, array):\n",
        "        revert_one_hot = np.argmax(array, (-1))\n",
        "        flatten = np.reshape(revert_one_hot, (-1))\n",
        "        unique_vals, counts = np.unique(flatten, return_counts=True)\n",
        "        label_count = {}\n",
        "        for val, count in zip(unique_vals, counts):\n",
        "            label_count[f'{val}'] = count\n",
        "        return label_count\n",
        "\n",
        "    def get_statistics(self, x_train, x_val, x_test, y_train, y_val, y_test):\n",
        "       return {'y_train': self.get_label_count(y_train),\n",
        "                 'y_val': self.get_label_count(y_val), 'y_test': self.get_label_count(y_test)}\n",
        "    # todo add pixel accuracy\n"
      ],
      "metadata": {
        "id": "lOZ4DyVURpH3"
      },
      "execution_count": 33,
      "outputs": []
    },
    {
      "cell_type": "markdown",
      "source": [
        "**1. Loading results**"
      ],
      "metadata": {
        "id": "8RDETCSrFKsB"
      }
    },
    {
      "cell_type": "code",
      "source": [
        "from google.colab import drive\n",
        "drive.mount('/content/drive')\n",
        "! ls\n",
        "%cd drive/MyDrive/MachineLearning/metrics/experiment_1\n",
        "! ls"
      ],
      "metadata": {
        "colab": {
          "base_uri": "https://localhost:8080/"
        },
        "id": "X0rlorzXFbgv",
        "outputId": "d11cba8d-616a-4124-dd2b-262acdbce73e"
      },
      "execution_count": 34,
      "outputs": [
        {
          "output_type": "stream",
          "name": "stdout",
          "text": [
            "Drive already mounted at /content/drive; to attempt to forcibly remount, call drive.mount(\"/content/drive\", force_remount=True).\n",
            "history_256_200_run_0.pkl  history_256_200_run_7.pkl  metrics_256_200_run_4.pkl\n",
            "history_256_200_run_1.pkl  history_256_200_run_8.pkl  metrics_256_200_run_5.pkl\n",
            "history_256_200_run_2.pkl  history_256_200_run_9.pkl  metrics_256_200_run_6.pkl\n",
            "history_256_200_run_3.pkl  metrics_256_200_run_0.pkl  metrics_256_200_run_7.pkl\n",
            "history_256_200_run_4.pkl  metrics_256_200_run_1.pkl  metrics_256_200_run_8.pkl\n",
            "history_256_200_run_5.pkl  metrics_256_200_run_2.pkl  metrics_256_200_run_9.pkl\n",
            "history_256_200_run_6.pkl  metrics_256_200_run_3.pkl\n",
            "[Errno 2] No such file or directory: 'drive/MyDrive/MachineLearning/metrics/experiment_1'\n",
            "/content/drive/.shortcut-targets-by-id/15HUD3sGdfvxy5Y_bjvuXgrzwxt7TzRfm/MachineLearning/metrics/experiment_1\n",
            "history_256_200_run_0.pkl  history_256_200_run_7.pkl  metrics_256_200_run_4.pkl\n",
            "history_256_200_run_1.pkl  history_256_200_run_8.pkl  metrics_256_200_run_5.pkl\n",
            "history_256_200_run_2.pkl  history_256_200_run_9.pkl  metrics_256_200_run_6.pkl\n",
            "history_256_200_run_3.pkl  metrics_256_200_run_0.pkl  metrics_256_200_run_7.pkl\n",
            "history_256_200_run_4.pkl  metrics_256_200_run_1.pkl  metrics_256_200_run_8.pkl\n",
            "history_256_200_run_5.pkl  metrics_256_200_run_2.pkl  metrics_256_200_run_9.pkl\n",
            "history_256_200_run_6.pkl  metrics_256_200_run_3.pkl\n"
          ]
        }
      ]
    },
    {
      "cell_type": "code",
      "source": [
        "import pickle\n",
        "\n",
        "with open('metrics_256_200_run_0.pkl', \"rb\") as file_pi:\n",
        "  metrics = pickle.load(file_pi)\n",
        "metrics.print_metrics()"
      ],
      "metadata": {
        "colab": {
          "base_uri": "https://localhost:8080/"
        },
        "id": "dHUDFP2DF_8R",
        "outputId": "9114ff55-96fc-4490-c54c-a1308ee5a460"
      },
      "execution_count": 35,
      "outputs": [
        {
          "output_type": "stream",
          "name": "stdout",
          "text": [
            "jacard index: 0.9303678274154663\n",
            "conf_matrix_land: {'true_positives': 38346188, 'false_positives': 489066, 'true_negatives': 43383768, 'false_negatives': 225266}\n",
            "conf_matrix_valid: {'true_positives': 38091050, 'false_positives': 1166052, 'true_negatives': 42883626, 'false_negatives': 303560}\n",
            "conf_matrix_invalid: {'true_positives': 3857605, 'false_positives': 494327, 'true_negatives': 76471737, 'false_negatives': 1620619}\n",
            "f1_land: 0.9907717041784028\n",
            "f1_invalid: 0.7848512271829662\n",
            "f1_valid: 0.981074312952688\n",
            "Training dates: 2022_06_20, validation dates: 2022_07_10, testing dates: 2022_07_25\n",
            "Number of run: 0, tile_size: 256, step_size: 200\n"
          ]
        }
      ]
    },
    {
      "cell_type": "code",
      "source": [
        "! ls"
      ],
      "metadata": {
        "colab": {
          "base_uri": "https://localhost:8080/"
        },
        "id": "oPN4br_YHQ9w",
        "outputId": "ceb51c96-2c5a-41c2-9ae3-54f80f7a4fe8"
      },
      "execution_count": 36,
      "outputs": [
        {
          "output_type": "stream",
          "name": "stdout",
          "text": [
            "history_256_200_run_0.pkl  history_256_200_run_7.pkl  metrics_256_200_run_4.pkl\n",
            "history_256_200_run_1.pkl  history_256_200_run_8.pkl  metrics_256_200_run_5.pkl\n",
            "history_256_200_run_2.pkl  history_256_200_run_9.pkl  metrics_256_200_run_6.pkl\n",
            "history_256_200_run_3.pkl  metrics_256_200_run_0.pkl  metrics_256_200_run_7.pkl\n",
            "history_256_200_run_4.pkl  metrics_256_200_run_1.pkl  metrics_256_200_run_8.pkl\n",
            "history_256_200_run_5.pkl  metrics_256_200_run_2.pkl  metrics_256_200_run_9.pkl\n",
            "history_256_200_run_6.pkl  metrics_256_200_run_3.pkl\n"
          ]
        }
      ]
    },
    {
      "cell_type": "code",
      "source": [
        "import os\n",
        "import pickle\n",
        "\n",
        "def open_metrics(path):\n",
        "  data = []\n",
        "  for root, dirs, files in os.walk(path):\n",
        "    for file in files:\n",
        "      if file.startswith('metrics'):\n",
        "          with open(file,\"rb\") as f:\n",
        "            try:\n",
        "              data.append(pickle.load(f))\n",
        "            except EOFError:\n",
        "              break\n",
        "  return data\n",
        "\n",
        "metrics_files = open_metrics(\"./\")\n",
        "print(metrics_files[0].jacard)"
      ],
      "metadata": {
        "colab": {
          "base_uri": "https://localhost:8080/"
        },
        "id": "zHfi2tgbu2t0",
        "outputId": "b05bd11d-cf64-4880-ca33-6f72c944c25e"
      },
      "execution_count": 75,
      "outputs": [
        {
          "output_type": "stream",
          "name": "stdout",
          "text": [
            "tf.Tensor(0.9303678, shape=(), dtype=float32)\n"
          ]
        }
      ]
    },
    {
      "cell_type": "code",
      "source": [
        "import pandas as pd\n",
        "import numpy\n",
        "def generate_metrics_df(metrics_files):\n",
        "  number_of_run = []\n",
        "  tile_size = []\n",
        "  step_size = []\n",
        "  jacard_index = []\n",
        "  conf_matrix_land = []\n",
        "  conf_matrix_valid = []\n",
        "  conf_matrix_invalid = []\n",
        "  f1_land = []\n",
        "  f1_invalid = []\n",
        "  f1_valid = []\n",
        "  for file in metrics_files:\n",
        "    number_of_run.append(file.run_count)\n",
        "    tile_size.append(file.tile_size)\n",
        "    step_size.append(file.step_size)\n",
        "    jacard_index.append(file.jacard.numpy())\n",
        "    conf_matrix_land.append(file.conf_matrix_land)\n",
        "    conf_matrix_valid.append(file.conf_matrix_valid)\n",
        "    conf_matrix_invalid.append(file.conf_matrix_invalid)\n",
        "    f1_land.append(file.f1_land)\n",
        "    f1_invalid.append(file.f1_invalid)\n",
        "    f1_valid.append(file.f1_valid)\n",
        "  \n",
        "  data = {\n",
        "      \"number_of_run\": number_of_run,\n",
        "      \"tile_size\":tile_size,\n",
        "      \"step_size\": step_size,\n",
        "      \"jacard_index\":jacard_index,\n",
        "      \"conf_matrix_land\":conf_matrix_land,\n",
        "      \"conf_matrix_valid\":conf_matrix_valid,\n",
        "      \"conf_matrix_invalid\":conf_matrix_invalid,\n",
        "      \"f1_land\":f1_land,\n",
        "      \"f1_invalid\":f1_invalid,\n",
        "      \"f1_valid\":f1_valid\n",
        "  }\n",
        "  df = pd.DataFrame(data)\n",
        "  return df"
      ],
      "metadata": {
        "id": "299MZcAsxQuN"
      },
      "execution_count": 82,
      "outputs": []
    },
    {
      "cell_type": "code",
      "source": [
        "metrics_files = open_metrics(\"./\")\n",
        "print(generate_metrics_df(metrics_files))"
      ],
      "metadata": {
        "colab": {
          "base_uri": "https://localhost:8080/"
        },
        "id": "wyqmJCLnzPs_",
        "outputId": "1c28b33e-d80d-4103-c639-28b924c5024e"
      },
      "execution_count": 83,
      "outputs": [
        {
          "output_type": "stream",
          "name": "stdout",
          "text": [
            "   number_of_run  tile_size  step_size  jacard_index  \\\n",
            "0              0        256        200      0.930368   \n",
            "1              1        256        200      0.959704   \n",
            "2              2        256        200      0.974950   \n",
            "3              3        256        200      0.931019   \n",
            "4              4        256        200      0.978121   \n",
            "5              5        256        200      0.954100   \n",
            "6              6        256        200      0.954208   \n",
            "7              7        256        200      0.958231   \n",
            "8              8        256        200      0.983031   \n",
            "\n",
            "                                    conf_matrix_land  \\\n",
            "0  {'true_positives': 38346188, 'false_positives'...   \n",
            "1  {'true_positives': 38493604, 'false_positives'...   \n",
            "2  {'true_positives': 38480750, 'false_positives'...   \n",
            "3  {'true_positives': 38353780, 'false_positives'...   \n",
            "4  {'true_positives': 38521881, 'false_positives'...   \n",
            "5  {'true_positives': 38516511, 'false_positives'...   \n",
            "6  {'true_positives': 38501923, 'false_positives'...   \n",
            "7  {'true_positives': 38519667, 'false_positives'...   \n",
            "8  {'true_positives': 38514848, 'false_positives'...   \n",
            "\n",
            "                                   conf_matrix_valid  \\\n",
            "0  {'true_positives': 38091050, 'false_positives'...   \n",
            "1  {'true_positives': 38302215, 'false_positives'...   \n",
            "2  {'true_positives': 38081721, 'false_positives'...   \n",
            "3  {'true_positives': 38182588, 'false_positives'...   \n",
            "4  {'true_positives': 38064075, 'false_positives'...   \n",
            "5  {'true_positives': 38044688, 'false_positives'...   \n",
            "6  {'true_positives': 38246029, 'false_positives'...   \n",
            "7  {'true_positives': 38273137, 'false_positives'...   \n",
            "8  {'true_positives': 38143207, 'false_positives'...   \n",
            "\n",
            "                                 conf_matrix_invalid   f1_land  f1_invalid  \\\n",
            "0  {'true_positives': 3857605, 'false_positives':...  0.990772    0.784851   \n",
            "1  {'true_positives': 4433150, 'false_positives':...  0.996891    0.880399   \n",
            "2  {'true_positives': 5043068, 'false_positives':...  0.998111    0.923797   \n",
            "3  {'true_positives': 4410129, 'false_positives':...  0.994134    0.856391   \n",
            "4  {'true_positives': 5051360, 'false_positives':...  0.998134    0.926432   \n",
            "5  {'true_positives': 4746144, 'false_positives':...  0.996538    0.893854   \n",
            "6  {'true_positives': 4297535, 'false_positives':...  0.995003    0.861870   \n",
            "7  {'true_positives': 4425647, 'false_positives':...  0.996006    0.879669   \n",
            "8  {'true_positives': 5111640, 'false_positives':...  0.998369    0.938433   \n",
            "\n",
            "   f1_valid  \n",
            "0  0.981074  \n",
            "1  0.987292  \n",
            "2  0.990895  \n",
            "3  0.986260  \n",
            "4  0.991306  \n",
            "5  0.988579  \n",
            "6  0.986670  \n",
            "7  0.987971  \n",
            "8  0.992808  \n"
          ]
        }
      ]
    },
    {
      "cell_type": "code",
      "source": [
        "import matplotlib.pyplot as plot\n",
        "df = generate_metrics_df(metrics_files)\n",
        "df.plot.bar(x= \"number_of_run\",y = [\"f1_land\", \"f1_invalid\", \"f1_valid\"], rot=70, title=\"F1 scores for each category\")\n",
        "plot.show()"
      ],
      "metadata": {
        "colab": {
          "base_uri": "https://localhost:8080/",
          "height": 296
        },
        "id": "WwH1uK_B0i0B",
        "outputId": "ad940793-2330-4d2b-d9b2-0707c26e7ea6"
      },
      "execution_count": 86,
      "outputs": [
        {
          "output_type": "display_data",
          "data": {
            "text/plain": [
              "<Figure size 432x288 with 1 Axes>"
            ],
            "image/png": "[encoded data removed]"
          },
          "metadata": {
            "needs_background": "light"
          }
        }
      ]
    },
    {
      "cell_type": "code",
      "source": [],
      "metadata": {
        "id": "SpR6Hud46jIO"
      },
      "execution_count": null,
      "outputs": []
    }
  ]
}