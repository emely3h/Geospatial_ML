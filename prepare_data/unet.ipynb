{
 "cells": [
  {
   "cell_type": "code",
   "execution_count": 3,
   "metadata": {},
   "outputs": [],
   "source": [
    "import numpy as np\n",
    "from PIL import Image"
   ]
  },
  {
   "cell_type": "code",
   "execution_count": 6,
   "metadata": {},
   "outputs": [],
   "source": [
    "Image.MAX_IMAGE_PIXELS = 933120000\n",
    "flagged_img = np.asarray(Image.open('../data/flags_applied/2021_10_03/wq.tif'))"
   ]
  },
  {
   "cell_type": "code",
   "execution_count": 8,
   "metadata": {},
   "outputs": [
    {
     "data": {
      "text/plain": [
       "(9410, 27602)"
      ]
     },
     "execution_count": 8,
     "metadata": {},
     "output_type": "execute_result"
    }
   ],
   "source": [
    "flagged_img.shape"
   ]
  },
  {
   "attachments": {},
   "cell_type": "markdown",
   "metadata": {},
   "source": [
    "We aim to train the Unet model.\n",
    "\n",
    "Testing Image = \"unflagged\"\n",
    "\n",
    "Testing Label = \"flagged\"\n",
    "\n",
    "#Categories and pixel value\n",
    "\n",
    "Land=0\n",
    "\n",
    "invalid=253 - 255\n",
    "\n",
    "valid=others\n",
    "\n",
    "We are going to classify pixels into valid and invalid.\n",
    "Masks provides the value 0 to 255(which means RGB has already converted into 2D_label).\n",
    "You can check these labels' value like this.\n",
    "\n",
    "e.g.,\n",
    "```python\n",
    "import numpy as np\n",
    "from PIL import Image\n",
    "Image.MAX_IMAGE_PIXELS = 933120000\n",
    "flagged_img = np.asarray(Image.open('../data/flags_applied/2021_10_03/wq.tif'))\n",
    "labels = np.expand_dims(flagged_img, axis=0)\n",
    "np.unique(labels)\n",
    "```\n",
    "\n",
    "On the other hand, RGB provides three values(each has 0 to 255 value).\n",
    "\n"
   ]
  },
  {
   "cell_type": "code",
   "execution_count": null,
   "metadata": {},
   "outputs": [],
   "source": []
  },
  {
   "cell_type": "code",
   "execution_count": null,
   "metadata": {},
   "outputs": [],
   "source": []
  },
  {
   "cell_type": "markdown",
   "metadata": {},
   "source": []
  }
 ],
 "metadata": {
  "kernelspec": {
   "display_name": "Geospatial_ML-",
   "language": "python",
   "name": "python3"
  },
  "language_info": {
   "codemirror_mode": {
    "name": "ipython",
    "version": 3
   },
   "file_extension": ".py",
   "mimetype": "text/x-python",
   "name": "python",
   "nbconvert_exporter": "python",
   "pygments_lexer": "ipython3",
   "version": "3.9.16"
  },
  "orig_nbformat": 4
 },
 "nbformat": 4,
 "nbformat_minor": 2
}
