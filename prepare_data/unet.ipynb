{
 "cells": [
  {
   "cell_type": "code",
   "execution_count": 3,
   "metadata": {},
   "outputs": [],
   "source": [
    "import numpy as np\n",
    "from PIL import Image"
   ]
  },
  {
   "cell_type": "code",
   "execution_count": 6,
   "metadata": {},
   "outputs": [],
   "source": [
    "Image.MAX_IMAGE_PIXELS = 933120000\n",
    "flagged_img = np.asarray(Image.open(\"../data/flags_applied/2021_10_03/wq.tif\"))"
   ]
  },
  {
   "cell_type": "code",
   "execution_count": 8,
   "metadata": {},
   "outputs": [
    {
     "data": {
      "text/plain": [
       "(9410, 27602)"
      ]
     },
     "execution_count": 8,
     "metadata": {},
     "output_type": "execute_result"
    }
   ],
   "source": [
    "flagged_img.shape"
   ]
  },
  {
   "attachments": {},
   "cell_type": "markdown",
   "metadata": {},
   "source": [
    "We aim to train the Unet model.\n",
    "\n",
    "Testing Image = \"unflagged\"\n",
    "\n",
    "Testing Label = \"flagged\"\n",
    "\n",
    "#Categories and pixel value\n",
    "\n",
    "Land=0\n",
    "\n",
    "invalid=253 - 255\n",
    "\n",
    "valid=others\n",
    "\n",
    "We are going to classify pixels into valid and invalid.\n",
    "Masks provides the value 0 to 255(which means RGB has already converted into 2D_label).\n",
    "You can check these labels' value like this.\n",
    "\n",
    "e.g.,\n",
    "```python\n",
    "import numpy as np\n",
    "from PIL import Image\n",
    "Image.MAX_IMAGE_PIXELS = 933120000\n",
    "flagged_img = np.asarray(Image.open('../data/flags_applied/2021_10_03/wq.tif'))\n",
    "labels = np.expand_dims(flagged_img, axis=0)\n",
    "np.unique(labels)\n",
    "```\n",
    "\n",
    "On the other hand, input RGB images provide three values(each has 0 to 255 value).\n",
    "\n"
   ]
  },
  {
   "attachments": {},
   "cell_type": "markdown",
   "metadata": {},
   "source": [
    "## 1. Convert 256 (integral encoded) label into 2 labels(valid or invalid). "
   ]
  },
  {
   "cell_type": "code",
   "execution_count": 36,
   "metadata": {},
   "outputs": [],
   "source": [
    "def convert_to_binary_label(label):\n",
    "    if label == 0 or label >= 253:\n",
    "        label = 0\n",
    "    else:\n",
    "        label = 1\n",
    "    return label"
   ]
  },
  {
   "cell_type": "code",
   "execution_count": 37,
   "metadata": {},
   "outputs": [
    {
     "data": {
      "text/plain": [
       "array([0, 1])"
      ]
     },
     "execution_count": 37,
     "metadata": {},
     "output_type": "execute_result"
    }
   ],
   "source": [
    "import numpy as np\n",
    "from PIL import Image\n",
    "\n",
    "Image.MAX_IMAGE_PIXELS = 933120000\n",
    "flagged_img = np.asarray(Image.open(\"../data/flags_applied/2021_10_03/wq.tif\"))\n",
    "labels = np.expand_dims(flagged_img, axis=0)\n",
    "# apply binary label function to each pixel\n",
    "v_binary_label = np.vectorize(convert_to_binary_label)\n",
    "labels = v_binary_label(labels)\n",
    "# check unique labels (should be 0 and 1)\n",
    "np.unique(labels)"
   ]
  },
  {
   "attachments": {},
   "cell_type": "markdown",
   "metadata": {},
   "source": [
    "## 2. Change the binary integral encode into [one-hot](https://en.wikipedia.org/wiki/One-hot) encode."
   ]
  },
  {
   "cell_type": "code",
   "execution_count": 40,
   "metadata": {},
   "outputs": [
    {
     "name": "stderr",
     "output_type": "stream",
     "text": [
      "2023-03-03 16:22:44.424467: I tensorflow/core/platform/cpu_feature_guard.cc:193] This TensorFlow binary is optimized with oneAPI Deep Neural Network Library (oneDNN) to use the following CPU instructions in performance-critical operations:  AVX2 FMA\n",
      "To enable them in other operations, rebuild TensorFlow with the appropriate compiler flags.\n"
     ]
    }
   ],
   "source": [
    "from keras.utils import to_categorical\n",
    "\n",
    "labels_cat = to_categorical(labels, num_classes=2)"
   ]
  },
  {
   "cell_type": "code",
   "execution_count": 43,
   "metadata": {},
   "outputs": [
    {
     "name": "stdout",
     "output_type": "stream",
     "text": [
      "(1, 9410, 27602, 2)\n"
     ]
    }
   ],
   "source": [
    "print(labels_cat.shape)"
   ]
  },
  {
   "attachments": {},
   "cell_type": "markdown",
   "metadata": {},
   "source": [
    "## 3. Train a model with split images"
   ]
  },
  {
   "cell_type": "code",
   "execution_count": 59,
   "metadata": {},
   "outputs": [],
   "source": [
    "# e.g., Once we create split images, we can save them in, for instance, a folder called \"split_images\"\n",
    "import os\n",
    "\n",
    "split_images_flags_applied_dir = \"../data/split_images/flags_applied/\"\n",
    "\n",
    "mask_dataset = []\n",
    "for path, subdirs, files in os.walk(split_images_flags_applied_dir):\n",
    "    for name in files:\n",
    "        if name.endswith(\"wq.tif\"):\n",
    "            image = np.asarray(Image.open(path + \"/\" + name))\n",
    "            mask_dataset.append(image)"
   ]
  },
  {
   "cell_type": "code",
   "execution_count": 61,
   "metadata": {},
   "outputs": [],
   "source": [
    "# apply binary label function to each pixel\n",
    "if len(mask_dataset) > 0:\n",
    "    v_binary_label = np.vectorize(convert_to_binary_label)\n",
    "    mask_dataset = v_binary_label(mask_dataset)"
   ]
  },
  {
   "cell_type": "code",
   "execution_count": 63,
   "metadata": {},
   "outputs": [
    {
     "ename": "KeyboardInterrupt",
     "evalue": "",
     "output_type": "error",
     "traceback": [
      "\u001b[0;31m---------------------------------------------------------------------------\u001b[0m",
      "\u001b[0;31mKeyboardInterrupt\u001b[0m                         Traceback (most recent call last)",
      "Cell \u001b[0;32mIn[63], line 1\u001b[0m\n\u001b[0;32m----> 1\u001b[0m \u001b[39mfrom\u001b[39;00m \u001b[39msklearn\u001b[39;00m\u001b[39m.\u001b[39;00m\u001b[39mmodel_selection\u001b[39;00m \u001b[39mimport\u001b[39;00m train_test_split\n\u001b[1;32m      2\u001b[0m X_train, X_test, y_train, y_test \u001b[39m=\u001b[39m train_test_split(mask_dataset, labels_cat, test_size\u001b[39m=\u001b[39m\u001b[39m0.2\u001b[39m, random_state\u001b[39m=\u001b[39m\u001b[39m42\u001b[39m)\n\u001b[1;32m      4\u001b[0m \u001b[39m#######################################\u001b[39;00m\n\u001b[1;32m      5\u001b[0m \u001b[39m#Parameters for model\u001b[39;00m\n\u001b[1;32m      6\u001b[0m \u001b[39m# Segmentation models losses can be combined together by '+' and scaled by integer or float factor\u001b[39;00m\n\u001b[0;32m   (...)\u001b[0m\n\u001b[1;32m     12\u001b[0m \u001b[39m# print(weights)\u001b[39;00m\n\u001b[1;32m     13\u001b[0m \u001b[39m# It depends on the dataset, but in this case, the weights are:\u001b[39;00m\n",
      "File \u001b[0;32m~/.virtualenvs/Geospatial_ML-/lib/python3.9/site-packages/sklearn/__init__.py:82\u001b[0m\n\u001b[1;32m     80\u001b[0m \u001b[39mfrom\u001b[39;00m \u001b[39m.\u001b[39;00m \u001b[39mimport\u001b[39;00m _distributor_init  \u001b[39m# noqa: F401\u001b[39;00m\n\u001b[1;32m     81\u001b[0m \u001b[39mfrom\u001b[39;00m \u001b[39m.\u001b[39;00m \u001b[39mimport\u001b[39;00m __check_build  \u001b[39m# noqa: F401\u001b[39;00m\n\u001b[0;32m---> 82\u001b[0m \u001b[39mfrom\u001b[39;00m \u001b[39m.\u001b[39;00m\u001b[39mbase\u001b[39;00m \u001b[39mimport\u001b[39;00m clone\n\u001b[1;32m     83\u001b[0m \u001b[39mfrom\u001b[39;00m \u001b[39m.\u001b[39;00m\u001b[39mutils\u001b[39;00m\u001b[39m.\u001b[39;00m\u001b[39m_show_versions\u001b[39;00m \u001b[39mimport\u001b[39;00m show_versions\n\u001b[1;32m     85\u001b[0m __all__ \u001b[39m=\u001b[39m [\n\u001b[1;32m     86\u001b[0m     \u001b[39m\"\u001b[39m\u001b[39mcalibration\u001b[39m\u001b[39m\"\u001b[39m,\n\u001b[1;32m     87\u001b[0m     \u001b[39m\"\u001b[39m\u001b[39mcluster\u001b[39m\u001b[39m\"\u001b[39m,\n\u001b[0;32m   (...)\u001b[0m\n\u001b[1;32m    128\u001b[0m     \u001b[39m\"\u001b[39m\u001b[39mshow_versions\u001b[39m\u001b[39m\"\u001b[39m,\n\u001b[1;32m    129\u001b[0m ]\n",
      "File \u001b[0;32m~/.virtualenvs/Geospatial_ML-/lib/python3.9/site-packages/sklearn/base.py:17\u001b[0m\n\u001b[1;32m     15\u001b[0m \u001b[39mfrom\u001b[39;00m \u001b[39m.\u001b[39;00m \u001b[39mimport\u001b[39;00m __version__\n\u001b[1;32m     16\u001b[0m \u001b[39mfrom\u001b[39;00m \u001b[39m.\u001b[39;00m\u001b[39m_config\u001b[39;00m \u001b[39mimport\u001b[39;00m get_config\n\u001b[0;32m---> 17\u001b[0m \u001b[39mfrom\u001b[39;00m \u001b[39m.\u001b[39;00m\u001b[39mutils\u001b[39;00m \u001b[39mimport\u001b[39;00m _IS_32BIT\n\u001b[1;32m     18\u001b[0m \u001b[39mfrom\u001b[39;00m \u001b[39m.\u001b[39;00m\u001b[39mutils\u001b[39;00m\u001b[39m.\u001b[39;00m\u001b[39m_set_output\u001b[39;00m \u001b[39mimport\u001b[39;00m _SetOutputMixin\n\u001b[1;32m     19\u001b[0m \u001b[39mfrom\u001b[39;00m \u001b[39m.\u001b[39;00m\u001b[39mutils\u001b[39;00m\u001b[39m.\u001b[39;00m\u001b[39m_tags\u001b[39;00m \u001b[39mimport\u001b[39;00m (\n\u001b[1;32m     20\u001b[0m     _DEFAULT_TAGS,\n\u001b[1;32m     21\u001b[0m )\n",
      "File \u001b[0;32m~/.virtualenvs/Geospatial_ML-/lib/python3.9/site-packages/sklearn/utils/__init__.py:25\u001b[0m\n\u001b[1;32m     23\u001b[0m \u001b[39mfrom\u001b[39;00m \u001b[39m.\u001b[39;00m\u001b[39mdeprecation\u001b[39;00m \u001b[39mimport\u001b[39;00m deprecated\n\u001b[1;32m     24\u001b[0m \u001b[39mfrom\u001b[39;00m \u001b[39m.\u001b[39;00m\u001b[39mdiscovery\u001b[39;00m \u001b[39mimport\u001b[39;00m all_estimators\n\u001b[0;32m---> 25\u001b[0m \u001b[39mfrom\u001b[39;00m \u001b[39m.\u001b[39;00m\u001b[39mfixes\u001b[39;00m \u001b[39mimport\u001b[39;00m parse_version, threadpool_info\n\u001b[1;32m     26\u001b[0m \u001b[39mfrom\u001b[39;00m \u001b[39m.\u001b[39;00m\u001b[39m_estimator_html_repr\u001b[39;00m \u001b[39mimport\u001b[39;00m estimator_html_repr\n\u001b[1;32m     27\u001b[0m \u001b[39mfrom\u001b[39;00m \u001b[39m.\u001b[39;00m\u001b[39mvalidation\u001b[39;00m \u001b[39mimport\u001b[39;00m (\n\u001b[1;32m     28\u001b[0m     as_float_array,\n\u001b[1;32m     29\u001b[0m     assert_all_finite,\n\u001b[0;32m   (...)\u001b[0m\n\u001b[1;32m     38\u001b[0m     _is_arraylike_not_scalar,\n\u001b[1;32m     39\u001b[0m )\n",
      "File \u001b[0;32m~/.virtualenvs/Geospatial_ML-/lib/python3.9/site-packages/sklearn/utils/fixes.py:19\u001b[0m\n\u001b[1;32m     17\u001b[0m \u001b[39mimport\u001b[39;00m \u001b[39mnumpy\u001b[39;00m \u001b[39mas\u001b[39;00m \u001b[39mnp\u001b[39;00m\n\u001b[1;32m     18\u001b[0m \u001b[39mimport\u001b[39;00m \u001b[39mscipy\u001b[39;00m\n\u001b[0;32m---> 19\u001b[0m \u001b[39mimport\u001b[39;00m \u001b[39mscipy\u001b[39;00m\u001b[39m.\u001b[39;00m\u001b[39mstats\u001b[39;00m\n\u001b[1;32m     20\u001b[0m \u001b[39mimport\u001b[39;00m \u001b[39mthreadpoolctl\u001b[39;00m\n\u001b[1;32m     22\u001b[0m \u001b[39mfrom\u001b[39;00m \u001b[39m.\u001b[39;00m\u001b[39mdeprecation\u001b[39;00m \u001b[39mimport\u001b[39;00m deprecated\n",
      "File \u001b[0;32m~/.virtualenvs/Geospatial_ML-/lib/python3.9/site-packages/scipy/stats/__init__.py:493\u001b[0m\n\u001b[1;32m    491\u001b[0m \u001b[39mfrom\u001b[39;00m \u001b[39m.\u001b[39;00m\u001b[39m_kde\u001b[39;00m \u001b[39mimport\u001b[39;00m gaussian_kde\n\u001b[1;32m    492\u001b[0m \u001b[39mfrom\u001b[39;00m \u001b[39m.\u001b[39;00m \u001b[39mimport\u001b[39;00m mstats\n\u001b[0;32m--> 493\u001b[0m \u001b[39mfrom\u001b[39;00m \u001b[39m.\u001b[39;00m \u001b[39mimport\u001b[39;00m qmc\n\u001b[1;32m    494\u001b[0m \u001b[39mfrom\u001b[39;00m \u001b[39m.\u001b[39;00m\u001b[39m_multivariate\u001b[39;00m \u001b[39mimport\u001b[39;00m \u001b[39m*\u001b[39m\n\u001b[1;32m    495\u001b[0m \u001b[39mfrom\u001b[39;00m \u001b[39m.\u001b[39;00m \u001b[39mimport\u001b[39;00m contingency\n",
      "File \u001b[0;32m~/.virtualenvs/Geospatial_ML-/lib/python3.9/site-packages/scipy/stats/qmc.py:235\u001b[0m\n\u001b[1;32m      1\u001b[0m \u001b[39m# -*- coding: utf-8 -*-\u001b[39;00m\n\u001b[1;32m      2\u001b[0m \u001b[39mr\u001b[39m\u001b[39m\"\"\"\u001b[39;00m\n\u001b[1;32m      3\u001b[0m \u001b[39m====================================================\u001b[39;00m\n\u001b[1;32m      4\u001b[0m \u001b[39mQuasi-Monte Carlo submodule (:mod:`scipy.stats.qmc`)\u001b[39;00m\n\u001b[0;32m   (...)\u001b[0m\n\u001b[1;32m    233\u001b[0m \n\u001b[1;32m    234\u001b[0m \u001b[39m\"\"\"\u001b[39;00m\n\u001b[0;32m--> 235\u001b[0m \u001b[39mfrom\u001b[39;00m \u001b[39m.\u001b[39;00m\u001b[39m_qmc\u001b[39;00m \u001b[39mimport\u001b[39;00m \u001b[39m*\u001b[39m\n",
      "File \u001b[0;32m~/.virtualenvs/Geospatial_ML-/lib/python3.9/site-packages/scipy/stats/_qmc.py:35\u001b[0m\n\u001b[1;32m     33\u001b[0m \u001b[39mfrom\u001b[39;00m \u001b[39mscipy\u001b[39;00m\u001b[39m.\u001b[39;00m\u001b[39mspatial\u001b[39;00m \u001b[39mimport\u001b[39;00m distance, Voronoi\n\u001b[1;32m     34\u001b[0m \u001b[39mfrom\u001b[39;00m \u001b[39mscipy\u001b[39;00m\u001b[39m.\u001b[39;00m\u001b[39mspecial\u001b[39;00m \u001b[39mimport\u001b[39;00m gammainc\n\u001b[0;32m---> 35\u001b[0m \u001b[39mfrom\u001b[39;00m \u001b[39m.\u001b[39;00m\u001b[39m_sobol\u001b[39;00m \u001b[39mimport\u001b[39;00m (\n\u001b[1;32m     36\u001b[0m     _initialize_v, _cscramble, _fill_p_cumulative, _draw, _fast_forward,\n\u001b[1;32m     37\u001b[0m     _categorize, _MAXDIM\n\u001b[1;32m     38\u001b[0m )\n\u001b[1;32m     39\u001b[0m \u001b[39mfrom\u001b[39;00m \u001b[39m.\u001b[39;00m\u001b[39m_qmc_cy\u001b[39;00m \u001b[39mimport\u001b[39;00m (\n\u001b[1;32m     40\u001b[0m     _cy_wrapper_centered_discrepancy,\n\u001b[1;32m     41\u001b[0m     _cy_wrapper_wrap_around_discrepancy,\n\u001b[0;32m   (...)\u001b[0m\n\u001b[1;32m     46\u001b[0m     _cy_van_der_corput,\n\u001b[1;32m     47\u001b[0m )\n\u001b[1;32m     50\u001b[0m __all__ \u001b[39m=\u001b[39m [\u001b[39m'\u001b[39m\u001b[39mscale\u001b[39m\u001b[39m'\u001b[39m, \u001b[39m'\u001b[39m\u001b[39mdiscrepancy\u001b[39m\u001b[39m'\u001b[39m, \u001b[39m'\u001b[39m\u001b[39mupdate_discrepancy\u001b[39m\u001b[39m'\u001b[39m,\n\u001b[1;32m     51\u001b[0m            \u001b[39m'\u001b[39m\u001b[39mQMCEngine\u001b[39m\u001b[39m'\u001b[39m, \u001b[39m'\u001b[39m\u001b[39mSobol\u001b[39m\u001b[39m'\u001b[39m, \u001b[39m'\u001b[39m\u001b[39mHalton\u001b[39m\u001b[39m'\u001b[39m, \u001b[39m'\u001b[39m\u001b[39mLatinHypercube\u001b[39m\u001b[39m'\u001b[39m, \u001b[39m'\u001b[39m\u001b[39mPoissonDisk\u001b[39m\u001b[39m'\u001b[39m,\n\u001b[1;32m     52\u001b[0m            \u001b[39m'\u001b[39m\u001b[39mMultinomialQMC\u001b[39m\u001b[39m'\u001b[39m, \u001b[39m'\u001b[39m\u001b[39mMultivariateNormalQMC\u001b[39m\u001b[39m'\u001b[39m]\n",
      "File \u001b[0;32m<frozen importlib._bootstrap>:398\u001b[0m, in \u001b[0;36mparent\u001b[0;34m(self)\u001b[0m\n",
      "\u001b[0;31mKeyboardInterrupt\u001b[0m: "
     ]
    }
   ],
   "source": [
    "from sklearn.model_selection import train_test_split\n",
    "from matplotlib import pyplot as plt\n",
    "\n",
    "X_train, X_test, y_train, y_test = train_test_split(\n",
    "    mask_dataset, labels_cat, test_size=0.2, random_state=42\n",
    ")\n",
    "\n",
    "#######################################\n",
    "# Parameters for model\n",
    "# Segmentation models losses can be combined together by '+' and scaled by integer or float factor\n",
    "# set class weights for dice_loss\n",
    "# from sklearn.utils.class_weight import compute_class_weight\n",
    "\n",
    "# weights = compute_class_weight('balanced', np.unique(np.ravel(labels,order='C')),\n",
    "#                               np.ravel(labels,order='C'))\n",
    "# print(weights)\n",
    "\n",
    "\n",
    "# It depends on the dataset, but in this case, the weights are:\n",
    "weights = [0.1666, 0.1666, 0.1666, 0.1666, 0.1666, 0.1666]\n",
    "dice_loss = sm.losses.DiceLoss(class_weights=weights)\n",
    "focal_loss = sm.losses.CategoricalFocalLoss()\n",
    "total_loss = dice_loss + (1 * focal_loss)  #\n",
    "IMG_HEIGHT = X_train.shape[1]\n",
    "IMG_WIDTH = X_train.shape[2]\n",
    "IMG_CHANNELS = X_train.shape[3]\n",
    "\n",
    "from simple_multi_unet_model import multi_unet_model, jacard_coef\n",
    "\n",
    "metrics = [\"accuracy\", jacard_coef]\n",
    "\n",
    "\n",
    "def get_model():\n",
    "    return multi_unet_model(\n",
    "        n_classes=2,\n",
    "        IMG_HEIGHT=IMG_HEIGHT,\n",
    "        IMG_WIDTH=IMG_WIDTH,\n",
    "        IMG_CHANNELS=IMG_CHANNELS,\n",
    "    )\n",
    "\n",
    "\n",
    "model = get_model()\n",
    "model.compile(optimizer=\"adam\", loss=total_loss, metrics=metrics)\n",
    "# model.compile(optimizer='adam', loss='categorical_crossentropy', metrics=metrics)\n",
    "model.summary()\n",
    "\n",
    "history1 = model.fit(\n",
    "    X_train,\n",
    "    y_train,\n",
    "    batch_size=16,\n",
    "    verbose=1,\n",
    "    epochs=100,\n",
    "    validation_data=(X_test, y_test),\n",
    "    shuffle=False,\n",
    ")\n",
    "\n",
    "# Resnet backbone\n",
    "BACKBONE = \"resnet34\"\n",
    "preprocess_input = sm.get_preprocessing(BACKBONE)\n",
    "\n",
    "# preprocess input\n",
    "X_train_prepr = preprocess_input(X_train)\n",
    "X_test_prepr = preprocess_input(X_test)\n",
    "\n",
    "# define model\n",
    "model_resnet_backbone = sm.Unet(\n",
    "    BACKBONE, encoder_weights=\"imagenet\", classes=n_classes, activation=\"softmax\"\n",
    ")\n",
    "\n",
    "# compile keras model with defined optimozer, loss and metrics\n",
    "# model_resnet_backbone.compile(optimizer='adam', loss=focal_loss, metrics=metrics)\n",
    "model_resnet_backbone.compile(\n",
    "    optimizer=\"adam\", loss=\"categorical_crossentropy\", metrics=metrics\n",
    ")\n",
    "\n",
    "print(model_resnet_backbone.summary())\n",
    "\n",
    "\n",
    "history2 = model_resnet_backbone.fit(\n",
    "    X_train_prepr,\n",
    "    y_train,\n",
    "    batch_size=16,\n",
    "    epochs=100,\n",
    "    verbose=1,\n",
    "    validation_data=(X_test_prepr, y_test),\n",
    ")\n",
    "\n",
    "###########################################################\n",
    "# plot the training and validation accuracy and loss at each epoch\n",
    "history = history1\n",
    "loss = history.history[\"loss\"]\n",
    "val_loss = history.history[\"val_loss\"]\n",
    "epochs = range(1, len(loss) + 1)\n",
    "plt.plot(epochs, loss, \"y\", label=\"Training loss\")\n",
    "plt.plot(epochs, val_loss, \"r\", label=\"Validation loss\")\n",
    "plt.title(\"Training and validation loss\")\n",
    "plt.xlabel(\"Epochs\")\n",
    "plt.ylabel(\"Loss\")\n",
    "plt.legend()\n",
    "plt.show()\n",
    "\n",
    "acc = history.history[\"jacard_coef\"]\n",
    "val_acc = history.history[\"val_jacard_coef\"]\n",
    "\n",
    "plt.plot(epochs, acc, \"y\", label=\"Training IoU\")\n",
    "plt.plot(epochs, val_acc, \"r\", label=\"Validation IoU\")\n",
    "plt.title(\"Training and validation IoU\")\n",
    "plt.xlabel(\"Epochs\")\n",
    "plt.ylabel(\"IoU\")\n",
    "plt.legend()\n",
    "plt.show()"
   ]
  },
  {
   "cell_type": "code",
   "execution_count": null,
   "metadata": {},
   "outputs": [],
   "source": []
  }
 ],
 "metadata": {
  "kernelspec": {
   "display_name": "Geospatial_ML-",
   "language": "python",
   "name": "python3"
  },
  "language_info": {
   "codemirror_mode": {
    "name": "ipython",
    "version": 3
   },
   "file_extension": ".py",
   "mimetype": "text/x-python",
   "name": "python",
   "nbconvert_exporter": "python",
   "pygments_lexer": "ipython3",
   "version": "3.9.16"
  }
 },
 "nbformat": 4,
 "nbformat_minor": 2
}
