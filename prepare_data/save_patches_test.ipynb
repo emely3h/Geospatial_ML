{
 "cells": [
  {
   "attachments": {},
   "cell_type": "markdown",
   "metadata": {},
   "source": [
    "## Test save_patches function\n",
    "\n",
    "There are three parts of save_patches\n",
    "1. Create nested directories in root path(create_nested_dir)\n",
    "2. Generate patches(generate_patch)\n",
    "3. Save patches the nested directories(save_patches)"
   ]
  },
  {
   "cell_type": "code",
   "execution_count": 1,
   "metadata": {},
   "outputs": [
    {
     "name": "stdout",
     "output_type": "stream",
     "text": [
      "Saved ../test_smaller_data/patches/unflagged/2021_10_03/hsv-example.tif_0_0.tif\n",
      "Saved ../test_smaller_data/patches/unflagged/2021_10_03/hsv-example.tif_0_1.tif\n",
      "Saved ../test_smaller_data/patches/flagged_applied/2021_10_03/example.tif_0_0.tif\n",
      "Saved ../test_smaller_data/patches/flagged_applied/2021_10_03/example.tif_0_1.tif\n"
     ]
    }
   ],
   "source": [
    "from prepare_folder import save_patches\n",
    "\n",
    "root_directory = \"../test_smaller_data\"\n",
    "new_dir = \"patches\"\n",
    "# if the patch size is 250 and we want an overlap of 50, the step size would be 200\n",
    "patch_size = 250\n",
    "step = 200\n",
    "max_image_pixels = 933120000\n",
    "\n",
    "save_patches(root_directory, new_dir, patch_size, step, max_image_pixels)"
   ]
  },
  {
   "cell_type": "code",
   "execution_count": null,
   "metadata": {},
   "outputs": [],
   "source": []
  }
 ],
 "metadata": {
  "kernelspec": {
   "display_name": "Geospatial_ML-",
   "language": "python",
   "name": "python3"
  },
  "language_info": {
   "codemirror_mode": {
    "name": "ipython",
    "version": 3
   },
   "file_extension": ".py",
   "mimetype": "text/x-python",
   "name": "python",
   "nbconvert_exporter": "python",
   "pygments_lexer": "ipython3",
   "version": "3.9.16"
  },
  "orig_nbformat": 4
 },
 "nbformat": 4,
 "nbformat_minor": 2
}
