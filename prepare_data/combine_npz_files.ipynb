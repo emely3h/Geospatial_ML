{
  "nbformat": 4,
  "nbformat_minor": 0,
  "metadata": {
    "colab": {
      "provenance": [],
      "machine_shape": "hm",
      "authorship_tag": "ABX9TyPbGvrypdQG/J+b2SZJfDY0",
      "include_colab_link": true
    },
    "kernelspec": {
      "name": "python3",
      "display_name": "Python 3"
    },
    "language_info": {
      "name": "python"
    },
    "accelerator": "GPU",
    "gpuClass": "standard"
  },
  "cells": [
    {
      "cell_type": "markdown",
      "metadata": {
        "id": "view-in-github",
        "colab_type": "text"
      },
      "source": [
        "<a href=\"https://colab.research.google.com/github/emely3h/Geospatial_ML/blob/feature%2Fadd-data-generators-to-fix-ram-problem/prepare_data/combine_npz_files.ipynb\" target=\"_parent\"><img src=\"https://colab.research.google.com/assets/colab-badge.svg\" alt=\"Open In Colab\"/></a>"
      ]
    },
    {
      "cell_type": "markdown",
      "source": [
        "## Combine npz files\n",
        "\n",
        "This is a notebook for the last step in the prepare data pipeline as we did not have enough RAM to run it locally. To train the model on the entire dataset it is more convenient to have all tile-arrays of all images in one .npz file. "
      ],
      "metadata": {
        "id": "oUgJx7pfMJjO"
      }
    },
    {
      "cell_type": "code",
      "execution_count": 4,
      "outputs": [
        {
          "output_type": "stream",
          "name": "stdout",
          "text": [
            "Drive already mounted at /content/drive; to attempt to forcibly remount, call drive.mount(\"/content/drive\", force_remount=True).\n"
          ]
        }
      ],
      "source": [
        "from google.colab import drive\n",
        "drive.mount('/content/drive')"
      ],
      "metadata": {
        "id": "m8S-npIwb0bv",
        "colab": {
          "base_uri": "https://localhost:8080/"
        },
        "outputId": "c09f92ca-f99a-470a-9ea3-659fe9d542eb"
      }
    },
    {
      "cell_type": "code",
      "execution_count": 5,
      "outputs": [
        {
          "output_type": "stream",
          "name": "stdout",
          "text": [
            "/content/drive/.shortcut-targets-by-id/15HUD3sGdfvxy5Y_bjvuXgrzwxt7TzRfm/MachineLearning\n",
            "/content/drive/.shortcut-targets-by-id/15HUD3sGdfvxy5Y_bjvuXgrzwxt7TzRfm/MachineLearning/Geospatial_ML\n",
            "architecture.drawio  colab.py\t       experiments   __pycache__\n",
            "colab-new.py\t     data_exploration  models\t     README.md\n",
            "colab_new.py\t     evaluation        prepare_data  requirements.txt\n"
          ]
        }
      ],
      "source": [
        "#! ls\n",
        "%cd drive/MyDrive/MachineLearning\n",
        "%cd Geospatial_ML\n",
        "! ls"
      ],
      "metadata": {
        "id": "K4ovYlrBb0bx",
        "colab": {
          "base_uri": "https://localhost:8080/"
        },
        "outputId": "5317f0d4-c2df-4515-fa16-d0e45236a6d0"
      }
    },
    {
      "cell_type": "code",
      "execution_count": 2,
      "outputs": [],
      "source": [
        "import numpy as np\n",
        "import os\n",
        "import pickle"
      ],
      "metadata": {
        "pycharm": {
          "is_executing": true
        },
        "id": "m596oOw2b0bz"
      }
    },
    {
      "cell_type": "code",
      "source": [
        "# Problem: running out of ram when trying to save more than 5 images in one compressed npz, crashing always just at the savez_compressed() step\n",
        "# => combining only 5 images into one file and then trying to combine those 2 files if possible\n",
        "# => better way? Why does savez_compressed() consume most RAM?\n",
        "def combine_npz_arrays(data_path):\n",
        "    count = 0\n",
        "    arrays_dict = {}\n",
        "    for file in os.listdir(data_path):\n",
        "        if file != '2022_08_09.npz' and count < 5: # Todo: find out problem with image 2022_08_09 => crashes when trying to access x_input\n",
        "            print(f'Adding image {file}')\n",
        "            array = np.load(f'{data_path}/{file}')\n",
        "            x_input = array['x_input']\n",
        "            y_mask = array['y_mask']\n",
        "            if len(arrays_dict) < 1:\n",
        "                arrays_dict['x_input'] = x_input\n",
        "                arrays_dict['y_mask'] = y_mask\n",
        "            else:\n",
        "                arrays_dict['x_input'] = np.concatenate((arrays_dict['x_input'], x_input), axis=0)\n",
        "                arrays_dict['y_mask'] = np.concatenate((arrays_dict['y_mask'], y_mask), axis=0)\n",
        "        count += 1\n",
        "    # test time to execute and file size of np.savez and np.savez_compressed\n",
        "    np.savez(f'{data_path}/all_images_1', **arrays_dict)\n",
        "    print('Combined all compressed numpy images into one single file.')\n",
        "\n",
        "combine_npz_arrays(\"../data_colab/256_200\")"
      ],
      "metadata": {
        "id": "P2t8Rh1eccZg",
        "colab": {
          "base_uri": "https://localhost:8080/"
        },
        "outputId": "387cef6d-4948-4a5b-812a-d7af1fcbbad5"
      },
      "execution_count": 5,
      "outputs": [
        {
          "output_type": "stream",
          "name": "stdout",
          "text": [
            "Adding image 2022_10_13.npz\n",
            "Adding image 2022_07_15.npz\n",
            "Adding image 2022_09_18.npz\n",
            "Adding image 2022_06_20.npz\n",
            "Adding image 2022_10_23.npz\n",
            "Combined all compressed numpy images into one single file.\n"
          ]
        }
      ]
    },
    {
      "cell_type": "code",
      "source": [
        "def combine_npz_arrays(data_path):\n",
        "    count = 0\n",
        "    arrays_dict = {}\n",
        "    for file in os.listdir(data_path):\n",
        "        if file != '2022_08_09.npz' and count > 4 and count < 10: # Todo: find out problem with image 2022_08_09 => crashes when trying to access x_input\n",
        "            print(f'Adding image {file}')\n",
        "            array = np.load(f'{data_path}/{file}')\n",
        "            x_input = array['x_input']\n",
        "            y_mask = array['y_mask']\n",
        "            if len(arrays_dict) < 1:\n",
        "                arrays_dict['x_input'] = x_input\n",
        "                arrays_dict['y_mask'] = y_mask\n",
        "            else:\n",
        "                arrays_dict['x_input'] = np.concatenate((arrays_dict['x_input'], x_input), axis=0)\n",
        "                arrays_dict['y_mask'] = np.concatenate((arrays_dict['y_mask'], y_mask), axis=0)\n",
        "        count += 1\n",
        "    np.savez_compressed(f'{data_path}/all_images_2', **arrays_dict)\n",
        "    print('Combined all compressed numpy images into one single file.')\n",
        "\n",
        "combine_npz_arrays(\"../data_colab/256_200\")"
      ],
      "metadata": {
        "colab": {
          "base_uri": "https://localhost:8080/"
        },
        "id": "irt8ij7yquS5",
        "outputId": "761af27f-12e2-42cb-8fab-6a1bb2b91ceb"
      },
      "execution_count": 4,
      "outputs": [
        {
          "output_type": "stream",
          "name": "stdout",
          "text": [
            "Adding image 2022_07_25.npz\n",
            "Adding image 2022_08_04.npz\n",
            "Adding image 2022_07_10.npz\n",
            "Adding image 2022_07_30.npz\n",
            "Adding image 2022_08_14.npz\n",
            "Combined all compressed numpy images into one single file.\n"
          ]
        }
      ]
    },
    {
      "cell_type": "code",
      "source": [
        "data_path = '../data_colab/256_200'\n",
        "combined_1 = np.load(f'{data_path}/all_images_1.npz')\n",
        "combined_2 = np.load(f'{data_path}/all_images_2.npz')\n",
        "print('loaded combined 1')\n",
        "arrays_dict = {}\n",
        "arrays_dict['x_input'] = combined_1['x_input']\n",
        "arrays_dict['y_mask'] = combined_1['y_mask']\n",
        "print('loaded combined 2')\n",
        "arrays_dict['x_input'] = np.concatenate((arrays_dict['x_input'], combined_2['x_input']), axis=0)\n",
        "arrays_dict['y_mask'] = np.concatenate((arrays_dict['y_mask'], combined_2['y_mask']), axis=0)\n",
        "print('concatenated arrays')\n",
        "# test time to execute and file size of np.savez and np.savez_compressed\n",
        "np.savez(f'{data_path}/all_images_1_2', **arrays_dict)\n",
        "print('finish saving')"
      ],
      "metadata": {
        "colab": {
          "base_uri": "https://localhost:8080/"
        },
        "id": "UbpVN_GNs5x0",
        "outputId": "fa8b1c82-fc5c-4f61-a8b2-112803ac9f6d"
      },
      "execution_count": null,
      "outputs": [
        {
          "output_type": "stream",
          "name": "stdout",
          "text": [
            "loaded combined 1\n",
            "loaded combined 2\n"
          ]
        }
      ]
    }
  ]
}