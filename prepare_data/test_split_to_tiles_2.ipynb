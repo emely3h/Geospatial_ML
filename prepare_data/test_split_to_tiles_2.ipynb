{
 "cells": [
  {
   "cell_type": "code",
   "execution_count": 1,
   "id": "3241bd2d-6351-43e7-a1f4-2a1285687ef0",
   "metadata": {
    "tags": []
   },
   "outputs": [],
   "source": [
    "import numpy as np\n",
    "from PIL import Image\n",
    "import matplotlib.pyplot as plt\n",
    "from time import time\n",
    "\n",
    "Image.MAX_IMAGE_PIXELS = 933120000\n",
    "\n",
    "def _time(f):\n",
    "    def wrapper(*args):\n",
    "        start = time()\n",
    "        r = f(*args)\n",
    "        end = time()\n",
    "        print(\"%s timed %f\"% (f.__name__, end-start) )\n",
    "        return r\n",
    "    return wrapper"
   ]
  },
  {
   "cell_type": "code",
   "execution_count": 2,
   "id": "d7e74a56-ec8a-45a3-bf97-8048bc148e3a",
   "metadata": {
    "tags": []
   },
   "outputs": [],
   "source": [
    "@_time\n",
    "def reshape_split(image: np.ndarray, kernel_size: tuple):\n",
    "\n",
    "    img_height, img_width, channels = image.shape\n",
    "    tile_height, tile_width = kernel_size\n",
    "\n",
    "    # pad image to be evenly divisible by tile size\n",
    "    h_pad = tile_height - img_height % tile_height\n",
    "    w_pad = tile_width - img_width % tile_width\n",
    "    pad_width = ((0, h_pad), (0, w_pad), (0, 0))\n",
    "    image = np.pad(image, pad_width, mode='edge')\n",
    "\n",
    "    tiled_array = image.reshape(image.shape[0] // tile_height,\n",
    "                                tile_height,\n",
    "                                image.shape[1] // tile_width,\n",
    "                                tile_width,\n",
    "                                channels)\n",
    "    tiled_array = tiled_array.swapaxes(1, 2)\n",
    "    return tiled_array"
   ]
  },
  {
   "cell_type": "code",
   "execution_count": 6,
   "id": "ef4ef91e-35d9-44c0-876b-7bafcba580fd",
   "metadata": {
    "tags": []
   },
   "outputs": [],
   "source": [
    "img = np.asarray(Image.open('../data/unflagged_rgb/2022_07_10/rgb.tif'))"
   ]
  },
  {
   "cell_type": "code",
   "execution_count": 7,
   "id": "5c3ca2ee-7ff6-4ac9-9e1b-c3b2d31a3957",
   "metadata": {
    "tags": []
   },
   "outputs": [
    {
     "data": {
      "text/plain": [
       "(6962, 27486, 4)"
      ]
     },
     "execution_count": 7,
     "metadata": {},
     "output_type": "execute_result"
    }
   ],
   "source": [
    "img.shape"
   ]
  },
  {
   "cell_type": "code",
   "execution_count": 8,
   "id": "50da0b5f-7a28-4ee1-81ec-786b6b19a3da",
   "metadata": {
    "tags": []
   },
   "outputs": [],
   "source": [
    "tilesize = (128, 128)"
   ]
  },
  {
   "cell_type": "code",
   "execution_count": 9,
   "id": "ceb78372-570e-4d72-82aa-b4cc68eaf69f",
   "metadata": {
    "tags": []
   },
   "outputs": [
    {
     "name": "stdout",
     "output_type": "stream",
     "text": [
      "reshape_split timed 0.160839\n"
     ]
    }
   ],
   "source": [
    "tiles = reshape_split(img, tilesize)"
   ]
  },
  {
   "cell_type": "code",
   "execution_count": 11,
   "id": "6751da59-5865-4491-ac83-ebb317dc5265",
   "metadata": {
    "tags": []
   },
   "outputs": [
    {
     "data": {
      "text/plain": [
       "(55, 215, 128, 128, 4)"
      ]
     },
     "execution_count": 11,
     "metadata": {},
     "output_type": "execute_result"
    }
   ],
   "source": [
    "tiles.shape"
   ]
  },
  {
   "cell_type": "code",
   "execution_count": 12,
   "id": "0f0c49a6-dcaf-4d2a-813d-6e39221566a4",
   "metadata": {
    "tags": []
   },
   "outputs": [
    {
     "name": "stdout",
     "output_type": "stream",
     "text": [
      "This array was split into 11825 tiles\n"
     ]
    }
   ],
   "source": [
    "n = tiles.shape[0] * tiles.shape[1]\n",
    "print(\"This array was split into %d tiles\" % (n))"
   ]
  },
  {
   "cell_type": "code",
   "execution_count": null,
   "id": "f7c70f2c-9983-4296-b88f-5c1993b9b46d",
   "metadata": {},
   "outputs": [],
   "source": []
  }
 ],
 "metadata": {
  "kernelspec": {
   "display_name": "Python 3 (ipykernel)",
   "language": "python",
   "name": "python3"
  },
  "language_info": {
   "codemirror_mode": {
    "name": "ipython",
    "version": 3
   },
   "file_extension": ".py",
   "mimetype": "text/x-python",
   "name": "python",
   "nbconvert_exporter": "python",
   "pygments_lexer": "ipython3",
   "version": "3.10.9"
  },
  "vscode": {
   "interpreter": {
    "hash": "e497094af2db1d677726852772e6f54af337b17853072acc70998024104fe681"
   }
  }
 },
 "nbformat": 4,
 "nbformat_minor": 5
}
