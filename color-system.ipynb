{
 "cells": [
  {
   "attachments": {},
   "cell_type": "markdown",
   "metadata": {},
   "source": [
    "HSV is alternative representation of the RGB model.\n",
    "\n",
    "HSV stands for hue, saturation, and value.\n",
    "Hue represents the colour and has a value between 0 and 359 (e.g., 0= red and 226=blue).\n",
    "Saturation shows the amount of white light mixed with a hue. Saturation is a percentage(e.g., 0%= you can clearly see the hue's colour and 100%= you cannot see anything).\n",
    "Value is brightness, which is also a percentage(e.g., 0%=dark and 100%=hue's colour).\n",
    "\n",
    "To convert RGB format into HSV format, OpenCV is usually used. In OpenCV, the hue channel is reduced up to 180. Saturation and value are between 0 and 250. Therefore, the converted image will have different colours if you try to convert the RGB format into HSV with OpenCV(https://stackoverflow.com/questions/39129403/hsv-image-different-from-rgb-image).\n"
   ]
  },
  {
   "cell_type": "code",
   "execution_count": 23,
   "metadata": {},
   "outputs": [],
   "source": [
    "import cv2\n",
    "\n",
    "\n",
    "def generate_hsv(image_path, file_name):\n",
    "    img = cv2.imread(image_path)\n",
    "    hsv = cv2.cvtColor(img, cv2.COLOR_BGR2HSV)\n",
    "    cv2.imwrite(file_name, hsv)"
   ]
  },
  {
   "attachments": {},
   "cell_type": "markdown",
   "metadata": {},
   "source": [
    "LCH(Luminance-Chroma-Hue) is a cylindrical colour space model(https://en.wikipedia.org/wiki/HCL_color_space#cite_note-19).\n",
    "You can find chroma or colourfulness on the x-axis, luminance on the y-axis, and hue on the z-axis. Z-axis has a circle field so that LCH is cylindrical.\n",
    "\n",
    "The function (generate_lch) generates a 2D image for TIFF, but you might be able to get a 3D image in a different format.\n"
   ]
  },
  {
   "cell_type": "code",
   "execution_count": 1,
   "metadata": {},
   "outputs": [],
   "source": [
    "from PIL import Image\n",
    "import colorsys\n",
    "import numpy as np\n",
    "\n",
    "\n",
    "def generate_lch(image_path, file_name):\n",
    "    image_arr = np.array(Image.open(image_path))\n",
    "    [width, height] = np.shape(image_arr)[:2]\n",
    "    # Create a new image with RGB mode\n",
    "    img = Image.new(\"RGB\", (width, height))\n",
    "\n",
    "    for y in range(height):\n",
    "        for x in range(width):\n",
    "            # Calculate the LCH values based on the pixel coordinates\n",
    "            l = x / float(width) * 100.0  # Lightness ranges from 0 to 100\n",
    "            c = y / float(height) * 128.0  # Chroma ranges from 0 to 128\n",
    "            h = (x + y) / float(width + height) * 360.0  # Hue ranges from 0 to 360\n",
    "            # Convert LCH values to RGB values\n",
    "            r, g, b = colorsys.hls_to_rgb(h / 360.0, l / 100.0, c / 128.0)\n",
    "            # Set the pixel color\n",
    "            img.putpixel(\n",
    "                (x, y), (int(r * 255), int(g * 255), int(b * 255))\n",
    "            )  # Swap x and y\n",
    "    img.save(file_name)"
   ]
  }
 ],
 "metadata": {
  "kernelspec": {
   "display_name": "Geospatial_ML-",
   "language": "python",
   "name": "python3"
  },
  "language_info": {
   "codemirror_mode": {
    "name": "ipython",
    "version": 3
   },
   "file_extension": ".py",
   "mimetype": "text/x-python",
   "name": "python",
   "nbconvert_exporter": "python",
   "pygments_lexer": "ipython3",
   "version": "3.9.16"
  },
  "vscode": {
   "interpreter": {
    "hash": "d31b1030e6d880268b2d5223c9b2a8c533accee435501d6318c5e9f046fee5dd"
   }
  }
 },
 "nbformat": 4,
 "nbformat_minor": 2
}
