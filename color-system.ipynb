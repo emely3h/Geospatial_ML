{
 "cells": [
  {
   "cell_type": "code",
   "execution_count": 2,
   "metadata": {},
   "outputs": [],
   "source": [
    "# Imports\n",
    "from PIL import Image\n",
    "import numpy as np"
   ]
  },
  {
   "cell_type": "code",
   "execution_count": 23,
   "metadata": {},
   "outputs": [
    {
     "name": "stdout",
     "output_type": "stream",
     "text": [
      "[160.9732611111111, 3.494813888888889, 4.405419444444444]\n"
     ]
    }
   ],
   "source": [
    "def rgb(file):\n",
    "    img = np.array(Image.open(file))\n",
    "    dim = img.ndim\n",
    "    if dim != 3:\n",
    "        print('Image is not RGB')\n",
    "        return\n",
    "\n",
    "    mean = np.mean(img,axis=(0,1))\n",
    "    # [R,G,B]\n",
    "    return [mean[0],mean[1],mean[2]]"
   ]
  },
  {
   "cell_type": "code",
   "execution_count": null,
   "metadata": {},
   "outputs": [],
   "source": []
  },
  {
   "cell_type": "code",
   "execution_count": null,
   "metadata": {},
   "outputs": [],
   "source": []
  }
 ],
 "metadata": {
  "kernelspec": {
   "display_name": "Geospatial_ML-",
   "language": "python",
   "name": "python3"
  },
  "language_info": {
   "codemirror_mode": {
    "name": "ipython",
    "version": 3
   },
   "file_extension": ".py",
   "mimetype": "text/x-python",
   "name": "python",
   "nbconvert_exporter": "python",
   "pygments_lexer": "ipython3",
   "version": "3.9.16"
  },
  "orig_nbformat": 4,
  "vscode": {
   "interpreter": {
    "hash": "d31b1030e6d880268b2d5223c9b2a8c533accee435501d6318c5e9f046fee5dd"
   }
  }
 },
 "nbformat": 4,
 "nbformat_minor": 2
}
