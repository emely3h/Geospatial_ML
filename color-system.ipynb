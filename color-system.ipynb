{
 "cells": [
  {
   "cell_type": "code",
   "execution_count": 2,
   "metadata": {},
   "outputs": [],
   "source": [
    "# Imports\n",
    "from PIL import Image\n",
    "import numpy as np"
   ]
  },
  {
   "cell_type": "code",
   "execution_count": 23,
   "metadata": {},
   "outputs": [
    {
     "name": "stdout",
     "output_type": "stream",
     "text": [
      "[160.9732611111111, 3.494813888888889, 4.405419444444444]\n"
     ]
    }
   ],
   "source": [
    "# Function to get mean RGB values\n",
    "def rgb(file):\n",
    "    img = np.array(Image.open(file))\n",
    "    dim = img.ndim\n",
    "    if dim != 3:\n",
    "        print(\"Image is not RGB\")\n",
    "        return\n",
    "\n",
    "    mean = np.mean(img, axis=(0, 1))\n",
    "    # [R,G,B]\n",
    "    return [mean[0], mean[1], mean[2]]"
   ]
  },
  {
   "cell_type": "code",
   "execution_count": 23,
   "metadata": {},
   "outputs": [],
   "source": [
    "import cv2\n",
    "\n",
    "\n",
    "def generate_hsv(image_path, file_name):\n",
    "    img = cv2.imread(image_path)\n",
    "    hsv = cv2.cvtColor(img, cv2.COLOR_BGR2HSV)\n",
    "    cv2.imwrite(file_name, hsv)"
   ]
  },
  {
   "cell_type": "code",
   "execution_count": 34,
   "metadata": {},
   "outputs": [],
   "source": [
    "from PIL import Image\n",
    "import colorsys\n",
    "import numpy as np\n",
    "\n",
    "\n",
    "def generate_lch(image_path, file_name):\n",
    "    image_arr = np.array(Image.open(image_path))\n",
    "    [width, height] = np.shape(image_arr)[:2]\n",
    "    # Create a new image with RGB mode\n",
    "    img = Image.new(\"RGB\", (width, height))\n",
    "\n",
    "    for y in range(height):\n",
    "        for x in range(width):\n",
    "            # Calculate the LCH values based on the pixel coordinates\n",
    "            l = x / float(width) * 100.0  # Lightness ranges from 0 to 100\n",
    "            c = y / float(height) * 128.0  # Chroma ranges from 0 to 128\n",
    "            h = (x + y) / float(width + height) * 360.0  # Hue ranges from 0 to 360\n",
    "            # Convert LCH values to RGB values\n",
    "            r, g, b = colorsys.hls_to_rgb(h / 360.0, l / 100.0, c / 128.0)\n",
    "            # Set the pixel color\n",
    "            img.putpixel(\n",
    "                (x, y), (int(r * 255), int(g * 255), int(b * 255))\n",
    "            )  # Swap x and y\n",
    "    img.save(file_name)"
   ]
  },
  {
   "cell_type": "code",
   "execution_count": null,
   "metadata": {},
   "outputs": [],
   "source": []
  }
 ],
 "metadata": {
  "kernelspec": {
   "display_name": "Geospatial_ML-",
   "language": "python",
   "name": "python3"
  },
  "language_info": {
   "codemirror_mode": {
    "name": "ipython",
    "version": 3
   },
   "file_extension": ".py",
   "mimetype": "text/x-python",
   "name": "python",
   "nbconvert_exporter": "python",
   "pygments_lexer": "ipython3",
   "version": "3.9.16"
  },
  "vscode": {
   "interpreter": {
    "hash": "d31b1030e6d880268b2d5223c9b2a8c533accee435501d6318c5e9f046fee5dd"
   }
  }
 },
 "nbformat": 4,
 "nbformat_minor": 2
}
