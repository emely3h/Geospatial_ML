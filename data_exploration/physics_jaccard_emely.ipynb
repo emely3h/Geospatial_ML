{
  "cells": [
    {
      "cell_type": "markdown",
      "metadata": {
        "id": "view-in-github",
        "colab_type": "text"
      },
      "source": [
        "<a href=\"https://colab.research.google.com/github/emely3h/Geospatial_ML/blob/feature%2Fjaccard_index/data_exploration/physics_jaccard_emely.ipynb\" target=\"_parent\"><img src=\"https://colab.research.google.com/assets/colab-badge.svg\" alt=\"Open In Colab\"/></a>"
      ]
    },
    {
      "cell_type": "markdown",
      "metadata": {
        "id": "-e4xrTqJ2hgi"
      },
      "source": [
        "# Physical Jaccard Index\n",
        "\n",
        "Calculate the physical jaccard index which will be the main success metric."
      ]
    },
    {
      "cell_type": "markdown",
      "metadata": {
        "id": "rmJ9EH8ELvuD"
      },
      "source": [
        "### 0. Get Stats for each image"
      ]
    },
    {
      "cell_type": "code",
      "execution_count": 1,
      "metadata": {
        "colab": {
          "base_uri": "https://localhost:8080/"
        },
        "id": "osm1lHOLb-Is",
        "outputId": "f8e6cb47-7534-4a50-eab9-e91d941a87ec"
      },
      "outputs": [
        {
          "output_type": "stream",
          "name": "stdout",
          "text": [
            "Mounted at /content/drive\n"
          ]
        }
      ],
      "source": [
        "from google.colab import drive\n",
        "drive.mount('/content/drive')"
      ]
    },
    {
      "cell_type": "code",
      "execution_count": 2,
      "metadata": {
        "colab": {
          "base_uri": "https://localhost:8080/"
        },
        "id": "HV1KZvqMb_6S",
        "outputId": "9f57d752-d29b-487c-d2ab-c05eb109e49f"
      },
      "outputs": [
        {
          "output_type": "stream",
          "name": "stdout",
          "text": [
            "drive  sample_data\n",
            "/content/drive/.shortcut-targets-by-id/15HUD3sGdfvxy5Y_bjvuXgrzwxt7TzRfm/MachineLearning/Geospatial_ML\n",
            "architecture.drawio  experiment_1_2.ipynb  prepare_data\n",
            "data_exploration     experiments\t   README.md\n",
            "evaluation\t     models\t\t   requirements.txt\n"
          ]
        }
      ],
      "source": [
        "! ls\n",
        "%cd drive/MyDrive/MachineLearning/Geospatial_ML\n",
        "! ls"
      ]
    },
    {
      "cell_type": "code",
      "execution_count": 3,
      "metadata": {
        "id": "0FB7ZXQkcKB_"
      },
      "outputs": [],
      "source": [
        "import numpy as np\n",
        "import os\n",
        "import matplotlib.pyplot as plt\n",
        "import pandas as pd\n",
        "import pickle\n",
        "from data_exploration.mask_stats import Mask_Stats\n",
        "from prepare_data.create_mask import create_physical_mask\n",
        "from tensorflow.keras.utils import to_categorical\n",
        "from tensorflow import keras"
      ]
    },
    {
      "cell_type": "code",
      "execution_count": 4,
      "metadata": {
        "colab": {
          "base_uri": "https://localhost:8080/"
        },
        "id": "LmsVPFBA3Zgp",
        "outputId": "daebaeac-53ba-4af8-95c4-3f0fca9a1cdc"
      },
      "outputs": [
        {
          "output_type": "stream",
          "name": "stdout",
          "text": [
            "Shape: (6661, 256, 256)\n",
            "Land pixels: 176919986  40.528 %\n",
            "Valid pixels: 125877821  28.836 %\n",
            "Invalid pixels: 133737489  30.636 %\n",
            "Sum: 6661\n"
          ]
        }
      ],
      "source": [
        "total_tiles = 11121\n",
        "train_tiles = total_tiles // 100 * 60 +1\n",
        "test_val_tiles = total_tiles // 100 * 20 +1\n",
        "data_path = \"../data_colab/256_256\"\n",
        "\n",
        "train_split_x = np.memmap(os.path.join(data_path, \"train_split_x.npy\"), mode=\"r\", shape=(train_tiles, 256, 256, 5), dtype=np.float32)\n",
        "train_split_y = np.memmap(os.path.join(data_path, \"train_split_y.npy\"), mode=\"r\", shape=(train_tiles, 256, 256), dtype=np.float32) # use int?\n",
        "\n",
        "train_stats = Mask_Stats(train_split_y)\n",
        "train_stats.print_stats()\n"
      ]
    },
    {
      "cell_type": "code",
      "execution_count": 5,
      "metadata": {
        "id": "wJ3Yo5f24ZHx"
      },
      "outputs": [],
      "source": [
        "def jaccard_coef(y_true, y_pred):\n",
        "    y_true_f = keras.backend.flatten(y_true)\n",
        "    y_pred_f = keras.backend.flatten(y_pred)\n",
        "\n",
        "    intersection = keras.backend.sum(y_true_f * y_pred_f)\n",
        "    return (intersection + 1.0) / (\n",
        "            keras.backend.sum(y_true_f) + keras.backend.sum(y_pred_f) - intersection + 1.0\n",
        "    ) "
      ]
    },
    {
      "cell_type": "code",
      "source": [
        "def jaccard_for_batch(batch_idx, batch_size):\n",
        "  print(f'\\nCalculating jaccard index for batch {batch_idx}, copy tiles [{batch_idx}:{batch_idx+batch_size}] from mmap')\n",
        "  x_input = np.zeros((batch_size, 256, 256, 5), dtype=np.float32)\n",
        "\n",
        "  np.copyto(x_input, train_split_x[batch_idx:batch_idx+batch_size])\n",
        "  print('\\nx_input after copying batch from mmap\\n')\n",
        "  print(f'x_input shape: {x_input.shape}')\n",
        "  print(f'x_input max: {np.max(x_input)}')\n",
        "  print(f'x_input min: {np.min(x_input)}')\n",
        "\n",
        "  y_mask = np.zeros((batch_size, 256, 256), dtype=np.float32)\n",
        "\n",
        "  np.copyto(y_mask, train_split_y[batch_idx:batch_idx+batch_size])\n",
        "  print('\\ny_mask after copying batch from mmap\\n')\n",
        "  print(f'y_mask shape: {y_mask.shape}')\n",
        "  print(f'y_mask max: {np.max(y_mask)}')\n",
        "  print(f'y_mask min: {np.min(y_mask)}')\n",
        "\n",
        "  pred_physical = create_physical_mask(x_input)\n",
        "  print(f'pred mask shape: {pred_physical.shape}')\n",
        "\n",
        "  y_one_hot = to_categorical(y_mask, num_classes=3)\n",
        "  print(f'true mask shape: {y_one_hot.shape}')\n",
        "\n",
        "  jaccard = jaccard_coef(y_one_hot, pred_physical)\n",
        "  print(f'jaccard index: {jaccard}')\n",
        "  return jaccard"
      ],
      "metadata": {
        "id": "KTDljfplBt8P"
      },
      "execution_count": 6,
      "outputs": []
    },
    {
      "cell_type": "code",
      "source": [
        "def get_mean_jaccard(batch_size):\n",
        "  batches = int(train_tiles / batch_size)\n",
        "  rest = train_tiles % batch_size\n",
        "  print(f'total tiles: {train_tiles} batches: {batches} rest: {rest}')\n",
        "  mean_jaccard = 0\n",
        "  for batch in range (0, batches):\n",
        "    mean_jaccard += jaccard_for_batch(batch*batch_size, batch_size)\n",
        "  if rest != 0:\n",
        "    mean_jaccard += jaccard_for_batch(batches*batch_size, rest)\n",
        "    rest_percentage = 100/batch_size*rest/100\n",
        "    return mean_jaccard/ (batches + rest_percentage)\n",
        "  else:\n",
        "    return mean_jaccard / batches\n",
        "\n"
      ],
      "metadata": {
        "id": "XxwrjWq6EJ1X"
      },
      "execution_count": 7,
      "outputs": []
    },
    {
      "cell_type": "code",
      "source": [
        "mean_jaccard = get_mean_jaccard(500)"
      ],
      "metadata": {
        "colab": {
          "base_uri": "https://localhost:8080/"
        },
        "id": "1O8BaMPcF-Zo",
        "outputId": "d3404e45-1a1c-405f-f131-9dbfc1568e26"
      },
      "execution_count": 9,
      "outputs": [
        {
          "output_type": "stream",
          "name": "stdout",
          "text": [
            "total tiles: 6661 batches: 13 rest: 161\n",
            "\n",
            "Calculating jaccard index for batch 0, copy tiles [0:500] from mmap\n",
            "\n",
            "x_input after copying batch from mmap\n",
            "\n",
            "x_input shape: (500, 256, 256, 5)\n",
            "x_input max: 255.0\n",
            "x_input min: 0.0\n",
            "\n",
            "y_mask after copying batch from mmap\n",
            "\n",
            "y_mask shape: (500, 256, 256)\n",
            "y_mask max: 2.0\n",
            "y_mask min: 0.0\n",
            "pred mask shape: (500, 256, 256, 3)\n",
            "true mask shape: (500, 256, 256, 3)\n",
            "jaccard index: 0.8502607941627502\n",
            "\n",
            "Calculating jaccard index for batch 500, copy tiles [500:1000] from mmap\n",
            "\n",
            "x_input after copying batch from mmap\n",
            "\n",
            "x_input shape: (500, 256, 256, 5)\n",
            "x_input max: 255.0\n",
            "x_input min: 0.0\n",
            "\n",
            "y_mask after copying batch from mmap\n",
            "\n",
            "y_mask shape: (500, 256, 256)\n",
            "y_mask max: 2.0\n",
            "y_mask min: 0.0\n",
            "pred mask shape: (500, 256, 256, 3)\n",
            "true mask shape: (500, 256, 256, 3)\n",
            "jaccard index: 0.9117470383644104\n",
            "\n",
            "Calculating jaccard index for batch 1000, copy tiles [1000:1500] from mmap\n",
            "\n",
            "x_input after copying batch from mmap\n",
            "\n",
            "x_input shape: (500, 256, 256, 5)\n",
            "x_input max: 255.0\n",
            "x_input min: 0.0\n",
            "\n",
            "y_mask after copying batch from mmap\n",
            "\n",
            "y_mask shape: (500, 256, 256)\n",
            "y_mask max: 2.0\n",
            "y_mask min: 0.0\n",
            "pred mask shape: (500, 256, 256, 3)\n",
            "true mask shape: (500, 256, 256, 3)\n",
            "jaccard index: 0.94254070520401\n",
            "\n",
            "Calculating jaccard index for batch 1500, copy tiles [1500:2000] from mmap\n",
            "\n",
            "x_input after copying batch from mmap\n",
            "\n",
            "x_input shape: (500, 256, 256, 5)\n",
            "x_input max: 255.0\n",
            "x_input min: 0.0\n",
            "\n",
            "y_mask after copying batch from mmap\n",
            "\n",
            "y_mask shape: (500, 256, 256)\n",
            "y_mask max: 2.0\n",
            "y_mask min: 0.0\n",
            "pred mask shape: (500, 256, 256, 3)\n",
            "true mask shape: (500, 256, 256, 3)\n",
            "jaccard index: 0.9414300322532654\n",
            "\n",
            "Calculating jaccard index for batch 2000, copy tiles [2000:2500] from mmap\n",
            "\n",
            "x_input after copying batch from mmap\n",
            "\n",
            "x_input shape: (500, 256, 256, 5)\n",
            "x_input max: 255.0\n",
            "x_input min: 0.0\n",
            "\n",
            "y_mask after copying batch from mmap\n",
            "\n",
            "y_mask shape: (500, 256, 256)\n",
            "y_mask max: 2.0\n",
            "y_mask min: 0.0\n",
            "pred mask shape: (500, 256, 256, 3)\n",
            "true mask shape: (500, 256, 256, 3)\n",
            "jaccard index: 0.9404948949813843\n",
            "\n",
            "Calculating jaccard index for batch 2500, copy tiles [2500:3000] from mmap\n",
            "\n",
            "x_input after copying batch from mmap\n",
            "\n",
            "x_input shape: (500, 256, 256, 5)\n",
            "x_input max: 255.0\n",
            "x_input min: 0.0\n",
            "\n",
            "y_mask after copying batch from mmap\n",
            "\n",
            "y_mask shape: (500, 256, 256)\n",
            "y_mask max: 2.0\n",
            "y_mask min: 0.0\n",
            "pred mask shape: (500, 256, 256, 3)\n",
            "true mask shape: (500, 256, 256, 3)\n",
            "jaccard index: 0.9065180420875549\n",
            "\n",
            "Calculating jaccard index for batch 3000, copy tiles [3000:3500] from mmap\n",
            "\n",
            "x_input after copying batch from mmap\n",
            "\n",
            "x_input shape: (500, 256, 256, 5)\n",
            "x_input max: 255.0\n",
            "x_input min: 0.0\n",
            "\n",
            "y_mask after copying batch from mmap\n",
            "\n",
            "y_mask shape: (500, 256, 256)\n",
            "y_mask max: 2.0\n",
            "y_mask min: 0.0\n",
            "pred mask shape: (500, 256, 256, 3)\n",
            "true mask shape: (500, 256, 256, 3)\n",
            "jaccard index: 0.9359060525894165\n",
            "\n",
            "Calculating jaccard index for batch 3500, copy tiles [3500:4000] from mmap\n",
            "\n",
            "x_input after copying batch from mmap\n",
            "\n",
            "x_input shape: (500, 256, 256, 5)\n",
            "x_input max: 255.0\n",
            "x_input min: 0.0\n",
            "\n",
            "y_mask after copying batch from mmap\n",
            "\n",
            "y_mask shape: (500, 256, 256)\n",
            "y_mask max: 2.0\n",
            "y_mask min: 0.0\n",
            "pred mask shape: (500, 256, 256, 3)\n",
            "true mask shape: (500, 256, 256, 3)\n",
            "jaccard index: 0.9499696493148804\n",
            "\n",
            "Calculating jaccard index for batch 4000, copy tiles [4000:4500] from mmap\n",
            "\n",
            "x_input after copying batch from mmap\n",
            "\n",
            "x_input shape: (500, 256, 256, 5)\n",
            "x_input max: 255.0\n",
            "x_input min: 0.0\n",
            "\n",
            "y_mask after copying batch from mmap\n",
            "\n",
            "y_mask shape: (500, 256, 256)\n",
            "y_mask max: 2.0\n",
            "y_mask min: 0.0\n",
            "pred mask shape: (500, 256, 256, 3)\n",
            "true mask shape: (500, 256, 256, 3)\n",
            "jaccard index: 0.9275019764900208\n",
            "\n",
            "Calculating jaccard index for batch 4500, copy tiles [4500:5000] from mmap\n",
            "\n",
            "x_input after copying batch from mmap\n",
            "\n",
            "x_input shape: (500, 256, 256, 5)\n",
            "x_input max: 255.0\n",
            "x_input min: 0.0\n",
            "\n",
            "y_mask after copying batch from mmap\n",
            "\n",
            "y_mask shape: (500, 256, 256)\n",
            "y_mask max: 2.0\n",
            "y_mask min: 0.0\n",
            "pred mask shape: (500, 256, 256, 3)\n",
            "true mask shape: (500, 256, 256, 3)\n",
            "jaccard index: 0.8792122006416321\n",
            "\n",
            "Calculating jaccard index for batch 5000, copy tiles [5000:5500] from mmap\n",
            "\n",
            "x_input after copying batch from mmap\n",
            "\n",
            "x_input shape: (500, 256, 256, 5)\n",
            "x_input max: 255.0\n",
            "x_input min: 0.0\n",
            "\n",
            "y_mask after copying batch from mmap\n",
            "\n",
            "y_mask shape: (500, 256, 256)\n",
            "y_mask max: 2.0\n",
            "y_mask min: 0.0\n",
            "pred mask shape: (500, 256, 256, 3)\n",
            "true mask shape: (500, 256, 256, 3)\n",
            "jaccard index: 0.8571617603302002\n",
            "\n",
            "Calculating jaccard index for batch 5500, copy tiles [5500:6000] from mmap\n",
            "\n",
            "x_input after copying batch from mmap\n",
            "\n",
            "x_input shape: (500, 256, 256, 5)\n",
            "x_input max: 255.0\n",
            "x_input min: 0.0\n",
            "\n",
            "y_mask after copying batch from mmap\n",
            "\n",
            "y_mask shape: (500, 256, 256)\n",
            "y_mask max: 2.0\n",
            "y_mask min: 0.0\n",
            "pred mask shape: (500, 256, 256, 3)\n",
            "true mask shape: (500, 256, 256, 3)\n",
            "jaccard index: 0.9055466055870056\n",
            "\n",
            "Calculating jaccard index for batch 6000, copy tiles [6000:6500] from mmap\n",
            "\n",
            "x_input after copying batch from mmap\n",
            "\n",
            "x_input shape: (500, 256, 256, 5)\n",
            "x_input max: 255.0\n",
            "x_input min: 0.0\n",
            "\n",
            "y_mask after copying batch from mmap\n",
            "\n",
            "y_mask shape: (500, 256, 256)\n",
            "y_mask max: 2.0\n",
            "y_mask min: 0.0\n",
            "pred mask shape: (500, 256, 256, 3)\n",
            "true mask shape: (500, 256, 256, 3)\n",
            "jaccard index: 0.07582464069128036\n",
            "\n",
            "Calculating jaccard index for batch 6500, copy tiles [6500:6661] from mmap\n",
            "\n",
            "x_input after copying batch from mmap\n",
            "\n",
            "x_input shape: (161, 256, 256, 5)\n",
            "x_input max: 0.0\n",
            "x_input min: 0.0\n",
            "\n",
            "y_mask after copying batch from mmap\n",
            "\n",
            "y_mask shape: (161, 256, 256)\n",
            "y_mask max: 0.0\n",
            "y_mask min: 0.0\n",
            "pred mask shape: (161, 256, 256, 3)\n",
            "true mask shape: (161, 256, 256, 3)\n",
            "jaccard index: 4.738754455502203e-08\n"
          ]
        }
      ]
    },
    {
      "cell_type": "code",
      "source": [
        "print(mean_jaccard)"
      ],
      "metadata": {
        "colab": {
          "base_uri": "https://localhost:8080/"
        },
        "id": "wkhF1FMcIhN5",
        "outputId": "ad487458-3f9f-4310-f9b6-0e05fad47262"
      },
      "execution_count": 10,
      "outputs": [
        {
          "output_type": "stream",
          "name": "stdout",
          "text": [
            "tf.Tensor(0.82751197, shape=(), dtype=float32)\n"
          ]
        }
      ]
    },
    {
      "cell_type": "code",
      "source": [
        "mean_jaccard_2 = get_mean_jaccard(6661)"
      ],
      "metadata": {
        "colab": {
          "base_uri": "https://localhost:8080/"
        },
        "id": "aU_We19dHUiA",
        "outputId": "6c24e28e-f49b-4696-9c23-451c326bbc27"
      },
      "execution_count": 8,
      "outputs": [
        {
          "output_type": "stream",
          "name": "stdout",
          "text": [
            "total tiles: 6661 batches: 1 rest: 0\n",
            "\n",
            "Calculating jaccard index for batch 0, copy tiles [0:6661] from mmap\n",
            "\n",
            "x_input after copying batch from mmap\n",
            "\n",
            "x_input shape: (6661, 256, 256, 5)\n",
            "x_input max: 255.0\n",
            "x_input min: 0.0\n",
            "\n",
            "y_mask after copying batch from mmap\n",
            "\n",
            "y_mask shape: (6661, 256, 256)\n",
            "y_mask max: 2.0\n",
            "y_mask min: 0.0\n",
            "pred mask shape: (6661, 256, 256, 3)\n",
            "true mask shape: (6661, 256, 256, 3)\n",
            "jaccard index: 0.7695764899253845\n"
          ]
        }
      ]
    },
    {
      "cell_type": "markdown",
      "source": [
        "513,5 compute units\n",
        "standard gpu, RAM\n",
        "\n",
        "\n",
        "1,96 compute units/ hour"
      ],
      "metadata": {
        "id": "svAKzScdFmuC"
      }
    },
    {
      "cell_type": "code",
      "execution_count": null,
      "metadata": {
        "id": "UClQ7pjV_3xe"
      },
      "outputs": [],
      "source": [
        "# todo: over entire dataset, not only training and both for non-overlapping and overlapping => should be equal"
      ]
    },
    {
      "cell_type": "code",
      "execution_count": null,
      "metadata": {
        "id": "Q_kSg60_3wkb"
      },
      "outputs": [],
      "source": [
        "\n",
        "\n",
        "data_path = \"../data_colab/256_200\"\n",
        "train_total_tiles = 11063\n",
        "val_total_tiles = 3545\n",
        "test_total_tiles = 3699\n",
        "\n",
        "train_split_x = np.memmap(os.path.join(data_path, \"train_split_x.npy\"), mode=\"r\", shape=(train_total_tiles, 256, 256, 5), dtype=np.uint8)\n",
        "train_split_y = np.memmap(os.path.join(data_path, \"train_split_y.npy\"), mode=\"r\", shape=(train_total_tiles, 256, 256), dtype=np.uint8)\n",
        "val_split_x = np.memmap(os.path.join(data_path, \"val_split_x.npy\"), mode=\"r\", shape=(val_total_tiles, 256, 256, 5), dtype=np.uint8)\n",
        "val_split_y = np.memmap(os.path.join(data_path, \"val_split_y.npy\"), mode=\"r\", shape=(val_total_tiles, 256, 256), dtype=np.uint8)\n",
        "test_split_x = np.memmap(os.path.join(data_path, \"test_split_x.npy\"), mode=\"r\", shape=(test_total_tiles, 256, 256, 5), dtype=np.uint8)\n",
        "test_split_y = np.memmap(os.path.join(data_path, \"test_split_y.npy\"), mode=\"r\", shape=(test_total_tiles, 256, 256), dtype=np.uint8)\n"
      ]
    }
  ],
  "metadata": {
    "accelerator": "GPU",
    "colab": {
      "machine_shape": "hm",
      "provenance": [],
      "include_colab_link": true
    },
    "gpuClass": "premium",
    "kernelspec": {
      "display_name": "Python 3",
      "name": "python3"
    },
    "language_info": {
      "name": "python"
    }
  },
  "nbformat": 4,
  "nbformat_minor": 0
}