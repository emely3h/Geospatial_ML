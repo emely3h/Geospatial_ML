{
  "cells": [
    {
      "cell_type": "markdown",
      "metadata": {
        "id": "view-in-github",
        "colab_type": "text"
      },
      "source": [
        "<a href=\"https://colab.research.google.com/github/emely3h/Geospatial_ML/blob/feature%2Fjaccard_index/data_exploration/physics_jaccard_emely.ipynb\" target=\"_parent\"><img src=\"https://colab.research.google.com/assets/colab-badge.svg\" alt=\"Open In Colab\"/></a>"
      ]
    },
    {
      "cell_type": "markdown",
      "metadata": {
        "id": "-e4xrTqJ2hgi"
      },
      "source": [
        "# Physics Jaccard Index\n",
        "\n",
        "Calculate the physics jaccard index which will be the main success metric."
      ]
    },
    {
      "cell_type": "markdown",
      "metadata": {
        "id": "rmJ9EH8ELvuD"
      },
      "source": [
        "### 0. Prepare Colab"
      ]
    },
    {
      "cell_type": "code",
      "execution_count": 1,
      "metadata": {
        "colab": {
          "base_uri": "https://localhost:8080/"
        },
        "id": "osm1lHOLb-Is",
        "outputId": "6282c1b2-31fc-451c-f270-9dd0f63ec67f"
      },
      "outputs": [
        {
          "output_type": "stream",
          "name": "stdout",
          "text": [
            "Mounted at /content/drive\n"
          ]
        }
      ],
      "source": [
        "from google.colab import drive\n",
        "drive.mount('/content/drive')"
      ]
    },
    {
      "cell_type": "code",
      "execution_count": 2,
      "metadata": {
        "colab": {
          "base_uri": "https://localhost:8080/"
        },
        "id": "HV1KZvqMb_6S",
        "outputId": "29118217-415a-4253-8392-0c2c88075b20"
      },
      "outputs": [
        {
          "output_type": "stream",
          "name": "stdout",
          "text": [
            "drive  sample_data\n",
            "/content/drive/.shortcut-targets-by-id/15HUD3sGdfvxy5Y_bjvuXgrzwxt7TzRfm/MachineLearning/Geospatial_ML\n",
            "architecture.drawio  experiment_1_2.ipynb  prepare_data\n",
            "data_exploration     experiments\t   README.md\n",
            "evaluation\t     models\t\t   requirements.txt\n"
          ]
        }
      ],
      "source": [
        "! ls\n",
        "%cd drive/MyDrive/MachineLearning/Geospatial_ML\n",
        "! ls"
      ]
    },
    {
      "cell_type": "code",
      "execution_count": 3,
      "metadata": {
        "id": "0FB7ZXQkcKB_"
      },
      "outputs": [],
      "source": [
        "import numpy as np\n",
        "import os\n",
        "import matplotlib.pyplot as plt\n",
        "import pandas as pd\n",
        "import pickle\n",
        "from data_exploration.mask_stats import Mask_Stats\n",
        "from prepare_data.create_mask import create_physical_mask\n",
        "from tensorflow.keras.utils import to_categorical\n",
        "from tensorflow import keras\n",
        "from datetime import datetime\n",
        "from typing import Tuple"
      ]
    },
    {
      "cell_type": "markdown",
      "source": [
        "### 1. Helper functions"
      ],
      "metadata": {
        "id": "Skhi5rH87SpQ"
      }
    },
    {
      "cell_type": "code",
      "execution_count": 4,
      "metadata": {
        "id": "wJ3Yo5f24ZHx"
      },
      "outputs": [],
      "source": [
        "def intersection_union(y_true, y_pred):\n",
        "    y_true_f = keras.backend.flatten(y_true)\n",
        "    y_pred_f = keras.backend.flatten(y_pred)\n",
        "\n",
        "    intersection = keras.backend.sum(y_true_f * y_pred_f)\n",
        "    return (intersection, (keras.backend.sum(y_true_f) + keras.backend.sum(y_pred_f) - intersection))"
      ]
    },
    {
      "cell_type": "code",
      "source": [
        "def jaccard_for_batch(split_x: np.memmap, split_y: np.memmap, batch_idx, batch_size):\n",
        "  print(f'\\nCalculating intersection and union for batch {batch_idx/batch_size}, copy tiles [{batch_idx}:{batch_idx+batch_size}] from mmap')\n",
        "  x_input = np.zeros((batch_size, 256, 256, 5), dtype=np.float32)\n",
        "\n",
        "  np.copyto(x_input, split_x[batch_idx:batch_idx+batch_size])\n",
        "  print(f'x_input shape after copying batch from mmap: {x_input.shape}')\n",
        "\n",
        "  y_mask = np.zeros((batch_size, 256, 256), dtype=np.float32)\n",
        "\n",
        "  np.copyto(y_mask, split_y[batch_idx:batch_idx+batch_size])\n",
        "  print(f'y_mask shape after copying batch from mmap: {y_mask.shape}')\n",
        "\n",
        "  pred_physical = create_physical_mask(x_input)\n",
        "  print(f'pred mask shape: {pred_physical.shape}')\n",
        "\n",
        "  y_one_hot = to_categorical(y_mask, num_classes=3)\n",
        "  print(f'true mask shape: {y_one_hot.shape}')\n",
        "\n",
        "  inter_union = intersection_union(y_one_hot, pred_physical)\n",
        "  print(f'intersection: {inter_union[0]} union: {inter_union[1]} intermediate_jaccard: {(inter_union[0]+1)/(inter_union[1]+1)}')\n",
        "  return inter_union"
      ],
      "metadata": {
        "id": "KTDljfplBt8P"
      },
      "execution_count": 5,
      "outputs": []
    },
    {
      "cell_type": "code",
      "source": [
        "def get_mean_jaccard(split_x: np.memmap, split_y: np.memmap, batch_size: int):\n",
        "  num_tiles = split_x.shape[0]\n",
        "  batches = int(num_tiles / batch_size)\n",
        "  rest = num_tiles % batch_size\n",
        "  print(f'total tiles: {num_tiles} batches: {batches} rest: {rest}')\n",
        "  intersection = 0\n",
        "  union = 0\n",
        "  for batch in range (0, batches):\n",
        "    inter_union = jaccard_for_batch(split_x, split_y, batch*batch_size, batch_size)\n",
        "    intersection += inter_union[0]\n",
        "    union += inter_union[1]\n",
        "\n",
        "  if rest != 0:\n",
        "    inter_union = jaccard_for_batch(split_x, split_y, batches*batch_size, rest)\n",
        "    intersection += inter_union[0]\n",
        "    union += inter_union[1]\n",
        "\n",
        "  mean_jaccard = (intersection +1.0) / (union + 1.0)\n",
        "  print(f'\\nTotal intersection: {intersection} Total union: {union} mean_jaccard: {mean_jaccard}')\n",
        "  return [mean_jaccard, intersection, union]\n",
        "\n"
      ],
      "metadata": {
        "id": "XxwrjWq6EJ1X"
      },
      "execution_count": 6,
      "outputs": []
    },
    {
      "cell_type": "markdown",
      "source": [
        "### 2. Jaccard index for overlapping tiles"
      ],
      "metadata": {
        "id": "4MdDxKri7W9c"
      }
    },
    {
      "cell_type": "code",
      "execution_count": 8,
      "metadata": {
        "colab": {
          "base_uri": "https://localhost:8080/"
        },
        "id": "LmsVPFBA3Zgp",
        "outputId": "2cd2ed60-9503-42a5-db52-5a427a70be29"
      },
      "outputs": [
        {
          "output_type": "stream",
          "name": "stdout",
          "text": [
            "Shape: (11063, 256, 256)\n",
            "Land pixels: 326666615  45.056 %\n",
            "Valid pixels: 231026701  31.865 %\n",
            "Invalid pixels: 167331452  23.079 %\n",
            "Sum: 11063\n",
            "\n",
            "Shape: (3545, 256, 256)\n",
            "Land pixels: 100682317  43.337 %\n",
            "Valid pixels: 76811432  33.062 %\n",
            "Invalid pixels: 54831371  23.601 %\n",
            "Sum: 3545\n",
            "\n",
            "Shape: (3699, 256, 256)\n",
            "Land pixels: 112712687  46.495 %\n",
            "Valid pixels: 71301683  29.413 %\n",
            "Invalid pixels: 58403294  24.092 %\n",
            "Sum: 3699\n"
          ]
        }
      ],
      "source": [
        "data_path = \"../data_colab/256_200\"\n",
        "train_total_tiles = 11063\n",
        "val_total_tiles = 3545\n",
        "test_total_tiles = 3699\n",
        "\n",
        "train_split_x = np.memmap(os.path.join(data_path, \"train_split_x.npy\"), mode=\"r\", shape=(train_total_tiles, 256, 256, 5), dtype=np.uint8)\n",
        "train_split_y = np.memmap(os.path.join(data_path, \"train_split_y.npy\"), mode=\"r\", shape=(train_total_tiles, 256, 256), dtype=np.uint8)\n",
        "val_split_x = np.memmap(os.path.join(data_path, \"val_split_x.npy\"), mode=\"r\", shape=(val_total_tiles, 256, 256, 5), dtype=np.uint8)\n",
        "val_split_y = np.memmap(os.path.join(data_path, \"val_split_y.npy\"), mode=\"r\", shape=(val_total_tiles, 256, 256), dtype=np.uint8)\n",
        "test_split_x = np.memmap(os.path.join(data_path, \"test_split_x.npy\"), mode=\"r\", shape=(test_total_tiles, 256, 256, 5), dtype=np.uint8)\n",
        "test_split_y = np.memmap(os.path.join(data_path, \"test_split_y.npy\"), mode=\"r\", shape=(test_total_tiles, 256, 256), dtype=np.uint8)\n",
        "\n",
        "train_stats = Mask_Stats(train_split_y)\n",
        "train_stats.print_stats()\n",
        "print()\n",
        "val_stats = Mask_Stats(val_split_y)\n",
        "val_stats.print_stats()\n",
        "print()\n",
        "test_stats = Mask_Stats(test_split_y)\n",
        "test_stats.print_stats()"
      ]
    },
    {
      "cell_type": "code",
      "source": [
        "start = datetime.now()\n",
        "print(\"Calculate Intersection and Union for training set \\n\")\n",
        "mean_train_jaccard = get_mean_jaccard(train_split_x, train_split_y, 1000)\n",
        "print(\"\\n\\nCalculate Intersection and Union for validation set \\n\")\n",
        "mean_val_jaccard = get_mean_jaccard(val_split_x, val_split_y, 1000)\n",
        "print(\"\\n\\nCalculate Intersection and Union for testing set \\n\")\n",
        "mean_test_jaccard = get_mean_jaccard(test_split_x, test_split_y, 1000)\n",
        "end = datetime.now()\n",
        "print(f'time needed: {end - start}')"
      ],
      "metadata": {
        "colab": {
          "base_uri": "https://localhost:8080/"
        },
        "id": "1O8BaMPcF-Zo",
        "outputId": "c80cd26e-d1ee-4f25-ab3a-348832a08587"
      },
      "execution_count": 9,
      "outputs": [
        {
          "output_type": "stream",
          "name": "stdout",
          "text": [
            "Calculate Intersection and Union for training set \n",
            "\n",
            "total tiles: 11063 batches: 11 rest: 63\n",
            "\n",
            "Calculating intersection and union for batch 0.0, copy tiles [0:1000] from mmap\n",
            "x_input shape after copying batch from mmap: (1000, 256, 256, 5)\n",
            "y_mask shape after copying batch from mmap: (1000, 256, 256)\n",
            "pred mask shape: (1000, 256, 256, 3)\n",
            "true mask shape: (1000, 256, 256, 3)\n",
            "intersection: 63511032.0 union: 67560960.0 intermediate_jaccard: 0.9400551915168762\n",
            "\n",
            "Calculating intersection and union for batch 1.0, copy tiles [1000:2000] from mmap\n",
            "x_input shape after copying batch from mmap: (1000, 256, 256, 5)\n",
            "y_mask shape after copying batch from mmap: (1000, 256, 256)\n",
            "pred mask shape: (1000, 256, 256, 3)\n",
            "true mask shape: (1000, 256, 256, 3)\n",
            "intersection: 63649104.0 union: 67422896.0 intermediate_jaccard: 0.9440280199050903\n",
            "\n",
            "Calculating intersection and union for batch 2.0, copy tiles [2000:3000] from mmap\n",
            "x_input shape after copying batch from mmap: (1000, 256, 256, 5)\n",
            "y_mask shape after copying batch from mmap: (1000, 256, 256)\n",
            "pred mask shape: (1000, 256, 256, 3)\n",
            "true mask shape: (1000, 256, 256, 3)\n",
            "intersection: 63509980.0 union: 67562016.0 intermediate_jaccard: 0.9400249123573303\n",
            "\n",
            "Calculating intersection and union for batch 3.0, copy tiles [3000:4000] from mmap\n",
            "x_input shape after copying batch from mmap: (1000, 256, 256, 5)\n",
            "y_mask shape after copying batch from mmap: (1000, 256, 256)\n",
            "pred mask shape: (1000, 256, 256, 3)\n",
            "true mask shape: (1000, 256, 256, 3)\n",
            "intersection: 63481220.0 union: 67590784.0 intermediate_jaccard: 0.9391993284225464\n",
            "\n",
            "Calculating intersection and union for batch 4.0, copy tiles [4000:5000] from mmap\n",
            "x_input shape after copying batch from mmap: (1000, 256, 256, 5)\n",
            "y_mask shape after copying batch from mmap: (1000, 256, 256)\n",
            "pred mask shape: (1000, 256, 256, 3)\n",
            "true mask shape: (1000, 256, 256, 3)\n",
            "intersection: 63757712.0 union: 67314288.0 intermediate_jaccard: 0.9471645951271057\n",
            "\n",
            "Calculating intersection and union for batch 5.0, copy tiles [5000:6000] from mmap\n",
            "x_input shape after copying batch from mmap: (1000, 256, 256, 5)\n",
            "y_mask shape after copying batch from mmap: (1000, 256, 256)\n",
            "pred mask shape: (1000, 256, 256, 3)\n",
            "true mask shape: (1000, 256, 256, 3)\n",
            "intersection: 63888304.0 union: 67183696.0 intermediate_jaccard: 0.9509495496749878\n",
            "\n",
            "Calculating intersection and union for batch 6.0, copy tiles [6000:7000] from mmap\n",
            "x_input shape after copying batch from mmap: (1000, 256, 256, 5)\n",
            "y_mask shape after copying batch from mmap: (1000, 256, 256)\n",
            "pred mask shape: (1000, 256, 256, 3)\n",
            "true mask shape: (1000, 256, 256, 3)\n",
            "intersection: 63236784.0 union: 67835216.0 intermediate_jaccard: 0.9322117567062378\n",
            "\n",
            "Calculating intersection and union for batch 7.0, copy tiles [7000:8000] from mmap\n",
            "x_input shape after copying batch from mmap: (1000, 256, 256, 5)\n",
            "y_mask shape after copying batch from mmap: (1000, 256, 256)\n",
            "pred mask shape: (1000, 256, 256, 3)\n",
            "true mask shape: (1000, 256, 256, 3)\n",
            "intersection: 62626844.0 union: 68445152.0 intermediate_jaccard: 0.9149931073188782\n",
            "\n",
            "Calculating intersection and union for batch 8.0, copy tiles [8000:9000] from mmap\n",
            "x_input shape after copying batch from mmap: (1000, 256, 256, 5)\n",
            "y_mask shape after copying batch from mmap: (1000, 256, 256)\n",
            "pred mask shape: (1000, 256, 256, 3)\n",
            "true mask shape: (1000, 256, 256, 3)\n",
            "intersection: 58908116.0 union: 72163888.0 intermediate_jaccard: 0.8163101673126221\n",
            "\n",
            "Calculating intersection and union for batch 9.0, copy tiles [9000:10000] from mmap\n",
            "x_input shape after copying batch from mmap: (1000, 256, 256, 5)\n",
            "y_mask shape after copying batch from mmap: (1000, 256, 256)\n",
            "pred mask shape: (1000, 256, 256, 3)\n",
            "true mask shape: (1000, 256, 256, 3)\n",
            "intersection: 58866016.0 union: 72205984.0 intermediate_jaccard: 0.8152512311935425\n",
            "\n",
            "Calculating intersection and union for batch 10.0, copy tiles [10000:11000] from mmap\n",
            "x_input shape after copying batch from mmap: (1000, 256, 256, 5)\n",
            "y_mask shape after copying batch from mmap: (1000, 256, 256)\n",
            "pred mask shape: (1000, 256, 256, 3)\n",
            "true mask shape: (1000, 256, 256, 3)\n",
            "intersection: 63600596.0 union: 67471408.0 intermediate_jaccard: 0.9426303505897522\n",
            "\n",
            "Calculating intersection and union for batch 174.6031746031746, copy tiles [11000:11063] from mmap\n",
            "x_input shape after copying batch from mmap: (63, 256, 256, 5)\n",
            "y_mask shape after copying batch from mmap: (63, 256, 256)\n",
            "pred mask shape: (63, 256, 256, 3)\n",
            "true mask shape: (63, 256, 256, 3)\n",
            "intersection: 4088611.0 union: 4168925.0 intermediate_jaccard: 0.9807350635528564\n",
            "\n",
            "Total intersection: 693124352.0 Total union: 756925184.0 mean_jaccard: 0.9157105088233948\n",
            "Calculate Intersection and Union for validation set \n",
            "\n",
            "total tiles: 3545 batches: 3 rest: 545\n",
            "\n",
            "Calculating intersection and union for batch 0.0, copy tiles [0:1000] from mmap\n",
            "x_input shape after copying batch from mmap: (1000, 256, 256, 5)\n",
            "y_mask shape after copying batch from mmap: (1000, 256, 256)\n",
            "pred mask shape: (1000, 256, 256, 3)\n",
            "true mask shape: (1000, 256, 256, 3)\n",
            "intersection: 63573808.0 union: 67498192.0 intermediate_jaccard: 0.9418594241142273\n",
            "\n",
            "Calculating intersection and union for batch 1.0, copy tiles [1000:2000] from mmap\n",
            "x_input shape after copying batch from mmap: (1000, 256, 256, 5)\n",
            "y_mask shape after copying batch from mmap: (1000, 256, 256)\n",
            "pred mask shape: (1000, 256, 256, 3)\n",
            "true mask shape: (1000, 256, 256, 3)\n",
            "intersection: 61002916.0 union: 70069088.0 intermediate_jaccard: 0.8706109523773193\n",
            "\n",
            "Calculating intersection and union for batch 2.0, copy tiles [2000:3000] from mmap\n",
            "x_input shape after copying batch from mmap: (1000, 256, 256, 5)\n",
            "y_mask shape after copying batch from mmap: (1000, 256, 256)\n",
            "pred mask shape: (1000, 256, 256, 3)\n",
            "true mask shape: (1000, 256, 256, 3)\n",
            "intersection: 62987164.0 union: 68084832.0 intermediate_jaccard: 0.9251276850700378\n",
            "\n",
            "Calculating intersection and union for batch 5.504587155963303, copy tiles [3000:3545] from mmap\n",
            "x_input shape after copying batch from mmap: (545, 256, 256, 5)\n",
            "y_mask shape after copying batch from mmap: (545, 256, 256)\n",
            "pred mask shape: (545, 256, 256, 3)\n",
            "true mask shape: (545, 256, 256, 3)\n",
            "intersection: 34933912.0 union: 36500328.0 intermediate_jaccard: 0.9570848941802979\n",
            "\n",
            "Total intersection: 222497792.0 Total union: 242152448.0 mean_jaccard: 0.9188335537910461\n",
            "Calculate Intersection and Union for testing set \n",
            "\n",
            "total tiles: 3699 batches: 3 rest: 699\n",
            "\n",
            "Calculating intersection and union for batch 0.0, copy tiles [0:1000] from mmap\n",
            "x_input shape after copying batch from mmap: (1000, 256, 256, 5)\n",
            "y_mask shape after copying batch from mmap: (1000, 256, 256)\n",
            "pred mask shape: (1000, 256, 256, 3)\n",
            "true mask shape: (1000, 256, 256, 3)\n",
            "intersection: 59586384.0 union: 71485616.0 intermediate_jaccard: 0.8335436582565308\n",
            "\n",
            "Calculating intersection and union for batch 1.0, copy tiles [1000:2000] from mmap\n",
            "x_input shape after copying batch from mmap: (1000, 256, 256, 5)\n",
            "y_mask shape after copying batch from mmap: (1000, 256, 256)\n",
            "pred mask shape: (1000, 256, 256, 3)\n",
            "true mask shape: (1000, 256, 256, 3)\n",
            "intersection: 62588464.0 union: 68483536.0 intermediate_jaccard: 0.9139198660850525\n",
            "\n",
            "Calculating intersection and union for batch 2.0, copy tiles [2000:3000] from mmap\n",
            "x_input shape after copying batch from mmap: (1000, 256, 256, 5)\n",
            "y_mask shape after copying batch from mmap: (1000, 256, 256)\n",
            "pred mask shape: (1000, 256, 256, 3)\n",
            "true mask shape: (1000, 256, 256, 3)\n",
            "intersection: 62661628.0 union: 68410368.0 intermediate_jaccard: 0.915966808795929\n",
            "\n",
            "Calculating intersection and union for batch 4.291845493562231, copy tiles [3000:3699] from mmap\n",
            "x_input shape after copying batch from mmap: (699, 256, 256, 5)\n",
            "y_mask shape after copying batch from mmap: (699, 256, 256)\n",
            "pred mask shape: (699, 256, 256, 3)\n",
            "true mask shape: (699, 256, 256, 3)\n",
            "intersection: 43810600.0 union: 47808728.0 intermediate_jaccard: 0.9163724184036255\n",
            "\n",
            "Total intersection: 228647072.0 Total union: 256188256.0 mean_jaccard: 0.8924962878227234\n",
            "time needed: 0:02:42.257062\n"
          ]
        }
      ]
    },
    {
      "cell_type": "code",
      "source": [
        "total_intersection = mean_train_jaccard[1] + mean_val_jaccard[1] + mean_test_jaccard[1]\n",
        "total_union = mean_train_jaccard[2] + mean_val_jaccard[2] + mean_test_jaccard[2]\n",
        "\n",
        "mean_jaccard = (total_intersection +1) / (total_union +1)\n",
        "print(mean_jaccard)"
      ],
      "metadata": {
        "colab": {
          "base_uri": "https://localhost:8080/"
        },
        "id": "SazUWMH9Dot1",
        "outputId": "a6510223-ec67-4e9c-ae27-8d65fb5409a2"
      },
      "execution_count": 10,
      "outputs": [
        {
          "output_type": "stream",
          "name": "stdout",
          "text": [
            "tf.Tensor(0.91157514, shape=(), dtype=float32)\n"
          ]
        }
      ]
    },
    {
      "cell_type": "markdown",
      "source": [
        "### 3. Jaccard index for non-overlapping tiles"
      ],
      "metadata": {
        "id": "dhAhObaT8-Xv"
      }
    },
    {
      "cell_type": "code",
      "source": [
        "total_tiles = 11121\n",
        "train_tiles = total_tiles // 100 * 60 +1\n",
        "test_val_tiles = total_tiles // 100 * 20 +1\n",
        "data_path = \"../data_colab/256_256\"\n",
        "\n",
        "train_split_x = np.memmap(os.path.join(data_path, \"train_split_x.npy\"), mode=\"r\", shape=(train_tiles, 256, 256, 5), dtype=np.float32)\n",
        "train_split_y = np.memmap(os.path.join(data_path, \"train_split_y.npy\"), mode=\"r\", shape=(train_tiles, 256, 256), dtype=np.float32)\n",
        "val_split_x = np.memmap(os.path.join(data_path, \"val_split_x.npy\"), mode=\"r\", shape=(test_val_tiles, 256, 256, 5), dtype=np.float32)\n",
        "val_split_y = np.memmap(os.path.join(data_path, \"val_split_y.npy\"), mode=\"r\", shape=(test_val_tiles, 256, 256), dtype=np.float32)\n",
        "test_split_x = np.memmap(os.path.join(data_path, \"test_split_x.npy\"), mode=\"r\", shape=(test_val_tiles, 256, 256, 5), dtype=np.float32)\n",
        "test_split_y = np.memmap(os.path.join(data_path, \"test_split_y.npy\"), mode=\"r\", shape=(test_val_tiles, 256, 256), dtype=np.float32)\n",
        "\n",
        "train_stats = Mask_Stats(train_split_y)\n",
        "train_stats.print_stats()\n",
        "print()\n",
        "val_stats = Mask_Stats(val_split_y)\n",
        "val_stats.print_stats()\n",
        "print()\n",
        "test_stats = Mask_Stats(test_split_y)\n",
        "test_stats.print_stats()"
      ],
      "metadata": {
        "colab": {
          "base_uri": "https://localhost:8080/"
        },
        "id": "EIGwW8SZ9C8G",
        "outputId": "ed55af8d-d3b3-46c1-d2f3-0502138a4e5a"
      },
      "execution_count": 11,
      "outputs": [
        {
          "output_type": "stream",
          "name": "stdout",
          "text": [
            "Shape: (6661, 256, 256)\n",
            "Land pixels: 176919986  40.528 %\n",
            "Valid pixels: 125877821  28.836 %\n",
            "Invalid pixels: 133737489  30.636 %\n",
            "Sum: 6661\n",
            "\n",
            "Shape: (2221, 256, 256)\n",
            "Land pixels: 59840780  41.112 %\n",
            "Valid pixels: 41275933  28.358 %\n",
            "Invalid pixels: 44438743  30.530 %\n",
            "Sum: 2221\n",
            "\n",
            "Shape: (2221, 256, 256)\n",
            "Land pixels: 59010175  40.541 %\n",
            "Valid pixels: 42215169  29.003 %\n",
            "Invalid pixels: 44330112  30.456 %\n",
            "Sum: 2221\n"
          ]
        }
      ]
    },
    {
      "cell_type": "code",
      "source": [
        "start = datetime.now()\n",
        "print(\"Calculate Intersection and Union for training set \\n\")\n",
        "mean_train_jaccard = get_mean_jaccard(train_split_x, train_split_y, 1000)\n",
        "print(\"\\n\\nCalculate Intersection and Union for validation set \\n\")\n",
        "mean_val_jaccard = get_mean_jaccard(val_split_x, val_split_y, 1000)\n",
        "print(\"\\n\\nCalculate Intersection and Union for testing set \\n\")\n",
        "mean_test_jaccard = get_mean_jaccard(test_split_x, test_split_y, 1000)\n",
        "end = datetime.now()\n",
        "print(f'time needed: {end - start}')"
      ],
      "metadata": {
        "colab": {
          "base_uri": "https://localhost:8080/"
        },
        "id": "eC2m-HRi9GWs",
        "outputId": "f9b9436e-efc2-4e5e-b49b-9c800b0ff76a"
      },
      "execution_count": null,
      "outputs": [
        {
          "output_type": "stream",
          "name": "stdout",
          "text": [
            "Calculate Intersection and Union for training set \n",
            "\n",
            "total tiles: 6661 batches: 6 rest: 661\n",
            "\n",
            "Calculating intersection and union for batch 0.0, copy tiles [0:1000] from mmap\n"
          ]
        }
      ]
    },
    {
      "cell_type": "code",
      "source": [
        "total_intersection = mean_train_jaccard[1] + mean_val_jaccard[1] + mean_test_jaccard[1]\n",
        "total_union = mean_train_jaccard[2] + mean_val_jaccard[2] + mean_test_jaccard[2]\n",
        "\n",
        "mean_jaccard = (total_intersection +1) / (total_union +1)\n",
        "print(mean_jaccard)"
      ],
      "metadata": {
        "id": "wluhZnna_Jqp"
      },
      "execution_count": null,
      "outputs": []
    },
    {
      "cell_type": "markdown",
      "source": [
        "### Notes"
      ],
      "metadata": {
        "id": "eb0eLv2a_ful"
      }
    },
    {
      "cell_type": "code",
      "source": [
        "mean_jaccard_2 = get_mean_jaccard(6661)"
      ],
      "metadata": {
        "colab": {
          "base_uri": "https://localhost:8080/"
        },
        "id": "aU_We19dHUiA",
        "outputId": "6c24e28e-f49b-4696-9c23-451c326bbc27"
      },
      "execution_count": 8,
      "outputs": [
        {
          "output_type": "stream",
          "name": "stdout",
          "text": [
            "total tiles: 6661 batches: 1 rest: 0\n",
            "\n",
            "Calculating jaccard index for batch 0, copy tiles [0:6661] from mmap\n",
            "\n",
            "x_input after copying batch from mmap\n",
            "\n",
            "x_input shape: (6661, 256, 256, 5)\n",
            "x_input max: 255.0\n",
            "x_input min: 0.0\n",
            "\n",
            "y_mask after copying batch from mmap\n",
            "\n",
            "y_mask shape: (6661, 256, 256)\n",
            "y_mask max: 2.0\n",
            "y_mask min: 0.0\n",
            "pred mask shape: (6661, 256, 256, 3)\n",
            "true mask shape: (6661, 256, 256, 3)\n",
            "jaccard index: 0.7695764899253845\n"
          ]
        }
      ]
    },
    {
      "cell_type": "markdown",
      "source": [
        "when executed in batches (batch size ~ 500) no GPU, no additional System RAM needed\n",
        "\n",
        "Time to execute: 2 min\n"
      ],
      "metadata": {
        "id": "svAKzScdFmuC"
      }
    },
    {
      "cell_type": "code",
      "execution_count": null,
      "metadata": {
        "id": "UClQ7pjV_3xe"
      },
      "outputs": [],
      "source": [
        "# todo: over entire dataset, not only training and both for non-overlapping and overlapping => should be almost equal\n",
        "# todo: calculate index separately for each class"
      ]
    },
    {
      "cell_type": "code",
      "source": [
        "class JaccardIndexCalculator:\n",
        "\n",
        "    def __init__(self, split_x: np.memmap, split_y: np.memmap, tiles: int, chunk_size: int):\n",
        "        self.split_x = split_x\n",
        "        self.split_y = split_y\n",
        "        self.tiles = tiles\n",
        "        self.chunk_size = chunk_size\n",
        "        self.num_chunks = int(np.ceil(tiles/chunk_size))\n",
        "        self.current_chunk_index = 0\n",
        "        self.intersection = 0\n",
        "        self.union = 0\n",
        "\n",
        "    def __iter__(self):\n",
        "        return self\n",
        "\n",
        "    def __next__(self):\n",
        "       if self.current_chunk_index >= self.num_chunks:\n",
        "            raise StopIteration\n",
        "       print(f\"Calculating intersection and union for chunk {self.current_chunk_index}\")\n",
        "       x_input_chunk, y_mask_chunk = self.copy_data_to_array()\n",
        "       pred_physical = create_physical_mask(x_input_chunk)\n",
        "       y_one_hot = to_categorical(y_mask_chunk, num_classes=3)\n",
        "       inter_union = self.intersection_union(pred_physical[:, :, :, 1], y_one_hot[:, :, :, 1])\n",
        "       \n",
        "       print(f\"Intersection:{inter_union[0]}, union: {inter_union[1]} \\n\")\n",
        "       \n",
        "       \n",
        "       self.intersection += inter_union[0]\n",
        "       self.union += inter_union[1]\n",
        "  \n",
        "       self.current_chunk_index += 1\n",
        "       return inter_union\n",
        "\n",
        "\n",
        "    def copy_data_to_array(self) -> Tuple[np.ndarray, np.ndarray]:\n",
        "      start_index = self.current_chunk_index * self.chunk_size\n",
        "      end_index = start_index + self.chunk_size\n",
        "      if end_index > self.tiles:\n",
        "          end_index = self.tiles\n",
        "      chunk_size = end_index - start_index\n",
        "      x_input = np.zeros((chunk_size, 256, 256, 5), dtype=np.float32)\n",
        "      np.copyto(x_input, self.split_x[start_index:end_index])\n",
        "      y_mask = np.zeros((chunk_size, 256, 256), dtype=np.float32)\n",
        "      np.copyto(y_mask, self.split_y[start_index:end_index])\n",
        "      print(f\"Copyed from mmap [{start_index}:{end_index}]\")\n",
        "      return x_input, y_mask\n",
        "    \n",
        "    def intersection_union(self, y_true, y_pred):\n",
        "      y_true_f = keras.backend.flatten(y_true)\n",
        "      y_pred_f = keras.backend.flatten(y_pred)\n",
        "\n",
        "      intersection = keras.backend.sum(y_true_f * y_pred_f)\n",
        "      return (intersection, (keras.backend.sum(y_true_f) + keras.backend.sum(y_pred_f) - intersection))\n",
        "    \n",
        "    def mean_jaccard(self):\n",
        "      for chunk in self:\n",
        "        pass\n",
        "      return [(self.intersection +1) / (self.union + 1), self.intersection, self.union]\n",
        "\n",
        "test = JaccardIndexCalculator(train_split_x, train_split_y, train_tiles, 500)\n",
        "start = datetime.now()\n",
        "mean_jaccard = test.mean_jaccard()\n",
        "end = datetime.now()\n",
        "print(f'time needed: {end - start}')\n",
        "print(mean_jaccard)"
      ],
      "metadata": {
        "id": "96kRlZlYcwtK"
      },
      "execution_count": 18,
      "outputs": []
    }
  ],
  "metadata": {
    "accelerator": "GPU",
    "colab": {
      "provenance": [],
      "include_colab_link": true
    },
    "gpuClass": "standard",
    "kernelspec": {
      "display_name": "Python 3",
      "name": "python3"
    },
    "language_info": {
      "name": "python"
    }
  },
  "nbformat": 4,
  "nbformat_minor": 0
}