{
  "cells": [
    {
      "cell_type": "markdown",
      "metadata": {
        "id": "view-in-github",
        "colab_type": "text"
      },
      "source": [
        "<a href=\"https://colab.research.google.com/github/emely3h/Geospatial_ML/blob/feature%2Fphysics-jaccard-index/data_exploration/physics_jaccard.ipynb\" target=\"_parent\"><img src=\"https://colab.research.google.com/assets/colab-badge.svg\" alt=\"Open In Colab\"/></a>"
      ]
    },
    {
      "cell_type": "markdown",
      "metadata": {
        "id": "-e4xrTqJ2hgi"
      },
      "source": [
        "# Physics Jaccard Index\n",
        "\n",
        "Calculate the physics jaccard index which will be the main success metric."
      ]
    },
    {
      "cell_type": "markdown",
      "source": [
        "# Small Subset(256x256: Training)"
      ],
      "metadata": {
        "id": "gsCP-ZRtKZzW"
      }
    },
    {
      "cell_type": "markdown",
      "metadata": {
        "id": "rmJ9EH8ELvuD"
      },
      "source": [
        "### 0. Get Stats for each image"
      ]
    },
    {
      "cell_type": "code",
      "execution_count": 1,
      "metadata": {
        "colab": {
          "base_uri": "https://localhost:8080/"
        },
        "id": "osm1lHOLb-Is",
        "outputId": "5bbb5d00-ce6a-47d4-e47b-594608c394c6"
      },
      "outputs": [
        {
          "output_type": "stream",
          "name": "stdout",
          "text": [
            "Mounted at /content/drive\n"
          ]
        }
      ],
      "source": [
        "from google.colab import drive\n",
        "drive.mount('/content/drive')"
      ]
    },
    {
      "cell_type": "code",
      "execution_count": 2,
      "metadata": {
        "colab": {
          "base_uri": "https://localhost:8080/"
        },
        "id": "HV1KZvqMb_6S",
        "outputId": "83116354-7e49-44ec-9988-455aa8aa5e8a"
      },
      "outputs": [
        {
          "output_type": "stream",
          "name": "stdout",
          "text": [
            "drive  sample_data\n",
            "/content/drive/.shortcut-targets-by-id/15HUD3sGdfvxy5Y_bjvuXgrzwxt7TzRfm/MachineLearning/Geospatial_ML\n",
            "architecture.drawio  experiment_1_2.ipynb  prepare_data\n",
            "data_exploration     experiments\t   README.md\n",
            "evaluation\t     models\t\t   requirements.txt\n"
          ]
        }
      ],
      "source": [
        "! ls\n",
        "%cd drive/MyDrive/MachineLearning/Geospatial_ML\n",
        "! ls"
      ]
    },
    {
      "cell_type": "code",
      "source": [
        "# ! git checkout feature/physics-jaccard-index\n",
        "! git pull"
      ],
      "metadata": {
        "colab": {
          "base_uri": "https://localhost:8080/"
        },
        "id": "MjxcFOTTGABS",
        "outputId": "af4be6ca-7cbf-4daf-bc1d-a6ee5eb283e6"
      },
      "execution_count": 3,
      "outputs": [
        {
          "output_type": "stream",
          "name": "stdout",
          "text": [
            "Already on 'feature/physics-jaccard-index'\n",
            "Your branch is up to date with 'origin/feature/physics-jaccard-index'.\n",
            "Already up to date.\n"
          ]
        }
      ]
    },
    {
      "cell_type": "code",
      "execution_count": 4,
      "metadata": {
        "id": "0FB7ZXQkcKB_"
      },
      "outputs": [],
      "source": [
        "import numpy as np\n",
        "import os\n",
        "import matplotlib.pyplot as plt\n",
        "import pandas as pd\n",
        "import pickle\n",
        "from data_exploration.mask_stats import Mask_Stats\n",
        "from prepare_data.create_mask import create_physical_mask\n",
        "from tensorflow.keras.utils import to_categorical\n",
        "from tensorflow import keras\n",
        "from models.unet_model import unet_2d\n",
        "from models.helpers import initialize_saved_data, jaccard_coef"
      ]
    },
    {
      "cell_type": "markdown",
      "source": [
        "### 1. Loading + Preparing Training Data"
      ],
      "metadata": {
        "id": "AKIdGdJYFwoN"
      }
    },
    {
      "cell_type": "code",
      "execution_count": null,
      "metadata": {
        "colab": {
          "base_uri": "https://localhost:8080/"
        },
        "id": "LmsVPFBA3Zgp",
        "outputId": "fdba7f76-e1ac-4a5a-daa7-bb6c168aeeb3"
      },
      "outputs": [
        {
          "output_type": "stream",
          "name": "stdout",
          "text": [
            "Shape: (6661, 256, 256)\n",
            "Land pixels: 176919986  40.528 %\n",
            "Valid pixels: 125877821  28.836 %\n",
            "Invalid pixels: 133737489  30.636 %\n",
            "Sum: 6661\n"
          ]
        }
      ],
      "source": [
        "total_tiles = 11121\n",
        "train_tiles = total_tiles // 100 * 60 +1\n",
        "test_val_tiles = total_tiles // 100 * 20 +1\n",
        "data_path = \"../data_colab/256_256\"\n",
        "\n",
        "train_split_x = np.memmap(os.path.join(data_path, \"train_split_x.npy\"), mode=\"r\", shape=(train_tiles, 256, 256, 5), dtype=np.float32)\n",
        "train_split_y = np.memmap(os.path.join(data_path, \"train_split_y.npy\"), mode=\"r\", shape=(train_tiles, 256, 256), dtype=np.float32)\n",
        "\n",
        "train_stats = Mask_Stats(train_split_y)\n",
        "train_stats.print_stats()\n"
      ]
    },
    {
      "cell_type": "markdown",
      "source": [
        "### 2. Initializing training data"
      ],
      "metadata": {
        "id": "zQWsh1CIlFWI"
      }
    },
    {
      "cell_type": "code",
      "source": [
        "x_input,y_mask = initialize_saved_data(train_split_x, train_split_y, train_tiles)"
      ],
      "metadata": {
        "colab": {
          "base_uri": "https://localhost:8080/"
        },
        "id": "rcWMXpsOZhRQ",
        "outputId": "ac68a75d-a4e3-408b-faca-41fe18ef8fee"
      },
      "execution_count": null,
      "outputs": [
        {
          "output_type": "stream",
          "name": "stdout",
          "text": [
            "Initializing saved data...\n",
            "x_input shape: (6661, 256, 256, 5)\n",
            "x_min: 0.0 x_max: 0.0\n",
            "\n",
            "Copying saved data to x_input...\n",
            "x_input shape: (6661, 256, 256, 5)\n",
            "x_min: 0.0 x_max: 255.0\n",
            "\n",
            "Initializing y_mask...\n",
            "y_mask shape: (6661, 256, 256)\n",
            "y_min: 0.0 y_max: 0.0\n",
            "\n",
            "Copying saved data to y_mask...\n",
            "y_mask shape: (6661, 256, 256)\n",
            "y_min: 0.0 y_max: 2.0\n"
          ]
        }
      ]
    },
    {
      "cell_type": "markdown",
      "source": [
        "### 3. Create Physical mask(training data)"
      ],
      "metadata": {
        "id": "Y7VAbt8JGxrC"
      }
    },
    {
      "cell_type": "code",
      "source": [
        "pred_physical = create_physical_mask(x_input)"
      ],
      "metadata": {
        "id": "T18KUZrdG5yg"
      },
      "execution_count": null,
      "outputs": []
    },
    {
      "cell_type": "markdown",
      "source": [
        "### 4. Encoding (training data)"
      ],
      "metadata": {
        "id": "wPTY4ywn2E-Q"
      }
    },
    {
      "cell_type": "code",
      "source": [
        "y_one_hot = to_categorical(y_mask, num_classes=3)"
      ],
      "metadata": {
        "id": "HxLUxEupIf0v"
      },
      "execution_count": null,
      "outputs": []
    },
    {
      "cell_type": "markdown",
      "source": [
        "### 5. Calculate Physics jaccard index(training data)"
      ],
      "metadata": {
        "id": "BpeMViO9HMJk"
      }
    },
    {
      "cell_type": "markdown",
      "source": [
        "# All dataset(Overlap: 56px)"
      ],
      "metadata": {
        "id": "8lfeE0LSKsd7"
      }
    },
    {
      "cell_type": "code",
      "source": [
        "jaccard = jaccard_coef(y_one_hot, pred_physical)\n",
        "print(jaccard)"
      ],
      "metadata": {
        "colab": {
          "base_uri": "https://localhost:8080/"
        },
        "id": "LQcCG9owHX43",
        "outputId": "fbe3b0bb-cd5f-4fe7-e2f3-a3413a746920"
      },
      "execution_count": null,
      "outputs": [
        {
          "output_type": "stream",
          "name": "stdout",
          "text": [
            "tf.Tensor(0.7695766, shape=(), dtype=float32)\n"
          ]
        }
      ]
    },
    {
      "cell_type": "code",
      "execution_count": null,
      "metadata": {
        "id": "UClQ7pjV_3xe"
      },
      "outputs": [],
      "source": [
        "# todo: over entire dataset, not only training and both for non-overlapping and overlapping => should be equal"
      ]
    },
    {
      "cell_type": "markdown",
      "source": [
        "### 6. Loading all data(256_200)"
      ],
      "metadata": {
        "id": "XCZo6tIQKT1_"
      }
    },
    {
      "cell_type": "code",
      "execution_count": null,
      "metadata": {
        "id": "Q_kSg60_3wkb"
      },
      "outputs": [],
      "source": [
        "data_path = \"../data_colab/256_200\"\n",
        "train_total_tiles = 11063\n",
        "val_total_tiles = 3545\n",
        "test_total_tiles = 3699\n",
        "\n",
        "train_split_x = np.memmap(os.path.join(data_path, \"train_split_x.npy\"), mode=\"r\", shape=(train_total_tiles, 256, 256, 5), dtype=np.uint8)\n",
        "train_split_y = np.memmap(os.path.join(data_path, \"train_split_y.npy\"), mode=\"r\", shape=(train_total_tiles, 256, 256), dtype=np.uint8)\n",
        "val_split_x = np.memmap(os.path.join(data_path, \"val_split_x.npy\"), mode=\"r\", shape=(val_total_tiles, 256, 256, 5), dtype=np.uint8)\n",
        "val_split_y = np.memmap(os.path.join(data_path, \"val_split_y.npy\"), mode=\"r\", shape=(val_total_tiles, 256, 256), dtype=np.uint8)\n",
        "test_split_x = np.memmap(os.path.join(data_path, \"test_split_x.npy\"), mode=\"r\", shape=(test_total_tiles, 256, 256, 5), dtype=np.uint8)\n",
        "test_split_y = np.memmap(os.path.join(data_path, \"test_split_y.npy\"), mode=\"r\", shape=(test_total_tiles, 256, 256), dtype=np.uint8)\n"
      ]
    },
    {
      "cell_type": "markdown",
      "source": [
        "### 7. Initializing all data(256_200)"
      ],
      "metadata": {
        "id": "893yBBZ-KnOv"
      }
    },
    {
      "cell_type": "code",
      "source": [
        "print(\"1: Training Dataset\")\n",
        "train_x_input, train_y_mask = initialize_saved_data(train_split_x, train_split_y, train_total_tiles)\n",
        "print(\"\\n2: Validation Dataset\")\n",
        "val_x_input, val_y_mask = initialize_saved_data(val_split_x, val_split_y, val_total_tiles)\n",
        "print(\"\\n3: Test Dataset\")\n",
        "test_x_input, test_y_mask = initialize_saved_data(test_split_x, test_split_y, test_total_tiles)"
      ],
      "metadata": {
        "id": "S70AsQMRKz3i",
        "outputId": "ddb8f327-9e54-4a91-93ee-f87d4272dcb6",
        "colab": {
          "base_uri": "https://localhost:8080/"
        }
      },
      "execution_count": null,
      "outputs": [
        {
          "output_type": "stream",
          "name": "stdout",
          "text": [
            "1: Training Dataset\n",
            "Initializing saved data...\n",
            "x_input shape: (11063, 256, 256, 5)\n",
            "x_min: 0.0 x_max: 0.0\n",
            "\n",
            "Copying saved data to x_input...\n",
            "x_input shape: (11063, 256, 256, 5)\n",
            "x_min: 0.0 x_max: 255.0\n",
            "\n",
            "Initializing y_mask...\n",
            "y_mask shape: (11063, 256, 256)\n",
            "y_min: 0.0 y_max: 0.0\n",
            "\n",
            "Copying saved data to y_mask...\n",
            "y_mask shape: (11063, 256, 256)\n",
            "y_min: 0.0 y_max: 2.0\n",
            "\n",
            "2: Validation Dataset\n",
            "Initializing saved data...\n",
            "x_input shape: (3545, 256, 256, 5)\n",
            "x_min: 0.0 x_max: 0.0\n",
            "\n",
            "Copying saved data to x_input...\n",
            "x_input shape: (3545, 256, 256, 5)\n",
            "x_min: 0.0 x_max: 255.0\n",
            "\n",
            "Initializing y_mask...\n",
            "y_mask shape: (3545, 256, 256)\n",
            "y_min: 0.0 y_max: 0.0\n",
            "\n",
            "Copying saved data to y_mask...\n",
            "y_mask shape: (3545, 256, 256)\n",
            "y_min: 0.0 y_max: 2.0\n",
            "\n",
            "3: Test Dataset\n",
            "Initializing saved data...\n",
            "x_input shape: (3699, 256, 256, 5)\n",
            "x_min: 0.0 x_max: 0.0\n",
            "\n",
            "Copying saved data to x_input...\n",
            "x_input shape: (3699, 256, 256, 5)\n",
            "x_min: 0.0 x_max: 255.0\n",
            "\n",
            "Initializing y_mask...\n",
            "y_mask shape: (3699, 256, 256)\n",
            "y_min: 0.0 y_max: 0.0\n",
            "\n",
            "Copying saved data to y_mask...\n",
            "y_mask shape: (3699, 256, 256)\n",
            "y_min: 0.0 y_max: 2.0\n"
          ]
        }
      ]
    },
    {
      "cell_type": "markdown",
      "source": [
        "### 8. Create all Physical masks (256_200)"
      ],
      "metadata": {
        "id": "kjug29RYMlHt"
      }
    },
    {
      "cell_type": "code",
      "source": [
        "train_pred_physical = create_physical_mask(train_x_input)\n",
        "val_pred_physical = create_physical_mask(val_x_input)\n",
        "test_pred_physical = create_physical_mask(test_x_input)"
      ],
      "metadata": {
        "id": "-agGgwjoL8U6"
      },
      "execution_count": null,
      "outputs": []
    },
    {
      "cell_type": "markdown",
      "source": [
        "### 9. Encoding all data (256_200)"
      ],
      "metadata": {
        "id": "EHiYi0-jNlY4"
      }
    },
    {
      "cell_type": "code",
      "source": [
        "train_y_one_hot = to_categorical(train_y_mask, num_classes=3)\n",
        "val_y_one_hot = to_categorical(val_y_mask, num_classes=3)\n",
        "test_y_one_hot = to_categorical(test_y_mask, num_classes=3)"
      ],
      "metadata": {
        "id": "w3wvj1h2NSVH"
      },
      "execution_count": null,
      "outputs": []
    },
    {
      "cell_type": "markdown",
      "source": [
        "### 10. Calculate all Physics jaccard index (256_200)"
      ],
      "metadata": {
        "id": "H3XJNkL9OdyD"
      }
    },
    {
      "cell_type": "code",
      "source": [
        "train_jaccard = jaccard_coef(train_y_one_hot, train_pred_physical)\n",
        "val_jaccard = jaccard_coef(val_y_one_hot, val_pred_physical)\n",
        "test_jaccard = jaccard_coef(test_y_one_hot, test_pred_physical)\n",
        "\n",
        "print(\"1.Traing dataset\")\n",
        "print(train_jaccard)\n",
        "print(\"\\n2.Validation dataset\")\n",
        "print(val_jaccard)\n",
        "print(\"\\n3.Test dataset\")\n",
        "print(test_jaccard)"
      ],
      "metadata": {
        "id": "GX2vK5X8Onoe"
      },
      "execution_count": null,
      "outputs": []
    },
    {
      "cell_type": "markdown",
      "source": [
        "# All dataset(No overlap)"
      ],
      "metadata": {
        "id": "5nCPoZIZL9JY"
      }
    },
    {
      "cell_type": "markdown",
      "source": [
        "### 11. Loading all data(256_256)"
      ],
      "metadata": {
        "id": "SvjKbwE8MFbt"
      }
    },
    {
      "cell_type": "code",
      "source": [
        "data_path = \"../data_colab/256_256\"\n",
        "train_total_tiles = 11063\n",
        "val_total_tiles = 3545\n",
        "test_total_tiles = 3699\n",
        "\n",
        "train_split_x = np.memmap(os.path.join(data_path, \"train_split_x.npy\"), mode=\"r\", shape=(train_total_tiles, 256, 256, 5), dtype=np.uint8)\n",
        "train_split_y = np.memmap(os.path.join(data_path, \"train_split_y.npy\"), mode=\"r\", shape=(train_total_tiles, 256, 256), dtype=np.uint8)\n",
        "val_split_x = np.memmap(os.path.join(data_path, \"val_split_x.npy\"), mode=\"r\", shape=(val_total_tiles, 256, 256, 5), dtype=np.uint8)\n",
        "val_split_y = np.memmap(os.path.join(data_path, \"val_split_y.npy\"), mode=\"r\", shape=(val_total_tiles, 256, 256), dtype=np.uint8)\n",
        "test_split_x = np.memmap(os.path.join(data_path, \"test_split_x.npy\"), mode=\"r\", shape=(test_total_tiles, 256, 256, 5), dtype=np.uint8)\n",
        "test_split_y = np.memmap(os.path.join(data_path, \"test_split_y.npy\"), mode=\"r\", shape=(test_total_tiles, 256, 256), dtype=np.uint8)"
      ],
      "metadata": {
        "id": "MsLG7cK4L3eV"
      },
      "execution_count": 5,
      "outputs": []
    },
    {
      "cell_type": "markdown",
      "source": [
        "### 12. Initializing all data(256_256)"
      ],
      "metadata": {
        "id": "_A4ijc2aMRI7"
      }
    },
    {
      "cell_type": "code",
      "source": [
        "print(\"1: Training Dataset\")\n",
        "train_x_input, train_y_mask = initialize_saved_data(train_split_x, train_split_y, train_total_tiles)\n",
        "print(\"\\n2: Validation Dataset\")\n",
        "val_x_input, val_y_mask = initialize_saved_data(val_split_x, val_split_y, val_total_tiles)\n",
        "print(\"\\n3: Test Dataset\")\n",
        "test_x_input, test_y_mask = initialize_saved_data(test_split_x, test_split_y, test_total_tiles)"
      ],
      "metadata": {
        "id": "_099y_IoMQXX",
        "outputId": "f8ad3c34-0dc5-4718-bb83-f15c174c56d3",
        "colab": {
          "base_uri": "https://localhost:8080/"
        }
      },
      "execution_count": 6,
      "outputs": [
        {
          "output_type": "stream",
          "name": "stdout",
          "text": [
            "1: Training Dataset\n",
            "Initializing saved data...\n",
            "x_input shape: (11063, 256, 256, 5)\n",
            "x_min: 0.0 x_max: 0.0\n",
            "\n",
            "Copying saved data to x_input...\n",
            "x_input shape: (11063, 256, 256, 5)\n",
            "x_min: 0.0 x_max: 254.0\n",
            "\n",
            "Initializing y_mask...\n",
            "y_mask shape: (11063, 256, 256)\n",
            "y_min: 0.0 y_max: 0.0\n",
            "\n",
            "Copying saved data to y_mask...\n",
            "y_mask shape: (11063, 256, 256)\n",
            "y_min: 0.0 y_max: 128.0\n",
            "\n",
            "2: Validation Dataset\n",
            "Initializing saved data...\n",
            "x_input shape: (3545, 256, 256, 5)\n",
            "x_min: 0.0 x_max: 0.0\n",
            "\n",
            "Copying saved data to x_input...\n",
            "x_input shape: (3545, 256, 256, 5)\n",
            "x_min: 0.0 x_max: 254.0\n",
            "\n",
            "Initializing y_mask...\n",
            "y_mask shape: (3545, 256, 256)\n",
            "y_min: 0.0 y_max: 0.0\n",
            "\n",
            "Copying saved data to y_mask...\n",
            "y_mask shape: (3545, 256, 256)\n",
            "y_min: 0.0 y_max: 128.0\n",
            "\n",
            "3: Test Dataset\n",
            "Initializing saved data...\n",
            "x_input shape: (3699, 256, 256, 5)\n",
            "x_min: 0.0 x_max: 0.0\n",
            "\n",
            "Copying saved data to x_input...\n",
            "x_input shape: (3699, 256, 256, 5)\n",
            "x_min: 0.0 x_max: 254.0\n",
            "\n",
            "Initializing y_mask...\n",
            "y_mask shape: (3699, 256, 256)\n",
            "y_min: 0.0 y_max: 0.0\n",
            "\n",
            "Copying saved data to y_mask...\n",
            "y_mask shape: (3699, 256, 256)\n",
            "y_min: 0.0 y_max: 128.0\n"
          ]
        }
      ]
    },
    {
      "cell_type": "markdown",
      "source": [
        "### 13. Create all Physical masks (256_256)"
      ],
      "metadata": {
        "id": "vXW1Ym9NMmjb"
      }
    },
    {
      "cell_type": "code",
      "source": [
        "train_pred_physical = create_physical_mask(train_x_input)\n",
        "val_pred_physical = create_physical_mask(val_x_input)\n",
        "test_pred_physical = create_physical_mask(test_x_input)"
      ],
      "metadata": {
        "id": "ZQWhmOA2Miec"
      },
      "execution_count": 7,
      "outputs": []
    },
    {
      "cell_type": "markdown",
      "source": [
        "### 14. Encoding all data (256_256)"
      ],
      "metadata": {
        "id": "1auJ70VMMtZQ"
      }
    },
    {
      "cell_type": "code",
      "source": [
        "train_y_one_hot = to_categorical(train_y_mask, num_classes=3)\n",
        "val_y_one_hot = to_categorical(val_y_mask, num_classes=3)\n",
        "test_y_one_hot = to_categorical(test_y_mask, num_classes=3)"
      ],
      "metadata": {
        "id": "2GJwFABZMxhv"
      },
      "execution_count": null,
      "outputs": []
    },
    {
      "cell_type": "markdown",
      "source": [
        "### 15. Calculate all Physics jaccard index (256_256)"
      ],
      "metadata": {
        "id": "MjTmSg9nM0Fr"
      }
    },
    {
      "cell_type": "code",
      "source": [
        "train_jaccard = jaccard_coef(train_y_one_hot, train_pred_physical)\n",
        "val_jaccard = jaccard_coef(val_y_one_hot, val_pred_physical)\n",
        "test_jaccard = jaccard_coef(test_y_one_hot, test_pred_physical)\n",
        "\n",
        "print(\"1.Traing dataset\")\n",
        "print(train_jaccard)\n",
        "print(\"\\n2.Validation dataset\")\n",
        "print(val_jaccard)\n",
        "print(\"\\n3.Test dataset\")\n",
        "print(test_jaccard)"
      ],
      "metadata": {
        "id": "Huf-tcB6M5vQ"
      },
      "execution_count": null,
      "outputs": []
    }
  ],
  "metadata": {
    "colab": {
      "machine_shape": "hm",
      "provenance": [],
      "toc_visible": true,
      "include_colab_link": true
    },
    "gpuClass": "standard",
    "kernelspec": {
      "display_name": "Python 3",
      "name": "python3"
    },
    "language_info": {
      "name": "python"
    }
  },
  "nbformat": 4,
  "nbformat_minor": 0
}