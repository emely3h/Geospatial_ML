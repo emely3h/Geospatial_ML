{
  "cells": [
    {
      "cell_type": "markdown",
      "metadata": {
        "id": "view-in-github",
        "colab_type": "text"
      },
      "source": [
        "<a href=\"https://colab.research.google.com/github/emely3h/Geospatial_ML/blob/fix%2Fphysical_jaccard_index/data_exploration/physics_jaccard.ipynb\" target=\"_parent\"><img src=\"https://colab.research.google.com/assets/colab-badge.svg\" alt=\"Open In Colab\"/></a>"
      ]
    },
    {
      "cell_type": "markdown",
      "metadata": {
        "id": "-e4xrTqJ2hgi"
      },
      "source": [
        "# Physics Jaccard Index\n",
        "\n",
        "Calculate the physics jaccard index which will be the main success metric."
      ]
    },
    {
      "cell_type": "markdown",
      "source": [
        "# Small Subset(256x256: Training)"
      ],
      "metadata": {
        "id": "gsCP-ZRtKZzW"
      }
    },
    {
      "cell_type": "markdown",
      "metadata": {
        "id": "rmJ9EH8ELvuD"
      },
      "source": [
        "### 0. Get Stats for each image"
      ]
    },
    {
      "cell_type": "code",
      "execution_count": 1,
      "metadata": {
        "colab": {
          "base_uri": "https://localhost:8080/"
        },
        "id": "osm1lHOLb-Is",
        "outputId": "a2ea72ec-7101-4252-fda5-e061082c7214"
      },
      "outputs": [
        {
          "output_type": "stream",
          "name": "stdout",
          "text": [
            "Mounted at /content/drive\n"
          ]
        }
      ],
      "source": [
        "from google.colab import drive\n",
        "drive.mount('/content/drive')"
      ]
    },
    {
      "cell_type": "code",
      "execution_count": 2,
      "metadata": {
        "colab": {
          "base_uri": "https://localhost:8080/"
        },
        "id": "HV1KZvqMb_6S",
        "outputId": "3c59daf5-dbef-420e-eb64-247c40b95bb9"
      },
      "outputs": [
        {
          "output_type": "stream",
          "name": "stdout",
          "text": [
            "drive  sample_data\n",
            "/content/drive/.shortcut-targets-by-id/15HUD3sGdfvxy5Y_bjvuXgrzwxt7TzRfm/MachineLearning/Geospatial_ML\n",
            "architecture.drawio  experiment_1_2.ipynb  prepare_data\n",
            "data_exploration     experiments\t   README.md\n",
            "evaluation\t     models\t\t   requirements.txt\n"
          ]
        }
      ],
      "source": [
        "! ls\n",
        "%cd drive/MyDrive/MachineLearning/Geospatial_ML\n",
        "! ls"
      ]
    },
    {
      "cell_type": "code",
      "source": [
        "! git checkout feature/physics-jaccard-index\n",
        "! git pull"
      ],
      "metadata": {
        "colab": {
          "base_uri": "https://localhost:8080/"
        },
        "id": "MjxcFOTTGABS",
        "outputId": "20f42b68-cf89-491c-f79f-94c9a7b86963"
      },
      "execution_count": null,
      "outputs": [
        {
          "output_type": "stream",
          "name": "stdout",
          "text": [
            "Already on 'feature/physics-jaccard-index'\n",
            "Your branch is up to date with 'origin/feature/physics-jaccard-index'.\n",
            "remote: Enumerating objects: 4, done.\u001b[K\n",
            "remote: Counting objects: 100% (4/4), done.\u001b[K\n",
            "remote: Compressing objects: 100% (2/2), done.\u001b[K\n",
            "remote: Total 4 (delta 2), reused 4 (delta 2), pack-reused 0\u001b[K\n",
            "Unpacking objects: 100% (4/4), 676 bytes | 2.00 KiB/s, done.\n",
            "From https://github.com/emely3h/Geospatial_ML\n",
            "   7f09b81..06a6ecc  feature/physics-jaccard-index -> origin/feature/physics-jaccard-index\n",
            "Updating 7f09b81..06a6ecc\n",
            "Fast-forward\n",
            " models/helpers.py | 19 \u001b[32m+++++++++++++++++++\u001b[m\n",
            " 1 file changed, 19 insertions(+)\n"
          ]
        }
      ]
    },
    {
      "cell_type": "code",
      "execution_count": 3,
      "metadata": {
        "id": "0FB7ZXQkcKB_"
      },
      "outputs": [],
      "source": [
        "import numpy as np\n",
        "import os\n",
        "import matplotlib.pyplot as plt\n",
        "import pandas as pd\n",
        "import pickle\n",
        "from data_exploration.mask_stats import Mask_Stats\n",
        "from prepare_data.create_mask import create_physical_mask\n",
        "from tensorflow.keras.utils import to_categorical\n",
        "from tensorflow import keras\n",
        "from models.unet_model import unet_2d\n",
        "# from models.helpers import copy_data_to_arrays, save_pickle, jaccard_coef"
      ]
    },
    {
      "cell_type": "markdown",
      "source": [
        "### 1. Loading + Preparing Training Data"
      ],
      "metadata": {
        "id": "AKIdGdJYFwoN"
      }
    },
    {
      "cell_type": "code",
      "execution_count": 4,
      "metadata": {
        "colab": {
          "base_uri": "https://localhost:8080/"
        },
        "id": "LmsVPFBA3Zgp",
        "outputId": "e2811b4b-5ed0-4df5-b99a-39644ade4fd2"
      },
      "outputs": [
        {
          "output_type": "stream",
          "name": "stdout",
          "text": [
            "Shape: (6661, 256, 256)\n",
            "Land pixels: 176919986  40.528 %\n",
            "Valid pixels: 125877821  28.836 %\n",
            "Invalid pixels: 133737489  30.636 %\n",
            "Sum: 6661\n"
          ]
        }
      ],
      "source": [
        "total_tiles = 11121\n",
        "train_tiles = total_tiles // 100 * 60 +1\n",
        "test_val_tiles = total_tiles // 100 * 20 +1\n",
        "data_path = \"../data_colab/256_256\"\n",
        "\n",
        "train_split_x = np.memmap(os.path.join(data_path, \"train_split_x.npy\"), mode=\"r\", shape=(train_tiles, 256, 256, 5), dtype=np.float32)\n",
        "train_split_y = np.memmap(os.path.join(data_path, \"train_split_y.npy\"), mode=\"r\", shape=(train_tiles, 256, 256), dtype=np.float32)\n",
        "\n",
        "train_stats = Mask_Stats(train_split_y)\n",
        "train_stats.print_stats()\n"
      ]
    },
    {
      "cell_type": "markdown",
      "source": [
        "### 2. Initializing training data"
      ],
      "metadata": {
        "id": "zQWsh1CIlFWI"
      }
    },
    {
      "cell_type": "code",
      "source": [
        "# import numpy as np\n",
        "# from typing import Tuple\n",
        "# from skimage.measure import label\n",
        "# from keras.utils import to_categorical\n",
        "# from tensorflow import keras\n",
        "\n",
        "# class JaccardIndexCalculator:\n",
        "\n",
        "#     def __init__(self, split_x: np.ndarray, split_y: np.ndarray, tiles: int, chunk_size: int):\n",
        "#         self.split_x = split_x\n",
        "#         self.split_y = split_y\n",
        "#         self.tiles = tiles\n",
        "#         self.chunk_size = chunk_size\n",
        "#         self.num_chunks = int(np.ceil(tiles/chunk_size))\n",
        "#         self.current_chunk_index = 0\n",
        "#         self.jaccard_indices = []\n",
        "\n",
        "#     def __iter__(self):\n",
        "#         return self\n",
        "\n",
        "#     def __next__(self):\n",
        "#         if self.current_chunk_index >= self.num_chunks:\n",
        "#             raise StopIteration\n",
        "\n",
        "#         x_input_chunk, y_mask_chunk = self.copy_data_to_array()\n",
        "#         pred_physical = self.create_physical_mask(x_input_chunk)\n",
        "#         y_one_hot = to_categorical(y_mask_chunk, num_classes=3)\n",
        "#         print(f\"Y one hot No.{self.current_chunk_index} Done\")\n",
        "#         jaccard_index = self.jaccard_coef(pred_physical[:, :, :, 1], y_one_hot[:, :, :, 1])\n",
        "#         print(f\"Jaccard_index:{jaccard_index}\")\n",
        "#         print(f\"Jaccard_index No.{self.current_chunk_index} Done\")\n",
        "#         self.jaccard_indices.append(jaccard_index)\n",
        "#         print(f\"Chunk No.{self.current_chunk_index} Done\")\n",
        "#         self.current_chunk_index += 1\n",
        "#         return jaccard_index\n",
        "\n",
        "#     def copy_data_to_array(self) -> Tuple[np.ndarray, np.ndarray]:\n",
        "#       start_index = self.current_chunk_index * self.chunk_size\n",
        "#       end_index = start_index + self.chunk_size\n",
        "#       if end_index > self.tiles:\n",
        "#           end_index = self.tiles\n",
        "#       chunk_size = end_index - start_index\n",
        "#       print(\"chunk_size:\", chunk_size)\n",
        "#       x_input = np.zeros((chunk_size, 256, 256, 5), dtype=np.float32)\n",
        "#       np.copyto(x_input, self.split_x[start_index:end_index])\n",
        "#       y_mask = np.zeros((chunk_size, 256, 256), dtype=np.float32)\n",
        "#       np.copyto(y_mask, self.split_y[start_index:end_index])\n",
        "#       print(f\"Copy No.{self.current_chunk_index} Done\")\n",
        "#       return x_input, y_mask\n",
        "\n",
        "\n",
        "#     def label_pixels(self, img):\n",
        "#         mask1 = img == 0\n",
        "#         mask2 = (img == 255) | (img == 253)\n",
        "#         img[mask1] = 2\n",
        "#         img[mask2] = 0\n",
        "#         img[~(mask1 | mask2)] = 1\n",
        "#         return img\n",
        "\n",
        "#     def create_physical_mask(self, x_input: np.ndarray) -> np.ndarray:\n",
        "#       wq_channel = x_input[:, :, :, 4]\n",
        "#       labeled = self.label_pixels(wq_channel)\n",
        "#       print(f\"Create a Physical Mask No.{self.current_chunk_index} Done\")\n",
        "#       return to_categorical(labeled, num_classes=3)\n",
        "\n",
        "#     def jaccard_coef(self, y_true: np.ndarray, y_pred: np.ndarray) -> keras.backend.floatx():\n",
        "#         y_true_f = keras.backend.flatten(y_true)\n",
        "#         y_pred_f = keras.backend.flatten(y_pred)\n",
        "\n",
        "#         intersection = keras.backend.sum(y_true_f * y_pred_f)\n",
        "#         return (intersection + 1.0) / (\n",
        "#             keras.backend.sum(y_true_f)\n",
        "#             + keras.backend.sum(y_pred_f)\n",
        "#             - intersection\n",
        "#             + 1.0\n",
        "#         )  # todo reason for +1?\n",
        "\n",
        "#     def calculate_mean_jaccard_index(self) -> keras.backend.floatx():\n",
        "#         for jaccard_index in self:\n",
        "#             pass\n",
        "#         return np.mean(self.jaccard_indices)\n"
      ],
      "metadata": {
        "id": "bsJn1sxBuv9w"
      },
      "execution_count": 13,
      "outputs": []
    },
    {
      "cell_type": "code",
      "source": [
        "import numpy as np\n",
        "from typing import Tuple\n",
        "from keras.utils import to_categorical\n",
        "from tensorflow import keras\n",
        "from prepare_data.create_mask import create_physical_mask\n",
        "\n",
        "class JaccardIndexCalculator:\n",
        "\n",
        "    def __init__(self, split_x: np.memmap, split_y: np.memmap, tiles: int, num_classes: int =3, chunk_size: int=1000):\n",
        "        self.split_x = split_x\n",
        "        self.split_y = split_y\n",
        "        self.tiles = tiles\n",
        "        self.num_classes = num_classes\n",
        "        self.chunk_size = chunk_size\n",
        "        self.num_chunks = int(np.ceil(tiles/chunk_size))\n",
        "        self.current_chunk_index = 0\n",
        "        self.all_intersections = 0\n",
        "        self.all_unions = 0\n",
        "        self.each_intersection = np.zeros(num_classes)\n",
        "        self.each_union = np.zeros(num_classes)\n",
        "        self.each_jaccard_index = np.zeros(num_classes)\n",
        "\n",
        "    def __iter__(self):\n",
        "        return self\n",
        "\n",
        "    def __next__(self):\n",
        "        if self.current_chunk_index >= self.num_chunks:\n",
        "            raise StopIteration\n",
        "        print(f\"Chunk No.{self.current_chunk_index}\")\n",
        "        print(\"Step1: Copying memmap to array\")\n",
        "        x_input_chunk, y_mask_chunk = self.copy_data_to_array()\n",
        "        print(\"Step2: Creating Physical Mask\")\n",
        "        pred_physical = create_physical_mask(x_input_chunk)\n",
        "        print(\"Step3: Hot Encoding\")\n",
        "        y_one_hot = to_categorical(y_mask_chunk, num_classes=self.num_classes)\n",
        "        print(\"Step4: Calculate Intersection and Union\")\n",
        "        self.intersection_union(pred_physical, y_one_hot)\n",
        "    \n",
        "        \n",
        "        print(\"\\n\")\n",
        "        self.current_chunk_index += 1\n",
        "        \n",
        "\n",
        "    def copy_data_to_array(self) -> Tuple[np.ndarray, np.ndarray]:\n",
        "      start_index = self.current_chunk_index * self.chunk_size\n",
        "      end_index = start_index + self.chunk_size\n",
        "      if end_index > self.tiles:\n",
        "          end_index = self.tiles\n",
        "      chunk_size = end_index - start_index\n",
        "      print(\"chunk_size:\", chunk_size)\n",
        "      x_input = np.zeros((chunk_size, 256, 256, 5), dtype=np.float32)\n",
        "      np.copyto(x_input, self.split_x[start_index:end_index])\n",
        "      y_mask = np.zeros((chunk_size, 256, 256), dtype=np.float32)\n",
        "      np.copyto(y_mask, self.split_y[start_index:end_index])\n",
        "      return x_input, y_mask\n",
        "\n",
        "\n",
        "    def intersection_union(self, y_true:np.ndarray, y_pred:np.ndarray):\n",
        "        for i in range(self.num_classes):\n",
        "            y_true_f = keras.backend.flatten(y_true[:, :, :, i])\n",
        "            y_pred_f = keras.backend.flatten(y_pred[:, :, :, i])\n",
        "            intersection = keras.backend.sum(y_true_f * y_pred_f)\n",
        "            union = keras.backend.sum(y_true_f) + keras.backend.sum(y_pred_f) - intersection\n",
        "            self.each_intersection[i] += intersection\n",
        "            self.each_union[i] += union\n",
        "            self.all_intersections += intersection\n",
        "            self.all_unions += union\n",
        "        return\n",
        "    \n",
        "\n",
        "    def calculate_mean_jaccard_index(self):\n",
        "        for num_chunks in self:\n",
        "            pass\n",
        "        print(\"Summary \\n\")\n",
        "        print(\"total tiles: \", self.tiles)\n",
        "        print(\"chunk size: \", self.chunk_size)\n",
        "\n",
        "        for i in range(self.num_classes):\n",
        "            print(\"class: \", i)\n",
        "            print(\"each_intersection: \", self.each_intersection[i])\n",
        "            print(\"each_union: \", self.each_union[i])\n",
        "            self.each_jaccard_index[i] = (self.each_intersection[i]+1.0)/(self.each_union[i]+1.0)\n",
        "            print(\"each_jaccard_index: \", self.each_jaccard_index[i])\n",
        "        \n",
        "        print(\"total of intersections: \",self.all_intersections)\n",
        "        print(\"total of unions: \",self.all_unions)\n",
        "        all_mean_jaccard = (self.all_intersections+1.0)/(self.all_unions+1.0)\n",
        "        print(\"mean of Jaccard Index: \", all_mean_jaccard)\n",
        "        return {\n",
        "            \"all_mean_jaccard\": all_mean_jaccard,\n",
        "            \"each_jaccard_index\": self.each_jaccard_index\n",
        "        }\n"
      ],
      "metadata": {
        "id": "OE0yMJnhf3Pr"
      },
      "execution_count": 5,
      "outputs": []
    },
    {
      "cell_type": "code",
      "source": [
        "print(np.zeros(3))\n",
        "print(63380584)\n",
        "print(246746.0+246834.0+246851.0)"
      ],
      "metadata": {
        "id": "l7hwWIw3zPOh",
        "outputId": "f25c3b77-b348-4b44-924b-2580c8c6daa3",
        "colab": {
          "base_uri": "https://localhost:8080/"
        }
      },
      "execution_count": 39,
      "outputs": [
        {
          "output_type": "stream",
          "name": "stdout",
          "text": [
            "[0. 0. 0.]\n",
            "63380584\n",
            "740431.0\n"
          ]
        }
      ]
    },
    {
      "cell_type": "code",
      "source": [
        "array = np.array([[0,1,2],[0,1,2]])\n",
        "array.shape\n",
        "array[1][2]"
      ],
      "metadata": {
        "id": "YbX-8fWxfv9S",
        "outputId": "db3a507e-228e-4570-fbdc-dfd59c526e74",
        "colab": {
          "base_uri": "https://localhost:8080/"
        }
      },
      "execution_count": 30,
      "outputs": [
        {
          "output_type": "execute_result",
          "data": {
            "text/plain": [
              "2"
            ]
          },
          "metadata": {},
          "execution_count": 30
        }
      ]
    },
    {
      "cell_type": "code",
      "source": [
        "jaccard_index_calculator = JaccardIndexCalculator(train_split_x, train_split_y, train_tiles)\n",
        "mean_jaccard_index = jaccard_index_calculator.calculate_mean_jaccard_index()\n",
        "print(mean_jaccard_index)"
      ],
      "metadata": {
        "colab": {
          "base_uri": "https://localhost:8080/"
        },
        "id": "_a6V-5TczOPD",
        "outputId": "d33414ea-3ace-4782-9402-2eab59c0daeb"
      },
      "execution_count": 6,
      "outputs": [
        {
          "output_type": "stream",
          "name": "stdout",
          "text": [
            "Chunk No.0\n",
            "Step1: Copying memmap to array\n",
            "chunk_size: 1000\n",
            "Step2: Creating Physical Mask\n",
            "Step3: Hot Encoding\n",
            "Step4: Calculate Intersection and Union\n",
            "\n",
            "\n",
            "Chunk No.1\n",
            "Step1: Copying memmap to array\n",
            "chunk_size: 1000\n",
            "Step2: Creating Physical Mask\n",
            "Step3: Hot Encoding\n",
            "Step4: Calculate Intersection and Union\n",
            "\n",
            "\n",
            "Chunk No.2\n",
            "Step1: Copying memmap to array\n",
            "chunk_size: 1000\n",
            "Step2: Creating Physical Mask\n",
            "Step3: Hot Encoding\n",
            "Step4: Calculate Intersection and Union\n",
            "\n",
            "\n",
            "Chunk No.3\n",
            "Step1: Copying memmap to array\n",
            "chunk_size: 1000\n",
            "Step2: Creating Physical Mask\n",
            "Step3: Hot Encoding\n",
            "Step4: Calculate Intersection and Union\n",
            "\n",
            "\n",
            "Chunk No.4\n",
            "Step1: Copying memmap to array\n",
            "chunk_size: 1000\n",
            "Step2: Creating Physical Mask\n",
            "Step3: Hot Encoding\n",
            "Step4: Calculate Intersection and Union\n",
            "\n",
            "\n",
            "Chunk No.5\n",
            "Step1: Copying memmap to array\n",
            "chunk_size: 1000\n",
            "Step2: Creating Physical Mask\n",
            "Step3: Hot Encoding\n",
            "Step4: Calculate Intersection and Union\n",
            "\n",
            "\n",
            "Chunk No.6\n",
            "Step1: Copying memmap to array\n",
            "chunk_size: 661\n",
            "Step2: Creating Physical Mask\n",
            "Step3: Hot Encoding\n",
            "Step4: Calculate Intersection and Union\n",
            "\n",
            "\n",
            "Summary \n",
            "\n",
            "total tiles:  6661\n",
            "chunk size:  1000\n",
            "class:  0\n",
            "each_intersection:  76895256.0\n",
            "each_union:  133737640.0\n",
            "each_jaccard_index:  0.5749709388099645\n",
            "class:  1\n",
            "each_intersection:  125877824.0\n",
            "each_union:  144119936.0\n",
            "each_jaccard_index:  0.8734240912136951\n",
            "class:  2\n",
            "each_intersection:  176919248.0\n",
            "each_union:  215520688.0\n",
            "each_jaccard_index:  0.8208921835805749\n",
            "total of intersections:  tf.Tensor(379692300.0, shape=(), dtype=float32)\n",
            "total of unions:  tf.Tensor(493378300.0, shape=(), dtype=float32)\n",
            "mean of Jaccard Index:  tf.Tensor(0.7695764, shape=(), dtype=float32)\n",
            "{'all_mean_jaccard': <tf.Tensor: shape=(), dtype=float32, numpy=0.7695764>, 'each_jaccard_index': array([0.57497094, 0.87342409, 0.82089218])}\n"
          ]
        }
      ]
    },
    {
      "cell_type": "code",
      "source": [
        "x_input,y_mask = copy_data_to_arrays(train_split_x, train_split_y, train_tiles, chunk_size)"
      ],
      "metadata": {
        "colab": {
          "base_uri": "https://localhost:8080/"
        },
        "id": "rcWMXpsOZhRQ",
        "outputId": "deac982d-40f1-4655-f7af-dc5202976611"
      },
      "execution_count": null,
      "outputs": [
        {
          "output_type": "stream",
          "name": "stdout",
          "text": [
            "Copying data to arrays...\n",
            "x_input shape: (6661, 256, 256, 5)\n",
            "x_input min value: 0.0 x_input max value: 0.0\n",
            "Data copied to x_input...\n",
            "x_input shape: (6661, 256, 256, 5)\n",
            "x_input min value: 0.0 x_input max value: 255.0\n",
            "\n",
            "Initializing y_mask...\n",
            "y_mask shape: (6661, 256, 256)\n",
            "y_mask min value: 0.0 y_mask max value: 0.0\n",
            "Data copied to y_mask...\n",
            "y_mask shape: (6661, 256, 256)\n",
            "y_mask min value: 0.0 y_mask max value: 2.0\n"
          ]
        }
      ]
    },
    {
      "cell_type": "markdown",
      "source": [
        "### 3. Create Physical mask(training data)"
      ],
      "metadata": {
        "id": "Y7VAbt8JGxrC"
      }
    },
    {
      "cell_type": "code",
      "source": [
        "pred_physical = create_physical_mask(x_input, chunk_size)"
      ],
      "metadata": {
        "id": "T18KUZrdG5yg"
      },
      "execution_count": null,
      "outputs": []
    },
    {
      "cell_type": "markdown",
      "source": [
        "### 4. Encoding (training data)"
      ],
      "metadata": {
        "id": "wPTY4ywn2E-Q"
      }
    },
    {
      "cell_type": "code",
      "source": [
        "y_one_hot = to_categorical(y_mask, num_classes=3)"
      ],
      "metadata": {
        "id": "GVAOw_9f7Ce-"
      },
      "execution_count": null,
      "outputs": []
    },
    {
      "cell_type": "markdown",
      "source": [
        "### 5. Calculate Physics jaccard index(training data)"
      ],
      "metadata": {
        "id": "BpeMViO9HMJk"
      }
    },
    {
      "cell_type": "code",
      "source": [
        "jaccard = jaccard_coef(y_one_hot, pred_physical)\n",
        "print(jaccard)"
      ],
      "metadata": {
        "id": "3SYzasBpzBix",
        "outputId": "6568f3b6-5e20-4626-fe50-4151a5ffc1d8",
        "colab": {
          "base_uri": "https://localhost:8080/"
        }
      },
      "execution_count": null,
      "outputs": [
        {
          "output_type": "stream",
          "name": "stdout",
          "text": [
            "tf.Tensor(0.7695766, shape=(), dtype=float32)\n"
          ]
        }
      ]
    },
    {
      "cell_type": "code",
      "source": [
        "# save_pickle(jaccard, \"../data_colab/256_256\", \"train_physics_jaccard\")"
      ],
      "metadata": {
        "id": "myHGqVLxeYI-",
        "outputId": "7328beed-0ac6-48b8-d251-4ba99f5ac752",
        "colab": {
          "base_uri": "https://localhost:8080/"
        }
      },
      "execution_count": null,
      "outputs": [
        {
          "output_type": "stream",
          "name": "stdout",
          "text": [
            "Saving training_physics_jaccard.pkl to ../data_colab/256_256...\n",
            "Saved training_physics_jaccard.pkl to ../data_colab/256_256.\n"
          ]
        }
      ]
    },
    {
      "cell_type": "markdown",
      "source": [
        "# All dataset(Overlap: 56px)"
      ],
      "metadata": {
        "id": "8lfeE0LSKsd7"
      }
    },
    {
      "cell_type": "markdown",
      "source": [
        "### 6. Loading all data(256_200)"
      ],
      "metadata": {
        "id": "XCZo6tIQKT1_"
      }
    },
    {
      "cell_type": "code",
      "execution_count": null,
      "metadata": {
        "id": "Q_kSg60_3wkb"
      },
      "outputs": [],
      "source": [
        "data_path = \"../data_colab/256_200\"\n",
        "train_total_tiles = 11063\n",
        "val_total_tiles = 3545\n",
        "test_total_tiles = 3699\n",
        "\n",
        "train_split_x = np.memmap(os.path.join(data_path, \"train_split_x.npy\"), mode=\"r\", shape=(train_total_tiles, 256, 256, 5), dtype=np.uint8)\n",
        "train_split_y = np.memmap(os.path.join(data_path, \"train_split_y.npy\"), mode=\"r\", shape=(train_total_tiles, 256, 256), dtype=np.uint8)\n",
        "val_split_x = np.memmap(os.path.join(data_path, \"val_split_x.npy\"), mode=\"r\", shape=(val_total_tiles, 256, 256, 5), dtype=np.uint8)\n",
        "val_split_y = np.memmap(os.path.join(data_path, \"val_split_y.npy\"), mode=\"r\", shape=(val_total_tiles, 256, 256), dtype=np.uint8)\n",
        "test_split_x = np.memmap(os.path.join(data_path, \"test_split_x.npy\"), mode=\"r\", shape=(test_total_tiles, 256, 256, 5), dtype=np.uint8)\n",
        "test_split_y = np.memmap(os.path.join(data_path, \"test_split_y.npy\"), mode=\"r\", shape=(test_total_tiles, 256, 256), dtype=np.uint8)\n"
      ]
    },
    {
      "cell_type": "markdown",
      "source": [
        "### 7. Initializing all data(256_200)"
      ],
      "metadata": {
        "id": "893yBBZ-KnOv"
      }
    },
    {
      "cell_type": "code",
      "source": [
        "print(\"1: Training Dataset\")\n",
        "train_x_input, train_y_mask = copy_data_to_arrays(train_split_x, train_split_y, train_total_tiles, chunk_size)\n",
        "print(\"\\n2: Validation Dataset\")\n",
        "val_x_input, val_y_mask = copy_data_to_arrays(val_split_x, val_split_y, val_total_tiles, chunk_size)\n",
        "print(\"\\n3: Test Dataset\")\n",
        "test_x_input, test_y_mask = copy_data_to_arrays(test_split_x, test_split_y, test_total_tiles, chunk_size)"
      ],
      "metadata": {
        "id": "S70AsQMRKz3i",
        "outputId": "91ddf3ba-4b3e-46ea-96cb-93f551b74f7a",
        "colab": {
          "base_uri": "https://localhost:8080/"
        }
      },
      "execution_count": null,
      "outputs": [
        {
          "output_type": "stream",
          "name": "stdout",
          "text": [
            "1: Training Dataset\n",
            "Copying data to arrays...\n",
            "x_input shape: (11063, 256, 256, 5)\n",
            "x_input min value: 0.0 x_input max value: 0.0\n",
            "Data copied to x_input...\n",
            "x_input shape: (11063, 256, 256, 5)\n",
            "x_input min value: 0.0 x_input max value: 255.0\n",
            "\n",
            "Initializing y_mask...\n",
            "y_mask shape: (11063, 256, 256)\n",
            "y_mask min value: 0.0 y_mask max value: 0.0\n",
            "Data copied to y_mask...\n",
            "y_mask shape: (11063, 256, 256)\n",
            "y_mask min value: 0.0 y_mask max value: 2.0\n",
            "\n",
            "2: Validation Dataset\n",
            "Copying data to arrays...\n",
            "x_input shape: (3545, 256, 256, 5)\n",
            "x_input min value: 0.0 x_input max value: 0.0\n",
            "Data copied to x_input...\n",
            "x_input shape: (3545, 256, 256, 5)\n",
            "x_input min value: 0.0 x_input max value: 255.0\n",
            "\n",
            "Initializing y_mask...\n",
            "y_mask shape: (3545, 256, 256)\n",
            "y_mask min value: 0.0 y_mask max value: 0.0\n",
            "Data copied to y_mask...\n",
            "y_mask shape: (3545, 256, 256)\n",
            "y_mask min value: 0.0 y_mask max value: 2.0\n",
            "\n",
            "3: Test Dataset\n",
            "Copying data to arrays...\n",
            "x_input shape: (3699, 256, 256, 5)\n",
            "x_input min value: 0.0 x_input max value: 0.0\n",
            "Data copied to x_input...\n",
            "x_input shape: (3699, 256, 256, 5)\n",
            "x_input min value: 0.0 x_input max value: 255.0\n",
            "\n",
            "Initializing y_mask...\n",
            "y_mask shape: (3699, 256, 256)\n",
            "y_mask min value: 0.0 y_mask max value: 0.0\n",
            "Data copied to y_mask...\n",
            "y_mask shape: (3699, 256, 256)\n",
            "y_mask min value: 0.0 y_mask max value: 2.0\n"
          ]
        }
      ]
    },
    {
      "cell_type": "markdown",
      "source": [
        "### 8. Create all Physical masks (256_200)"
      ],
      "metadata": {
        "id": "kjug29RYMlHt"
      }
    },
    {
      "cell_type": "code",
      "source": [
        "train_pred_physical = create_physical_mask(train_x_input, chunk_size)\n",
        "val_pred_physical = create_physical_mask(val_x_input, chunk_size)\n",
        "test_pred_physical = create_physical_mask(test_x_input, chunk_size)"
      ],
      "metadata": {
        "id": "-agGgwjoL8U6"
      },
      "execution_count": null,
      "outputs": []
    },
    {
      "cell_type": "markdown",
      "source": [
        "### 9. Encoding all data (256_200)"
      ],
      "metadata": {
        "id": "EHiYi0-jNlY4"
      }
    },
    {
      "cell_type": "code",
      "source": [
        "train_y_one_hot = to_categorical(train_y_mask, num_classes=3)\n",
        "val_y_one_hot = to_categorical(val_y_mask, num_classes=3)\n",
        "test_y_one_hot = to_categorical(test_y_mask, num_classes=3)"
      ],
      "metadata": {
        "id": "w3wvj1h2NSVH"
      },
      "execution_count": null,
      "outputs": []
    },
    {
      "cell_type": "markdown",
      "source": [
        "### 10. Calculate all Physics jaccard index (256_200)"
      ],
      "metadata": {
        "id": "H3XJNkL9OdyD"
      }
    },
    {
      "cell_type": "code",
      "source": [
        "train_jaccard = jaccard_coef(train_y_one_hot, train_pred_physical)\n",
        "val_jaccard = jaccard_coef(val_y_one_hot, val_pred_physical)\n",
        "test_jaccard = jaccard_coef(test_y_one_hot, test_pred_physical)"
      ],
      "metadata": {
        "id": "GX2vK5X8Onoe",
        "outputId": "8cd179e0-dbf0-4b9e-c0ef-cae5feaace43",
        "colab": {
          "base_uri": "https://localhost:8080/",
          "height": 398
        }
      },
      "execution_count": null,
      "outputs": [
        {
          "output_type": "error",
          "ename": "ResourceExhaustedError",
          "evalue": "ignored",
          "traceback": [
            "\u001b[0;31m---------------------------------------------------------------------------\u001b[0m",
            "\u001b[0;31mResourceExhaustedError\u001b[0m                    Traceback (most recent call last)",
            "\u001b[0;32m<ipython-input-16-77e6e88e6874>\u001b[0m in \u001b[0;36m<cell line: 1>\u001b[0;34m()\u001b[0m\n\u001b[0;32m----> 1\u001b[0;31m \u001b[0mtrain_jaccard\u001b[0m \u001b[0;34m=\u001b[0m \u001b[0mjaccard_coef\u001b[0m\u001b[0;34m(\u001b[0m\u001b[0mtrain_y_one_hot\u001b[0m\u001b[0;34m,\u001b[0m \u001b[0mtrain_pred_physical\u001b[0m\u001b[0;34m)\u001b[0m\u001b[0;34m\u001b[0m\u001b[0;34m\u001b[0m\u001b[0m\n\u001b[0m\u001b[1;32m      2\u001b[0m \u001b[0;31m# val_jaccard = jaccard_coef(val_y_one_hot, val_pred_physical)\u001b[0m\u001b[0;34m\u001b[0m\u001b[0;34m\u001b[0m\u001b[0m\n\u001b[1;32m      3\u001b[0m \u001b[0;31m# test_jaccard = jaccard_coef(test_y_one_hot, test_pred_physical)\u001b[0m\u001b[0;34m\u001b[0m\u001b[0;34m\u001b[0m\u001b[0m\n",
            "\u001b[0;32m/content/drive/.shortcut-targets-by-id/15HUD3sGdfvxy5Y_bjvuXgrzwxt7TzRfm/MachineLearning/Geospatial_ML/models/helpers.py\u001b[0m in \u001b[0;36mjaccard_coef\u001b[0;34m(y_true, y_pred)\u001b[0m\n\u001b[1;32m    135\u001b[0m \u001b[0;34m\u001b[0m\u001b[0m\n\u001b[1;32m    136\u001b[0m     \u001b[0;32mwith\u001b[0m \u001b[0mtf\u001b[0m\u001b[0;34m.\u001b[0m\u001b[0mdevice\u001b[0m\u001b[0;34m(\u001b[0m\u001b[0;34m\"/gpu:0\"\u001b[0m\u001b[0;34m)\u001b[0m\u001b[0;34m:\u001b[0m\u001b[0;34m\u001b[0m\u001b[0;34m\u001b[0m\u001b[0m\n\u001b[0;32m--> 137\u001b[0;31m         \u001b[0mintersection\u001b[0m \u001b[0;34m=\u001b[0m \u001b[0mkeras\u001b[0m\u001b[0;34m.\u001b[0m\u001b[0mbackend\u001b[0m\u001b[0;34m.\u001b[0m\u001b[0msum\u001b[0m\u001b[0;34m(\u001b[0m\u001b[0my_true_f\u001b[0m \u001b[0;34m*\u001b[0m \u001b[0my_pred_f\u001b[0m\u001b[0;34m)\u001b[0m\u001b[0;34m\u001b[0m\u001b[0;34m\u001b[0m\u001b[0m\n\u001b[0m\u001b[1;32m    138\u001b[0m \u001b[0;34m\u001b[0m\u001b[0m\n\u001b[1;32m    139\u001b[0m     \u001b[0;32mwith\u001b[0m \u001b[0mtf\u001b[0m\u001b[0;34m.\u001b[0m\u001b[0mdevice\u001b[0m\u001b[0;34m(\u001b[0m\u001b[0;34m\"/cpu:0\"\u001b[0m\u001b[0;34m)\u001b[0m\u001b[0;34m:\u001b[0m\u001b[0;34m\u001b[0m\u001b[0;34m\u001b[0m\u001b[0m\n",
            "\u001b[0;32m/usr/local/lib/python3.9/dist-packages/tensorflow/python/util/traceback_utils.py\u001b[0m in \u001b[0;36merror_handler\u001b[0;34m(*args, **kwargs)\u001b[0m\n\u001b[1;32m    151\u001b[0m     \u001b[0;32mexcept\u001b[0m \u001b[0mException\u001b[0m \u001b[0;32mas\u001b[0m \u001b[0me\u001b[0m\u001b[0;34m:\u001b[0m\u001b[0;34m\u001b[0m\u001b[0;34m\u001b[0m\u001b[0m\n\u001b[1;32m    152\u001b[0m       \u001b[0mfiltered_tb\u001b[0m \u001b[0;34m=\u001b[0m \u001b[0m_process_traceback_frames\u001b[0m\u001b[0;34m(\u001b[0m\u001b[0me\u001b[0m\u001b[0;34m.\u001b[0m\u001b[0m__traceback__\u001b[0m\u001b[0;34m)\u001b[0m\u001b[0;34m\u001b[0m\u001b[0;34m\u001b[0m\u001b[0m\n\u001b[0;32m--> 153\u001b[0;31m       \u001b[0;32mraise\u001b[0m \u001b[0me\u001b[0m\u001b[0;34m.\u001b[0m\u001b[0mwith_traceback\u001b[0m\u001b[0;34m(\u001b[0m\u001b[0mfiltered_tb\u001b[0m\u001b[0;34m)\u001b[0m \u001b[0;32mfrom\u001b[0m \u001b[0;32mNone\u001b[0m\u001b[0;34m\u001b[0m\u001b[0;34m\u001b[0m\u001b[0m\n\u001b[0m\u001b[1;32m    154\u001b[0m     \u001b[0;32mfinally\u001b[0m\u001b[0;34m:\u001b[0m\u001b[0;34m\u001b[0m\u001b[0;34m\u001b[0m\u001b[0m\n\u001b[1;32m    155\u001b[0m       \u001b[0;32mdel\u001b[0m \u001b[0mfiltered_tb\u001b[0m\u001b[0;34m\u001b[0m\u001b[0;34m\u001b[0m\u001b[0m\n",
            "\u001b[0;32m/usr/local/lib/python3.9/dist-packages/tensorflow/python/framework/ops.py\u001b[0m in \u001b[0;36mraise_from_not_ok_status\u001b[0;34m(e, name)\u001b[0m\n\u001b[1;32m   7260\u001b[0m \u001b[0;32mdef\u001b[0m \u001b[0mraise_from_not_ok_status\u001b[0m\u001b[0;34m(\u001b[0m\u001b[0me\u001b[0m\u001b[0;34m,\u001b[0m \u001b[0mname\u001b[0m\u001b[0;34m)\u001b[0m\u001b[0;34m:\u001b[0m\u001b[0;34m\u001b[0m\u001b[0;34m\u001b[0m\u001b[0m\n\u001b[1;32m   7261\u001b[0m   \u001b[0me\u001b[0m\u001b[0;34m.\u001b[0m\u001b[0mmessage\u001b[0m \u001b[0;34m+=\u001b[0m \u001b[0;34m(\u001b[0m\u001b[0;34m\" name: \"\u001b[0m \u001b[0;34m+\u001b[0m \u001b[0mname\u001b[0m \u001b[0;32mif\u001b[0m \u001b[0mname\u001b[0m \u001b[0;32mis\u001b[0m \u001b[0;32mnot\u001b[0m \u001b[0;32mNone\u001b[0m \u001b[0;32melse\u001b[0m \u001b[0;34m\"\"\u001b[0m\u001b[0;34m)\u001b[0m\u001b[0;34m\u001b[0m\u001b[0;34m\u001b[0m\u001b[0m\n\u001b[0;32m-> 7262\u001b[0;31m   \u001b[0;32mraise\u001b[0m \u001b[0mcore\u001b[0m\u001b[0;34m.\u001b[0m\u001b[0m_status_to_exception\u001b[0m\u001b[0;34m(\u001b[0m\u001b[0me\u001b[0m\u001b[0;34m)\u001b[0m \u001b[0;32mfrom\u001b[0m \u001b[0;32mNone\u001b[0m  \u001b[0;31m# pylint: disable=protected-access\u001b[0m\u001b[0;34m\u001b[0m\u001b[0;34m\u001b[0m\u001b[0m\n\u001b[0m\u001b[1;32m   7263\u001b[0m \u001b[0;34m\u001b[0m\u001b[0m\n\u001b[1;32m   7264\u001b[0m \u001b[0;34m\u001b[0m\u001b[0m\n",
            "\u001b[0;31mResourceExhaustedError\u001b[0m: {{function_node __wrapped__Mul_device_/job:localhost/replica:0/task:0/device:GPU:0}} failed to allocate memory [Op:Mul]"
          ]
        }
      ]
    },
    {
      "cell_type": "code",
      "source": [
        "print(\"1.Traing dataset\")\n",
        "print(train_jaccard)\n",
        "print(\"\\n2.Validation dataset\")\n",
        "print(val_jaccard)\n",
        "print(\"\\n3.Test dataset\")\n",
        "print(test_jaccard)"
      ],
      "metadata": {
        "id": "7mbb_AD70xEz"
      },
      "execution_count": null,
      "outputs": []
    },
    {
      "cell_type": "code",
      "source": [
        "save_pickle(train_jaccard, \"../data_colab/256_200\", \"train_physics_jaccard\")\n",
        "save_pickle(val_jaccard, \"../data_colab/256_200\", \"val_physics_jaccard\")\n",
        "save_pickle(test_jaccard, \"../data_colab/256_200\", \"test_physics_jaccard\")"
      ],
      "metadata": {
        "id": "mfuMcBf1hw75"
      },
      "execution_count": null,
      "outputs": []
    },
    {
      "cell_type": "markdown",
      "source": [
        "# All dataset(No overlap)"
      ],
      "metadata": {
        "id": "5nCPoZIZL9JY"
      }
    },
    {
      "cell_type": "markdown",
      "source": [
        "### 11. Loading all data(256_256)"
      ],
      "metadata": {
        "id": "SvjKbwE8MFbt"
      }
    },
    {
      "cell_type": "code",
      "source": [
        "data_path = \"../data_colab/256_256\"\n",
        "train_total_tiles = 11063\n",
        "val_total_tiles = 3545\n",
        "test_total_tiles = 3699\n",
        "\n",
        "train_split_x = np.memmap(os.path.join(data_path, \"train_split_x.npy\"), mode=\"r\", shape=(train_total_tiles, 256, 256, 5), dtype=np.uint8)\n",
        "train_split_y = np.memmap(os.path.join(data_path, \"train_split_y.npy\"), mode=\"r\", shape=(train_total_tiles, 256, 256), dtype=np.uint8)\n",
        "val_split_x = np.memmap(os.path.join(data_path, \"val_split_x.npy\"), mode=\"r\", shape=(val_total_tiles, 256, 256, 5), dtype=np.uint8)\n",
        "val_split_y = np.memmap(os.path.join(data_path, \"val_split_y.npy\"), mode=\"r\", shape=(val_total_tiles, 256, 256), dtype=np.uint8)\n",
        "test_split_x = np.memmap(os.path.join(data_path, \"test_split_x.npy\"), mode=\"r\", shape=(test_total_tiles, 256, 256, 5), dtype=np.uint8)\n",
        "test_split_y = np.memmap(os.path.join(data_path, \"test_split_y.npy\"), mode=\"r\", shape=(test_total_tiles, 256, 256), dtype=np.uint8)"
      ],
      "metadata": {
        "id": "MsLG7cK4L3eV"
      },
      "execution_count": null,
      "outputs": []
    },
    {
      "cell_type": "markdown",
      "source": [
        "### 12. Initializing all data(256_256)"
      ],
      "metadata": {
        "id": "_A4ijc2aMRI7"
      }
    },
    {
      "cell_type": "code",
      "source": [
        "print(\"1: Training Dataset\")\n",
        "train_x_input, train_y_mask = initialize_saved_data(train_split_x, train_split_y, train_total_tiles)\n",
        "print(\"\\n2: Validation Dataset\")\n",
        "val_x_input, val_y_mask = initialize_saved_data(val_split_x, val_split_y, val_total_tiles)\n",
        "print(\"\\n3: Test Dataset\")\n",
        "test_x_input, test_y_mask = initialize_saved_data(test_split_x, test_split_y, test_total_tiles)"
      ],
      "metadata": {
        "id": "_099y_IoMQXX"
      },
      "execution_count": null,
      "outputs": []
    },
    {
      "cell_type": "markdown",
      "source": [
        "### 13. Create all Physical masks (256_256)"
      ],
      "metadata": {
        "id": "vXW1Ym9NMmjb"
      }
    },
    {
      "cell_type": "code",
      "source": [
        "train_pred_physical = create_physical_mask(train_x_input)\n",
        "val_pred_physical = create_physical_mask(val_x_input)\n",
        "test_pred_physical = create_physical_mask(test_x_input)"
      ],
      "metadata": {
        "id": "ZQWhmOA2Miec"
      },
      "execution_count": null,
      "outputs": []
    },
    {
      "cell_type": "markdown",
      "source": [
        "### 14. Encoding all data (256_256)"
      ],
      "metadata": {
        "id": "1auJ70VMMtZQ"
      }
    },
    {
      "cell_type": "code",
      "source": [
        "train_y_one_hot = to_categorical(train_y_mask, num_classes=3)\n",
        "val_y_one_hot = to_categorical(val_y_mask, num_classes=3)\n",
        "test_y_one_hot = to_categorical(test_y_mask, num_classes=3)"
      ],
      "metadata": {
        "id": "2GJwFABZMxhv"
      },
      "execution_count": null,
      "outputs": []
    },
    {
      "cell_type": "markdown",
      "source": [
        "### 15. Calculate all Physics jaccard index (256_256)"
      ],
      "metadata": {
        "id": "MjTmSg9nM0Fr"
      }
    },
    {
      "cell_type": "code",
      "source": [
        "train_jaccard = jaccard_coef(train_y_one_hot, train_pred_physical)\n",
        "val_jaccard = jaccard_coef(val_y_one_hot, val_pred_physical)\n",
        "test_jaccard = jaccard_coef(test_y_one_hot, test_pred_physical)\n",
        "\n",
        "print(\"1.Traing dataset\")\n",
        "print(train_jaccard)\n",
        "print(\"\\n2.Validation dataset\")\n",
        "print(val_jaccard)\n",
        "print(\"\\n3.Test dataset\")\n",
        "print(test_jaccard)"
      ],
      "metadata": {
        "id": "Huf-tcB6M5vQ"
      },
      "execution_count": null,
      "outputs": []
    }
  ],
  "metadata": {
    "colab": {
      "machine_shape": "hm",
      "provenance": [],
      "include_colab_link": true
    },
    "gpuClass": "premium",
    "kernelspec": {
      "display_name": "Python 3",
      "name": "python3"
    },
    "language_info": {
      "name": "python"
    }
  },
  "nbformat": 4,
  "nbformat_minor": 0
}