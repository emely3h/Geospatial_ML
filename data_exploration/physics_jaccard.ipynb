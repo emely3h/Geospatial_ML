{
  "cells": [
    {
      "cell_type": "markdown",
      "metadata": {
        "id": "view-in-github",
        "colab_type": "text"
      },
      "source": [
        "<a href=\"https://colab.research.google.com/github/emely3h/Geospatial_ML/blob/feature%2Fphysics-jaccard-index/data_exploration/physics_jaccard.ipynb\" target=\"_parent\"><img src=\"https://colab.research.google.com/assets/colab-badge.svg\" alt=\"Open In Colab\"/></a>"
      ]
    },
    {
      "cell_type": "markdown",
      "metadata": {
        "id": "-e4xrTqJ2hgi"
      },
      "source": [
        "# Physics Jaccard Index\n",
        "\n",
        "Calculate the physics jaccard index which will be the main success metric."
      ]
    },
    {
      "cell_type": "markdown",
      "metadata": {
        "id": "rmJ9EH8ELvuD"
      },
      "source": [
        "### 0. Get Stats for each image"
      ]
    },
    {
      "cell_type": "code",
      "execution_count": 3,
      "metadata": {
        "colab": {
          "base_uri": "https://localhost:8080/"
        },
        "id": "osm1lHOLb-Is",
        "outputId": "c080c649-90cc-43c9-cb38-74212f669299"
      },
      "outputs": [
        {
          "output_type": "stream",
          "name": "stdout",
          "text": [
            "Mounted at /content/drive\n"
          ]
        }
      ],
      "source": [
        "from google.colab import drive\n",
        "drive.mount('/content/drive')"
      ]
    },
    {
      "cell_type": "code",
      "execution_count": 4,
      "metadata": {
        "colab": {
          "base_uri": "https://localhost:8080/"
        },
        "id": "HV1KZvqMb_6S",
        "outputId": "9946ae93-aa46-4bd9-d90a-837b1067fa41"
      },
      "outputs": [
        {
          "output_type": "stream",
          "name": "stdout",
          "text": [
            "drive  sample_data\n",
            "/content/drive/.shortcut-targets-by-id/15HUD3sGdfvxy5Y_bjvuXgrzwxt7TzRfm/MachineLearning/Geospatial_ML\n",
            "architecture.drawio  experiment_1_2.ipynb  prepare_data\n",
            "data_exploration     experiments\t   README.md\n",
            "evaluation\t     models\t\t   requirements.txt\n"
          ]
        }
      ],
      "source": [
        "! ls\n",
        "%cd drive/MyDrive/MachineLearning/Geospatial_ML\n",
        "! ls"
      ]
    },
    {
      "cell_type": "code",
      "source": [
        "! git checkout feature/physics-jaccard-index\n",
        "! git pull"
      ],
      "metadata": {
        "colab": {
          "base_uri": "https://localhost:8080/"
        },
        "id": "MjxcFOTTGABS",
        "outputId": "b74024ba-0b37-46e5-ca06-9ebde7042f02"
      },
      "execution_count": 13,
      "outputs": [
        {
          "output_type": "stream",
          "name": "stdout",
          "text": [
            "Already on 'feature/physics-jaccard-index'\n",
            "Your branch is up to date with 'origin/feature/physics-jaccard-index'.\n",
            "remote: Enumerating objects: 4, done.\u001b[K\n",
            "remote: Counting objects: 100% (4/4), done.\u001b[K\n",
            "remote: Compressing objects: 100% (2/2), done.\u001b[K\n",
            "remote: Total 4 (delta 2), reused 4 (delta 2), pack-reused 0\u001b[K\n",
            "Unpacking objects: 100% (4/4), 537 bytes | 9.00 KiB/s, done.\n",
            "From https://github.com/emely3h/Geospatial_ML\n",
            "   e6592a9..3ca7d9c  feature/physics-jaccard-index -> origin/feature/physics-jaccard-index\n",
            "Updating e6592a9..3ca7d9c\n",
            "Fast-forward\n",
            " models/helpers.py | 42 \u001b[32m+++++++++++++++++++++\u001b[m\u001b[31m---------------------\u001b[m\n",
            " 1 file changed, 21 insertions(+), 21 deletions(-)\n"
          ]
        }
      ]
    },
    {
      "cell_type": "code",
      "execution_count": 14,
      "metadata": {
        "id": "0FB7ZXQkcKB_"
      },
      "outputs": [],
      "source": [
        "import numpy as np\n",
        "import os\n",
        "import matplotlib.pyplot as plt\n",
        "import pandas as pd\n",
        "import pickle\n",
        "from data_exploration.mask_stats import Mask_Stats\n",
        "from prepare_data.create_mask import create_physical_mask\n",
        "from tensorflow.keras.utils import to_categorical\n",
        "from tensorflow import keras\n",
        "from models.unet_model import unet_2d\n",
        "from models.helpers import initialize_saved_data, jaccard_coef"
      ]
    },
    {
      "cell_type": "markdown",
      "source": [
        "### 1. Loading + Preparing Training Data"
      ],
      "metadata": {
        "id": "AKIdGdJYFwoN"
      }
    },
    {
      "cell_type": "code",
      "execution_count": 21,
      "metadata": {
        "colab": {
          "base_uri": "https://localhost:8080/"
        },
        "id": "LmsVPFBA3Zgp",
        "outputId": "47111402-6615-4141-d4d3-47822702ca40"
      },
      "outputs": [
        {
          "output_type": "stream",
          "name": "stdout",
          "text": [
            "Shape: (6661, 256, 256)\n",
            "Land pixels: 176919986  40.528 %\n",
            "Valid pixels: 125877821  28.836 %\n",
            "Invalid pixels: 133737489  30.636 %\n",
            "Sum: 6661\n"
          ]
        }
      ],
      "source": [
        "total_tiles = 11121\n",
        "train_tiles = total_tiles // 100 * 60 +1\n",
        "test_val_tiles = total_tiles // 100 * 20 +1\n",
        "data_path = \"../data_colab/256_256\"\n",
        "\n",
        "train_split_x = np.memmap(os.path.join(data_path, \"train_split_x.npy\"), mode=\"r\", shape=(train_tiles, 256, 256, 5), dtype=np.float32)\n",
        "train_split_y = np.memmap(os.path.join(data_path, \"train_split_y.npy\"), mode=\"r\", shape=(train_tiles, 256, 256), dtype=np.float32)\n",
        "\n",
        "train_stats = Mask_Stats(train_split_y)\n",
        "train_stats.print_stats()\n"
      ]
    },
    {
      "cell_type": "markdown",
      "source": [
        "### 2. Initializing training data"
      ],
      "metadata": {
        "id": "zQWsh1CIlFWI"
      }
    },
    {
      "cell_type": "code",
      "source": [
        "x_input,y_mask = initialize_saved_data(train_split_x, train_split_y, train_tiles)"
      ],
      "metadata": {
        "colab": {
          "base_uri": "https://localhost:8080/"
        },
        "id": "rcWMXpsOZhRQ",
        "outputId": "e984c3d1-f0e1-4e4f-a23a-7138220dbeac"
      },
      "execution_count": 22,
      "outputs": [
        {
          "output_type": "stream",
          "name": "stdout",
          "text": [
            "Initializing saved data...\n",
            "x_input shape: (6661, 256, 256, 5)\n",
            "x_min: 0.0 x_max: 0.0\n",
            "\n",
            "Copying saved data to x_input...\n",
            "x_input shape: (6661, 256, 256, 5)\n",
            "x_min: 0.0 x_max: 255.0\n",
            "\n",
            "Initializing y_mask...\n",
            "y_mask shape: (6661, 256, 256)\n",
            "y_min: 0.0 y_max: 0.0\n",
            "\n",
            "Copying saved data to y_mask...\n",
            "y_mask shape: (6661, 256, 256)\n",
            "y_min: 0.0 y_max: 2.0\n"
          ]
        }
      ]
    },
    {
      "cell_type": "markdown",
      "source": [
        "### 3. Create Physical mask(training data)"
      ],
      "metadata": {
        "id": "Y7VAbt8JGxrC"
      }
    },
    {
      "cell_type": "code",
      "source": [
        "pred_physical = create_physical_mask(x_input)"
      ],
      "metadata": {
        "id": "T18KUZrdG5yg"
      },
      "execution_count": 23,
      "outputs": []
    },
    {
      "cell_type": "markdown",
      "source": [
        "### 4. Encoding (training data)"
      ],
      "metadata": {
        "id": "wPTY4ywn2E-Q"
      }
    },
    {
      "cell_type": "code",
      "source": [
        "y_one_hot = to_categorical(y_mask, num_classes=3)"
      ],
      "metadata": {
        "id": "HxLUxEupIf0v"
      },
      "execution_count": 24,
      "outputs": []
    },
    {
      "cell_type": "markdown",
      "source": [
        "### 5. Calculate Physics jaccard index(training data)"
      ],
      "metadata": {
        "id": "BpeMViO9HMJk"
      }
    },
    {
      "cell_type": "code",
      "source": [
        "jaccard = jaccard_coef(y_one_hot, pred_physical)\n",
        "print(jaccard)"
      ],
      "metadata": {
        "id": "LQcCG9owHX43",
        "outputId": "43d19861-1dd8-445c-d4f6-2cb3a8f877d0",
        "colab": {
          "base_uri": "https://localhost:8080/"
        }
      },
      "execution_count": 25,
      "outputs": [
        {
          "output_type": "stream",
          "name": "stdout",
          "text": [
            "tf.Tensor(0.7695766, shape=(), dtype=float32)\n"
          ]
        }
      ]
    },
    {
      "cell_type": "code",
      "execution_count": null,
      "metadata": {
        "id": "UClQ7pjV_3xe"
      },
      "outputs": [],
      "source": [
        "# todo: over entire dataset, not only training and both for non-overlapping and overlapping => should be equal"
      ]
    },
    {
      "cell_type": "code",
      "execution_count": null,
      "metadata": {
        "id": "Q_kSg60_3wkb"
      },
      "outputs": [],
      "source": [
        "\n",
        "\n",
        "data_path = \"../data_colab/256_200\"\n",
        "train_total_tiles = 11063\n",
        "val_total_tiles = 3545\n",
        "test_total_tiles = 3699\n",
        "\n",
        "train_split_x = np.memmap(os.path.join(data_path, \"train_split_x.npy\"), mode=\"r\", shape=(train_total_tiles, 256, 256, 5), dtype=np.uint8)\n",
        "train_split_y = np.memmap(os.path.join(data_path, \"train_split_y.npy\"), mode=\"r\", shape=(train_total_tiles, 256, 256), dtype=np.uint8)\n",
        "val_split_x = np.memmap(os.path.join(data_path, \"val_split_x.npy\"), mode=\"r\", shape=(val_total_tiles, 256, 256, 5), dtype=np.uint8)\n",
        "val_split_y = np.memmap(os.path.join(data_path, \"val_split_y.npy\"), mode=\"r\", shape=(val_total_tiles, 256, 256), dtype=np.uint8)\n",
        "test_split_x = np.memmap(os.path.join(data_path, \"test_split_x.npy\"), mode=\"r\", shape=(test_total_tiles, 256, 256, 5), dtype=np.uint8)\n",
        "test_split_y = np.memmap(os.path.join(data_path, \"test_split_y.npy\"), mode=\"r\", shape=(test_total_tiles, 256, 256), dtype=np.uint8)\n"
      ]
    }
  ],
  "metadata": {
    "colab": {
      "machine_shape": "hm",
      "provenance": [],
      "include_colab_link": true
    },
    "gpuClass": "standard",
    "kernelspec": {
      "display_name": "Python 3",
      "name": "python3"
    },
    "language_info": {
      "name": "python"
    }
  },
  "nbformat": 4,
  "nbformat_minor": 0
}