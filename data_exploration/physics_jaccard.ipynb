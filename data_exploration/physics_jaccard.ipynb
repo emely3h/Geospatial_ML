{
  "cells": [
    {
      "cell_type": "markdown",
      "metadata": {
        "id": "view-in-github",
        "colab_type": "text"
      },
      "source": [
        "<a href=\"https://colab.research.google.com/github/emely3h/Geospatial_ML/blob/fix%2Fmetrics/data_exploration/physics_jaccard.ipynb\" target=\"_parent\"><img src=\"https://colab.research.google.com/assets/colab-badge.svg\" alt=\"Open In Colab\"/></a>"
      ]
    },
    {
      "cell_type": "markdown",
      "metadata": {
        "id": "-e4xrTqJ2hgi"
      },
      "source": [
        "# Physics Jaccard Index\n",
        "\n",
        "Calculate the physics jaccard index which will be the main success metric."
      ]
    },
    {
      "cell_type": "markdown",
      "metadata": {
        "id": "rmJ9EH8ELvuD"
      },
      "source": [
        "### 0. Prepare Colab"
      ]
    },
    {
      "cell_type": "code",
      "execution_count": 1,
      "metadata": {
        "colab": {
          "base_uri": "https://localhost:8080/"
        },
        "id": "osm1lHOLb-Is",
        "outputId": "9a6c2d11-f19b-48a3-b1b9-46ae8177af00"
      },
      "outputs": [
        {
          "output_type": "stream",
          "name": "stdout",
          "text": [
            "Mounted at /content/drive\n"
          ]
        }
      ],
      "source": [
        "from google.colab import drive\n",
        "drive.mount('/content/drive')"
      ]
    },
    {
      "cell_type": "code",
      "execution_count": 2,
      "metadata": {
        "colab": {
          "base_uri": "https://localhost:8080/"
        },
        "id": "HV1KZvqMb_6S",
        "outputId": "49f0ddb1-b89b-4d96-ed3e-53ae915f644a"
      },
      "outputs": [
        {
          "output_type": "stream",
          "name": "stdout",
          "text": [
            "drive  sample_data\n",
            "/content/drive/.shortcut-targets-by-id/15HUD3sGdfvxy5Y_bjvuXgrzwxt7TzRfm/MachineLearning/Geospatial_ML\n",
            "remote: Enumerating objects: 6, done.\u001b[K\n",
            "remote: Counting objects: 100% (6/6), done.\u001b[K\n",
            "remote: Compressing objects: 100% (2/2), done.\u001b[K\n",
            "remote: Total 6 (delta 4), reused 6 (delta 4), pack-reused 0\u001b[K\n",
            "Unpacking objects: 100% (6/6), 790 bytes | 0 bytes/s, done.\n",
            "From https://github.com/emely3h/Geospatial_ML\n",
            "   06b95d5..1288c45  fix/metrics -> origin/fix/metrics\n",
            "Updating 06b95d5..1288c45\n",
            "Fast-forward\n",
            " evaluation/helpers.py | 22 \u001b[32m++++++++++\u001b[m\u001b[31m------------\u001b[m\n",
            " 1 file changed, 10 insertions(+), 12 deletions(-)\n",
            "Already on 'fix/metrics'\n",
            "Your branch is up to date with 'origin/fix/metrics'.\n",
            "data_exploration  evaluation   models\t    prepare_data    README.md\n",
            "docs\t\t  experiments  poetry.lock  pyproject.toml  requirements.txt\n"
          ]
        }
      ],
      "source": [
        "! ls\n",
        "%cd drive/MyDrive/MachineLearning/Geospatial_ML\n",
        "! git pull\n",
        "! git checkout fix/metrics\n",
        "! ls"
      ]
    },
    {
      "cell_type": "code",
      "execution_count": 3,
      "metadata": {
        "id": "0FB7ZXQkcKB_"
      },
      "outputs": [],
      "source": [
        "import numpy as np\n",
        "import os\n",
        "import matplotlib.pyplot as plt\n",
        "import pandas as pd\n",
        "import pickle\n",
        "from data_exploration.mask_stats import Mask_Stats\n",
        "from prepare_data.create_mask import create_physical_mask\n",
        "from evaluation.helpers import calc_save_metrics_data, load_metrics_into_df\n",
        "from tensorflow.keras.utils import to_categorical\n",
        "from tensorflow import keras\n",
        "from datetime import datetime\n",
        "from typing import Tuple\n",
        "import tensorflow as tf\n",
        "from evaluation.evaluation_metrics import EvaluationMetrics, ConfusionMatrix"
      ]
    },
    {
      "cell_type": "markdown",
      "source": [
        "### 2. Jaccard index for overlapping tiles"
      ],
      "metadata": {
        "id": "4MdDxKri7W9c"
      }
    },
    {
      "cell_type": "code",
      "execution_count": null,
      "metadata": {
        "colab": {
          "base_uri": "https://localhost:8080/"
        },
        "id": "LmsVPFBA3Zgp",
        "outputId": "6b1eb72c-c497-4b96-f575-50614cb91e23"
      },
      "outputs": [
        {
          "output_type": "stream",
          "name": "stdout",
          "text": [
            "Shape: (11063, 256, 256)\n",
            "Land pixels: 326666615  45.056 %\n",
            "Valid pixels: 231026701  31.865 %\n",
            "Invalid pixels: 167331452  23.079 %\n",
            "Sum: 11063\n",
            "\n",
            "Shape: (3545, 256, 256)\n",
            "Land pixels: 100682317  43.337 %\n",
            "Valid pixels: 76811432  33.062 %\n",
            "Invalid pixels: 54831371  23.601 %\n",
            "Sum: 3545\n",
            "\n",
            "Shape: (3699, 256, 256)\n",
            "Land pixels: 112712687  46.495 %\n",
            "Valid pixels: 71301683  29.413 %\n",
            "Invalid pixels: 58403294  24.092 %\n",
            "Sum: 3699\n"
          ]
        }
      ],
      "source": [
        "data_path = \"../data_colab/256_200\"\n",
        "train_tiles = 11063\n",
        "val_tiles = 3545\n",
        "test_tiles = 3699\n",
        "\n",
        "train_split_x = np.memmap(os.path.join(data_path, \"train_split_x.npy\"), mode=\"r\", shape=(train_tiles, 256, 256, 5), dtype=np.uint8)\n",
        "train_split_y = np.memmap(os.path.join(data_path, \"train_split_y.npy\"), mode=\"r\", shape=(train_tiles, 256, 256), dtype=np.uint8)\n",
        "val_split_x = np.memmap(os.path.join(data_path, \"val_split_x.npy\"), mode=\"r\", shape=(val_tiles, 256, 256, 5), dtype=np.uint8)\n",
        "val_split_y = np.memmap(os.path.join(data_path, \"val_split_y.npy\"), mode=\"r\", shape=(val_tiles, 256, 256), dtype=np.uint8)\n",
        "test_split_x = np.memmap(os.path.join(data_path, \"test_split_x.npy\"), mode=\"r\", shape=(test_tiles, 256, 256, 5), dtype=np.uint8)\n",
        "test_split_y = np.memmap(os.path.join(data_path, \"test_split_y.npy\"), mode=\"r\", shape=(test_tiles, 256, 256), dtype=np.uint8)\n",
        "\n",
        "train_stats = Mask_Stats(train_split_y)\n",
        "train_stats.print_stats()\n",
        "print()\n",
        "val_stats = Mask_Stats(val_split_y)\n",
        "val_stats.print_stats()\n",
        "print()\n",
        "test_stats = Mask_Stats(test_split_y)\n",
        "test_stats.print_stats()"
      ]
    },
    {
      "cell_type": "code",
      "source": [
        "start = datetime.now()\n",
        "print(\"Calculate Intersection and Union for training set \\n\")\n",
        "train_jaccard = JaccardIndexCalculator(train_split_x, train_split_y, train_tiles, chunk_size=1000)\n",
        "\n",
        "print(\"\\n\\nCalculate Intersection and Union for validation set \\n\")\n",
        "val_jaccard = JaccardIndexCalculator(val_split_x, val_split_y, val_tiles, chunk_size=1000)\n",
        "\n",
        "print(\"\\n\\nCalculate Intersection and Union for testing set \\n\")\n",
        "test_jaccard = JaccardIndexCalculator(test_split_x, test_split_y, test_tiles, chunk_size=1000)\n",
        "\n",
        "end = datetime.now()\n",
        "print(f'time needed: {end - start}')"
      ],
      "metadata": {
        "colab": {
          "base_uri": "https://localhost:8080/"
        },
        "id": "1O8BaMPcF-Zo",
        "outputId": "05212c6a-12b8-406a-9893-0516796ca7b5"
      },
      "execution_count": null,
      "outputs": [
        {
          "output_type": "stream",
          "name": "stdout",
          "text": [
            "Calculate Intersection and Union for training set \n",
            "\n",
            "Chunk No.0\n",
            "copying chunk from mmap [0:1000]\n",
            "shape x_input_chunk: (1000, 256, 256, 5), shape y_mask_chunk: (1000, 256, 256)\n",
            "shape y_true: (1000, 256, 256, 3), shape pred_physical: (1000, 256, 256, 3)\n",
            "chunk_jaccard_invalid: 0.5083847641944885, chunk_intersection: 2094040.0, chunk_union: 4119007.0\n",
            "chunk_jaccard_valid: 0.9374726414680481, chunk_intersection: 30360340.0, chunk_union: 32385308.0\n",
            "chunk_jaccard_land: 1.0, chunk_intersection: 31056652.0, chunk_union: 31056652.0\n",
            "\n",
            "\n",
            "Chunk No.1\n",
            "copying chunk from mmap [1000:2000]\n",
            "shape x_input_chunk: (1000, 256, 256, 5), shape y_mask_chunk: (1000, 256, 256)\n",
            "shape y_true: (1000, 256, 256, 3), shape pred_physical: (1000, 256, 256, 3)\n",
            "chunk_jaccard_invalid: 0.6571222543716431, chunk_intersection: 3616129.0, chunk_union: 5502978.0\n",
            "chunk_jaccard_valid: 0.9423701763153076, chunk_intersection: 30853776.0, chunk_union: 32740612.0\n",
            "chunk_jaccard_land: 0.9999964237213135, chunk_intersection: 29179200.0, chunk_union: 29179304.0\n",
            "\n",
            "\n",
            "Chunk No.2\n",
            "copying chunk from mmap [2000:3000]\n",
            "shape x_input_chunk: (1000, 256, 256, 5), shape y_mask_chunk: (1000, 256, 256)\n",
            "shape y_true: (1000, 256, 256, 3), shape pred_physical: (1000, 256, 256, 3)\n",
            "chunk_jaccard_invalid: 0.8926882147789001, chunk_intersection: 16853704.0, chunk_union: 18879720.0\n",
            "chunk_jaccard_valid: 0.8972358703613281, chunk_intersection: 17689154.0, chunk_union: 19715166.0\n",
            "chunk_jaccard_land: 1.0, chunk_intersection: 28967128.0, chunk_union: 28967128.0\n",
            "\n",
            "\n",
            "Chunk No.3\n",
            "copying chunk from mmap [3000:4000]\n",
            "shape x_input_chunk: (1000, 256, 256, 5), shape y_mask_chunk: (1000, 256, 256)\n",
            "shape y_true: (1000, 256, 256, 3), shape pred_physical: (1000, 256, 256, 3)\n",
            "chunk_jaccard_invalid: 0.9252830147743225, chunk_intersection: 25446112.0, chunk_union: 27500896.0\n",
            "chunk_jaccard_valid: 0.8051552772521973, chunk_intersection: 8490959.0, chunk_union: 10545741.0\n",
            "chunk_jaccard_land: 1.0, chunk_intersection: 29544148.0, chunk_union: 29544148.0\n",
            "\n",
            "\n",
            "Chunk No.4\n",
            "copying chunk from mmap [4000:5000]\n",
            "shape x_input_chunk: (1000, 256, 256, 5), shape y_mask_chunk: (1000, 256, 256)\n",
            "shape y_true: (1000, 256, 256, 3), shape pred_physical: (1000, 256, 256, 3)\n",
            "chunk_jaccard_invalid: 0.8708983063697815, chunk_intersection: 11996019.0, chunk_union: 13774305.0\n",
            "chunk_jaccard_valid: 0.9286167621612549, chunk_intersection: 23133504.0, chunk_union: 24911788.0\n",
            "chunk_jaccard_land: 1.0, chunk_intersection: 28628192.0, chunk_union: 28628192.0\n",
            "\n",
            "\n",
            "Chunk No.5\n",
            "copying chunk from mmap [5000:6000]\n",
            "shape x_input_chunk: (1000, 256, 256, 5), shape y_mask_chunk: (1000, 256, 256)\n",
            "shape y_true: (1000, 256, 256, 3), shape pred_physical: (1000, 256, 256, 3)\n",
            "chunk_jaccard_invalid: 0.7600420117378235, chunk_intersection: 5218914.0, chunk_union: 6866613.0\n",
            "chunk_jaccard_valid: 0.9480735659599304, chunk_intersection: 30083672.0, chunk_union: 31731368.0\n",
            "chunk_jaccard_land: 1.0, chunk_intersection: 28585716.0, chunk_union: 28585716.0\n",
            "\n",
            "\n",
            "Chunk No.6\n",
            "copying chunk from mmap [6000:7000]\n",
            "shape x_input_chunk: (1000, 256, 256, 5), shape y_mask_chunk: (1000, 256, 256)\n",
            "shape y_true: (1000, 256, 256, 3), shape pred_physical: (1000, 256, 256, 3)\n",
            "chunk_jaccard_invalid: 0.8704415559768677, chunk_intersection: 15447367.0, chunk_union: 17746588.0\n",
            "chunk_jaccard_valid: 0.8948990702629089, chunk_intersection: 19577116.0, chunk_union: 21876340.0\n",
            "chunk_jaccard_land: 1.0, chunk_intersection: 28212294.0, chunk_union: 28212294.0\n",
            "\n",
            "\n",
            "Chunk No.7\n",
            "copying chunk from mmap [7000:8000]\n",
            "shape x_input_chunk: (1000, 256, 256, 5), shape y_mask_chunk: (1000, 256, 256)\n",
            "shape y_true: (1000, 256, 256, 3), shape pred_physical: (1000, 256, 256, 3)\n",
            "chunk_jaccard_invalid: 0.6619997620582581, chunk_intersection: 5696922.0, chunk_union: 8605626.0\n",
            "chunk_jaccard_valid: 0.8945989012718201, chunk_intersection: 24690944.0, chunk_union: 27600016.0\n",
            "chunk_jaccard_land: 0.9999834895133972, chunk_intersection: 32238980.0, chunk_union: 32239512.0\n",
            "\n",
            "\n",
            "Chunk No.8\n",
            "copying chunk from mmap [8000:9000]\n",
            "shape x_input_chunk: (1000, 256, 256, 5), shape y_mask_chunk: (1000, 256, 256)\n",
            "shape y_true: (1000, 256, 256, 3), shape pred_physical: (1000, 256, 256, 3)\n",
            "chunk_jaccard_invalid: 0.7367810010910034, chunk_intersection: 18551120.0, chunk_union: 25178608.0\n",
            "chunk_jaccard_valid: 0.6521023511886597, chunk_intersection: 12423149.0, chunk_union: 19050920.0\n",
            "chunk_jaccard_land: 0.9999816417694092, chunk_intersection: 27933844.0, chunk_union: 27934356.0\n",
            "\n",
            "\n",
            "Chunk No.9\n",
            "copying chunk from mmap [9000:10000]\n",
            "shape x_input_chunk: (1000, 256, 256, 5), shape y_mask_chunk: (1000, 256, 256)\n",
            "shape y_true: (1000, 256, 256, 3), shape pred_physical: (1000, 256, 256, 3)\n",
            "chunk_jaccard_invalid: 0.6931451559066772, chunk_intersection: 15066621.0, chunk_union: 21736604.0\n",
            "chunk_jaccard_valid: 0.6517176032066345, chunk_intersection: 12481092.0, chunk_union: 19151076.0\n",
            "chunk_jaccard_land: 1.0, chunk_intersection: 31318304.0, chunk_union: 31318304.0\n",
            "\n",
            "\n",
            "Chunk No.10\n",
            "copying chunk from mmap [10000:11000]\n",
            "shape x_input_chunk: (1000, 256, 256, 5), shape y_mask_chunk: (1000, 256, 256)\n",
            "shape y_true: (1000, 256, 256, 3), shape pred_physical: (1000, 256, 256, 3)\n",
            "chunk_jaccard_invalid: 0.8829206824302673, chunk_intersection: 14595290.0, chunk_union: 16530692.0\n",
            "chunk_jaccard_valid: 0.9102032780647278, chunk_intersection: 19617732.0, chunk_union: 21553132.0\n",
            "chunk_jaccard_land: 1.0, chunk_intersection: 29387576.0, chunk_union: 29387576.0\n",
            "\n",
            "\n",
            "Chunk No.11\n",
            "copying chunk from mmap [11000:12000]\n",
            "shape x_input_chunk: (63, 256, 256, 5), shape y_mask_chunk: (63, 256, 256)\n",
            "shape y_true: (63, 256, 256, 3), shape pred_physical: (63, 256, 256, 3)\n",
            "chunk_jaccard_invalid: 0.9548834562301636, chunk_intersection: 849915.0, chunk_union: 890072.0\n",
            "chunk_jaccard_valid: 0.9758878350257874, chunk_intersection: 1625265.0, chunk_union: 1665422.0\n",
            "chunk_jaccard_land: 1.0, chunk_intersection: 1613431.0, chunk_union: 1613431.0\n",
            "\n",
            "\n",
            "Summary \n",
            "\n",
            "total tiles:  11063\n",
            "chunk size:  1000\n",
            "\n",
            "class name:  invalid\n",
            "intersection:  135432160.0\n",
            "union:  167331712.0\n",
            "jaccard_index:  0.8093633811063656\n",
            "\n",
            "class name:  valid\n",
            "intersection:  231026704.0\n",
            "union:  262926880.0\n",
            "jaccard_index:  0.8786728238715158\n",
            "\n",
            "class name:  land\n",
            "intersection:  326665472.0\n",
            "union:  326666624.0\n",
            "jaccard_index:  0.9999964734689379\n",
            "\n",
            "sum of intersections:  tf.Tensor(693124350.0, shape=(), dtype=float32)\n",
            "sum of unions:  tf.Tensor(756925200.0, shape=(), dtype=float32)\n",
            "mean_jaccard:  tf.Tensor(0.9157105, shape=(), dtype=float32)\n",
            "\n",
            "\n",
            "Calculate Intersection and Union for validation set \n",
            "\n",
            "Chunk No.0\n",
            "copying chunk from mmap [0:1000]\n",
            "shape x_input_chunk: (1000, 256, 256, 5), shape y_mask_chunk: (1000, 256, 256)\n",
            "shape y_true: (1000, 256, 256, 3), shape pred_physical: (1000, 256, 256, 3)\n",
            "chunk_jaccard_invalid: 0.695628821849823, chunk_intersection: 4484517.0, chunk_union: 6446710.0\n",
            "chunk_jaccard_valid: 0.9389009475708008, chunk_intersection: 30152748.0, chunk_union: 32114940.0\n",
            "chunk_jaccard_land: 1.0, chunk_intersection: 28936542.0, chunk_union: 28936542.0\n",
            "\n",
            "\n",
            "Chunk No.1\n",
            "copying chunk from mmap [1000:2000]\n",
            "shape x_input_chunk: (1000, 256, 256, 5), shape y_mask_chunk: (1000, 256, 256)\n",
            "shape y_true: (1000, 256, 256, 3), shape pred_physical: (1000, 256, 256, 3)\n",
            "chunk_jaccard_invalid: 0.8441389799118042, chunk_intersection: 24551076.0, chunk_union: 29084164.0\n",
            "chunk_jaccard_valid: 0.645474374294281, chunk_intersection: 8253255.0, chunk_union: 12786341.0\n",
            "chunk_jaccard_land: 1.0, chunk_intersection: 28198584.0, chunk_union: 28198584.0\n",
            "\n",
            "\n",
            "Chunk No.2\n",
            "copying chunk from mmap [2000:3000]\n",
            "shape x_input_chunk: (1000, 256, 256, 5), shape y_mask_chunk: (1000, 256, 256)\n",
            "shape y_true: (1000, 256, 256, 3), shape pred_physical: (1000, 256, 256, 3)\n",
            "chunk_jaccard_invalid: 0.8434244394302368, chunk_intersection: 13729807.0, chunk_union: 16278645.0\n",
            "chunk_jaccard_valid: 0.8916186094284058, chunk_intersection: 20968476.0, chunk_union: 23517316.0\n",
            "chunk_jaccard_land: 1.0, chunk_intersection: 28288878.0, chunk_union: 28288878.0\n",
            "\n",
            "\n",
            "Chunk No.3\n",
            "copying chunk from mmap [3000:4000]\n",
            "shape x_input_chunk: (545, 256, 256, 5), shape y_mask_chunk: (545, 256, 256)\n",
            "shape y_true: (545, 256, 256, 3), shape pred_physical: (545, 256, 256, 3)\n",
            "chunk_jaccard_invalid: 0.7408191561698914, chunk_intersection: 2238647.0, chunk_union: 3021854.0\n",
            "chunk_jaccard_valid: 0.9570142030715942, chunk_intersection: 17436952.0, chunk_union: 18220160.0\n",
            "chunk_jaccard_land: 1.0, chunk_intersection: 15258314.0, chunk_union: 15258314.0\n",
            "\n",
            "\n",
            "Summary \n",
            "\n",
            "total tiles:  3545\n",
            "chunk size:  1000\n",
            "\n",
            "class name:  invalid\n",
            "intersection:  45004048.0\n",
            "union:  54831368.0\n",
            "jaccard_index:  0.8207719380488202\n",
            "\n",
            "class name:  valid\n",
            "intersection:  76811432.0\n",
            "union:  86638752.0\n",
            "jaccard_index:  0.8865713129550699\n",
            "\n",
            "class name:  land\n",
            "intersection:  100682320.0\n",
            "union:  100682320.0\n",
            "jaccard_index:  1.0\n",
            "\n",
            "sum of intersections:  tf.Tensor(222497810.0, shape=(), dtype=float32)\n",
            "sum of unions:  tf.Tensor(242152450.0, shape=(), dtype=float32)\n",
            "mean_jaccard:  tf.Tensor(0.9188336, shape=(), dtype=float32)\n",
            "\n",
            "\n",
            "Calculate Intersection and Union for testing set \n",
            "\n",
            "Chunk No.0\n",
            "copying chunk from mmap [0:1000]\n",
            "shape x_input_chunk: (1000, 256, 256, 5), shape y_mask_chunk: (1000, 256, 256)\n",
            "shape y_true: (1000, 256, 256, 3), shape pred_physical: (1000, 256, 256, 3)\n",
            "chunk_jaccard_invalid: 0.7455670237541199, chunk_intersection: 17434184.0, chunk_union: 23383792.0\n",
            "chunk_jaccard_valid: 0.6425433158874512, chunk_intersection: 10694671.0, chunk_union: 16644281.0\n",
            "chunk_jaccard_land: 1.0, chunk_intersection: 31457536.0, chunk_union: 31457536.0\n",
            "\n",
            "\n",
            "Chunk No.1\n",
            "copying chunk from mmap [1000:2000]\n",
            "shape x_input_chunk: (1000, 256, 256, 5), shape y_mask_chunk: (1000, 256, 256)\n",
            "shape y_true: (1000, 256, 256, 3), shape pred_physical: (1000, 256, 256, 3)\n",
            "chunk_jaccard_invalid: 0.6871287226676941, chunk_intersection: 6473373.0, chunk_union: 9420903.0\n",
            "chunk_jaccard_valid: 0.8952506184577942, chunk_intersection: 25191324.0, chunk_union: 28138852.0\n",
            "chunk_jaccard_land: 1.0, chunk_intersection: 30923774.0, chunk_union: 30923774.0\n",
            "\n",
            "\n",
            "Chunk No.2\n",
            "copying chunk from mmap [2000:3000]\n",
            "shape x_input_chunk: (1000, 256, 256, 5), shape y_mask_chunk: (1000, 256, 256)\n",
            "shape y_true: (1000, 256, 256, 3), shape pred_physical: (1000, 256, 256, 3)\n",
            "chunk_jaccard_invalid: 0.7843702435493469, chunk_intersection: 10455768.0, chunk_union: 13330144.0\n",
            "chunk_jaccard_valid: 0.8876195549964905, chunk_intersection: 22702782.0, chunk_union: 25577154.0\n",
            "chunk_jaccard_land: 1.0, chunk_intersection: 29503076.0, chunk_union: 29503076.0\n",
            "\n",
            "\n",
            "Chunk No.3\n",
            "copying chunk from mmap [3000:4000]\n",
            "shape x_input_chunk: (699, 256, 256, 5), shape y_mask_chunk: (699, 256, 256)\n",
            "shape y_true: (699, 256, 256, 3), shape pred_physical: (699, 256, 256, 3)\n",
            "chunk_jaccard_invalid: 0.837056577205658, chunk_intersection: 10269391.0, chunk_union: 12268455.0\n",
            "chunk_jaccard_valid: 0.8641198873519897, chunk_intersection: 12712907.0, chunk_union: 14711971.0\n",
            "chunk_jaccard_land: 1.0, chunk_intersection: 20828302.0, chunk_union: 20828302.0\n",
            "\n",
            "\n",
            "Summary \n",
            "\n",
            "total tiles:  3699\n",
            "chunk size:  1000\n",
            "\n",
            "class name:  invalid\n",
            "intersection:  44632716.0\n",
            "union:  58403296.0\n",
            "jaccard_index:  0.7642157085754936\n",
            "\n",
            "class name:  valid\n",
            "intersection:  71301680.0\n",
            "union:  85072256.0\n",
            "jaccard_index:  0.838130825658005\n",
            "\n",
            "class name:  land\n",
            "intersection:  112712688.0\n",
            "union:  112712688.0\n",
            "jaccard_index:  1.0\n",
            "\n",
            "sum of intersections:  tf.Tensor(228647090.0, shape=(), dtype=float32)\n",
            "sum of unions:  tf.Tensor(256188220.0, shape=(), dtype=float32)\n",
            "mean_jaccard:  tf.Tensor(0.89249647, shape=(), dtype=float32)\n",
            "time needed: 0:03:20.181264\n"
          ]
        }
      ]
    },
    {
      "cell_type": "code",
      "source": [
        "jaccards_entire_dataset(train_jaccard, val_jaccard, test_jaccard) "
      ],
      "metadata": {
        "id": "gafLxd2qT5IK",
        "outputId": "6f3b27b4-76eb-44e9-bee0-7e056a9aadae",
        "colab": {
          "base_uri": "https://localhost:8080/"
        }
      },
      "execution_count": null,
      "outputs": [
        {
          "output_type": "stream",
          "name": "stdout",
          "text": [
            "total_mean_jaccard: 0.911575198173523\n",
            "total_jaccard_invalid: 0.8021949294373217\n",
            "total_jaccard_valid: 0.8723119327500691\n",
            "total_jaccard_land: 0.9999978669101273\n"
          ]
        }
      ]
    },
    {
      "cell_type": "markdown",
      "source": [
        "### 3. Jaccard index for non-overlapping tiles"
      ],
      "metadata": {
        "id": "dhAhObaT8-Xv"
      }
    },
    {
      "cell_type": "code",
      "source": [
        "total_tiles = 11121\n",
        "train_tiles = 6672\n",
        "test_val_tiles = 2224\n",
        "data_path = \"../data_colab/256_256\"\n",
        "\n",
        "train_split_x = np.memmap(os.path.join(data_path, \"train_split_x.npy\"), mode=\"r\", shape=(train_tiles, 256, 256, 5), dtype=np.uint8)\n",
        "train_split_y = np.memmap(os.path.join(data_path, \"train_split_y.npy\"), mode=\"r\", shape=(train_tiles, 256, 256), dtype=np.uint8)\n",
        "val_split_x = np.memmap(os.path.join(data_path, \"val_split_x.npy\"), mode=\"r\", shape=(test_val_tiles, 256, 256, 5), dtype=np.uint8)\n",
        "val_split_y = np.memmap(os.path.join(data_path, \"val_split_y.npy\"), mode=\"r\", shape=(test_val_tiles, 256, 256), dtype=np.uint8)\n",
        "test_split_x = np.memmap(os.path.join(data_path, \"test_split_x.npy\"), mode=\"r\", shape=(test_val_tiles, 256, 256, 5), dtype=np.uint8)\n",
        "test_split_y = np.memmap(os.path.join(data_path, \"test_split_y.npy\"), mode=\"r\", shape=(test_val_tiles, 256, 256), dtype=np.uint8)\n",
        "\n",
        "train_stats = Mask_Stats(train_split_y)\n",
        "train_stats.print_stats()\n",
        "print()\n",
        "val_stats = Mask_Stats(val_split_y)\n",
        "val_stats.print_stats()\n",
        "print()\n",
        "test_stats = Mask_Stats(test_split_y)\n",
        "test_stats.print_stats()"
      ],
      "metadata": {
        "colab": {
          "base_uri": "https://localhost:8080/"
        },
        "id": "EIGwW8SZ9C8G",
        "outputId": "a9d6cf89-dc6d-4e9e-dad5-c0365a96cc55"
      },
      "execution_count": 4,
      "outputs": [
        {
          "output_type": "stream",
          "name": "stdout",
          "text": [
            "Shape: (6672, 256, 256)\n",
            "Land pixels: 195058814  44.610 %\n",
            "Valid pixels: 138904480  31.767 %\n",
            "Invalid pixels: 103292898  23.623 %\n",
            "Sum: 6672\n",
            "\n",
            "Shape: (2224, 256, 256)\n",
            "Land pixels: 65320265  44.816 %\n",
            "Valid pixels: 46246663  31.730 %\n",
            "Invalid pixels: 34185136  23.454 %\n",
            "Sum: 2224\n",
            "\n",
            "Shape: (2224, 256, 256)\n",
            "Land pixels: 64786699  44.450 %\n",
            "Valid pixels: 46892391  32.173 %\n",
            "Invalid pixels: 34072974  23.377 %\n",
            "Sum: 2224\n"
          ]
        }
      ]
    },
    {
      "cell_type": "code",
      "source": [
        "test_metrics = calc_save_metrics_data(test_split_y, test_split_x, 'test', 'no-overlap')"
      ],
      "metadata": {
        "id": "WsHNAl6BRdak",
        "outputId": "d2d7934e-383c-4db4-aab9-308e86d71752",
        "colab": {
          "base_uri": "https://localhost:8080/"
        }
      },
      "execution_count": 5,
      "outputs": [
        {
          "output_type": "stream",
          "name": "stdout",
          "text": [
            "shape after labeleling pixels: (2224, 256, 256) max: 2 min: 0\n",
            "Calculate test metrics for label 0...\n",
            "Calculate test metrics for label 1...\n",
            "Calculate test metrics for label 2...\n",
            "saving metrics...\n",
            "\n"
          ]
        }
      ]
    },
    {
      "cell_type": "code",
      "source": [
        "val_metrics = calc_save_metrics_data(val_split_y, val_split_x, 'val', 'no-overlap')"
      ],
      "metadata": {
        "id": "K0Kl70CmWNkR",
        "outputId": "64308567-bbc2-4c99-e3de-1022503d6a86",
        "colab": {
          "base_uri": "https://localhost:8080/"
        }
      },
      "execution_count": 6,
      "outputs": [
        {
          "output_type": "stream",
          "name": "stdout",
          "text": [
            "shape after labeleling pixels: (2224, 256, 256) max: 2 min: 0\n",
            "Calculate val metrics for label 0...\n",
            "Calculate val metrics for label 1...\n",
            "Calculate val metrics for label 2...\n",
            "saving metrics...\n",
            "\n"
          ]
        }
      ]
    },
    {
      "cell_type": "code",
      "source": [
        "train_metrics = calc_save_metrics_data(train_split_y, train_split_x, 'train', 'no-overlap')"
      ],
      "metadata": {
        "id": "mmKYEPWpR6zA",
        "outputId": "18d473a3-2ef0-474f-df7f-f4cffb0bd761",
        "colab": {
          "base_uri": "https://localhost:8080/"
        }
      },
      "execution_count": 7,
      "outputs": [
        {
          "output_type": "stream",
          "name": "stdout",
          "text": [
            "shape after labeleling pixels: (6672, 256, 256) max: 2 min: 0\n",
            "Calculate train metrics for label 0...\n",
            "Calculate train metrics for label 1...\n",
            "Calculate train metrics for label 2...\n",
            "saving metrics...\n",
            "\n"
          ]
        }
      ]
    },
    {
      "cell_type": "markdown",
      "source": [
        "### Summary"
      ],
      "metadata": {
        "id": "iTxTIECfb1vR"
      }
    },
    {
      "cell_type": "code",
      "source": [
        "df = load_metrics_into_df(1, 'data_exploration', 'Benchmark Metrics (no-overlap)', 'no-overlap')\n",
        "print()\n",
        "print()\n",
        "df"
      ],
      "metadata": {
        "id": "T4DV0Zx-b3hu",
        "outputId": "81f24406-1ad5-4483-afb9-83e8df2cb1b0",
        "colab": {
          "base_uri": "https://localhost:8080/",
          "height": 788
        }
      },
      "execution_count": 10,
      "outputs": [
        {
          "output_type": "stream",
          "name": "stdout",
          "text": [
            "opening file: ../metrics/data_exploration/metrics_train_no-overlap.pkl\n",
            "opening file: ../metrics/data_exploration/metrics_val_no-overlap.pkl\n",
            "opening file: ../metrics/data_exploration/metrics_test_no-overlap.pkl\n",
            "\n",
            "\n"
          ]
        },
        {
          "output_type": "execute_result",
          "data": {
            "text/plain": [
              "<pandas.io.formats.style.Styler at 0x7f981393e5f0>"
            ],
            "text/html": [
              "<style type=\"text/css\">\n",
              "#T_ac2ac caption {\n",
              "  color: white;\n",
              "  font-size: 20px;\n",
              "}\n",
              "</style>\n",
              "<table id=\"T_ac2ac\" class=\"dataframe\">\n",
              "  <caption>Benchmark Metrics (no-overlap)</caption>\n",
              "  <thead>\n",
              "    <tr>\n",
              "      <th class=\"blank level0\" >&nbsp;</th>\n",
              "      <th id=\"T_ac2ac_level0_col0\" class=\"col_heading level0 col0\" >train_n</th>\n",
              "      <th id=\"T_ac2ac_level0_col1\" class=\"col_heading level0 col1\" >val_n</th>\n",
              "      <th id=\"T_ac2ac_level0_col2\" class=\"col_heading level0 col2\" >test_n</th>\n",
              "    </tr>\n",
              "    <tr>\n",
              "      <th class=\"index_name level0\" >Evaluation Metrics</th>\n",
              "      <th class=\"blank col0\" >&nbsp;</th>\n",
              "      <th class=\"blank col1\" >&nbsp;</th>\n",
              "      <th class=\"blank col2\" >&nbsp;</th>\n",
              "    </tr>\n",
              "  </thead>\n",
              "  <tbody>\n",
              "    <tr>\n",
              "      <th id=\"T_ac2ac_level0_row0\" class=\"row_heading level0 row0\" >iou_invalid</th>\n",
              "      <td id=\"T_ac2ac_row0_col0\" class=\"data row0 col0\" >0.801342</td>\n",
              "      <td id=\"T_ac2ac_row0_col1\" class=\"data row0 col1\" >0.792307</td>\n",
              "      <td id=\"T_ac2ac_row0_col2\" class=\"data row0 col2\" >0.812391</td>\n",
              "    </tr>\n",
              "    <tr>\n",
              "      <th id=\"T_ac2ac_level0_row1\" class=\"row_heading level0 row1\" >iou_valid</th>\n",
              "      <td id=\"T_ac2ac_row1_col0\" class=\"data row1 col0\" >0.871285</td>\n",
              "      <td id=\"T_ac2ac_row1_col1\" class=\"data row1 col1\" >0.866908</td>\n",
              "      <td id=\"T_ac2ac_row1_col2\" class=\"data row1 col2\" >0.880033</td>\n",
              "    </tr>\n",
              "    <tr>\n",
              "      <th id=\"T_ac2ac_level0_row2\" class=\"row_heading level0 row2\" >iou_land</th>\n",
              "      <td id=\"T_ac2ac_row2_col0\" class=\"data row2 col0\" >0.999996</td>\n",
              "      <td id=\"T_ac2ac_row2_col1\" class=\"data row2 col1\" >1.000000</td>\n",
              "      <td id=\"T_ac2ac_row2_col2\" class=\"data row2 col2\" >0.999999</td>\n",
              "    </tr>\n",
              "    <tr>\n",
              "      <th id=\"T_ac2ac_level0_row3\" class=\"row_heading level0 row3\" >mean_iou</th>\n",
              "      <td id=\"T_ac2ac_row3_col0\" class=\"data row3 col0\" >0.890874</td>\n",
              "      <td id=\"T_ac2ac_row3_col1\" class=\"data row3 col1\" >0.886405</td>\n",
              "      <td id=\"T_ac2ac_row3_col2\" class=\"data row3 col2\" >0.897474</td>\n",
              "    </tr>\n",
              "    <tr>\n",
              "      <th id=\"T_ac2ac_level0_row4\" class=\"row_heading level0 row4\" >precision_invalid</th>\n",
              "      <td id=\"T_ac2ac_row4_col0\" class=\"data row4 col0\" >0.999998</td>\n",
              "      <td id=\"T_ac2ac_row4_col1\" class=\"data row4 col1\" >1.000000</td>\n",
              "      <td id=\"T_ac2ac_row4_col2\" class=\"data row4 col2\" >0.999999</td>\n",
              "    </tr>\n",
              "    <tr>\n",
              "      <th id=\"T_ac2ac_level0_row5\" class=\"row_heading level0 row5\" >precision_valid</th>\n",
              "      <td id=\"T_ac2ac_row5_col0\" class=\"data row5 col0\" >0.871285</td>\n",
              "      <td id=\"T_ac2ac_row5_col1\" class=\"data row5 col1\" >0.866908</td>\n",
              "      <td id=\"T_ac2ac_row5_col2\" class=\"data row5 col2\" >0.880033</td>\n",
              "    </tr>\n",
              "    <tr>\n",
              "      <th id=\"T_ac2ac_level0_row6\" class=\"row_heading level0 row6\" >precision_land</th>\n",
              "      <td id=\"T_ac2ac_row6_col0\" class=\"data row6 col0\" >1.000000</td>\n",
              "      <td id=\"T_ac2ac_row6_col1\" class=\"data row6 col1\" >1.000000</td>\n",
              "      <td id=\"T_ac2ac_row6_col2\" class=\"data row6 col2\" >1.000000</td>\n",
              "    </tr>\n",
              "    <tr>\n",
              "      <th id=\"T_ac2ac_level0_row7\" class=\"row_heading level0 row7\" >recall_invalid</th>\n",
              "      <td id=\"T_ac2ac_row7_col0\" class=\"data row7 col0\" >0.801343</td>\n",
              "      <td id=\"T_ac2ac_row7_col1\" class=\"data row7 col1\" >0.792307</td>\n",
              "      <td id=\"T_ac2ac_row7_col2\" class=\"data row7 col2\" >0.812391</td>\n",
              "    </tr>\n",
              "    <tr>\n",
              "      <th id=\"T_ac2ac_level0_row8\" class=\"row_heading level0 row8\" >recall_valid</th>\n",
              "      <td id=\"T_ac2ac_row8_col0\" class=\"data row8 col0\" >1.000000</td>\n",
              "      <td id=\"T_ac2ac_row8_col1\" class=\"data row8 col1\" >1.000000</td>\n",
              "      <td id=\"T_ac2ac_row8_col2\" class=\"data row8 col2\" >1.000000</td>\n",
              "    </tr>\n",
              "    <tr>\n",
              "      <th id=\"T_ac2ac_level0_row9\" class=\"row_heading level0 row9\" >recall_land</th>\n",
              "      <td id=\"T_ac2ac_row9_col0\" class=\"data row9 col0\" >0.999996</td>\n",
              "      <td id=\"T_ac2ac_row9_col1\" class=\"data row9 col1\" >1.000000</td>\n",
              "      <td id=\"T_ac2ac_row9_col2\" class=\"data row9 col2\" >0.999999</td>\n",
              "    </tr>\n",
              "    <tr>\n",
              "      <th id=\"T_ac2ac_level0_row10\" class=\"row_heading level0 row10\" >specificity_invalid</th>\n",
              "      <td id=\"T_ac2ac_row10_col0\" class=\"data row10 col0\" >1.000000</td>\n",
              "      <td id=\"T_ac2ac_row10_col1\" class=\"data row10 col1\" >1.000000</td>\n",
              "      <td id=\"T_ac2ac_row10_col2\" class=\"data row10 col2\" >1.000000</td>\n",
              "    </tr>\n",
              "    <tr>\n",
              "      <th id=\"T_ac2ac_level0_row11\" class=\"row_heading level0 row11\" >specificity_valid</th>\n",
              "      <td id=\"T_ac2ac_row11_col0\" class=\"data row11 col0\" >0.931221</td>\n",
              "      <td id=\"T_ac2ac_row11_col1\" class=\"data row11 col1\" >0.928647</td>\n",
              "      <td id=\"T_ac2ac_row11_col2\" class=\"data row11 col2\" >0.935339</td>\n",
              "    </tr>\n",
              "    <tr>\n",
              "      <th id=\"T_ac2ac_level0_row12\" class=\"row_heading level0 row12\" >specificity_land</th>\n",
              "      <td id=\"T_ac2ac_row12_col0\" class=\"data row12 col0\" >1.000000</td>\n",
              "      <td id=\"T_ac2ac_row12_col1\" class=\"data row12 col1\" >1.000000</td>\n",
              "      <td id=\"T_ac2ac_row12_col2\" class=\"data row12 col2\" >1.000000</td>\n",
              "    </tr>\n",
              "    <tr>\n",
              "      <th id=\"T_ac2ac_level0_row13\" class=\"row_heading level0 row13\" >f1_invalid</th>\n",
              "      <td id=\"T_ac2ac_row13_col0\" class=\"data row13 col0\" >0.889717</td>\n",
              "      <td id=\"T_ac2ac_row13_col1\" class=\"data row13 col1\" >0.884120</td>\n",
              "      <td id=\"T_ac2ac_row13_col2\" class=\"data row13 col2\" >0.896485</td>\n",
              "    </tr>\n",
              "    <tr>\n",
              "      <th id=\"T_ac2ac_level0_row14\" class=\"row_heading level0 row14\" >f1_valid</th>\n",
              "      <td id=\"T_ac2ac_row14_col0\" class=\"data row14 col0\" >0.931216</td>\n",
              "      <td id=\"T_ac2ac_row14_col1\" class=\"data row14 col1\" >0.928710</td>\n",
              "      <td id=\"T_ac2ac_row14_col2\" class=\"data row14 col2\" >0.936189</td>\n",
              "    </tr>\n",
              "    <tr>\n",
              "      <th id=\"T_ac2ac_level0_row15\" class=\"row_heading level0 row15\" >f1_land</th>\n",
              "      <td id=\"T_ac2ac_row15_col0\" class=\"data row15 col0\" >0.999998</td>\n",
              "      <td id=\"T_ac2ac_row15_col1\" class=\"data row15 col1\" >1.000000</td>\n",
              "      <td id=\"T_ac2ac_row15_col2\" class=\"data row15 col2\" >1.000000</td>\n",
              "    </tr>\n",
              "    <tr>\n",
              "      <th id=\"T_ac2ac_level0_row16\" class=\"row_heading level0 row16\" >accuracy_invalid</th>\n",
              "      <td id=\"T_ac2ac_row16_col0\" class=\"data row16 col0\" >0.953071</td>\n",
              "      <td id=\"T_ac2ac_row16_col1\" class=\"data row16 col1\" >0.951287</td>\n",
              "      <td id=\"T_ac2ac_row16_col2\" class=\"data row16 col2\" >0.956142</td>\n",
              "    </tr>\n",
              "    <tr>\n",
              "      <th id=\"T_ac2ac_level0_row17\" class=\"row_heading level0 row17\" >accuracy_valid</th>\n",
              "      <td id=\"T_ac2ac_row17_col0\" class=\"data row17 col0\" >0.953070</td>\n",
              "      <td id=\"T_ac2ac_row17_col1\" class=\"data row17 col1\" >0.951287</td>\n",
              "      <td id=\"T_ac2ac_row17_col2\" class=\"data row17 col2\" >0.956142</td>\n",
              "    </tr>\n",
              "    <tr>\n",
              "      <th id=\"T_ac2ac_level0_row18\" class=\"row_heading level0 row18\" >accuracy_land</th>\n",
              "      <td id=\"T_ac2ac_row18_col0\" class=\"data row18 col0\" >0.999998</td>\n",
              "      <td id=\"T_ac2ac_row18_col1\" class=\"data row18 col1\" >1.000000</td>\n",
              "      <td id=\"T_ac2ac_row18_col2\" class=\"data row18 col2\" >1.000000</td>\n",
              "    </tr>\n",
              "  </tbody>\n",
              "</table>\n"
            ]
          },
          "metadata": {},
          "execution_count": 10
        }
      ]
    }
  ],
  "metadata": {
    "colab": {
      "provenance": [],
      "machine_shape": "hm",
      "include_colab_link": true
    },
    "gpuClass": "standard",
    "kernelspec": {
      "display_name": "Python 3",
      "name": "python3"
    },
    "language_info": {
      "name": "python"
    }
  },
  "nbformat": 4,
  "nbformat_minor": 0
}