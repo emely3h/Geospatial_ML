{
  "cells": [
    {
      "cell_type": "markdown",
      "metadata": {
        "id": "view-in-github",
        "colab_type": "text"
      },
      "source": [
        "<a href=\"https://colab.research.google.com/github/emely3h/Geospatial_ML/blob/feature%2Fcreate-mask/Copy_of_unet.ipynb\" target=\"_parent\"><img src=\"https://colab.research.google.com/assets/colab-badge.svg\" alt=\"Open In Colab\"/></a>"
      ]
    },
    {
      "cell_type": "markdown",
      "metadata": {
        "id": "BP5uv0ymb0bq"
      },
      "source": [
        "# Training an Unet"
      ]
    },
    {
      "cell_type": "markdown",
      "metadata": {
        "id": "hWscia1yb0bt"
      },
      "source": [
        "This notebook aims to train an Unet to make predictions based on the first 10 images in the dataset, located in data/data_rgb:\n",
        "- 2022_06_20\n",
        "- 2022_07_05 ???\n",
        "- 2022_07_15\n",
        "- 2022_07_10\n",
        "- 2022_07_25\n",
        "- 2022_07_30\n",
        "- 2022_08_04\n",
        "- 2022_08_09\n",
        "- 2022_08_14\n",
        "- 2022_08_24\n",
        "- 2022_09_03\n",
        "- 2022_09_08\n",
        "- 2022_09_13\n",
        "- 2022_09_18\n",
        "- 2022_10_13\n",
        "- 2022_10_23\n",
        "- 2022_12_02\n",
        "- 2022_12_12\n",
        "\n"
      ]
    },
    {
      "cell_type": "code",
      "execution_count": 6,
      "outputs": [
        {
          "output_type": "stream",
          "name": "stdout",
          "text": [
            "Drive already mounted at /content/drive; to attempt to forcibly remount, call drive.mount(\"/content/drive\", force_remount=True).\n"
          ]
        }
      ],
      "source": [
        "from google.colab import drive\n",
        "drive.mount('/content/drive')"
      ],
      "metadata": {
        "id": "m8S-npIwb0bv",
        "colab": {
          "base_uri": "https://localhost:8080/"
        },
        "outputId": "c62cc004-b3da-45b5-8d68-5c34d128b3e1"
      }
    },
    {
      "cell_type": "code",
      "execution_count": 7,
      "outputs": [
        {
          "output_type": "stream",
          "name": "stdout",
          "text": [
            "architecture.drawio  notebooks\t   README.md\n",
            "models\t\t     prepare_data  requirements.txt\n",
            "architecture.drawio  notebooks\t   README.md\n",
            "models\t\t     prepare_data  requirements.txt\n"
          ]
        }
      ],
      "source": [
        "! ls\n",
        "%cd drive/MyDrive/MachineLearning\n",
        "! ls"
      ],
      "metadata": {
        "id": "K4ovYlrBb0bx",
        "colab": {
          "base_uri": "https://localhost:8080/"
        },
        "outputId": "497b6615-4192-4202-c3d0-10c3e2fc7e0a"
      }
    },
    {
      "cell_type": "code",
      "source": [
        "#! git clone https://github.com/emely3h/Geospatial_ML\n",
        "%cd Geospatial_ML\n",
        "! git checkout feature/create_mask\n",
        "#! ls\n"
      ],
      "metadata": {
        "id": "UpVy0rgQRhOJ",
        "outputId": "8dd4f9ad-5653-4482-e70a-e3c47a45c4e2",
        "colab": {
          "base_uri": "https://localhost:8080/"
        }
      },
      "execution_count": null,
      "outputs": [
        {
          "output_type": "stream",
          "name": "stdout",
          "text": [
            "/content/drive/MyDrive/MachineLearning/Geospatial_ML\n",
            "error: pathspec 'feature/create_mask' did not match any file(s) known to git\n"
          ]
        }
      ]
    },
    {
      "cell_type": "code",
      "execution_count": 18,
      "outputs": [],
      "source": [
        "import numpy as np\n",
        "import os\n",
        "import matplotlib.pyplot as plt\n",
        "import tensorflow as tf\n",
        "from tensorflow import keras\n",
        "from models.simple_multi_unet_model import multi_unet_model"
      ],
      "metadata": {
        "pycharm": {
          "is_executing": true
        },
        "id": "m596oOw2b0bz"
      }
    },
    {
      "cell_type": "markdown",
      "source": [
        "14 images in total, as tiles overlap, we don't want to have tiles from the same original image in the training/ test or validation dataset. Therefore we split the dataset accordingly:\n",
        "\n",
        "- training data: 13\n",
        "- validation data: 3 images\n",
        "- test data: 2 images"
      ],
      "metadata": {
        "id": "yuDTkyHCcc41"
      }
    },
    {
      "cell_type": "code",
      "source": [
        "data_directory = \"../data_colab/256_200_1_missing\"\n",
        "\n",
        "# np.load(os.path.join(root_directory, 'y_input.npy'))\n",
        "# normalize + do one hot encoding while loading\n",
        "\n",
        "y_train  = np.load(os.path.join(data_directory, 'y_mask_256_200_2022_06_20.npy'))\n",
        "X_train  = np.load(os.path.join(data_directory, 'x_input_256_200_2022_06_20.npy'))\n",
        "\n",
        "y_val = np.load(os.path.join(data_directory, 'y_mask_256_200_2022_07_10.npy'))\n",
        "X_val = np.load(os.path.join(data_directory, 'x_input_256_200_2022_07_10.npy'))\n",
        "\n",
        "y_test = np.load(os.path.join(data_directory, 'y_mask_256_200_2022_07_15.npy'))\n",
        "X_test = np.load(os.path.join(data_directory, 'x_input_256_200_2022_07_15.npy'))\n",
        "\n",
        "\n",
        "print(y_train.shape)\n",
        "print(X_train.shape)\n",
        "\n",
        "print(y_val.shape)\n",
        "print(X_val.shape)\n",
        "\n",
        "print(y_test.shape)\n",
        "print(X_test.shape)"
      ],
      "metadata": {
        "id": "P2t8Rh1eccZg",
        "colab": {
          "base_uri": "https://localhost:8080/"
        },
        "outputId": "ac2d01cc-290e-4ef1-acf2-68908b998cab"
      },
      "execution_count": 60,
      "outputs": [
        {
          "output_type": "stream",
          "name": "stdout",
          "text": [
            "(1251, 256, 256)\n",
            "(1251, 256, 256, 5)\n",
            "(1323, 256, 256)\n",
            "(1323, 256, 256, 5)\n",
            "(864, 256, 256)\n",
            "(864, 256, 256, 5)\n"
          ]
        }
      ]
    },
    {
      "cell_type": "code",
      "execution_count": null,
      "metadata": {
        "jupyter": {
          "outputs_hidden": false
        },
        "tags": [],
        "id": "qwKwjEN4b0b0"
      },
      "outputs": [],
      "source": [
        "def display(display_list):\n",
        "  plt.figure(figsize=(15, 15))\n",
        "\n",
        "  title = ['Input Image', 'True Mask', 'Predicted Mask']\n",
        "\n",
        "  for i in range(len(display_list)):\n",
        "    plt.subplot(1, len(display_list), i+1)\n",
        "    plt.title(title[i])\n",
        "    if len(display_list[i].shape) == 3:\n",
        "        plt.imshow(tf.keras.utils.array_to_img(display_list[i]))\n",
        "        plt.axis('off')\n",
        "    else:\n",
        "        plt.imshow(display_list[i])\n",
        "  plt.show()"
      ]
    },
    {
      "cell_type": "code",
      "execution_count": 13,
      "metadata": {
        "jupyter": {
          "outputs_hidden": false
        },
        "tags": [],
        "id": "KBuJGYzMb0b2",
        "outputId": "4a9097f3-1e67-4f41-ad64-2f1f5b9c6f1e",
        "colab": {
          "base_uri": "https://localhost:8080/",
          "height": 1000
        }
      },
      "outputs": [
        {
          "output_type": "stream",
          "name": "stdout",
          "text": [
            "(256, 256, 4)\n",
            "(256, 256)\n"
          ]
        },
        {
          "output_type": "display_data",
          "data": {
            "text/plain": [
              "[array([[[113., 132., 110., 255.],\n",
              "         [113., 131., 111., 255.],\n",
              "         [112., 131., 110., 255.],\n",
              "         ...,\n",
              "         [110., 130., 109., 255.],\n",
              "         [110., 130., 110., 255.],\n",
              "         [109., 129., 110., 255.]],\n",
              " \n",
              "        [[114., 132., 110., 255.],\n",
              "         [113., 131., 110., 255.],\n",
              "         [111., 130., 110., 255.],\n",
              "         ...,\n",
              "         [106., 127., 107., 255.],\n",
              "         [106., 126., 106., 255.],\n",
              "         [106., 125., 105., 255.]],\n",
              " \n",
              "        [[113., 131., 111., 255.],\n",
              "         [113., 131., 110., 255.],\n",
              "         [111., 131., 110., 255.],\n",
              "         ...,\n",
              "         [103., 125., 103., 255.],\n",
              "         [102., 121., 100., 255.],\n",
              "         [ 99., 118., 100., 255.]],\n",
              " \n",
              "        ...,\n",
              " \n",
              "        [[109., 130., 110., 255.],\n",
              "         [109., 130., 109., 255.],\n",
              "         [109., 130., 110., 255.],\n",
              "         ...,\n",
              "         [104., 128., 109., 255.],\n",
              "         [105., 128., 107., 255.],\n",
              "         [105., 127., 108., 255.]],\n",
              " \n",
              "        [[109., 130., 108., 255.],\n",
              "         [109., 130., 110., 255.],\n",
              "         [110., 131., 110., 255.],\n",
              "         ...,\n",
              "         [105., 128., 107., 255.],\n",
              "         [104., 128., 107., 255.],\n",
              "         [105., 128., 108., 255.]],\n",
              " \n",
              "        [[110., 131., 109., 255.],\n",
              "         [109., 130., 110., 255.],\n",
              "         [110., 130., 112., 255.],\n",
              "         ...,\n",
              "         [104., 128., 107., 255.],\n",
              "         [104., 129., 107., 255.],\n",
              "         [106., 128., 107., 255.]]]), array([[1, 1, 1, ..., 1, 1, 1],\n",
              "        [1, 1, 1, ..., 1, 1, 1],\n",
              "        [1, 1, 1, ..., 1, 1, 1],\n",
              "        ...,\n",
              "        [1, 1, 1, ..., 1, 1, 1],\n",
              "        [1, 1, 1, ..., 1, 1, 1],\n",
              "        [1, 1, 1, ..., 1, 1, 1]], dtype=uint8)]"
            ]
          },
          "metadata": {}
        }
      ],
      "source": [
        "sample_image, sample_mask = X_train[5], y_train[5]\n",
        "sample_image = sample_image[..., :4]\n",
        "print(sample_image.shape)\n",
        "print(sample_mask.shape)\n",
        "display([sample_image, sample_mask])"
      ]
    },
    {
      "cell_type": "markdown",
      "metadata": {
        "id": "Ws0PpGYrb0b6"
      },
      "source": [
        "### 2. Normalizing"
      ]
    },
    {
      "cell_type": "code",
      "execution_count": 14,
      "outputs": [],
      "source": [
        "def normalizing(X, y):\n",
        "\n",
        "  print(y.shape)\n",
        "  y_one_hot =  np.array([tf.one_hot(item, depth=4).numpy() for item in y])\n",
        "  print(y_one_hot.shape)\n",
        "  X_normal = X/255\n",
        "  return X_normal, y_one_hot"
      ],
      "metadata": {
        "id": "k3HDmvv-b0b9"
      }
    },
    {
      "cell_type": "code",
      "execution_count": null,
      "outputs": [
        {
          "name": "stdout",
          "output_type": "stream",
          "text": [
            "1.0\n",
            "0.0\n"
          ]
        }
      ],
      "source": [
        "#print(np.max(y_one_hot))\n",
        "#print(np.min(y_one_hot))"
      ],
      "metadata": {
        "id": "YEGTfdE2b0b-",
        "outputId": "ec48fd60-800e-4834-b4f1-5216a1bb2a92"
      }
    },
    {
      "cell_type": "code",
      "source": [
        "X_train, y_train = normalizing(X_train, y_train)\n",
        "\n",
        "X_val, y_val = normalizing(X_val, y_val)\n",
        "\n",
        "X_test, y_test = normalizing(X_test, y_test)\n"
      ],
      "metadata": {
        "id": "dSbRNcg4TZ9u",
        "outputId": "ef6b1599-3c7f-43db-fddc-2e572eaeaf7c",
        "colab": {
          "base_uri": "https://localhost:8080/"
        }
      },
      "execution_count": 61,
      "outputs": [
        {
          "output_type": "stream",
          "name": "stdout",
          "text": [
            "(1251, 256, 256)\n",
            "(1251, 256, 256, 4)\n",
            "(1323, 256, 256)\n",
            "(1323, 256, 256, 4)\n",
            "(864, 256, 256)\n",
            "(864, 256, 256, 4)\n"
          ]
        }
      ]
    },
    {
      "cell_type": "markdown",
      "metadata": {
        "id": "q3NqGnYFb0b-"
      },
      "source": [
        "### 3. Building the unet model"
      ]
    },
    {
      "cell_type": "code",
      "source": [
        "from keras.models import Model\n",
        "from keras.layers import (\n",
        "    Input,\n",
        "    Conv2D,\n",
        "    MaxPooling2D,\n",
        "    concatenate,\n",
        "    Conv2DTranspose,\n",
        "    Dropout,\n",
        "    UpSampling2D\n",
        ")\n",
        "\n",
        "def unet_2d(input_shape, num_classes):\n",
        "\n",
        "    # Define the input layer\n",
        "    inputs = Input(input_shape)\n",
        "\n",
        "    # Downsample layers\n",
        "    conv1 = Conv2D(64, (3, 3), activation='relu', padding='same')(inputs)\n",
        "    conv1 = Conv2D(64, (3, 3), activation='relu', padding='same')(conv1)\n",
        "    pool1 = MaxPooling2D(pool_size=(2, 2))(conv1)\n",
        "\n",
        "    conv2 = Conv2D(128, (3, 3), activation='relu', padding='same')(pool1)\n",
        "    conv2 = Conv2D(128, (3, 3), activation='relu', padding='same')(conv2)\n",
        "    pool2 = MaxPooling2D(pool_size=(2, 2))(conv2)\n",
        "\n",
        "    conv3 = Conv2D(256, (3, 3), activation='relu', padding='same')(pool2)\n",
        "    conv3 = Conv2D(256, (3, 3), activation='relu', padding='same')(conv3)\n",
        "    pool3 = MaxPooling2D(pool_size=(2, 2))(conv3)\n",
        "\n",
        "    conv4 = Conv2D(512, (3, 3), activation='relu', padding='same')(pool3)\n",
        "    conv4 = Conv2D(512, (3, 3), activation='relu', padding='same')(conv4)\n",
        "\n",
        "    # Upsample layers\n",
        "    up5 = concatenate([UpSampling2D(size=(2, 2))(conv4), conv3], axis=-1)\n",
        "    conv5 = Conv2D(256, (3, 3), activation='relu', padding='same')(up5)\n",
        "    conv5 = Conv2D(256, (3, 3), activation='relu', padding='same')(conv5)\n",
        "\n",
        "    up6 = concatenate([UpSampling2D(size=(2, 2))(conv5), conv2], axis=-1)\n",
        "    conv6 = Conv2D(128, (3, 3), activation='relu', padding='same')(up6)\n",
        "    conv6 = Conv2D(128, (3, 3), activation='relu', padding='same')(conv6)\n",
        "\n",
        "    up7 = concatenate([UpSampling2D(size=(2, 2))(conv6), conv1], axis=-1)\n",
        "    conv7 = Conv2D(64, (3, 3), activation='relu', padding='same')(up7)\n",
        "    conv7 = Conv2D(64, (3, 3), activation='relu', padding='same')(conv7)\n",
        "\n",
        "    # Output layer\n",
        "    output = Conv2D(num_classes, (1, 1), activation='softmax')(conv7)\n",
        "\n",
        "    # Define the model\n",
        "    model = Model(inputs=[inputs], outputs=[output])\n",
        "\n",
        "    return model"
      ],
      "metadata": {
        "id": "DSP-XD2GrKzE"
      },
      "execution_count": 28,
      "outputs": []
    },
    {
      "cell_type": "code",
      "execution_count": 35,
      "metadata": {
        "jupyter": {
          "outputs_hidden": false
        },
        "tags": [],
        "id": "qY_MG4BVb0b_"
      },
      "outputs": [],
      "source": [
        "\n",
        "from keras.losses import categorical_crossentropy\n",
        "#model = multi_unet_model(4, 256, 256)\n",
        "model = unet_2d(input_shape=(256, 256, 5), num_classes=4)\n",
        "#model.summary()"
      ]
    },
    {
      "cell_type": "markdown",
      "metadata": {
        "id": "o3oyZFUxb0b_"
      },
      "source": [
        "### 4. Training the model"
      ]
    },
    {
      "cell_type": "code",
      "source": [
        "\n",
        "\n",
        "# Hyperparameters\n",
        "training_parameters = {\n",
        "    \"loss\": \"binary_crossentropy\",\n",
        "    \"optimizer\": \"adam\",\n",
        "    \"monitored_func\": \"val_loss\",\n",
        "    \"epochs\": 100,\n",
        "}\n",
        "\n"
      ],
      "metadata": {
        "id": "uPYumbHgoe9O"
      },
      "execution_count": 30,
      "outputs": []
    },
    {
      "cell_type": "code",
      "source": [
        "print(X_train.shape)\n",
        "print(y_train.shape)"
      ],
      "metadata": {
        "colab": {
          "base_uri": "https://localhost:8080/"
        },
        "id": "CVlD4Oonrw7Z",
        "outputId": "45aae9a6-e677-4c12-dbe5-601e7114f709"
      },
      "execution_count": 34,
      "outputs": [
        {
          "output_type": "stream",
          "name": "stdout",
          "text": [
            "(1251, 256, 256, 5)\n",
            "(1251, 256, 256, 4)\n"
          ]
        }
      ]
    },
    {
      "cell_type": "code",
      "execution_count": 38,
      "metadata": {
        "jupyter": {
          "outputs_hidden": false
        },
        "id": "m5iIIiJBb0cA",
        "colab": {
          "base_uri": "https://localhost:8080/"
        },
        "outputId": "a155a12a-df03-4e2c-b0e4-39d08c1d429e"
      },
      "outputs": [
        {
          "output_type": "stream",
          "name": "stdout",
          "text": [
            "Epoch 1/5\n",
            "40/40 [==============================] - 12s 181ms/step - loss: 0.1695 - accuracy: 0.9604\n",
            "Epoch 2/5\n",
            "40/40 [==============================] - 7s 180ms/step - loss: 0.0629 - accuracy: 0.9784\n",
            "Epoch 3/5\n",
            "40/40 [==============================] - 7s 180ms/step - loss: 0.0567 - accuracy: 0.9794\n",
            "Epoch 4/5\n",
            "40/40 [==============================] - 7s 180ms/step - loss: 0.0521 - accuracy: 0.9808\n",
            "Epoch 5/5\n",
            "40/40 [==============================] - 7s 180ms/step - loss: 0.0476 - accuracy: 0.9817\n"
          ]
        }
      ],
      "source": [
        "model.compile(optimizer='adam',\n",
        "              loss=categorical_crossentropy, # loss=tf.keras.losses.SparseCategoricalCrossentropy(from_logits=True),\n",
        "              metrics=['accuracy'])\n",
        "\n",
        "early_stopping = tf.keras.callbacks.EarlyStopping(monitor=training_parameters[\"monitored_func\"], patience=5, restore_best_weights=True)\n",
        "model_history = model.fit(x=X_train, y=y_train, epochs=5,\n",
        "                          #steps_per_epoch=STEPS_PER_EPOCH,\n",
        "                          #validation_steps=VALIDATION_STEPS,\n",
        "                          #validation_data=test_batches,\n",
        "                          #callbacks=[early_stopping]\n",
        "                          )\n",
        "\n"
      ]
    },
    {
      "cell_type": "code",
      "source": [
        "loss = model_history.history['loss']\n",
        "print(model_history.history)\n"
      ],
      "metadata": {
        "colab": {
          "base_uri": "https://localhost:8080/"
        },
        "id": "RzjSGxyVs68x",
        "outputId": "ca69e418-6517-4878-96fa-471b0d8168fc"
      },
      "execution_count": 58,
      "outputs": [
        {
          "output_type": "stream",
          "name": "stdout",
          "text": [
            "{'loss': [0.16947443783283234, 0.0629473477602005, 0.056705135852098465, 0.052061744034290314, 0.04762805253267288], 'accuracy': [0.9603721499443054, 0.9784483909606934, 0.9793990850448608, 0.9808446168899536, 0.9817379713058472]}\n"
          ]
        }
      ]
    },
    {
      "cell_type": "code",
      "source": [
        "val_loss = model_history.history['accuracy']\n",
        "\n",
        "plt.figure()\n",
        "plt.plot(model_history.epoch, loss, 'r', label='Training loss')\n",
        "plt.plot(model_history.epoch, val_loss, 'bo', label='Validation loss')\n",
        "plt.title('Training and Validation Loss')\n",
        "plt.xlabel('Epoch')\n",
        "plt.ylabel('Loss Value')\n",
        "plt.ylim([0, 1])\n",
        "plt.legend()\n",
        "plt.show()"
      ],
      "metadata": {
        "colab": {
          "base_uri": "https://localhost:8080/",
          "height": 295
        },
        "id": "OIDc24fjuZGC",
        "outputId": "9a78af1c-abde-4c5f-b72e-6cb7d024c817"
      },
      "execution_count": 59,
      "outputs": [
        {
          "output_type": "display_data",
          "data": {
            "text/plain": [
              "<Figure size 432x288 with 1 Axes>"
            ],
            "image/png": "[encoded data removed]"
          },
          "metadata": {
            "needs_background": "light"
          }
        }
      ]
    },
    {
      "cell_type": "markdown",
      "metadata": {
        "id": "2Z89kgLGb0cB"
      },
      "source": [
        "### 5. Saving the model"
      ]
    },
    {
      "cell_type": "code",
      "source": [
        "model_name = '256_200.h5'\n",
        "#model.save(f'../models/{model_name}')\n",
        "\n",
        "model = keras.models.load_model(f'../models/{model_name}')"
      ],
      "metadata": {
        "id": "9XUb8HprjHd7"
      },
      "execution_count": 62,
      "outputs": []
    },
    {
      "cell_type": "code",
      "source": [
        "predictions = model.predict(X_test)"
      ],
      "metadata": {
        "colab": {
          "base_uri": "https://localhost:8080/"
        },
        "id": "vG2AStQpjNS6",
        "outputId": "280bd1cf-7c5d-4934-cf31-1100eb67af0a"
      },
      "execution_count": 63,
      "outputs": [
        {
          "output_type": "stream",
          "name": "stdout",
          "text": [
            "27/27 [==============================] - 2s 63ms/step\n"
          ]
        }
      ]
    },
    {
      "cell_type": "code",
      "source": [
        "def jacard_coef(y_true, y_pred):\n",
        "  y_true_f = keras.backend.flatten(y_true)\n",
        "  y_pred_f = keras.backend.flatten(y_pred)\n",
        "  intersection = keras.backend.sum(y_true_f * y_pred_f)\n",
        "  return (intersection + 1.0) / (\n",
        "      keras.backend.sum(y_true_f) + keras.backend.sum(y_pred_f) - intersection + 1.0\n",
        "  )"
      ],
      "metadata": {
        "id": "17VlkFbjkbAR"
      },
      "execution_count": 64,
      "outputs": []
    },
    {
      "cell_type": "code",
      "source": [
        "jacard_result = jacard_coef(y_test, predictions)\n",
        "print(jacard_result)"
      ],
      "metadata": {
        "colab": {
          "base_uri": "https://localhost:8080/"
        },
        "id": "DONs2uYdkzBj",
        "outputId": "565b2f40-24a2-49cb-a687-57404028e3a3"
      },
      "execution_count": 66,
      "outputs": [
        {
          "output_type": "stream",
          "name": "stdout",
          "text": [
            "tf.Tensor(0.8130482, shape=(), dtype=float32)\n"
          ]
        }
      ]
    },
    {
      "cell_type": "markdown",
      "metadata": {
        "id": "alI8q2e7b0cB"
      },
      "source": [
        "### 6. Analyzing the results\n",
        "- predifined success metrics\n",
        "- printing loss and validation functions\n",
        "- making predictions"
      ]
    },
    {
      "cell_type": "markdown",
      "metadata": {
        "id": "GZyvPFykb0cB"
      },
      "source": [
        "### 7. Summary"
      ]
    },
    {
      "cell_type": "code",
      "execution_count": null,
      "metadata": {
        "jupyter": {
          "outputs_hidden": false
        },
        "id": "1SWBpXpkb0cC"
      },
      "outputs": [],
      "source": []
    }
  ],
  "metadata": {
    "kernelspec": {
      "display_name": "Python 3 (ipykernel)",
      "language": "python",
      "name": "python3"
    },
    "language_info": {
      "codemirror_mode": {
        "name": "ipython",
        "version": 3
      },
      "file_extension": ".py",
      "mimetype": "text/x-python",
      "name": "python",
      "nbconvert_exporter": "python",
      "pygments_lexer": "ipython3",
      "version": "3.10.9"
    },
    "colab": {
      "provenance": [],
      "include_colab_link": true
    },
    "accelerator": "GPU",
    "gpuClass": "premium"
  },
  "nbformat": 4,
  "nbformat_minor": 0
}